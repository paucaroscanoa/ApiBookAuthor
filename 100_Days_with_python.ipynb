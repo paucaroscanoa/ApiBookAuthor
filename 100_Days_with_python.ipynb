{
  "cells": [
    {
      "cell_type": "markdown",
      "metadata": {
        "id": "view-in-github",
        "colab_type": "text"
      },
      "source": [
        "<a href=\"https://colab.research.google.com/github/paucaroscanoa/ApiBookAuthor/blob/master/100_Days_with_python.ipynb\" target=\"_parent\"><img src=\"https://colab.research.google.com/assets/colab-badge.svg\" alt=\"Open In Colab\"/></a>"
      ]
    },
    {
      "cell_type": "markdown",
      "source": [
        "100 DAYS WITH PYTHON"
      ],
      "metadata": {
        "id": "8icSXj23EqV4"
      }
    },
    {
      "cell_type": "markdown",
      "source": [
        "#Day_1"
      ],
      "metadata": {
        "id": "It_LG9tNF51j"
      }
    },
    {
      "cell_type": "code",
      "source": [
        "#PRINTING\n",
        "#printind to the console python\n",
        "## las comillas dobles es para definir la cadena de caracteres a imprimir\n",
        "print(\"hellow world\")\n",
        "print(\"A 'single quote'inside a double quote\")\n",
        "print('A \"double quote\" inside a double quote')\n",
        "print(\"Alternative you can just \\\"escape \\\" the quote \")"
      ],
      "metadata": {
        "colab": {
          "base_uri": "https://localhost:8080/"
        },
        "id": "TvMVgZj9Cqp8",
        "outputId": "d87b7fbb-dc1b-4cb6-a1d4-b51785009b18"
      },
      "execution_count": null,
      "outputs": [
        {
          "output_type": "stream",
          "name": "stdout",
          "text": [
            "hellow world\n",
            "A 'single quote'inside a double quote\n",
            "A \"double quote\" inside a double quote\n",
            "Alternative you can just \"escape \" the quote \n"
          ]
        }
      ]
    },
    {
      "cell_type": "code",
      "source": [
        "#String manipulation and code intelligence\n",
        "print(\"Hello world!\\nHello world!\\nHello world!\")"
      ],
      "metadata": {
        "colab": {
          "base_uri": "https://localhost:8080/"
        },
        "id": "ws3YHjQRCyBm",
        "outputId": "278b6af6-8ec2-40f6-ccd4-d141f0313385"
      },
      "execution_count": null,
      "outputs": [
        {
          "output_type": "stream",
          "name": "stdout",
          "text": [
            "Hello world!\n",
            "Hello world!\n",
            "Hello world!\n"
          ]
        }
      ]
    },
    {
      "cell_type": "code",
      "source": [
        "#Concatenate (in python spaces are really important)\n",
        "print(\"hellow\" +\" \"+ \"Angela\")"
      ],
      "metadata": {
        "colab": {
          "base_uri": "https://localhost:8080/"
        },
        "id": "wvxjq2KOC14b",
        "outputId": "ee7b6ad3-6fef-4acd-c761-455383ba471d"
      },
      "execution_count": null,
      "outputs": [
        {
          "output_type": "stream",
          "name": "stdout",
          "text": [
            "hellow Angela\n"
          ]
        }
      ]
    },
    {
      "cell_type": "code",
      "source": [
        "#\"IMPUT\"\n",
        "#The Python input function\n",
        "input(\"What is your name?\")"
      ],
      "metadata": {
        "colab": {
          "base_uri": "https://localhost:8080/",
          "height": 53
        },
        "id": "X8EZWr54C6ZT",
        "outputId": "1906e489-8794-4a87-dc13-7a3d50310140"
      },
      "execution_count": null,
      "outputs": [
        {
          "name": "stdout",
          "output_type": "stream",
          "text": [
            "What is your name?Mario\n"
          ]
        },
        {
          "output_type": "execute_result",
          "data": {
            "text/plain": [
              "'Mario'"
            ],
            "application/vnd.google.colaboratory.intrinsic+json": {
              "type": "string"
            }
          },
          "metadata": {},
          "execution_count": 4
        }
      ]
    },
    {
      "cell_type": "code",
      "source": [
        "#CONCATENATE PRINT & INPUT\n",
        "print(\"hello\"+input(\"whats your name?\"))\n",
        "#tonny.org permite observar el proceso de ejecucion de codigo\n",
        "print(len(input()))\n"
      ],
      "metadata": {
        "colab": {
          "base_uri": "https://localhost:8080/"
        },
        "id": "KzK4CZBzC_F9",
        "outputId": "2d7d3a68-4bd4-44da-9879-c350ce87329d"
      },
      "execution_count": null,
      "outputs": [
        {
          "output_type": "stream",
          "name": "stdout",
          "text": [
            "whats your name?Mario\n",
            "helloMario\n",
            "Mario\n",
            "5\n"
          ]
        }
      ]
    },
    {
      "cell_type": "code",
      "source": [
        "#VARIABLES PYTHON\n",
        "name=\"Jack\"\n",
        "print(name)\n",
        "\n",
        "name=\"Angela\"\n",
        "print(name)\n",
        "\n",
        "name=input(\"What is your name?\")\n",
        "lenght=len(name)\n",
        "print(lenght)"
      ],
      "metadata": {
        "colab": {
          "base_uri": "https://localhost:8080/"
        },
        "id": "SpAgM_17DOcp",
        "outputId": "91cdf12a-89c4-4f07-a13f-1a2001e1dedb"
      },
      "execution_count": null,
      "outputs": [
        {
          "output_type": "stream",
          "name": "stdout",
          "text": [
            "Jack\n",
            "Angela\n",
            "What is your name?Mario\n",
            "5\n"
          ]
        }
      ]
    },
    {
      "cell_type": "code",
      "source": [
        "#INTERACTIVE CODING EXERCISE VARIABLES\n",
        "#Thera are two variables a and b from input\n",
        "a=input()\n",
        "b=input()\n",
        "c=a\n",
        "a=b\n",
        "b=c\n",
        "print(\"a:\" + a)\n",
        "print(\"b:\" + b)"
      ],
      "metadata": {
        "colab": {
          "base_uri": "https://localhost:8080/"
        },
        "id": "jwN56d5YDRZf",
        "outputId": "9f989107-5520-4b0e-da35-17b8079e4e25"
      },
      "execution_count": null,
      "outputs": [
        {
          "output_type": "stream",
          "name": "stdout",
          "text": [
            "Mario\n",
            "Jose\n",
            "a:Jose\n",
            "b:Mario\n"
          ]
        }
      ]
    },
    {
      "cell_type": "code",
      "source": [
        "#Project\n",
        "#1. Create a greeting for your program.\n",
        "print(\"Bienvenidos al programa generador de nombres de bandas\")\n",
        "#2. Ask the user for the city that they grew up in.\n",
        "a=input(\"¿where are you they grew up?\\n\")\n",
        "#3. Ask the user for the name of a pet.\n",
        "b=input(\"¿whats pet's name?\\n\")\n",
        "#4. Combine the name of their city and pet and show them their band name.\n",
        "print(\"your band name is \"+a+\" \"+b)\n",
        "#5. Make sure the input cursor shows on a new line:"
      ],
      "metadata": {
        "colab": {
          "base_uri": "https://localhost:8080/"
        },
        "id": "WSPenJs2Dd3P",
        "outputId": "ce2a9eea-4460-4047-a515-28c1cd57579e"
      },
      "execution_count": null,
      "outputs": [
        {
          "output_type": "stream",
          "name": "stdout",
          "text": [
            "Bienvenidos al programa generador de nombres de bandas\n",
            "¿where are you they grew up?\n",
            "Lima\n",
            "¿whats pet's name?\n",
            "Maximo\n",
            "your band name is Lima Maximo\n"
          ]
        }
      ]
    },
    {
      "cell_type": "markdown",
      "source": [
        "# Day_2"
      ],
      "metadata": {
        "id": "NSiyl-jbHpMW"
      }
    }
  ],
  "metadata": {
    "colab": {
      "toc_visible": true,
      "provenance": [],
      "include_colab_link": true
    },
    "kernelspec": {
      "display_name": "Python 3",
      "name": "python3"
    }
  },
  "nbformat": 4,
  "nbformat_minor": 0
}