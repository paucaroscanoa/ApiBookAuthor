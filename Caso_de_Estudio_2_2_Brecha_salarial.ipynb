{
  "cells": [
    {
      "cell_type": "markdown",
      "metadata": {
        "id": "view-in-github",
        "colab_type": "text"
      },
      "source": [
        "<a href=\"https://colab.research.google.com/github/paucaroscanoa/ApiBookAuthor/blob/master/Caso_de_Estudio_2_2_Brecha_salarial.ipynb\" target=\"_parent\"><img src=\"https://colab.research.google.com/assets/colab-badge.svg\" alt=\"Open In Colab\"/></a>"
      ]
    },
    {
      "cell_type": "markdown",
      "metadata": {
        "id": "UayzanFyXXkF"
      },
      "source": [
        "# Caso de Estudio 2.2 - Brecha salarial entre hombres y mujeres"
      ]
    },
    {
      "cell_type": "markdown",
      "metadata": {
        "id": "-4F9CWywe4P2"
      },
      "source": [
        "Configuración del *notebook*:"
      ]
    },
    {
      "cell_type": "markdown",
      "metadata": {
        "id": "Azi08KciuAmF"
      },
      "source": [
        "Sincronice su cuenta de Google. Para ello, siga el link que aparece en la salida de la siguiente celda una vez ejecutada. Copie el código que le aparece en pantalla e introdúzcalo en la salida de la celda. Una vez vea el mensaje: `Google Drive sincronizado con éxito!` puede continuar ejecutando el resto de celdas."
      ]
    },
    {
      "cell_type": "code",
      "execution_count": 1,
      "metadata": {
        "id": "jGYcsLShi5Tp",
        "outputId": "fbf3f03f-8f03-4e51-8aba-462cc1c1430a",
        "colab": {
          "base_uri": "https://localhost:8080/",
          "height": 356
        }
      },
      "outputs": [
        {
          "output_type": "error",
          "ename": "MessageError",
          "evalue": "Error: credential propagation was unsuccessful",
          "traceback": [
            "\u001b[0;31m---------------------------------------------------------------------------\u001b[0m",
            "\u001b[0;31mMessageError\u001b[0m                              Traceback (most recent call last)",
            "\u001b[0;32m<ipython-input-1-4944be3c0d5a>\u001b[0m in \u001b[0;36m<cell line: 2>\u001b[0;34m()\u001b[0m\n\u001b[1;32m      1\u001b[0m \u001b[0;32mfrom\u001b[0m \u001b[0mgoogle\u001b[0m\u001b[0;34m.\u001b[0m\u001b[0mcolab\u001b[0m \u001b[0;32mimport\u001b[0m \u001b[0mauth\u001b[0m\u001b[0;34m\u001b[0m\u001b[0;34m\u001b[0m\u001b[0m\n\u001b[0;32m----> 2\u001b[0;31m \u001b[0mauth\u001b[0m\u001b[0;34m.\u001b[0m\u001b[0mauthenticate_user\u001b[0m\u001b[0;34m(\u001b[0m\u001b[0;34m)\u001b[0m\u001b[0;34m\u001b[0m\u001b[0;34m\u001b[0m\u001b[0m\n\u001b[0m\u001b[1;32m      3\u001b[0m \u001b[0;34m\u001b[0m\u001b[0m\n\u001b[1;32m      4\u001b[0m \u001b[0;32mfrom\u001b[0m \u001b[0mpydrive\u001b[0m\u001b[0;34m.\u001b[0m\u001b[0mauth\u001b[0m \u001b[0;32mimport\u001b[0m \u001b[0mGoogleAuth\u001b[0m\u001b[0;34m\u001b[0m\u001b[0;34m\u001b[0m\u001b[0m\n\u001b[1;32m      5\u001b[0m \u001b[0;32mfrom\u001b[0m \u001b[0mpydrive\u001b[0m\u001b[0;34m.\u001b[0m\u001b[0mdrive\u001b[0m \u001b[0;32mimport\u001b[0m \u001b[0mGoogleDrive\u001b[0m\u001b[0;34m\u001b[0m\u001b[0;34m\u001b[0m\u001b[0m\n",
            "\u001b[0;32m/usr/local/lib/python3.10/dist-packages/google/colab/auth.py\u001b[0m in \u001b[0;36mauthenticate_user\u001b[0;34m(clear_output, project_id)\u001b[0m\n\u001b[1;32m    258\u001b[0m   \u001b[0;32mif\u001b[0m \u001b[0;32mnot\u001b[0m \u001b[0m_check_adc\u001b[0m\u001b[0;34m(\u001b[0m\u001b[0m_CredentialType\u001b[0m\u001b[0;34m.\u001b[0m\u001b[0mUSER\u001b[0m\u001b[0;34m)\u001b[0m\u001b[0;34m:\u001b[0m\u001b[0;34m\u001b[0m\u001b[0;34m\u001b[0m\u001b[0m\n\u001b[1;32m    259\u001b[0m     \u001b[0;32mif\u001b[0m \u001b[0muse_auth_ephem\u001b[0m\u001b[0;34m:\u001b[0m\u001b[0;34m\u001b[0m\u001b[0;34m\u001b[0m\u001b[0m\n\u001b[0;32m--> 260\u001b[0;31m       _message.blocking_request(\n\u001b[0m\u001b[1;32m    261\u001b[0m           \u001b[0;34m'request_auth'\u001b[0m\u001b[0;34m,\u001b[0m\u001b[0;34m\u001b[0m\u001b[0;34m\u001b[0m\u001b[0m\n\u001b[1;32m    262\u001b[0m           \u001b[0mrequest\u001b[0m\u001b[0;34m=\u001b[0m\u001b[0;34m{\u001b[0m\u001b[0;34m'authType'\u001b[0m\u001b[0;34m:\u001b[0m \u001b[0;34m'auth_user_ephemeral'\u001b[0m\u001b[0;34m}\u001b[0m\u001b[0;34m,\u001b[0m\u001b[0;34m\u001b[0m\u001b[0;34m\u001b[0m\u001b[0m\n",
            "\u001b[0;32m/usr/local/lib/python3.10/dist-packages/google/colab/_message.py\u001b[0m in \u001b[0;36mblocking_request\u001b[0;34m(request_type, request, timeout_sec, parent)\u001b[0m\n\u001b[1;32m    174\u001b[0m       \u001b[0mrequest_type\u001b[0m\u001b[0;34m,\u001b[0m \u001b[0mrequest\u001b[0m\u001b[0;34m,\u001b[0m \u001b[0mparent\u001b[0m\u001b[0;34m=\u001b[0m\u001b[0mparent\u001b[0m\u001b[0;34m,\u001b[0m \u001b[0mexpect_reply\u001b[0m\u001b[0;34m=\u001b[0m\u001b[0;32mTrue\u001b[0m\u001b[0;34m\u001b[0m\u001b[0;34m\u001b[0m\u001b[0m\n\u001b[1;32m    175\u001b[0m   )\n\u001b[0;32m--> 176\u001b[0;31m   \u001b[0;32mreturn\u001b[0m \u001b[0mread_reply_from_input\u001b[0m\u001b[0;34m(\u001b[0m\u001b[0mrequest_id\u001b[0m\u001b[0;34m,\u001b[0m \u001b[0mtimeout_sec\u001b[0m\u001b[0;34m)\u001b[0m\u001b[0;34m\u001b[0m\u001b[0;34m\u001b[0m\u001b[0m\n\u001b[0m",
            "\u001b[0;32m/usr/local/lib/python3.10/dist-packages/google/colab/_message.py\u001b[0m in \u001b[0;36mread_reply_from_input\u001b[0;34m(message_id, timeout_sec)\u001b[0m\n\u001b[1;32m    101\u001b[0m     ):\n\u001b[1;32m    102\u001b[0m       \u001b[0;32mif\u001b[0m \u001b[0;34m'error'\u001b[0m \u001b[0;32min\u001b[0m \u001b[0mreply\u001b[0m\u001b[0;34m:\u001b[0m\u001b[0;34m\u001b[0m\u001b[0;34m\u001b[0m\u001b[0m\n\u001b[0;32m--> 103\u001b[0;31m         \u001b[0;32mraise\u001b[0m \u001b[0mMessageError\u001b[0m\u001b[0;34m(\u001b[0m\u001b[0mreply\u001b[0m\u001b[0;34m[\u001b[0m\u001b[0;34m'error'\u001b[0m\u001b[0;34m]\u001b[0m\u001b[0;34m)\u001b[0m\u001b[0;34m\u001b[0m\u001b[0;34m\u001b[0m\u001b[0m\n\u001b[0m\u001b[1;32m    104\u001b[0m       \u001b[0;32mreturn\u001b[0m \u001b[0mreply\u001b[0m\u001b[0;34m.\u001b[0m\u001b[0mget\u001b[0m\u001b[0;34m(\u001b[0m\u001b[0;34m'data'\u001b[0m\u001b[0;34m,\u001b[0m \u001b[0;32mNone\u001b[0m\u001b[0;34m)\u001b[0m\u001b[0;34m\u001b[0m\u001b[0;34m\u001b[0m\u001b[0m\n\u001b[1;32m    105\u001b[0m \u001b[0;34m\u001b[0m\u001b[0m\n",
            "\u001b[0;31mMessageError\u001b[0m: Error: credential propagation was unsuccessful"
          ]
        }
      ],
      "source": [
        "from google.colab import auth\n",
        "auth.authenticate_user()\n",
        "\n",
        "from pydrive.auth import GoogleAuth\n",
        "from pydrive.drive import GoogleDrive\n",
        "from google.colab import auth\n",
        "from oauth2client.client import GoogleCredentials\n",
        "\n",
        "gauth = GoogleAuth()\n",
        "gauth.credentials = GoogleCredentials.get_application_default()\n",
        "drive = GoogleDrive(gauth)\n",
        "data_drop = drive.CreateFile({'id':'1U5UQdm43w9zh2w1VDxevQsb-vp3T7YCj'})\n",
        "data_drop.GetContentFile('pay.discrimination.Rdata')\n",
        "\n",
        "print('Google Drive sincronizado con éxito!')"
      ]
    },
    {
      "cell_type": "code",
      "execution_count": null,
      "metadata": {
        "id": "UF-N5UbBiNyA"
      },
      "outputs": [],
      "source": [
        "! pip install rpy2==3.5.1\n",
        "%load_ext rpy2.ipython"
      ]
    },
    {
      "cell_type": "code",
      "execution_count": null,
      "metadata": {
        "id": "X0l-UxzXdoO3"
      },
      "outputs": [],
      "source": [
        "! pip install rpy2==3.5.1"
      ]
    },
    {
      "cell_type": "markdown",
      "metadata": {
        "id": "rB7xqDBBXXkK"
      },
      "source": [
        "## Datos\n"
      ]
    },
    {
      "cell_type": "code",
      "execution_count": null,
      "metadata": {
        "id": "EijD1XohXXkL"
      },
      "outputs": [],
      "source": [
        "%%R\n",
        "# Cargar la base de datos\n",
        "load(file=\"pay.discrimination.Rdata\")\n",
        "\n",
        "# Mostrar las variables de la base de datos\n",
        "class(data)\n",
        "str(data)\n",
        "\n",
        "# Adjuntar la base de datos al espacio de trabajo\n",
        "attach(data)\n",
        "\n",
        "# Mostrar dimensiones de la base de datos\n",
        "dims  <- dim(data)\n",
        "cat('\\nDimensiones de la base de datos:',toString(dims),'\\n',fill = TRUE)"
      ]
    },
    {
      "cell_type": "markdown",
      "metadata": {
        "id": "Dmuyu99oXXkO"
      },
      "source": [
        "Elaboración de una tabla con la media de cada variable, controlando por género:"
      ]
    },
    {
      "cell_type": "code",
      "execution_count": null,
      "metadata": {
        "id": "4xmQkwnJXXkO"
      },
      "outputs": [],
      "source": [
        "%%R\n",
        "\n",
        "stats.female  <- as.matrix(apply(data[female==1,], 2, mean))\n",
        "stats.male    <- as.matrix(apply(data[female==0,], 2, mean))\n",
        "stats         <- cbind(stats.male, stats.female)\n",
        "\n",
        "colnames(stats) = c(\"media hombres\", \"media mujeres\")\n",
        "print(stats,digits=2)"
      ]
    },
    {
      "cell_type": "markdown",
      "metadata": {
        "id": "WcQIKfPuXXkR"
      },
      "source": [
        "## Metodología"
      ]
    },
    {
      "cell_type": "markdown",
      "metadata": {
        "id": "3dmY60KRXXkS"
      },
      "source": [
        "### Regresión lineal"
      ]
    },
    {
      "cell_type": "code",
      "execution_count": null,
      "metadata": {
        "id": "cK04yzbVZzox"
      },
      "outputs": [],
      "source": [
        "%load_ext rpy2.ipython"
      ]
    },
    {
      "cell_type": "markdown",
      "metadata": {
        "id": "GXlURc-YXXkT"
      },
      "source": [
        "Modelo básico:"
      ]
    },
    {
      "cell_type": "code",
      "execution_count": null,
      "metadata": {
        "id": "uQPvk8I0XXkT"
      },
      "outputs": [],
      "source": [
        "%%R\n",
        "# Regresión lineal del salario\n",
        "fmla1 <- wage ~ female + sc + cg + mw + so + we + exp1 + exp2 + exp3\n",
        "# Ejecución de OLS, obtener coeficientes, errores estándar e intervalos de confianza del 95%\n",
        "full.fit1 <- lm(fmla1, data=data)\n",
        "est1 <- summary(full.fit1) $coef[2,1:2]\n",
        "ci1 <-  confint(full.fit1)[2,]"
      ]
    },
    {
      "cell_type": "code",
      "execution_count": null,
      "metadata": {
        "id": "qzL_hxPTZyob"
      },
      "outputs": [],
      "source": []
    },
    {
      "cell_type": "markdown",
      "metadata": {
        "id": "h7eGLY_YXXkV"
      },
      "source": [
        "Modelo flexible:"
      ]
    },
    {
      "cell_type": "code",
      "execution_count": null,
      "metadata": {
        "id": "UnW2T64DXXkX"
      },
      "outputs": [],
      "source": [
        "%%R\n",
        "# Regresión lineal: especificación cuadrática\n",
        "fmla2     <-  wage ~  female + (sc+ cg+ mw + so + we + exp1 + exp2 + exp3)^2\n",
        "\n",
        "# Ejecución de OLS, obtener coeficientes, errores estándar e intervalos de confianza del 95%\n",
        "full.fit2 <- lm(fmla2, data=data)\n",
        "est2      <- summary(full.fit2)$coef[2,1:2]\n",
        "ci2       <- confint(full.fit2)[2,]"
      ]
    },
    {
      "cell_type": "code",
      "execution_count": null,
      "metadata": {
        "id": "86DH27IIXXka"
      },
      "outputs": [],
      "source": [
        "%%R\n",
        "# Resumen de las especificaciones lineal y cuadrática\n",
        "table1     <- matrix(0, 2, 4)\n",
        "table1[1,] <- c(est1,ci1)\n",
        "table1[2,] <- c(est2,ci2)\n",
        "\n",
        "# Asignando nombres a filas y columnas\n",
        "colnames(table1) <- c(\"Estimación (beta)\", \"Error estándar\", \"Inter. Conf. Inf.\", \"Inter. Conf. Sup.\")\n",
        "rownames(table1) <- c(\"reg basica\", \"reg flexible\")"
      ]
    },
    {
      "cell_type": "markdown",
      "metadata": {
        "id": "ELESyYM5XXkb"
      },
      "source": [
        "### Extracción parcial"
      ]
    },
    {
      "cell_type": "markdown",
      "metadata": {
        "id": "0AWZs3q1XXkc"
      },
      "source": [
        "Especificación lineal (modelo básico)"
      ]
    },
    {
      "cell_type": "code",
      "execution_count": null,
      "metadata": {
        "id": "qS881IlBXXkd"
      },
      "outputs": [],
      "source": [
        "%%R\n",
        "# Regresión lineal de y (resultado) en las covariables\n",
        "fmla1.y <- wage ~  sc+ cg+ mw + so + we + exp1 + exp2 + exp3\n",
        "\n",
        "# Regresión lineal de d (regresor objetivo/tratamiento) en las covariables\n",
        "fmla1.d <- female ~  sc+ cg+ mw + so + we + exp1 + exp2 + exp3\n",
        "\n",
        "# Residuales de la regresión de y\n",
        "t.Y    <- lm(fmla1.y, data=data)$res\n",
        "\n",
        "# Residuales de la regresión de d\n",
        "t.D    <-  lm(fmla1.d, data=data)$res\n",
        "\n",
        "\n",
        "# Ejecución de OLS, obtener coeficientes, errores estándar e intervalos de confianza del 95%\n",
        "partial.fit1   <- lm(t.Y~t.D)\n",
        "partial.est1   <- summary(partial.fit1)$coef[2,1:2]\n",
        "partial.ci1    <- confint(partial.fit1)[2,]"
      ]
    },
    {
      "cell_type": "markdown",
      "metadata": {
        "id": "dR-n_2QSXXke"
      },
      "source": [
        "Especificación cuadrática (modelo flexible)"
      ]
    },
    {
      "cell_type": "code",
      "execution_count": null,
      "metadata": {
        "id": "kngXtnanXXkf"
      },
      "outputs": [],
      "source": [
        "%%R\n",
        "fmla2.y  <- wage ~  (sc+ cg+ mw + so + we + exp1 + exp2 + exp3)^2\n",
        "fmla2.d  <- female ~ (sc+ cg+ mw + so + we + exp1 + exp2 + exp3)^2\n",
        "\n",
        "# Obtener residuales de la regresión lineal\n",
        "t.Y  <- lm(fmla2.y, data=data)$res\n",
        "t.D  <- lm(fmla2.d, data=data)$res\n",
        "\n",
        "# Regresión de los residuales entre ellos para obtener el resultado de la extracción parcial\n",
        "partial.fit2  <-  lm(t.Y~t.D)\n",
        "partial.est2  <-  summary(partial.fit2)$coef[2,1:2]\n",
        "partial.ci2   <-  confint(partial.fit2)[2,]\n",
        "\n",
        "\n",
        "# Crear tabla para recoger los resultados\n",
        "table2     <- matrix(0, 4, 2)\n",
        "table2[1,] <- c(est1)\n",
        "table2[2,] <- c(est2)\n",
        "table2[3,] <- c(partial.est1)\n",
        "table2[4,] <- c(partial.est2)\n",
        "\n",
        "# Asignar nombres de filas y columnas\n",
        "colnames(table2) <- c(\"Estimación (beta)\", \"Error estándar\")\n",
        "rownames(table2) <- c(\"reg basica\", \"reg flexible\", \"reg basica con extr. parcial\", \"reg flexible con extr. parcial\")"
      ]
    },
    {
      "cell_type": "markdown",
      "metadata": {
        "id": "zIsiYIPDXXkh"
      },
      "source": [
        "## Resultados"
      ]
    },
    {
      "cell_type": "code",
      "execution_count": null,
      "metadata": {
        "id": "ZGbWgfV6XXki"
      },
      "outputs": [],
      "source": [
        "%%R\n",
        "# Mostrar resultados\n",
        "cat('- Regresión lineal:\\n',fill = TRUE)\n",
        "print(table1,digits=3)\n",
        "\n",
        "cat('\\n\\n- Comparación con y sin extracción parcial:\\n',fill = TRUE)\n",
        "print(table2,digits=3)"
      ]
    },
    {
      "cell_type": "code",
      "execution_count": null,
      "metadata": {
        "id": "tU99AGgSNONX"
      },
      "outputs": [],
      "source": [
        "%%R\n",
        "print(partial.fit1)"
      ]
    }
  ],
  "metadata": {
    "colab": {
      "provenance": [],
      "include_colab_link": true
    },
    "hide_input": false,
    "kernelspec": {
      "display_name": "Python 3",
      "name": "python3"
    },
    "toc": {
      "base_numbering": 1,
      "nav_menu": {},
      "number_sections": true,
      "sideBar": true,
      "skip_h1_title": false,
      "title_cell": "Table of Contents",
      "title_sidebar": "Contents",
      "toc_cell": true,
      "toc_position": {},
      "toc_section_display": true,
      "toc_window_display": false
    },
    "varInspector": {
      "cols": {
        "lenName": 16,
        "lenType": 16,
        "lenVar": 40
      },
      "kernels_config": {
        "python": {
          "delete_cmd_postfix": "",
          "delete_cmd_prefix": "del ",
          "library": "var_list.py",
          "varRefreshCmd": "print(var_dic_list())"
        },
        "r": {
          "delete_cmd_postfix": ") ",
          "delete_cmd_prefix": "rm(",
          "library": "var_list.r",
          "varRefreshCmd": "cat(var_dic_list()) "
        }
      },
      "types_to_exclude": [
        "module",
        "function",
        "builtin_function_or_method",
        "instance",
        "_Feature"
      ],
      "window_display": true
    }
  },
  "nbformat": 4,
  "nbformat_minor": 0
}