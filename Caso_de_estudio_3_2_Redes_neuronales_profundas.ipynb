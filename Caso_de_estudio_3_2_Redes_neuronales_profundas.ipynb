{
  "nbformat": 4,
  "nbformat_minor": 0,
  "metadata": {
    "hide_input": false,
    "kernelspec": {
      "display_name": "Python 3",
      "language": "python",
      "name": "python3"
    },
    "language_info": {
      "codemirror_mode": {
        "name": "ipython",
        "version": 3
      },
      "file_extension": ".py",
      "mimetype": "text/x-python",
      "name": "python",
      "nbconvert_exporter": "python",
      "pygments_lexer": "ipython3",
      "version": "3.7.7"
    },
    "toc": {
      "base_numbering": 1,
      "nav_menu": {},
      "number_sections": true,
      "sideBar": true,
      "skip_h1_title": false,
      "title_cell": "Table of Contents",
      "title_sidebar": "Contents",
      "toc_cell": true,
      "toc_position": {},
      "toc_section_display": true,
      "toc_window_display": false
    },
    "varInspector": {
      "cols": {
        "lenName": 16,
        "lenType": 16,
        "lenVar": 40
      },
      "kernels_config": {
        "python": {
          "delete_cmd_postfix": "",
          "delete_cmd_prefix": "del ",
          "library": "var_list.py",
          "varRefreshCmd": "print(var_dic_list())"
        },
        "r": {
          "delete_cmd_postfix": ") ",
          "delete_cmd_prefix": "rm(",
          "library": "var_list.r",
          "varRefreshCmd": "cat(var_dic_list()) "
        }
      },
      "types_to_exclude": [
        "module",
        "function",
        "builtin_function_or_method",
        "instance",
        "_Feature"
      ],
      "window_display": true
    },
    "colab": {
      "provenance": [],
      "include_colab_link": true
    }
  },
  "cells": [
    {
      "cell_type": "markdown",
      "metadata": {
        "id": "view-in-github",
        "colab_type": "text"
      },
      "source": [
        "<a href=\"https://colab.research.google.com/github/paucaroscanoa/ApiBookAuthor/blob/master/Caso_de_estudio_3_2_Redes_neuronales_profundas.ipynb\" target=\"_parent\"><img src=\"https://colab.research.google.com/assets/colab-badge.svg\" alt=\"Open In Colab\"/></a>"
      ]
    },
    {
      "cell_type": "markdown",
      "metadata": {
        "id": "8GYD3MKbIcZV"
      },
      "source": [
        "# Caso de estudio 3.2: Límites de decision - Redes neuronales profundas\n"
      ]
    },
    {
      "cell_type": "markdown",
      "metadata": {
        "id": "32yYrCGBYBQH"
      },
      "source": [
        "---\n",
        "Este sencillo *notebook* le ayudará a generar los gráficos que aparecen en el guión del caso de estudio. Además, podrá modificar las diferentes celdas del mismo para investigar sobre las preguntas que se proponen en el guión. Siéntase libre de desarrollar redes neuronales más profundas y jugar con ellas.\n",
        "\n",
        "---"
      ]
    },
    {
      "cell_type": "markdown",
      "metadata": {
        "id": "6SFDiXPYbIhP"
      },
      "source": [
        "Configuración del *notebook*:"
      ]
    },
    {
      "cell_type": "code",
      "metadata": {
        "id": "P9Jxjty7bIo6"
      },
      "source": [
        "import matplotlib.pyplot as plt\n",
        "import numpy as np\n",
        "%matplotlib inline"
      ],
      "execution_count": null,
      "outputs": []
    },
    {
      "cell_type": "markdown",
      "metadata": {
        "id": "zTVYXVpvX359"
      },
      "source": [
        "Función auxiliar que ayudará a mostrar diferentes gráficos de nuestra base de datos."
      ]
    },
    {
      "cell_type": "code",
      "metadata": {
        "id": "xG884IW9XkFW"
      },
      "source": [
        "def plot_dataset(x, y, legend_loc='upper left'):\n",
        "  fig, ax = plt.subplots()\n",
        "  ax.scatter(x[y==1, 0], x[y==1, 1], c='r', s=100, alpha=0.7, marker='*', label='Lubina', linewidth=0)\n",
        "  ax.scatter(x[y==- 1, 0], x[y==-1, 1], c='b', s=100, alpha=0.7, marker='o', label='Salmón', linewidth=0)\n",
        "  ax.axhline(y=0, color='k')\n",
        "  ax.axvline(x=0, color='k')\n",
        "  ax.set_xlabel('Longitud')\n",
        "  ax.set_ylabel('Claridad')\n",
        "  ax.set_aspect('equal')\n",
        "  if legend_loc:\n",
        "    ax.legend(loc=legend_loc,bbox_to_anchor=(1.01, 1),fancybox=True).get_frame().set_alpha(0.5)\n",
        "\n",
        "  ax.grid('on')"
      ],
      "execution_count": null,
      "outputs": []
    },
    {
      "cell_type": "markdown",
      "metadata": {
        "id": "U4JAYo10Y2SX"
      },
      "source": [
        "Para generar los tres gráficos de la parte 1."
      ]
    },
    {
      "cell_type": "code",
      "metadata": {
        "id": "F5gqXVKR15m3"
      },
      "source": [
        "x = np.array([[2, 1], [0, -1], [1.5, 1], [1, 1], [-1, 1], [-3, 0],[1, -1], [2, - 1], [3, -2], [3, 1], [-2, 1.5], [-3, 0.5], [-1, 2]])\n",
        "y = np.array([1, 1, 1, -1, -1, -1, 1, 1, 1, 1, -1, - 1, -1])\n",
        "plot_dataset(x, y)\n",
        "\n",
        "x2 = np.vstack([x, np.array([0, -0.2])])\n",
        "y2 = np.hstack([y, np.array([-1])])\n",
        "plot_dataset(x2, y2)\n",
        "\n",
        "x3 = np.array([[4, 1], [-2, 1], [ -2, - 4], [-1, -1], [2, -1], [-1, -3], [3, 2], [1, 2.5], [-3, -1], [-3, 3], [0, -2], [4, -2], [3, -4]])\n",
        "y3 = np.array([1, 1, 1, -1, - 1, -1, 1, 1, 1, 1, -1, -1, -1])\n",
        "plot_dataset(x3, y3)\n"
      ],
      "execution_count": null,
      "outputs": []
    },
    {
      "cell_type": "markdown",
      "metadata": {
        "id": "oCh7BKAWY2-H"
      },
      "source": [
        "Para generar la red neuronal basada en la función no lineal sigmoide de la parte 2."
      ]
    },
    {
      "cell_type": "code",
      "metadata": {
        "id": "TebAlYS715ps"
      },
      "source": [
        "def sigmoid(inputs):\n",
        "  return 1.0 / (1.0 + np.exp(-inputs))\n",
        "\n",
        "def nn_2layer(inputs):\n",
        "  return np.sign(sigmoid(inputs[:, 0]) + sigmoid(-inputs[:, 1]) - 1.5)\n",
        "\n",
        "def plot_decision_boundary(network):\n",
        "  x0v, x1v = np.meshgrid(np.linspace(-2, 8, 20), np.linspace(-8, 2, 20))\n",
        "  x4 = np.hstack([x0v.reshape((-1,1)), x1v.reshape((-1,1))])\n",
        "  y4 = network(x4)\n",
        "  plot_dataset(x4, y4, legend_loc=None)\n",
        "\n",
        "plot_decision_boundary(nn_2layer)"
      ],
      "execution_count": null,
      "outputs": []
    },
    {
      "cell_type": "markdown",
      "metadata": {
        "id": "_llpi5bxY3hz"
      },
      "source": [
        "Para generar la red neuronal basada en la función no lineal ReLU de la parte 2."
      ]
    },
    {
      "cell_type": "code",
      "metadata": {
        "id": "7w-zUSBZ15rL"
      },
      "source": [
        "def relu(inputs):\n",
        "  return np.maximum(0, inputs)\n",
        "\n",
        "def nn_2layer_relu(inputs):\n",
        "  return np.sign(relu(-inputs[:, 0]) + relu(inputs[:, 1]) - 0.1)\n",
        "\n",
        "plot_decision_boundary(nn_2layer_relu)\n"
      ],
      "execution_count": null,
      "outputs": []
    }
  ]
}