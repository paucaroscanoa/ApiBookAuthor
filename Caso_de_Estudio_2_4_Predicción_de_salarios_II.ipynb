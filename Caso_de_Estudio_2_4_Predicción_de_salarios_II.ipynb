{
  "cells": [
    {
      "cell_type": "markdown",
      "metadata": {
        "id": "view-in-github",
        "colab_type": "text"
      },
      "source": [
        "<a href=\"https://colab.research.google.com/github/paucaroscanoa/ApiBookAuthor/blob/master/Caso_de_Estudio_2_4_Predicci%C3%B3n_de_salarios_II.ipynb\" target=\"_parent\"><img src=\"https://colab.research.google.com/assets/colab-badge.svg\" alt=\"Open In Colab\"/></a>"
      ]
    },
    {
      "cell_type": "markdown",
      "metadata": {
        "id": "kfIQou9UX0Ev"
      },
      "source": [
        "# Caso de Estudio 2.4 - Predicción de salarios II\n",
        "\n",
        "---\n",
        "\n"
      ]
    },
    {
      "cell_type": "markdown",
      "metadata": {
        "id": "-4F9CWywe4P2"
      },
      "source": [
        "Configuración del *notebook*:"
      ]
    },
    {
      "cell_type": "markdown",
      "metadata": {
        "id": "Azi08KciuAmF"
      },
      "source": [
        "Sincronice su cuenta de Google. Para ello, siga el link que aparece en la salida de la siguiente celda una vez ejecutada. Copie el código que le aparece en pantalla e introdúzcalo en la salida de la celda. Una vez vea el mensaje: `Google Drive sincronizado con éxito!` puede continuar ejecutando el resto de celdas."
      ]
    },
    {
      "cell_type": "code",
      "execution_count": null,
      "metadata": {
        "id": "jGYcsLShi5Tp"
      },
      "outputs": [],
      "source": [
        "from google.colab import auth\n",
        "auth.authenticate_user()\n",
        "\n",
        "from pydrive.auth import GoogleAuth\n",
        "from pydrive.drive import GoogleDrive\n",
        "from google.colab import auth\n",
        "from oauth2client.client import GoogleCredentials\n",
        "\n",
        "gauth = GoogleAuth()\n",
        "gauth.credentials = GoogleCredentials.get_application_default()\n",
        "drive = GoogleDrive(gauth)\n",
        "data_drop = drive.CreateFile({'id':'1uQj3lEsilNJzwxWNn-PBM4exOUTBDFy7'})\n",
        "data_drop.GetContentFile('wage2015.Rdata')\n",
        "\n",
        "print('Google Drive sincronizado con éxito!')"
      ]
    },
    {
      "cell_type": "code",
      "execution_count": null,
      "metadata": {
        "id": "UF-N5UbBiNyA"
      },
      "outputs": [],
      "source": [
        "!pip install rpy2==3.5.1\n",
        "%load_ext rpy2.ipython"
      ]
    },
    {
      "cell_type": "markdown",
      "metadata": {
        "id": "87Os_P3CX0Ew"
      },
      "source": [
        "Instalar e importar librerías: (ignorar resultados a no ser que no se muestre la frase: `Librerías instaladas con éxito!`)"
      ]
    },
    {
      "cell_type": "code",
      "execution_count": null,
      "metadata": {
        "id": "9TUMSJp7tg_v"
      },
      "outputs": [],
      "source": [
        "%%R --noreturn\n",
        "# Instalar librerías\n",
        "install.packages(\"hdm\")\n",
        "install.packages(\"randomForest\")\n",
        "install.packages(\"glmnet\")\n",
        "install.packages(\"nnet\")\n",
        "install.packages(\"rpart\")\n",
        "install.packages(\"gbm\")\n",
        "install.packages(\"rpart.plot\")\n",
        "\n",
        "cat('\\n¡Librerías instaladas con éxito!')"
      ]
    },
    {
      "cell_type": "code",
      "execution_count": null,
      "metadata": {
        "id": "yt12j0xYX0Ew"
      },
      "outputs": [],
      "source": [
        "%%R\n",
        "# Cargar librerías\n",
        "library(hdm)\n",
        "library(randomForest)\n",
        "library(glmnet)\n",
        "library(nnet)\n",
        "options(warn=-1)\n",
        "library(rpart)\n",
        "library(gbm)\n",
        "library(rpart.plot)\n",
        "\n",
        "cat('\\n¡Librerías importadas con éxito!')"
      ]
    },
    {
      "cell_type": "markdown",
      "metadata": {
        "id": "E1ADEthlX0E0"
      },
      "source": [
        "## Datos\n"
      ]
    },
    {
      "cell_type": "code",
      "execution_count": null,
      "metadata": {
        "id": "Zc42B9DWX0E1",
        "scrolled": false
      },
      "outputs": [],
      "source": [
        "%%R\n",
        "# Cargar la base de datos\n",
        "load(file=\"wage2015.Rdata\")\n",
        "\n",
        "# Ver las variables de la base de datos\n",
        "class(data)\n",
        "str(data)\n",
        "\n",
        "# Mostrar dimensiones de la base de datos\n",
        "dims  <- dim(data)\n",
        "cat('\\nDimensiones de la base de datos:',toString(dims),'\\n',fill = TRUE)"
      ]
    },
    {
      "cell_type": "markdown",
      "metadata": {
        "id": "ofJ_JV_4X0E3"
      },
      "source": [
        "Separación de los datos en un conjunto de entrenamiento y otro de prueba"
      ]
    },
    {
      "cell_type": "code",
      "execution_count": null,
      "metadata": {
        "id": "MKuodLWJX0E4"
      },
      "outputs": [],
      "source": [
        "%%R\n",
        "# Generador de números aleatorios\n",
        "set.seed(1)\n",
        "# Conjunto de índices de entrenamiento\n",
        "training <- sample(nrow(data), nrow(data)*(1/2), replace=FALSE)\n",
        "# Conjunto de entrenamiento\n",
        "datause <- data[training,]\n",
        "# Conjunto de prueba\n",
        "dataout <- data[-training,]"
      ]
    },
    {
      "cell_type": "markdown",
      "metadata": {
        "id": "tO0wsyjnX0E6"
      },
      "source": [
        "## Metodología"
      ]
    },
    {
      "cell_type": "markdown",
      "metadata": {
        "id": "0K6t-o3UX0E7"
      },
      "source": [
        "### Definición de modelos (básico y flexible)"
      ]
    },
    {
      "cell_type": "code",
      "execution_count": null,
      "metadata": {
        "id": "TbGlU-KPX0E7"
      },
      "outputs": [],
      "source": [
        "%%R\n",
        "# Variables de control lineales. Usar estas variables de control para métodos básasados en árboles de regresión\n",
        "x <- \"sex+white+black+hisp+shs+hsg+scl+clg+mw+so+we+union+vet+cent+ncent+fam1+fam2+fam3+child+\\\n",
        "fborn+cit+school+pens+fsize10+fsize100+health+age+exp1+occ2+ind2\"\n",
        "\n",
        "# Variables de control cuadráticas (especificación flexible). Usar estas variables de control para métodos lineales\n",
        "xL <- \"(sex+white+black+hisp+shs+hsg+scl+clg+mw+so+we+union+vet+cent+ncent+fam1+fam2+fam3+child+\\\n",
        "fborn+cit+school+pens+fsize10+fsize100+health+age+exp1+exp2+exp3+exp4+occ2+ind2)^2\"\n",
        "\n",
        "# variable de resultado: log wage (logaritmo del salario)\n",
        "y  <- \"lwage\"\n",
        "\n",
        "# Modelo lineal: Especificación cuadrática\n",
        "formL <- as.formula(paste(y, \"~\", xL))\n",
        "# Modelo lineal: Especificación lineal\n",
        "form  <- as.formula(paste(y, \"~\", x))"
      ]
    },
    {
      "cell_type": "code",
      "execution_count": null,
      "metadata": {
        "id": "6Xvmtz_5X0E-"
      },
      "outputs": [],
      "source": [
        "%%R\n",
        "# \"-1\" : no incluir la constante en el modelo\n",
        "# x,y TRUE: devolver la matriz de covariables/vector de resultados\n",
        "# Ejecute estas regresiones lineales para usar sus variables de resultado (fituse$y) y covariables (fituse$y)\n",
        "# un truco para extraer las variables x e y de una fórmula\n",
        "\n",
        "fituseL    <- lm(paste(y, \"~\", xL, \"-1\"), datause, x=TRUE, y=TRUE)\n",
        "fitoutL    <- lm(paste(y, \"~\", xL, \"-1\"), dataout, x=TRUE, y=TRUE)\n",
        "fituse     <- lm(paste(y, \"~\", x,  \"-1\"), datause, x=TRUE, y=TRUE)\n",
        "fitout     <- lm(paste(y, \"~\", x,  \"-1\"), dataout, x=TRUE, y=TRUE)"
      ]
    },
    {
      "cell_type": "markdown",
      "metadata": {
        "id": "SzUouGe_X0FC"
      },
      "source": [
        "### Entrenamiento con métodos lineales y no lineales"
      ]
    },
    {
      "cell_type": "code",
      "execution_count": null,
      "metadata": {
        "id": "u6fjhP3hnI78"
      },
      "outputs": [],
      "source": [
        "%%R\n",
        "start_time <- Sys.time()\n",
        "\n",
        "# Regresión lineal modelo simple\n",
        "fit.lm      <- lm(form, datause)\n",
        "\n",
        "end_time <- Sys.time()\n",
        "sprintf('Tiempo de entrenamiento OLS: %.2f s',difftime(end_time,start_time,units = 'secs'))"
      ]
    },
    {
      "cell_type": "code",
      "execution_count": null,
      "metadata": {
        "id": "kFTIB3Qq-pV8"
      },
      "outputs": [],
      "source": [
        "%%R\n",
        "start_time <- Sys.time()\n",
        "\n",
        "# Regresión lineal modelo flexible\n",
        "fit.lm2     <- lm(formL, datause)\n",
        "\n",
        "end_time <- Sys.time()\n",
        "sprintf('Tiempo de entrenamiento OLS (flexible): %.2f s',difftime(end_time,start_time,units = 'secs'))"
      ]
    },
    {
      "cell_type": "code",
      "execution_count": null,
      "metadata": {
        "id": "zM2rv3Au6-5U"
      },
      "outputs": [],
      "source": [
        "%%R\n",
        "start_time <- Sys.time()\n",
        "\n",
        "#Lasso\n",
        "fit.rlasso   <- rlasso(form, datause, post=FALSE)\n",
        "\n",
        "end_time <- Sys.time()\n",
        "sprintf('Tiempo de entrenamiento Lasso: %.2f s',difftime(end_time,start_time,units = 'secs'))"
      ]
    },
    {
      "cell_type": "code",
      "execution_count": null,
      "metadata": {
        "id": "khWAE34W6fap"
      },
      "outputs": [],
      "source": [
        "%%R\n",
        "start_time <- Sys.time()\n",
        "\n",
        "#Post-Lasso\n",
        "fit.rlasso2  <- rlasso(form, datause, post=TRUE)\n",
        "\n",
        "end_time <- Sys.time()\n",
        "sprintf('Tiempo de entrenamiento Post-Lasso: %.2f s',difftime(end_time,start_time,units = 'secs'))"
      ]
    },
    {
      "cell_type": "markdown",
      "metadata": {
        "id": "3tXjkFeaBr-I"
      },
      "source": [
        "Configuración de regresiones penalizadas:\n",
        "\n",
        "* alpha=1: norma 1 (Lasso), alpha=0: norma 2 (Ridge)\n",
        "* alpha = 0.5 : ambas penalizaciones (Elastic Net)\n",
        "\n",
        "* post = FALSE: sin volver a ejecutar mínimos cuadrados en las variables seleccionadas"
      ]
    },
    {
      "cell_type": "code",
      "execution_count": null,
      "metadata": {
        "id": "pF6pDJ6RAv4j"
      },
      "outputs": [],
      "source": [
        "%%R\n",
        "start_time <- Sys.time()\n",
        "\n",
        "#Lasso con Validación Cruzada (VC)\n",
        "fit.lasso    <- cv.glmnet(fituse$x, fituse$y, family=\"gaussian\", alpha=1)\n",
        "\n",
        "end_time <- Sys.time()\n",
        "sprintf('Tiempo de entrenamiento Lasso con VC: %.2f s',difftime(end_time,start_time,units = 'secs'))"
      ]
    },
    {
      "cell_type": "code",
      "execution_count": null,
      "metadata": {
        "id": "r4FlM7tmAv60"
      },
      "outputs": [],
      "source": [
        "%%R\n",
        "start_time <- Sys.time()\n",
        "\n",
        "#Ridge con VC\n",
        "fit.ridge    <- cv.glmnet(fituse$x, fituse$y, family=\"gaussian\", alpha=0)\n",
        "\n",
        "end_time <- Sys.time()\n",
        "sprintf('Tiempo de entrenamiento Ridge con VC: %.2f s',difftime(end_time,start_time,units = 'secs'))"
      ]
    },
    {
      "cell_type": "code",
      "execution_count": null,
      "metadata": {
        "id": "H4TtktZxAv_o"
      },
      "outputs": [],
      "source": [
        "%%R\n",
        "start_time <- Sys.time()\n",
        "\n",
        "#Elastic Net con VC\n",
        "fit.elnet    <- cv.glmnet(fituse$x, fituse$y, family=\"gaussian\", alpha=.5)\n",
        "\n",
        "end_time <- Sys.time()\n",
        "sprintf('Tiempo de entrenamiento Elastic Net con VC: %.2f s',difftime(end_time,start_time,units = 'secs'))"
      ]
    },
    {
      "cell_type": "markdown",
      "metadata": {
        "id": "Cf0XKd2YFyBX"
      },
      "source": [
        "ATENCIÓN: la siguiente celda podría tardar unos 4 minutos en ejecutarse"
      ]
    },
    {
      "cell_type": "code",
      "execution_count": null,
      "metadata": {
        "id": "vrAxsHxeAwB0"
      },
      "outputs": [],
      "source": [
        "%%R\n",
        "start_time <- Sys.time()\n",
        "\n",
        "#Lasso (flexible)\n",
        "fit.rlassoL  <- rlasso(formL, datause, post=FALSE)\n",
        "\n",
        "end_time <- Sys.time()\n",
        "sprintf('Tiempo de entrenamiento Lasso (flexible): %.2f min',difftime(end_time,start_time,units = 'mins'))"
      ]
    },
    {
      "cell_type": "markdown",
      "metadata": {
        "id": "mBkH9NzDF_kc"
      },
      "source": [
        "ATENCIÓN: la siguiente celda podría tardar unos 2 minutos en ejecutarse"
      ]
    },
    {
      "cell_type": "code",
      "execution_count": null,
      "metadata": {
        "id": "vZbEFycfAwD_"
      },
      "outputs": [],
      "source": [
        "%%R\n",
        "start_time <- Sys.time()\n",
        "\n",
        "#Post-Lasso (flexible)\n",
        "fit.rlasso2L <- rlasso(formL, datause, post=TRUE)\n",
        "\n",
        "end_time <- Sys.time()\n",
        "sprintf('Tiempo de entrenamiento Post-Lasso (flexible): %.2f mins',difftime(end_time,start_time,units = 'mins'))"
      ]
    },
    {
      "cell_type": "markdown",
      "metadata": {
        "id": "-LWUskMWGBA6"
      },
      "source": [
        "ATENCIÓN: la siguiente celda podría tardar unos 14 minutos en ejecutarse"
      ]
    },
    {
      "cell_type": "code",
      "execution_count": null,
      "metadata": {
        "id": "0ge5xDVH46Yh"
      },
      "outputs": [],
      "source": [
        "%%R\n",
        "start_time <- Sys.time()\n",
        "\n",
        "#Lasso con VC (flexible)\n",
        "fit.lassoL   <- cv.glmnet(fituseL$x, fituseL$y, family=\"gaussian\", alpha=1)\n",
        "\n",
        "end_time <- Sys.time()\n",
        "sprintf('Tiempo de entrenamiento Lasso con VC (flexible): %.2f mins',difftime(end_time,start_time,units = 'mins'))"
      ]
    },
    {
      "cell_type": "markdown",
      "metadata": {
        "id": "G3nDKmyOGEGs"
      },
      "source": [
        "ATENCIÓN: la siguiente celda podría tardar unos 2 minutos en ejecutarse"
      ]
    },
    {
      "cell_type": "code",
      "execution_count": null,
      "metadata": {
        "id": "F-8ZBJyLX0FD"
      },
      "outputs": [],
      "source": [
        "%%R\n",
        "start_time <- Sys.time()\n",
        "\n",
        "#Ridge con VC (flexible)\n",
        "fit.ridgeL   <- cv.glmnet(fituseL$x, fituseL$y, family=\"gaussian\", alpha=0)\n",
        "\n",
        "end_time <- Sys.time()\n",
        "sprintf('Tiempo de entrenamiento Ridge con VC (flexible): %.2f mins',difftime(end_time,start_time,units = 'mins'))"
      ]
    },
    {
      "cell_type": "markdown",
      "metadata": {
        "id": "uKir-5qdRaUd"
      },
      "source": [
        "ATENCIÓN: la siguiente celda podría tardar unos 13 minutos en ejecutarse"
      ]
    },
    {
      "cell_type": "code",
      "execution_count": null,
      "metadata": {
        "id": "5I96SpePA92v"
      },
      "outputs": [],
      "source": [
        "%%R\n",
        "start_time <- Sys.time()\n",
        "\n",
        "#Elastic Net con VC (flexible)\n",
        "fit.elnetL   <- cv.glmnet(fituseL$x, fituseL$y, family=\"gaussian\", alpha=.5)\n",
        "\n",
        "end_time <- Sys.time()\n",
        "sprintf('Tiempo de entrenamiento Elastic Net con VC (flexible): %.2f mins',difftime(end_time,start_time,units = 'mins'))"
      ]
    },
    {
      "cell_type": "markdown",
      "metadata": {
        "id": "G0sFpzogRn0W"
      },
      "source": [
        "ATENCIÓN: la siguiente celda podría tardar unos 4 minutos en ejecutarse"
      ]
    },
    {
      "cell_type": "code",
      "execution_count": null,
      "metadata": {
        "id": "4gv5Td7aA95X"
      },
      "outputs": [],
      "source": [
        "%%R\n",
        "start_time <- Sys.time()\n",
        "\n",
        "#Random Forest\n",
        "fit.rf       <- randomForest(form, ntree=2000, nodesize=5, data=datause)\n",
        "\n",
        "end_time <- Sys.time()\n",
        "sprintf('Tiempo de entrenamiento Random Forest: %.2f mins',difftime(end_time,start_time,units = 'mins'))"
      ]
    },
    {
      "cell_type": "code",
      "execution_count": null,
      "metadata": {
        "id": "GvzhwJQ_A97n"
      },
      "outputs": [],
      "source": [
        "%%R\n",
        "start_time <- Sys.time()\n",
        "\n",
        "#Boosting Trees\n",
        "fit.boost    <- gbm(form, data=datause, distribution= \"gaussian\", bag.fraction = .5, interaction.depth=2, n.trees=1000, shrinkage=.01)\n",
        "best.boost   <- gbm.perf(fit.boost, plot.it = FALSE)\n",
        "\n",
        "end_time <- Sys.time()\n",
        "sprintf('Tiempo de entrenamiento Boosting Trees: %.2f s',difftime(end_time,start_time,units = 'secs'))"
      ]
    },
    {
      "cell_type": "code",
      "execution_count": null,
      "metadata": {
        "id": "qHllFTdlA99k"
      },
      "outputs": [],
      "source": [
        "%%R\n",
        "start_time <- Sys.time()\n",
        "\n",
        "#Regression Trees (Árboles de Regresión, en este caso podados)\n",
        "fit.trees    <- rpart(form, datause)\n",
        "bestcp       <- trees$cptable[which.min(trees$cptable[,\"xerror\"]),\"CP\"]\n",
        "fit.prunedtree <- prune(fit.trees,cp=bestcp)\n",
        "\n",
        "end_time <- Sys.time()\n",
        "sprintf('Tiempo de entrenamiento Árbol podado: %.2f s',difftime(end_time,start_time,units = 'secs'))"
      ]
    },
    {
      "cell_type": "code",
      "execution_count": null,
      "metadata": {
        "id": "3tho6DFiBDW2"
      },
      "outputs": [],
      "source": [
        "%%R\n",
        "start_time <- Sys.time()\n",
        "\n",
        "#Red Neuronal\n",
        "fit.nnet     <- nnet(form, datause, size=5,  maxit=1000, MaxNWts=100000, decay=0.01, linout = TRUE, trace=FALSE)   # ajuste simple de una red neuronal\n",
        "\n",
        "end_time <- Sys.time()\n",
        "sprintf('Tiempo de entrenamiento Red Neuronal: %.2f s',difftime(end_time,start_time,units = 'secs'))"
      ]
    },
    {
      "cell_type": "markdown",
      "metadata": {
        "id": "qRmrcHnDCJYe"
      },
      "source": [
        "Cálculo de las predicciones fuera de la muestra:\n"
      ]
    },
    {
      "cell_type": "code",
      "execution_count": null,
      "metadata": {
        "id": "xpsG3YoxX0FF"
      },
      "outputs": [],
      "source": [
        "%%R\n",
        "\n",
        "yhat.lm       <- predict(fit.lm,        newdata= dataout)\n",
        "yhat.lm2      <- predict(fit.lm2,       newdata= dataout)\n",
        "yhat.rlasso   <- predict(fit.rlasso,    newdata= dataout)\n",
        "yhat.rlasso2  <- predict(fit.rlasso2,   newdata= dataout)\n",
        "yhat.lasso    <- predict(fit.lasso,     newx   = fitout$x)\n",
        "yhat.ridge    <- predict(fit.ridge,     newx   = fitout$x)\n",
        "yhat.elnet    <- predict(fit.elnet,     newx   = fitout$x)\n",
        "yhat.rlassoL  <- predict(fit.rlassoL,   newdata= dataout)\n",
        "yhat.rlasso2L <- predict(fit.rlasso2L,  newdata= dataout)\n",
        "yhat.lassoL   <- predict(fit.lassoL,    newx   = fitoutL$x)\n",
        "yhat.ridgeL   <- predict(fit.ridgeL,    newx   = fitoutL$x)\n",
        "yhat.elnetL   <- predict(fit.elnetL,    newx   = fitoutL$x)\n",
        "yhat.rf       <- predict(fit.rf,        newdata= dataout)\n",
        "yhat.boost    <- predict(fit.boost,     newdata= dataout, n.trees=best.boost)\n",
        "yhat.pt       <- predict(fit.prunedtree,newdata= dataout)\n",
        "yhat.nnet     <- predict(fit.nnet,      newdata= dataout)"
      ]
    },
    {
      "cell_type": "markdown",
      "metadata": {
        "id": "_TJCJXihDqp2"
      },
      "source": [
        "Cálculo del EMC para cada modelo:"
      ]
    },
    {
      "cell_type": "code",
      "execution_count": null,
      "metadata": {
        "id": "BzPqQDYEik78"
      },
      "outputs": [],
      "source": [
        "%%R\n",
        "y.test       = dataout$lwage\n",
        "MSE.lm       = summary(lm((y.test-yhat.lm)^2~1))$coef[1:2]\n",
        "MSE.lm2      = summary(lm((y.test-yhat.lm2)^2~1))$coef[1:2]\n",
        "MSE.rlasso   = summary(lm((y.test-yhat.rlasso)^2~1))$coef[1:2]\n",
        "MSE.rlasso2  = summary(lm((y.test-yhat.rlasso2)^2~1))$coef[1:2]\n",
        "MSE.lasso    = summary(lm((y.test-yhat.lasso)^2~1))$coef[1:2]\n",
        "MSE.ridge    = summary(lm((y.test-yhat.ridge)^2~1))$coef[1:2]\n",
        "MSE.elnet    = summary(lm((y.test-yhat.elnet)^2~1))$coef[1:2]\n",
        "MSE.rlassoL  = summary(lm((y.test-yhat.rlassoL)^2~1))$coef[1:2]\n",
        "MSE.rlasso2L = summary(lm((y.test-yhat.rlasso2L)^2~1))$coef[1:2]\n",
        "MSE.lassoL   = summary(lm((y.test-yhat.lassoL)^2~1))$coef[1:2]\n",
        "MSE.ridgeL   = summary(lm((y.test-yhat.ridgeL)^2~1))$coef[1:2]\n",
        "MSE.elnetL   = summary(lm((y.test-yhat.elnetL)^2~1))$coef[1:2]\n",
        "MSE.rf       = summary(lm((y.test-yhat.rf)^2~1))$coef[1:2]\n",
        "MSE.boost    = summary(lm((y.test-yhat.boost)^2~1))$coef[1:2]\n",
        "MSE.pt       = summary(lm((y.test-yhat.pt)^2~1))$coef[1:2]\n",
        "MSE.nnet     = summary(lm((y.test-yhat.nnet)^2~1))$coef[1:2]"
      ]
    },
    {
      "cell_type": "markdown",
      "metadata": {
        "id": "QCg8JCwjDvDm"
      },
      "source": [
        "Guardar los resultados en una tabla:"
      ]
    },
    {
      "cell_type": "code",
      "execution_count": null,
      "metadata": {
        "id": "rt6z4qdmik_N"
      },
      "outputs": [],
      "source": [
        "%%R\n",
        "table          <- matrix(0, 16, 3)\n",
        "table[1,1:2]   <- MSE.lm\n",
        "table[2,1:2]   <- MSE.lm2\n",
        "table[3,1:2]   <- MSE.rlasso\n",
        "table[4,1:2]   <- MSE.rlassoL\n",
        "table[5,1:2]   <- MSE.rlasso2\n",
        "table[6,1:2]   <- MSE.rlasso2L\n",
        "table[7,1:2]   <- MSE.lasso\n",
        "table[8,1:2]   <- MSE.lassoL\n",
        "table[9,1:2]   <- MSE.ridge\n",
        "table[10,1:2]  <- MSE.ridgeL\n",
        "table[11,1:2]  <- MSE.elnet\n",
        "table[12,1:2]  <- MSE.elnetL\n",
        "table[13,1:2]  <- MSE.rf\n",
        "table[14,1:2]  <- MSE.boost\n",
        "table[15,1:2]  <- MSE.pt\n",
        "table[16,1:2]  <- MSE.nnet\n",
        "\n",
        "table[1,3]   <- 1-MSE.lm[1]/var(y.test)\n",
        "table[2,3]   <- 1-MSE.lm2[1]/var(y.test)\n",
        "table[3,3]   <- 1-MSE.rlasso[1]/var(y.test)\n",
        "table[4,3]   <- 1-MSE.rlassoL[1]/var(y.test)\n",
        "table[5,3]   <- 1-MSE.rlasso2[1]/var(y.test)\n",
        "table[6,3]   <- 1-MSE.rlasso2L[1]/var(y.test)\n",
        "table[7,3]   <- 1-MSE.lasso[1]/var(y.test)\n",
        "table[8,3]   <- 1-MSE.lassoL[1]/var(y.test)\n",
        "table[9,3]   <- 1-MSE.ridge[1]/var(y.test)\n",
        "table[10,3]  <- 1-MSE.ridgeL[1]/var(y.test)\n",
        "table[11,3]  <- 1-MSE.elnet[1]/var(y.test)\n",
        "table[12,3]  <- 1-MSE.elnetL[1]/var(y.test)\n",
        "table[13,3]  <- 1-MSE.rf[1]/var(y.test)\n",
        "table[14,3]  <- 1-MSE.boost[1]/var(y.test)\n",
        "table[15,3]  <- 1-MSE.pt[1]/var(y.test)\n",
        "table[16,3]  <- 1-MSE.nnet[1]/var(y.test)\n",
        "\n",
        "\n",
        "# Asignar nombres a columnas y filas\n",
        "colnames(table)<- c(\"EMC\", \"Error Est. del EMC\", \"R^2\")\n",
        "rownames(table)<- c(\"Mínimos Cuadrados\", \"Mínimos Cuadrados (flexible)\", \"Lasso\", \"Lasso (flexible)\", \"Post-Lasso\",  \"Post-Lasso (flexible)\",\n",
        "                    \"Lasso con VC\", \"Lasso con VC (flexible)\", \"Ridge con VC\", \"Ridge con VC (flexible)\", \"Elastic Net con VC\", \"Elastic Net con VC (Flexible)\",\n",
        "                    \"Random Forest\",\"Boosted Trees\", \"Árbol podado\", \"Red Neuronal\")"
      ]
    },
    {
      "cell_type": "markdown",
      "metadata": {
        "id": "s7oppAgai0fW"
      },
      "source": [
        "### Agregación de predictores"
      ]
    },
    {
      "cell_type": "code",
      "execution_count": null,
      "metadata": {
        "id": "AQLx1GYgilFv"
      },
      "outputs": [],
      "source": [
        "%%R\n",
        "# Regresión de la variable de resultado con los predictores de cada método: OLS\n",
        "ens  <- lm(y.test~ yhat.lm+ yhat.rlasso+ yhat.elnet + yhat.rf+ yhat.pt +yhat.boost)\n",
        "# # Regresión de la variable de resultado con los predictores de cada método: Lasso, post=FALSE\n",
        "ens2 <- rlasso(y.test~ yhat.lm+ yhat.rlasso+ yhat.elnet + yhat.rf+ yhat.pt + yhat.boost, post=FALSE)\n",
        "\n",
        "# EMC para aprendizaje agregado\n",
        "MSE.ens1  <- summary(lm((y.test-ens$fitted.values)^2~1))$coef[1:2]\n",
        "MSE.ens2  <- summary(lm((y.test-predict(ens2))^2~1))$coef[1:2]"
      ]
    },
    {
      "cell_type": "code",
      "execution_count": null,
      "metadata": {
        "id": "0QTzfkdHilJl"
      },
      "outputs": [],
      "source": [
        "%%R\n",
        "# Tabla de resultados de aprendizaje agregado (\"ensemble learning\")\n",
        "table2<- matrix(0, 7, 2)\n",
        "\n",
        "table2[1,1]  <- ens$coefficients[1]\n",
        "table2[2,1]  <- ens$coefficients[2]\n",
        "table2[3,1]  <- ens$coefficients[3]\n",
        "table2[4,1]  <- ens$coefficients[4]\n",
        "table2[5,1]  <- ens$coefficients[5]\n",
        "table2[6,1]  <- ens$coefficients[6]\n",
        "table2[7,1]  <- ens$coefficients[7]\n",
        "\n",
        "\n",
        "table2[1,2]  <- ens2$coefficients[1]\n",
        "table2[2,2]  <- ens2$coefficients[2]\n",
        "table2[3,2]  <- ens2$coefficients[3]\n",
        "table2[4,2]  <- ens2$coefficients[4]\n",
        "table2[5,2]  <- ens2$coefficients[5]\n",
        "table2[6,2]  <- ens2$coefficients[6]\n",
        "table2[7,2]  <- ens2$coefficients[7]\n",
        "\n",
        "# Asignar nombres a columnas y filas\n",
        "colnames(table2)<- c(\"Coeficiente (OLS)\", \"Coeficiente (Lasso)\")\n",
        "rownames(table2)<- c(\"Constante\",\"OLS-simple\",\"Lasso\",\"Elastic Net con VC\", \"Random Forest\", \"Árbol podado\",\"Boosted Trees\")"
      ]
    },
    {
      "cell_type": "markdown",
      "metadata": {
        "id": "rxRTtar8X0FF"
      },
      "source": [
        "## Resultados"
      ]
    },
    {
      "cell_type": "code",
      "execution_count": null,
      "metadata": {
        "id": "MEj17qS-ilOV"
      },
      "outputs": [],
      "source": [
        "%%R\n",
        "# Mostrar resultados\n",
        "print(table, digits=3)\n",
        "print(table2, digits=3)"
      ]
    }
  ],
  "metadata": {
    "colab": {
      "provenance": [],
      "include_colab_link": true
    },
    "hide_input": false,
    "kernelspec": {
      "display_name": "Python 3",
      "name": "python3"
    },
    "toc": {
      "base_numbering": 1,
      "nav_menu": {},
      "number_sections": true,
      "sideBar": true,
      "skip_h1_title": false,
      "title_cell": "Table of Contents",
      "title_sidebar": "Contents",
      "toc_cell": true,
      "toc_position": {},
      "toc_section_display": true,
      "toc_window_display": false
    },
    "varInspector": {
      "cols": {
        "lenName": 16,
        "lenType": 16,
        "lenVar": 40
      },
      "kernels_config": {
        "python": {
          "delete_cmd_postfix": "",
          "delete_cmd_prefix": "del ",
          "library": "var_list.py",
          "varRefreshCmd": "print(var_dic_list())"
        },
        "r": {
          "delete_cmd_postfix": ") ",
          "delete_cmd_prefix": "rm(",
          "library": "var_list.r",
          "varRefreshCmd": "cat(var_dic_list()) "
        }
      },
      "types_to_exclude": [
        "module",
        "function",
        "builtin_function_or_method",
        "instance",
        "_Feature"
      ],
      "window_display": false
    }
  },
  "nbformat": 4,
  "nbformat_minor": 0
}