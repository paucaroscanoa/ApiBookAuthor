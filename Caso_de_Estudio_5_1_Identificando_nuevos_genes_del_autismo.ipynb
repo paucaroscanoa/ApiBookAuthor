{
  "cells": [
    {
      "cell_type": "markdown",
      "metadata": {
        "id": "view-in-github",
        "colab_type": "text"
      },
      "source": [
        "<a href=\"https://colab.research.google.com/github/paucaroscanoa/ApiBookAuthor/blob/master/Caso_de_Estudio_5_1_Identificando_nuevos_genes_del_autismo.ipynb\" target=\"_parent\"><img src=\"https://colab.research.google.com/assets/colab-badge.svg\" alt=\"Open In Colab\"/></a>"
      ]
    },
    {
      "cell_type": "markdown",
      "metadata": {
        "id": "BwaCPLWle4P1"
      },
      "source": [
        "# Caso de Estudio 5.1 - Identificando nuevos genes del autismo"
      ]
    },
    {
      "cell_type": "markdown",
      "metadata": {
        "id": "-4F9CWywe4P2"
      },
      "source": [
        "Configuración del *notebook*:"
      ]
    },
    {
      "cell_type": "markdown",
      "metadata": {
        "id": "Azi08KciuAmF"
      },
      "source": [
        "Sincronice su cuenta de Google. Para ello, siga el link que aparece en la salida de la siguiente celda una vez ejecutada. Copie el código que le aparece en pantalla e introdúzcalo en la salida de la celda. Una vez vea el mensaje: `Google Drive sincronizado con éxito!` puede continuar ejecutando el resto de celdas."
      ]
    },
    {
      "cell_type": "code",
      "execution_count": 1,
      "metadata": {
        "id": "jGYcsLShi5Tp",
        "colab": {
          "base_uri": "https://localhost:8080/"
        },
        "outputId": "8514c2cd-571b-48d8-b1fb-f7eef9c34cbb"
      },
      "outputs": [
        {
          "output_type": "stream",
          "name": "stdout",
          "text": [
            "Google Drive sincronizado con éxito!\n"
          ]
        }
      ],
      "source": [
        "from google.colab import auth\n",
        "auth.authenticate_user()\n",
        "\n",
        "from pydrive2.auth import GoogleAuth\n",
        "from pydrive2.drive import GoogleDrive\n",
        "from google.colab import auth\n",
        "from oauth2client.client import GoogleCredentials\n",
        "\n",
        "gauth = GoogleAuth()\n",
        "gauth.credentials = GoogleCredentials.get_application_default()\n",
        "drive = GoogleDrive(gauth)\n",
        "data_drop = drive.CreateFile({'id':'1Iin0h_JR8qiJl8UmJfa7cq-YZ4ou5n2Q'})\n",
        "data_drop.GetContentFile('BIOGRID.txt')\n",
        "data_drop = drive.CreateFile({'id':'10FxN4lVk8-dsbdmVLEWEwoKI1wSFAqKs'})\n",
        "data_drop.GetContentFile('gene-id-table.txt')\n",
        "data_drop = drive.CreateFile({'id':'1yWjhKnw2knYtLeeX5mzFrJ-qrtEQgAOx'})\n",
        "data_drop.GetContentFile('gene-score.csv')\n",
        "data_drop = drive.CreateFile({'id':'1P4MPEtbrQuIUHraBy3nxCKieGFHjK4HG'})\n",
        "data_drop.GetContentFile('steiner_tree.R')\n",
        "\n",
        "print('Google Drive sincronizado con éxito!')"
      ]
    },
    {
      "cell_type": "code",
      "execution_count": 2,
      "metadata": {
        "id": "UF-N5UbBiNyA",
        "colab": {
          "base_uri": "https://localhost:8080/"
        },
        "outputId": "0af9717e-d802-42de-9f14-b97597ae875a"
      },
      "outputs": [
        {
          "output_type": "stream",
          "name": "stdout",
          "text": [
            "Collecting rpy2==3.5.1\n",
            "  Downloading rpy2-3.5.1.tar.gz (201 kB)\n",
            "\u001b[2K     \u001b[90m━━━━━━━━━━━━━━━━━━━━━━━━━━━━━━━━━━━━━━━━\u001b[0m \u001b[32m201.7/201.7 kB\u001b[0m \u001b[31m2.5 MB/s\u001b[0m eta \u001b[36m0:00:00\u001b[0m\n",
            "\u001b[?25h  Preparing metadata (setup.py) ... \u001b[?25l\u001b[?25hdone\n",
            "Requirement already satisfied: cffi>=1.10.0 in /usr/local/lib/python3.10/dist-packages (from rpy2==3.5.1) (1.17.1)\n",
            "Requirement already satisfied: jinja2 in /usr/local/lib/python3.10/dist-packages (from rpy2==3.5.1) (3.1.4)\n",
            "Requirement already satisfied: pytz in /usr/local/lib/python3.10/dist-packages (from rpy2==3.5.1) (2024.2)\n",
            "Requirement already satisfied: tzlocal in /usr/local/lib/python3.10/dist-packages (from rpy2==3.5.1) (5.2)\n",
            "Requirement already satisfied: pycparser in /usr/local/lib/python3.10/dist-packages (from cffi>=1.10.0->rpy2==3.5.1) (2.22)\n",
            "Requirement already satisfied: MarkupSafe>=2.0 in /usr/local/lib/python3.10/dist-packages (from jinja2->rpy2==3.5.1) (3.0.2)\n",
            "Building wheels for collected packages: rpy2\n",
            "  Building wheel for rpy2 (setup.py) ... \u001b[?25l\u001b[?25hdone\n",
            "  Created wheel for rpy2: filename=rpy2-3.5.1-cp310-cp310-linux_x86_64.whl size=314958 sha256=151848f9eefb8e773222d25b9ab8239233787a4c1bc6b6c43f94afe2b197c914\n",
            "  Stored in directory: /root/.cache/pip/wheels/73/a6/ff/4e75dd1ce1cfa2b9a670cbccf6a1e41c553199e9b25f05d953\n",
            "Successfully built rpy2\n",
            "Installing collected packages: rpy2\n",
            "  Attempting uninstall: rpy2\n",
            "    Found existing installation: rpy2 3.4.2\n",
            "    Uninstalling rpy2-3.4.2:\n",
            "      Successfully uninstalled rpy2-3.4.2\n",
            "Successfully installed rpy2-3.5.1\n"
          ]
        }
      ],
      "source": [
        "!pip install rpy2==3.5.1"
      ]
    },
    {
      "cell_type": "code",
      "source": [
        "%load_ext rpy2.ipython"
      ],
      "metadata": {
        "id": "KlDT_hj6H8pG"
      },
      "execution_count": 3,
      "outputs": []
    },
    {
      "cell_type": "markdown",
      "metadata": {
        "id": "IzhFIscbPKyF"
      },
      "source": [
        "Instalar e importar librerías: (ignorar resultados a no ser que no se muestre la frase: `Librerías instaladas con éxito!`)"
      ]
    },
    {
      "cell_type": "code",
      "execution_count": 4,
      "metadata": {
        "id": "nfPXGW2TPJK9",
        "colab": {
          "base_uri": "https://localhost:8080/"
        },
        "outputId": "489a1489-1206-4688-de6f-92e64f7dd07c"
      },
      "outputs": [
        {
          "output_type": "stream",
          "name": "stderr",
          "text": [
            "WARNING:rpy2.rinterface_lib.callbacks:R[write to console]: Installing package into ‘/usr/local/lib/R/site-library’\n",
            "(as ‘lib’ is unspecified)\n",
            "\n",
            "WARNING:rpy2.rinterface_lib.callbacks:R[write to console]: also installing the dependencies ‘ape’, ‘decor’, ‘igraphdata’, ‘rgl’, ‘vdiffr’\n",
            "\n",
            "\n",
            "WARNING:rpy2.rinterface_lib.callbacks:R[write to console]: trying URL 'https://cran.rstudio.com/src/contrib/ape_5.8.tar.gz'\n",
            "\n",
            "WARNING:rpy2.rinterface_lib.callbacks:R[write to console]: Content type 'application/x-gzip'\n",
            "WARNING:rpy2.rinterface_lib.callbacks:R[write to console]:  length 1579438 bytes (1.5 MB)\n",
            "\n",
            "WARNING:rpy2.rinterface_lib.callbacks:R[write to console]: =\n",
            "WARNING:rpy2.rinterface_lib.callbacks:R[write to console]: =\n",
            "WARNING:rpy2.rinterface_lib.callbacks:R[write to console]: =\n",
            "WARNING:rpy2.rinterface_lib.callbacks:R[write to console]: =\n",
            "WARNING:rpy2.rinterface_lib.callbacks:R[write to console]: =\n",
            "WARNING:rpy2.rinterface_lib.callbacks:R[write to console]: =\n",
            "WARNING:rpy2.rinterface_lib.callbacks:R[write to console]: =\n",
            "WARNING:rpy2.rinterface_lib.callbacks:R[write to console]: =\n",
            "WARNING:rpy2.rinterface_lib.callbacks:R[write to console]: =\n",
            "WARNING:rpy2.rinterface_lib.callbacks:R[write to console]: =\n",
            "WARNING:rpy2.rinterface_lib.callbacks:R[write to console]: =\n",
            "WARNING:rpy2.rinterface_lib.callbacks:R[write to console]: =\n",
            "WARNING:rpy2.rinterface_lib.callbacks:R[write to console]: =\n",
            "WARNING:rpy2.rinterface_lib.callbacks:R[write to console]: =\n",
            "WARNING:rpy2.rinterface_lib.callbacks:R[write to console]: =\n",
            "WARNING:rpy2.rinterface_lib.callbacks:R[write to console]: =\n",
            "WARNING:rpy2.rinterface_lib.callbacks:R[write to console]: =\n",
            "WARNING:rpy2.rinterface_lib.callbacks:R[write to console]: =\n",
            "WARNING:rpy2.rinterface_lib.callbacks:R[write to console]: =\n",
            "WARNING:rpy2.rinterface_lib.callbacks:R[write to console]: =\n",
            "WARNING:rpy2.rinterface_lib.callbacks:R[write to console]: =\n",
            "WARNING:rpy2.rinterface_lib.callbacks:R[write to console]: =\n",
            "WARNING:rpy2.rinterface_lib.callbacks:R[write to console]: =\n",
            "WARNING:rpy2.rinterface_lib.callbacks:R[write to console]: =\n",
            "WARNING:rpy2.rinterface_lib.callbacks:R[write to console]: =\n",
            "WARNING:rpy2.rinterface_lib.callbacks:R[write to console]: =\n",
            "WARNING:rpy2.rinterface_lib.callbacks:R[write to console]: =\n",
            "WARNING:rpy2.rinterface_lib.callbacks:R[write to console]: =\n",
            "WARNING:rpy2.rinterface_lib.callbacks:R[write to console]: =\n",
            "WARNING:rpy2.rinterface_lib.callbacks:R[write to console]: =\n",
            "WARNING:rpy2.rinterface_lib.callbacks:R[write to console]: =\n",
            "WARNING:rpy2.rinterface_lib.callbacks:R[write to console]: =\n",
            "WARNING:rpy2.rinterface_lib.callbacks:R[write to console]: =\n",
            "WARNING:rpy2.rinterface_lib.callbacks:R[write to console]: =\n",
            "WARNING:rpy2.rinterface_lib.callbacks:R[write to console]: =\n",
            "WARNING:rpy2.rinterface_lib.callbacks:R[write to console]: =\n",
            "WARNING:rpy2.rinterface_lib.callbacks:R[write to console]: =\n",
            "WARNING:rpy2.rinterface_lib.callbacks:R[write to console]: =\n",
            "WARNING:rpy2.rinterface_lib.callbacks:R[write to console]: =\n",
            "WARNING:rpy2.rinterface_lib.callbacks:R[write to console]: =\n",
            "WARNING:rpy2.rinterface_lib.callbacks:R[write to console]: =\n",
            "WARNING:rpy2.rinterface_lib.callbacks:R[write to console]: =\n",
            "WARNING:rpy2.rinterface_lib.callbacks:R[write to console]: =\n",
            "WARNING:rpy2.rinterface_lib.callbacks:R[write to console]: =\n",
            "WARNING:rpy2.rinterface_lib.callbacks:R[write to console]: =\n",
            "WARNING:rpy2.rinterface_lib.callbacks:R[write to console]: =\n",
            "WARNING:rpy2.rinterface_lib.callbacks:R[write to console]: =\n",
            "WARNING:rpy2.rinterface_lib.callbacks:R[write to console]: =\n",
            "WARNING:rpy2.rinterface_lib.callbacks:R[write to console]: =\n",
            "WARNING:rpy2.rinterface_lib.callbacks:R[write to console]: =\n",
            "WARNING:rpy2.rinterface_lib.callbacks:R[write to console]: \n",
            "\n",
            "WARNING:rpy2.rinterface_lib.callbacks:R[write to console]: downloaded 1.5 MB\n",
            "\n",
            "\n",
            "WARNING:rpy2.rinterface_lib.callbacks:R[write to console]: trying URL 'https://cran.rstudio.com/src/contrib/decor_1.0.2.tar.gz'\n",
            "\n",
            "WARNING:rpy2.rinterface_lib.callbacks:R[write to console]: Content type 'application/x-gzip'\n",
            "WARNING:rpy2.rinterface_lib.callbacks:R[write to console]:  length 9947 bytes\n",
            "\n",
            "WARNING:rpy2.rinterface_lib.callbacks:R[write to console]: =\n",
            "WARNING:rpy2.rinterface_lib.callbacks:R[write to console]: =\n",
            "WARNING:rpy2.rinterface_lib.callbacks:R[write to console]: =\n",
            "WARNING:rpy2.rinterface_lib.callbacks:R[write to console]: =\n",
            "WARNING:rpy2.rinterface_lib.callbacks:R[write to console]: =\n",
            "WARNING:rpy2.rinterface_lib.callbacks:R[write to console]: =\n",
            "WARNING:rpy2.rinterface_lib.callbacks:R[write to console]: =\n",
            "WARNING:rpy2.rinterface_lib.callbacks:R[write to console]: =\n",
            "WARNING:rpy2.rinterface_lib.callbacks:R[write to console]: =\n",
            "WARNING:rpy2.rinterface_lib.callbacks:R[write to console]: =\n",
            "WARNING:rpy2.rinterface_lib.callbacks:R[write to console]: =\n",
            "WARNING:rpy2.rinterface_lib.callbacks:R[write to console]: =\n",
            "WARNING:rpy2.rinterface_lib.callbacks:R[write to console]: =\n",
            "WARNING:rpy2.rinterface_lib.callbacks:R[write to console]: =\n",
            "WARNING:rpy2.rinterface_lib.callbacks:R[write to console]: =\n",
            "WARNING:rpy2.rinterface_lib.callbacks:R[write to console]: =\n",
            "WARNING:rpy2.rinterface_lib.callbacks:R[write to console]: =\n",
            "WARNING:rpy2.rinterface_lib.callbacks:R[write to console]: =\n",
            "WARNING:rpy2.rinterface_lib.callbacks:R[write to console]: =\n",
            "WARNING:rpy2.rinterface_lib.callbacks:R[write to console]: =\n",
            "WARNING:rpy2.rinterface_lib.callbacks:R[write to console]: =\n",
            "WARNING:rpy2.rinterface_lib.callbacks:R[write to console]: =\n",
            "WARNING:rpy2.rinterface_lib.callbacks:R[write to console]: =\n",
            "WARNING:rpy2.rinterface_lib.callbacks:R[write to console]: =\n",
            "WARNING:rpy2.rinterface_lib.callbacks:R[write to console]: =\n",
            "WARNING:rpy2.rinterface_lib.callbacks:R[write to console]: =\n",
            "WARNING:rpy2.rinterface_lib.callbacks:R[write to console]: =\n",
            "WARNING:rpy2.rinterface_lib.callbacks:R[write to console]: =\n",
            "WARNING:rpy2.rinterface_lib.callbacks:R[write to console]: =\n",
            "WARNING:rpy2.rinterface_lib.callbacks:R[write to console]: =\n",
            "WARNING:rpy2.rinterface_lib.callbacks:R[write to console]: =\n",
            "WARNING:rpy2.rinterface_lib.callbacks:R[write to console]: =\n",
            "WARNING:rpy2.rinterface_lib.callbacks:R[write to console]: =\n",
            "WARNING:rpy2.rinterface_lib.callbacks:R[write to console]: =\n",
            "WARNING:rpy2.rinterface_lib.callbacks:R[write to console]: =\n",
            "WARNING:rpy2.rinterface_lib.callbacks:R[write to console]: =\n",
            "WARNING:rpy2.rinterface_lib.callbacks:R[write to console]: =\n",
            "WARNING:rpy2.rinterface_lib.callbacks:R[write to console]: =\n",
            "WARNING:rpy2.rinterface_lib.callbacks:R[write to console]: =\n",
            "WARNING:rpy2.rinterface_lib.callbacks:R[write to console]: =\n",
            "WARNING:rpy2.rinterface_lib.callbacks:R[write to console]: =\n",
            "WARNING:rpy2.rinterface_lib.callbacks:R[write to console]: =\n",
            "WARNING:rpy2.rinterface_lib.callbacks:R[write to console]: =\n",
            "WARNING:rpy2.rinterface_lib.callbacks:R[write to console]: =\n",
            "WARNING:rpy2.rinterface_lib.callbacks:R[write to console]: =\n",
            "WARNING:rpy2.rinterface_lib.callbacks:R[write to console]: =\n",
            "WARNING:rpy2.rinterface_lib.callbacks:R[write to console]: =\n",
            "WARNING:rpy2.rinterface_lib.callbacks:R[write to console]: =\n",
            "WARNING:rpy2.rinterface_lib.callbacks:R[write to console]: =\n",
            "WARNING:rpy2.rinterface_lib.callbacks:R[write to console]: =\n",
            "WARNING:rpy2.rinterface_lib.callbacks:R[write to console]: \n",
            "\n",
            "WARNING:rpy2.rinterface_lib.callbacks:R[write to console]: downloaded 9947 bytes\n",
            "\n",
            "\n",
            "WARNING:rpy2.rinterface_lib.callbacks:R[write to console]: trying URL 'https://cran.rstudio.com/src/contrib/igraphdata_1.0.1.tar.gz'\n",
            "\n",
            "WARNING:rpy2.rinterface_lib.callbacks:R[write to console]: Content type 'application/x-gzip'\n",
            "WARNING:rpy2.rinterface_lib.callbacks:R[write to console]:  length 953158 bytes (930 KB)\n",
            "\n",
            "WARNING:rpy2.rinterface_lib.callbacks:R[write to console]: =\n",
            "WARNING:rpy2.rinterface_lib.callbacks:R[write to console]: =\n",
            "WARNING:rpy2.rinterface_lib.callbacks:R[write to console]: =\n",
            "WARNING:rpy2.rinterface_lib.callbacks:R[write to console]: =\n",
            "WARNING:rpy2.rinterface_lib.callbacks:R[write to console]: =\n",
            "WARNING:rpy2.rinterface_lib.callbacks:R[write to console]: =\n",
            "WARNING:rpy2.rinterface_lib.callbacks:R[write to console]: =\n",
            "WARNING:rpy2.rinterface_lib.callbacks:R[write to console]: =\n",
            "WARNING:rpy2.rinterface_lib.callbacks:R[write to console]: =\n",
            "WARNING:rpy2.rinterface_lib.callbacks:R[write to console]: =\n",
            "WARNING:rpy2.rinterface_lib.callbacks:R[write to console]: =\n",
            "WARNING:rpy2.rinterface_lib.callbacks:R[write to console]: =\n",
            "WARNING:rpy2.rinterface_lib.callbacks:R[write to console]: =\n",
            "WARNING:rpy2.rinterface_lib.callbacks:R[write to console]: =\n",
            "WARNING:rpy2.rinterface_lib.callbacks:R[write to console]: =\n",
            "WARNING:rpy2.rinterface_lib.callbacks:R[write to console]: =\n",
            "WARNING:rpy2.rinterface_lib.callbacks:R[write to console]: =\n",
            "WARNING:rpy2.rinterface_lib.callbacks:R[write to console]: =\n",
            "WARNING:rpy2.rinterface_lib.callbacks:R[write to console]: =\n",
            "WARNING:rpy2.rinterface_lib.callbacks:R[write to console]: =\n",
            "WARNING:rpy2.rinterface_lib.callbacks:R[write to console]: =\n",
            "WARNING:rpy2.rinterface_lib.callbacks:R[write to console]: =\n",
            "WARNING:rpy2.rinterface_lib.callbacks:R[write to console]: =\n",
            "WARNING:rpy2.rinterface_lib.callbacks:R[write to console]: =\n",
            "WARNING:rpy2.rinterface_lib.callbacks:R[write to console]: =\n",
            "WARNING:rpy2.rinterface_lib.callbacks:R[write to console]: =\n",
            "WARNING:rpy2.rinterface_lib.callbacks:R[write to console]: =\n",
            "WARNING:rpy2.rinterface_lib.callbacks:R[write to console]: =\n",
            "WARNING:rpy2.rinterface_lib.callbacks:R[write to console]: =\n",
            "WARNING:rpy2.rinterface_lib.callbacks:R[write to console]: =\n",
            "WARNING:rpy2.rinterface_lib.callbacks:R[write to console]: =\n",
            "WARNING:rpy2.rinterface_lib.callbacks:R[write to console]: =\n",
            "WARNING:rpy2.rinterface_lib.callbacks:R[write to console]: =\n",
            "WARNING:rpy2.rinterface_lib.callbacks:R[write to console]: =\n",
            "WARNING:rpy2.rinterface_lib.callbacks:R[write to console]: =\n",
            "WARNING:rpy2.rinterface_lib.callbacks:R[write to console]: =\n",
            "WARNING:rpy2.rinterface_lib.callbacks:R[write to console]: =\n",
            "WARNING:rpy2.rinterface_lib.callbacks:R[write to console]: =\n",
            "WARNING:rpy2.rinterface_lib.callbacks:R[write to console]: =\n",
            "WARNING:rpy2.rinterface_lib.callbacks:R[write to console]: =\n",
            "WARNING:rpy2.rinterface_lib.callbacks:R[write to console]: =\n",
            "WARNING:rpy2.rinterface_lib.callbacks:R[write to console]: =\n",
            "WARNING:rpy2.rinterface_lib.callbacks:R[write to console]: =\n",
            "WARNING:rpy2.rinterface_lib.callbacks:R[write to console]: =\n",
            "WARNING:rpy2.rinterface_lib.callbacks:R[write to console]: =\n",
            "WARNING:rpy2.rinterface_lib.callbacks:R[write to console]: =\n",
            "WARNING:rpy2.rinterface_lib.callbacks:R[write to console]: =\n",
            "WARNING:rpy2.rinterface_lib.callbacks:R[write to console]: =\n",
            "WARNING:rpy2.rinterface_lib.callbacks:R[write to console]: =\n",
            "WARNING:rpy2.rinterface_lib.callbacks:R[write to console]: =\n",
            "WARNING:rpy2.rinterface_lib.callbacks:R[write to console]: \n",
            "\n",
            "WARNING:rpy2.rinterface_lib.callbacks:R[write to console]: downloaded 930 KB\n",
            "\n",
            "\n",
            "WARNING:rpy2.rinterface_lib.callbacks:R[write to console]: trying URL 'https://cran.rstudio.com/src/contrib/rgl_1.3.12.tar.gz'\n",
            "\n",
            "WARNING:rpy2.rinterface_lib.callbacks:R[write to console]: Content type 'application/x-gzip'\n",
            "WARNING:rpy2.rinterface_lib.callbacks:R[write to console]:  length 4065293 bytes (3.9 MB)\n",
            "\n",
            "WARNING:rpy2.rinterface_lib.callbacks:R[write to console]: =\n",
            "WARNING:rpy2.rinterface_lib.callbacks:R[write to console]: =\n",
            "WARNING:rpy2.rinterface_lib.callbacks:R[write to console]: =\n",
            "WARNING:rpy2.rinterface_lib.callbacks:R[write to console]: =\n",
            "WARNING:rpy2.rinterface_lib.callbacks:R[write to console]: =\n",
            "WARNING:rpy2.rinterface_lib.callbacks:R[write to console]: =\n",
            "WARNING:rpy2.rinterface_lib.callbacks:R[write to console]: =\n",
            "WARNING:rpy2.rinterface_lib.callbacks:R[write to console]: =\n",
            "WARNING:rpy2.rinterface_lib.callbacks:R[write to console]: =\n",
            "WARNING:rpy2.rinterface_lib.callbacks:R[write to console]: =\n",
            "WARNING:rpy2.rinterface_lib.callbacks:R[write to console]: =\n",
            "WARNING:rpy2.rinterface_lib.callbacks:R[write to console]: =\n",
            "WARNING:rpy2.rinterface_lib.callbacks:R[write to console]: =\n",
            "WARNING:rpy2.rinterface_lib.callbacks:R[write to console]: =\n",
            "WARNING:rpy2.rinterface_lib.callbacks:R[write to console]: =\n",
            "WARNING:rpy2.rinterface_lib.callbacks:R[write to console]: =\n",
            "WARNING:rpy2.rinterface_lib.callbacks:R[write to console]: =\n",
            "WARNING:rpy2.rinterface_lib.callbacks:R[write to console]: =\n",
            "WARNING:rpy2.rinterface_lib.callbacks:R[write to console]: =\n",
            "WARNING:rpy2.rinterface_lib.callbacks:R[write to console]: =\n",
            "WARNING:rpy2.rinterface_lib.callbacks:R[write to console]: =\n",
            "WARNING:rpy2.rinterface_lib.callbacks:R[write to console]: =\n",
            "WARNING:rpy2.rinterface_lib.callbacks:R[write to console]: =\n",
            "WARNING:rpy2.rinterface_lib.callbacks:R[write to console]: =\n",
            "WARNING:rpy2.rinterface_lib.callbacks:R[write to console]: =\n",
            "WARNING:rpy2.rinterface_lib.callbacks:R[write to console]: =\n",
            "WARNING:rpy2.rinterface_lib.callbacks:R[write to console]: =\n",
            "WARNING:rpy2.rinterface_lib.callbacks:R[write to console]: =\n",
            "WARNING:rpy2.rinterface_lib.callbacks:R[write to console]: =\n",
            "WARNING:rpy2.rinterface_lib.callbacks:R[write to console]: =\n",
            "WARNING:rpy2.rinterface_lib.callbacks:R[write to console]: =\n",
            "WARNING:rpy2.rinterface_lib.callbacks:R[write to console]: =\n",
            "WARNING:rpy2.rinterface_lib.callbacks:R[write to console]: =\n",
            "WARNING:rpy2.rinterface_lib.callbacks:R[write to console]: =\n",
            "WARNING:rpy2.rinterface_lib.callbacks:R[write to console]: =\n",
            "WARNING:rpy2.rinterface_lib.callbacks:R[write to console]: =\n",
            "WARNING:rpy2.rinterface_lib.callbacks:R[write to console]: =\n",
            "WARNING:rpy2.rinterface_lib.callbacks:R[write to console]: =\n",
            "WARNING:rpy2.rinterface_lib.callbacks:R[write to console]: =\n",
            "WARNING:rpy2.rinterface_lib.callbacks:R[write to console]: =\n",
            "WARNING:rpy2.rinterface_lib.callbacks:R[write to console]: =\n",
            "WARNING:rpy2.rinterface_lib.callbacks:R[write to console]: =\n",
            "WARNING:rpy2.rinterface_lib.callbacks:R[write to console]: =\n",
            "WARNING:rpy2.rinterface_lib.callbacks:R[write to console]: =\n",
            "WARNING:rpy2.rinterface_lib.callbacks:R[write to console]: =\n",
            "WARNING:rpy2.rinterface_lib.callbacks:R[write to console]: =\n",
            "WARNING:rpy2.rinterface_lib.callbacks:R[write to console]: =\n",
            "WARNING:rpy2.rinterface_lib.callbacks:R[write to console]: =\n",
            "WARNING:rpy2.rinterface_lib.callbacks:R[write to console]: =\n",
            "WARNING:rpy2.rinterface_lib.callbacks:R[write to console]: =\n",
            "WARNING:rpy2.rinterface_lib.callbacks:R[write to console]: \n",
            "\n",
            "WARNING:rpy2.rinterface_lib.callbacks:R[write to console]: downloaded 3.9 MB\n",
            "\n",
            "\n",
            "WARNING:rpy2.rinterface_lib.callbacks:R[write to console]: trying URL 'https://cran.rstudio.com/src/contrib/vdiffr_1.0.8.tar.gz'\n",
            "\n",
            "WARNING:rpy2.rinterface_lib.callbacks:R[write to console]: Content type 'application/x-gzip'\n",
            "WARNING:rpy2.rinterface_lib.callbacks:R[write to console]:  length 102462 bytes (100 KB)\n",
            "\n",
            "WARNING:rpy2.rinterface_lib.callbacks:R[write to console]: =\n",
            "WARNING:rpy2.rinterface_lib.callbacks:R[write to console]: =\n",
            "WARNING:rpy2.rinterface_lib.callbacks:R[write to console]: =\n",
            "WARNING:rpy2.rinterface_lib.callbacks:R[write to console]: =\n",
            "WARNING:rpy2.rinterface_lib.callbacks:R[write to console]: =\n",
            "WARNING:rpy2.rinterface_lib.callbacks:R[write to console]: =\n",
            "WARNING:rpy2.rinterface_lib.callbacks:R[write to console]: =\n",
            "WARNING:rpy2.rinterface_lib.callbacks:R[write to console]: =\n",
            "WARNING:rpy2.rinterface_lib.callbacks:R[write to console]: =\n",
            "WARNING:rpy2.rinterface_lib.callbacks:R[write to console]: =\n",
            "WARNING:rpy2.rinterface_lib.callbacks:R[write to console]: =\n",
            "WARNING:rpy2.rinterface_lib.callbacks:R[write to console]: =\n",
            "WARNING:rpy2.rinterface_lib.callbacks:R[write to console]: =\n",
            "WARNING:rpy2.rinterface_lib.callbacks:R[write to console]: =\n",
            "WARNING:rpy2.rinterface_lib.callbacks:R[write to console]: =\n",
            "WARNING:rpy2.rinterface_lib.callbacks:R[write to console]: =\n",
            "WARNING:rpy2.rinterface_lib.callbacks:R[write to console]: =\n",
            "WARNING:rpy2.rinterface_lib.callbacks:R[write to console]: =\n",
            "WARNING:rpy2.rinterface_lib.callbacks:R[write to console]: =\n",
            "WARNING:rpy2.rinterface_lib.callbacks:R[write to console]: =\n",
            "WARNING:rpy2.rinterface_lib.callbacks:R[write to console]: =\n",
            "WARNING:rpy2.rinterface_lib.callbacks:R[write to console]: =\n",
            "WARNING:rpy2.rinterface_lib.callbacks:R[write to console]: =\n",
            "WARNING:rpy2.rinterface_lib.callbacks:R[write to console]: =\n",
            "WARNING:rpy2.rinterface_lib.callbacks:R[write to console]: =\n",
            "WARNING:rpy2.rinterface_lib.callbacks:R[write to console]: =\n",
            "WARNING:rpy2.rinterface_lib.callbacks:R[write to console]: =\n",
            "WARNING:rpy2.rinterface_lib.callbacks:R[write to console]: =\n",
            "WARNING:rpy2.rinterface_lib.callbacks:R[write to console]: =\n",
            "WARNING:rpy2.rinterface_lib.callbacks:R[write to console]: =\n",
            "WARNING:rpy2.rinterface_lib.callbacks:R[write to console]: =\n",
            "WARNING:rpy2.rinterface_lib.callbacks:R[write to console]: =\n",
            "WARNING:rpy2.rinterface_lib.callbacks:R[write to console]: =\n",
            "WARNING:rpy2.rinterface_lib.callbacks:R[write to console]: =\n",
            "WARNING:rpy2.rinterface_lib.callbacks:R[write to console]: =\n",
            "WARNING:rpy2.rinterface_lib.callbacks:R[write to console]: =\n",
            "WARNING:rpy2.rinterface_lib.callbacks:R[write to console]: =\n",
            "WARNING:rpy2.rinterface_lib.callbacks:R[write to console]: =\n",
            "WARNING:rpy2.rinterface_lib.callbacks:R[write to console]: =\n",
            "WARNING:rpy2.rinterface_lib.callbacks:R[write to console]: =\n",
            "WARNING:rpy2.rinterface_lib.callbacks:R[write to console]: =\n",
            "WARNING:rpy2.rinterface_lib.callbacks:R[write to console]: =\n",
            "WARNING:rpy2.rinterface_lib.callbacks:R[write to console]: =\n",
            "WARNING:rpy2.rinterface_lib.callbacks:R[write to console]: =\n",
            "WARNING:rpy2.rinterface_lib.callbacks:R[write to console]: =\n",
            "WARNING:rpy2.rinterface_lib.callbacks:R[write to console]: =\n",
            "WARNING:rpy2.rinterface_lib.callbacks:R[write to console]: =\n",
            "WARNING:rpy2.rinterface_lib.callbacks:R[write to console]: =\n",
            "WARNING:rpy2.rinterface_lib.callbacks:R[write to console]: =\n",
            "WARNING:rpy2.rinterface_lib.callbacks:R[write to console]: =\n",
            "WARNING:rpy2.rinterface_lib.callbacks:R[write to console]: \n",
            "\n",
            "WARNING:rpy2.rinterface_lib.callbacks:R[write to console]: downloaded 100 KB\n",
            "\n",
            "\n",
            "WARNING:rpy2.rinterface_lib.callbacks:R[write to console]: trying URL 'https://cran.rstudio.com/src/contrib/igraph_2.1.1.tar.gz'\n",
            "\n",
            "WARNING:rpy2.rinterface_lib.callbacks:R[write to console]: Content type 'application/x-gzip'\n",
            "WARNING:rpy2.rinterface_lib.callbacks:R[write to console]:  length 4989066 bytes (4.8 MB)\n",
            "\n",
            "WARNING:rpy2.rinterface_lib.callbacks:R[write to console]: =\n",
            "WARNING:rpy2.rinterface_lib.callbacks:R[write to console]: =\n",
            "WARNING:rpy2.rinterface_lib.callbacks:R[write to console]: =\n",
            "WARNING:rpy2.rinterface_lib.callbacks:R[write to console]: =\n",
            "WARNING:rpy2.rinterface_lib.callbacks:R[write to console]: =\n",
            "WARNING:rpy2.rinterface_lib.callbacks:R[write to console]: =\n",
            "WARNING:rpy2.rinterface_lib.callbacks:R[write to console]: =\n",
            "WARNING:rpy2.rinterface_lib.callbacks:R[write to console]: =\n",
            "WARNING:rpy2.rinterface_lib.callbacks:R[write to console]: =\n",
            "WARNING:rpy2.rinterface_lib.callbacks:R[write to console]: =\n",
            "WARNING:rpy2.rinterface_lib.callbacks:R[write to console]: =\n",
            "WARNING:rpy2.rinterface_lib.callbacks:R[write to console]: =\n",
            "WARNING:rpy2.rinterface_lib.callbacks:R[write to console]: =\n",
            "WARNING:rpy2.rinterface_lib.callbacks:R[write to console]: =\n",
            "WARNING:rpy2.rinterface_lib.callbacks:R[write to console]: =\n",
            "WARNING:rpy2.rinterface_lib.callbacks:R[write to console]: =\n",
            "WARNING:rpy2.rinterface_lib.callbacks:R[write to console]: =\n",
            "WARNING:rpy2.rinterface_lib.callbacks:R[write to console]: =\n",
            "WARNING:rpy2.rinterface_lib.callbacks:R[write to console]: =\n",
            "WARNING:rpy2.rinterface_lib.callbacks:R[write to console]: =\n",
            "WARNING:rpy2.rinterface_lib.callbacks:R[write to console]: =\n",
            "WARNING:rpy2.rinterface_lib.callbacks:R[write to console]: =\n",
            "WARNING:rpy2.rinterface_lib.callbacks:R[write to console]: =\n",
            "WARNING:rpy2.rinterface_lib.callbacks:R[write to console]: =\n",
            "WARNING:rpy2.rinterface_lib.callbacks:R[write to console]: =\n",
            "WARNING:rpy2.rinterface_lib.callbacks:R[write to console]: =\n",
            "WARNING:rpy2.rinterface_lib.callbacks:R[write to console]: =\n",
            "WARNING:rpy2.rinterface_lib.callbacks:R[write to console]: =\n",
            "WARNING:rpy2.rinterface_lib.callbacks:R[write to console]: =\n",
            "WARNING:rpy2.rinterface_lib.callbacks:R[write to console]: =\n",
            "WARNING:rpy2.rinterface_lib.callbacks:R[write to console]: =\n",
            "WARNING:rpy2.rinterface_lib.callbacks:R[write to console]: =\n",
            "WARNING:rpy2.rinterface_lib.callbacks:R[write to console]: =\n",
            "WARNING:rpy2.rinterface_lib.callbacks:R[write to console]: =\n",
            "WARNING:rpy2.rinterface_lib.callbacks:R[write to console]: =\n",
            "WARNING:rpy2.rinterface_lib.callbacks:R[write to console]: =\n",
            "WARNING:rpy2.rinterface_lib.callbacks:R[write to console]: =\n",
            "WARNING:rpy2.rinterface_lib.callbacks:R[write to console]: =\n",
            "WARNING:rpy2.rinterface_lib.callbacks:R[write to console]: =\n",
            "WARNING:rpy2.rinterface_lib.callbacks:R[write to console]: =\n",
            "WARNING:rpy2.rinterface_lib.callbacks:R[write to console]: =\n",
            "WARNING:rpy2.rinterface_lib.callbacks:R[write to console]: =\n",
            "WARNING:rpy2.rinterface_lib.callbacks:R[write to console]: =\n",
            "WARNING:rpy2.rinterface_lib.callbacks:R[write to console]: =\n",
            "WARNING:rpy2.rinterface_lib.callbacks:R[write to console]: =\n",
            "WARNING:rpy2.rinterface_lib.callbacks:R[write to console]: =\n",
            "WARNING:rpy2.rinterface_lib.callbacks:R[write to console]: =\n",
            "WARNING:rpy2.rinterface_lib.callbacks:R[write to console]: =\n",
            "WARNING:rpy2.rinterface_lib.callbacks:R[write to console]: =\n",
            "WARNING:rpy2.rinterface_lib.callbacks:R[write to console]: =\n",
            "WARNING:rpy2.rinterface_lib.callbacks:R[write to console]: \n",
            "\n",
            "WARNING:rpy2.rinterface_lib.callbacks:R[write to console]: downloaded 4.8 MB\n",
            "\n",
            "\n",
            "WARNING:rpy2.rinterface_lib.callbacks:R[write to console]: \n",
            "\n",
            "WARNING:rpy2.rinterface_lib.callbacks:R[write to console]: \n",
            "WARNING:rpy2.rinterface_lib.callbacks:R[write to console]: The downloaded source packages are in\n",
            "\t‘/tmp/RtmpAJMwsB/downloaded_packages’\n",
            "WARNING:rpy2.rinterface_lib.callbacks:R[write to console]: \n",
            "WARNING:rpy2.rinterface_lib.callbacks:R[write to console]: \n",
            "\n"
          ]
        },
        {
          "output_type": "stream",
          "name": "stdout",
          "text": [
            "\n",
            "¡Librerías instaladas con éxito!"
          ]
        }
      ],
      "source": [
        "%%R\n",
        "install.packages('igraph', dependencies = TRUE)\n",
        "cat('\\n¡Librerías instaladas con éxito!')"
      ]
    },
    {
      "cell_type": "code",
      "source": [
        "%%R\n",
        "install.packages('graph')"
      ],
      "metadata": {
        "id": "chxXdbi_9WyA",
        "colab": {
          "base_uri": "https://localhost:8080/"
        },
        "outputId": "273c78ff-bf71-44e5-fb90-964d31ec9e6c"
      },
      "execution_count": 5,
      "outputs": [
        {
          "output_type": "stream",
          "name": "stderr",
          "text": [
            "WARNING:rpy2.rinterface_lib.callbacks:R[write to console]: Installing package into ‘/usr/local/lib/R/site-library’\n",
            "(as ‘lib’ is unspecified)\n",
            "\n"
          ]
        }
      ]
    },
    {
      "cell_type": "code",
      "execution_count": 6,
      "metadata": {
        "id": "rTk7zQOMPR9z",
        "colab": {
          "base_uri": "https://localhost:8080/"
        },
        "outputId": "1aed0f27-15ff-4859-9eba-6a11f76016f2"
      },
      "outputs": [
        {
          "output_type": "stream",
          "name": "stderr",
          "text": [
            "WARNING:rpy2.rinterface_lib.callbacks:R[write to console]: \n",
            "Attaching package: ‘igraph’\n",
            "\n",
            "\n",
            "WARNING:rpy2.rinterface_lib.callbacks:R[write to console]: The following objects are masked from ‘package:stats’:\n",
            "\n",
            "    decompose, spectrum\n",
            "\n",
            "\n",
            "WARNING:rpy2.rinterface_lib.callbacks:R[write to console]: The following object is masked from ‘package:base’:\n",
            "\n",
            "    union\n",
            "\n",
            "\n"
          ]
        },
        {
          "output_type": "stream",
          "name": "stdout",
          "text": [
            "\n",
            "¡Librerías importadas con éxito!"
          ]
        }
      ],
      "source": [
        "%%R\n",
        "library(igraph)\n",
        "cat('\\n¡Librerías importadas con éxito!')"
      ]
    },
    {
      "cell_type": "markdown",
      "metadata": {
        "id": "7usuoX7qe4P6"
      },
      "source": [
        "## Datos\n"
      ]
    },
    {
      "cell_type": "markdown",
      "metadata": {
        "id": "kGTwTYmsSCeL"
      },
      "source": [
        "### Red de interacciones proteína-proteína"
      ]
    },
    {
      "cell_type": "markdown",
      "metadata": {
        "id": "qitHefGVeJA_"
      },
      "source": [
        "Cargar la base de datos BIOGRID."
      ]
    },
    {
      "cell_type": "code",
      "execution_count": 7,
      "metadata": {
        "id": "3E1kHii1dQjb"
      },
      "outputs": [],
      "source": [
        "%%R\n",
        "biogrid <- read.delim(\"BIOGRID.txt\",stringsAsFactors = F)"
      ]
    },
    {
      "cell_type": "markdown",
      "metadata": {
        "id": "HaPor3FseIjc"
      },
      "source": [
        "Ver los diferentes componentes de la base de datos."
      ]
    },
    {
      "cell_type": "code",
      "execution_count": 8,
      "metadata": {
        "id": "S_kMiIbldEt7",
        "colab": {
          "base_uri": "https://localhost:8080/"
        },
        "outputId": "80143099-5555-4d3b-cf85-d7f3e725c2a2"
      },
      "outputs": [
        {
          "output_type": "stream",
          "name": "stdout",
          "text": [
            " [1] \"X.BioGRID.Interaction.ID\"     \"Entrez.Gene.Interactor.A\"    \n",
            " [3] \"Entrez.Gene.Interactor.B\"     \"BioGRID.ID.Interactor.A\"     \n",
            " [5] \"BioGRID.ID.Interactor.B\"      \"Systematic.Name.Interactor.A\"\n",
            " [7] \"Systematic.Name.Interactor.B\" \"Official.Symbol.Interactor.A\"\n",
            " [9] \"Official.Symbol.Interactor.B\" \"Synonyms.Interactor.A\"       \n",
            "[11] \"Synonyms.Interactor.B\"        \"Experimental.System\"         \n",
            "[13] \"Experimental.System.Type\"     \"Author\"                      \n",
            "[15] \"Pubmed.ID\"                    \"Organism.Interactor.A\"       \n",
            "[17] \"Organism.Interactor.B\"        \"Throughput\"                  \n",
            "[19] \"Score\"                        \"Modification\"                \n",
            "[21] \"Phenotypes\"                   \"Qualifications\"              \n",
            "[23] \"Tags\"                         \"Source.Database\"             \n"
          ]
        }
      ],
      "source": [
        "%%R\n",
        "names(biogrid)"
      ]
    },
    {
      "cell_type": "markdown",
      "metadata": {
        "id": "LA8VJHbAeU09"
      },
      "source": [
        "Adjuntar la base de datos al workspace y asignar las interacciones entre proteinas a la variable `HSnet`."
      ]
    },
    {
      "cell_type": "code",
      "execution_count": 9,
      "metadata": {
        "id": "Ul8LpzymeGry"
      },
      "outputs": [],
      "source": [
        "%%R\n",
        "attach(biogrid)\n",
        "HSnet <- graph.data.frame(data.frame(Entrez.Gene.Interactor.A,Entrez.Gene.Interactor.B),directed=F)"
      ]
    },
    {
      "cell_type": "markdown",
      "metadata": {
        "id": "D5nUNfgqfPXX"
      },
      "source": [
        "También podemos ver que forma toma dicha red de interacciones:"
      ]
    },
    {
      "cell_type": "code",
      "execution_count": 10,
      "metadata": {
        "id": "9L1_KJxVdQ1X",
        "colab": {
          "base_uri": "https://localhost:8080/"
        },
        "outputId": "9e94dfe6-d065-4b12-e2ca-7be38e1ad611"
      },
      "outputs": [
        {
          "output_type": "stream",
          "name": "stdout",
          "text": [
            "IGRAPH 11b7105 UN-- 20784 272823 -- \n",
            "+ attr: name (v/c)\n",
            "+ edges from 11b7105 (vertex names):\n",
            " [1] 6416 --2318  84665--88    90   --2339  2624 --5371  6118 --6774 \n",
            " [6] 375  --23163 377  --23647 377  --27236 54464--226   351  --10513\n",
            "[11] 333  --1600  10370--7020  2033 --7020  338  --4547  409  --5900 \n",
            "[16] 1436 --2885  7916 --2885  27257--4677  6521 --22950 602  --580  \n",
            "[21] 153  --10755 672  --466   672  --4436  672  --580   672  --2956 \n",
            "[26] 421  --1013  5092 --775   5664 --823   825  --7273  3708 --767  \n",
            "[31] 9223 --1499  5925 --1523  7251 --1026  4998 --4171  5000 --4171 \n",
            "[36] 4174 --4171  8317 --4171  4999 --4171  6118 --4171  10926--4171 \n",
            "+ ... omitted several edges\n"
          ]
        }
      ],
      "source": [
        "%%R\n",
        "graph.data.frame(data.frame(Entrez.Gene.Interactor.A,Entrez.Gene.Interactor.B),directed=F)"
      ]
    },
    {
      "cell_type": "markdown",
      "metadata": {
        "id": "LvJE7ttQRdCL"
      },
      "source": [
        "La siguiente línea le permitirá trazar la red, pero le llevará algo de tiempo. El resultado tendrá mejor calidad si lo ejecuta en un entorno nativo de R (como por ejemplo RStudio)."
      ]
    },
    {
      "cell_type": "code",
      "execution_count": 11,
      "metadata": {
        "id": "C1qZb-wUPyvL",
        "colab": {
          "base_uri": "https://localhost:8080/",
          "height": 0
        },
        "outputId": "bafd9e08-24d0-449d-d903-bc932ae9c004"
      },
      "outputs": [
        {
          "output_type": "display_data",
          "data": {
            "image/png": "[encoded data removed]"
          },
          "metadata": {}
        }
      ],
      "source": [
        "%%R\n",
        "plot(HSnet)"
      ]
    },
    {
      "cell_type": "markdown",
      "metadata": {
        "id": "wg-wj8j4flM_"
      },
      "source": [
        "Ahora podemos obtener la matriz de adyacencia de la red, $A$. Como la matriz es muy extensa, podemos visualizar la primera sección de 15x15 celdas:\n"
      ]
    },
    {
      "cell_type": "code",
      "execution_count": 12,
      "metadata": {
        "id": "e5Ib19fOf8qx",
        "colab": {
          "base_uri": "https://localhost:8080/"
        },
        "outputId": "c19be0cf-567c-4810-db6f-b65e03af7b4f"
      },
      "outputs": [
        {
          "output_type": "stream",
          "name": "stdout",
          "text": [
            "15 x 15 sparse Matrix of class \"dgCMatrix\"\n"
          ]
        },
        {
          "output_type": "stream",
          "name": "stderr",
          "text": [
            "WARNING:rpy2.rinterface_lib.callbacks:R[write to console]:   [[ suppressing 15 column names ‘6416’, ‘84665’, ‘90’ ... ]]\n",
            "\n"
          ]
        },
        {
          "output_type": "stream",
          "name": "stdout",
          "text": [
            "                                    \n",
            "6416  1 . . . . . . . 1 . .  . . 2 .\n",
            "84665 . . . . . . . . . . .  . . . .\n",
            "90    . . 1 . . . . . . . .  . . . .\n",
            "2624  . . . . . . . . . . .  1 . . .\n",
            "6118  . . . . . . . 1 1 . .  . . . .\n",
            "375   . . . . . 1 1 . . . .  . . . .\n",
            "377   . . . . . 1 . . . . .  . . . .\n",
            "54464 . . . . 1 . . . . . .  . . . .\n",
            "351   1 . . . 1 . . . 1 . .  . . . .\n",
            "333   . . . . . . . . . . .  . . . .\n",
            "10370 . . . . . . . . . . .  8 . . .\n",
            "2033  . . . 1 . . . . . . 8 17 . . .\n",
            "338   . . . . . . . . . . .  . 1 . .\n",
            "409   2 . . . . . . . . . .  . . 1 .\n",
            "1436  . . . . . . . . . . .  . . . .\n"
          ]
        }
      ],
      "source": [
        "%%R\n",
        "A <- get.adjacency(HSnet)\n",
        "A[1:15,1:15]"
      ]
    },
    {
      "cell_type": "code",
      "execution_count": 13,
      "metadata": {
        "id": "1VmeAQNsf8vh",
        "colab": {
          "base_uri": "https://localhost:8080/"
        },
        "outputId": "930d3f25-8540-4c16-968f-22d4af244235"
      },
      "outputs": [
        {
          "output_type": "stream",
          "name": "stdout",
          "text": [
            "[1] FALSE\n"
          ]
        }
      ],
      "source": [
        "%%R\n",
        "#lo siguiente es FALSE si el grafo no es simple.\n",
        "is.simple(HSnet)"
      ]
    },
    {
      "cell_type": "markdown",
      "metadata": {
        "id": "ylKot81ko_f1"
      },
      "source": [
        "Observamos que existen aristas múltiples en la red, así que vamos a transformarla en una red simple:"
      ]
    },
    {
      "cell_type": "code",
      "execution_count": 14,
      "metadata": {
        "id": "v6TQLA03f8x4",
        "colab": {
          "base_uri": "https://localhost:8080/"
        },
        "outputId": "0b8964cb-d954-4888-b869-94687175aca6"
      },
      "outputs": [
        {
          "output_type": "stream",
          "name": "stdout",
          "text": [
            "[1] TRUE\n"
          ]
        }
      ],
      "source": [
        "%%R\n",
        "#eliminar aristas múltiples y autobucles\n",
        "HSnet <- simplify(HSnet, remove.multiple = TRUE, remove.loops = TRUE, edge.attr.comb = getIgraphOpt(\"edge.attr.comb\"))\n",
        "\n",
        "is.simple(HSnet)"
      ]
    },
    {
      "cell_type": "markdown",
      "metadata": {
        "id": "RoaXnjYupPF-"
      },
      "source": [
        "Observamos que ya sólo hay aristas únicas:"
      ]
    },
    {
      "cell_type": "code",
      "execution_count": 15,
      "metadata": {
        "id": "s6aIRyoBf80B",
        "colab": {
          "base_uri": "https://localhost:8080/"
        },
        "outputId": "8af2a6bc-a7aa-40ca-ade4-3a7732fc929c"
      },
      "outputs": [
        {
          "output_type": "stream",
          "name": "stdout",
          "text": [
            "15 x 15 sparse Matrix of class \"dgCMatrix\"\n"
          ]
        },
        {
          "output_type": "stream",
          "name": "stderr",
          "text": [
            "WARNING:rpy2.rinterface_lib.callbacks:R[write to console]:   [[ suppressing 15 column names ‘6416’, ‘84665’, ‘90’ ... ]]\n",
            "\n"
          ]
        },
        {
          "output_type": "stream",
          "name": "stdout",
          "text": [
            "                                   \n",
            "6416  . . . . . . . . 1 . . . . 1 .\n",
            "84665 . . . . . . . . . . . . . . .\n",
            "90    . . . . . . . . . . . . . . .\n",
            "2624  . . . . . . . . . . . 1 . . .\n",
            "6118  . . . . . . . 1 1 . . . . . .\n",
            "375   . . . . . . 1 . . . . . . . .\n",
            "377   . . . . . 1 . . . . . . . . .\n",
            "54464 . . . . 1 . . . . . . . . . .\n",
            "351   1 . . . 1 . . . . . . . . . .\n",
            "333   . . . . . . . . . . . . . . .\n",
            "10370 . . . . . . . . . . . 1 . . .\n",
            "2033  . . . 1 . . . . . . 1 . . . .\n",
            "338   . . . . . . . . . . . . . . .\n",
            "409   1 . . . . . . . . . . . . . .\n",
            "1436  . . . . . . . . . . . . . . .\n"
          ]
        }
      ],
      "source": [
        "%%R\n",
        "A <- get.adjacency(HSnet)\n",
        "A[1:15,1:15]"
      ]
    },
    {
      "cell_type": "code",
      "execution_count": 16,
      "metadata": {
        "id": "aXku8dBNuCQR",
        "colab": {
          "base_uri": "https://localhost:8080/",
          "height": 0
        },
        "outputId": "5cbd5843-9f90-4288-e394-02c66ee279d0"
      },
      "outputs": [
        {
          "output_type": "display_data",
          "data": {
            "image/png": "[encoded data removed]"
          },
          "metadata": {}
        }
      ],
      "source": [
        "%%R\n",
        "plot(HSnet)"
      ]
    },
    {
      "cell_type": "markdown",
      "metadata": {
        "id": "nIpuWKwORwOU"
      },
      "source": [
        "Para esta aplicación, se eliminan los nodos de grado elevado; normalmente estos nodos representan genes constitutivos que se necesitan para mantener una célula con vida, pero no suelen ser específicos de una enfermedad concreta."
      ]
    },
    {
      "cell_type": "code",
      "execution_count": 17,
      "metadata": {
        "id": "Dfs6wTn_twBt",
        "colab": {
          "base_uri": "https://localhost:8080/"
        },
        "outputId": "480f9988-de40-4e4f-d3e9-14ba8e260123"
      },
      "outputs": [
        {
          "output_type": "stream",
          "name": "stdout",
          "text": [
            "  351  7341  7316 10482  8452  6613  4738  1994 \n",
            "    9    80   963  1451  2825  3383  3514  7402 \n"
          ]
        }
      ],
      "source": [
        "%%R\n",
        "overly.attached.proteins <- which(degree(HSnet)>1000)\n",
        "overly.attached.proteins"
      ]
    },
    {
      "cell_type": "code",
      "execution_count": 18,
      "metadata": {
        "id": "OXdN-v05Py0g",
        "colab": {
          "base_uri": "https://localhost:8080/"
        },
        "outputId": "3900ad8b-c255-4881-8b2a-b720d988ed92"
      },
      "outputs": [
        {
          "output_type": "stream",
          "name": "stdout",
          "text": [
            "[1] FALSE\n"
          ]
        }
      ],
      "source": [
        "%%R\n",
        "HSnet <- delete.vertices(HSnet, overly.attached.proteins)\n",
        "\n",
        "#lo siguiente es TRUE si el grafo está conectado.\n",
        "is.connected(HSnet)"
      ]
    },
    {
      "cell_type": "markdown",
      "metadata": {
        "id": "7ElUMOTCSEpG"
      },
      "source": [
        "### Genes que causan autismo"
      ]
    },
    {
      "cell_type": "markdown",
      "metadata": {
        "id": "Y46BuX6cpwVT"
      },
      "source": [
        "En primer lugar procedemos a leer la tabla `gene-id`:"
      ]
    },
    {
      "cell_type": "code",
      "execution_count": 19,
      "metadata": {
        "id": "iLi1Y31MPy2y",
        "colab": {
          "base_uri": "https://localhost:8080/"
        },
        "outputId": "0fe7df37-fc42-4725-e3c4-942b18565202"
      },
      "outputs": [
        {
          "output_type": "stream",
          "name": "stdout",
          "text": [
            "[1] \"Symbol\" \"ID\"    \n"
          ]
        }
      ],
      "source": [
        "%%R\n",
        "gene.table <- read.delim(\"gene-id-table.txt\")\n",
        "names(gene.table)"
      ]
    },
    {
      "cell_type": "markdown",
      "metadata": {
        "id": "bh123DvqqH3J"
      },
      "source": [
        "En segundo lugar, también hemos de leer la tabla de puntuaciones para los genes relacionados con el autismo (`gene-scores`):"
      ]
    },
    {
      "cell_type": "code",
      "execution_count": 20,
      "metadata": {
        "id": "weVRzrigp22z",
        "colab": {
          "base_uri": "https://localhost:8080/"
        },
        "outputId": "65b6eaa8-1d48-4cb5-d106-da63619995b5"
      },
      "outputs": [
        {
          "output_type": "stream",
          "name": "stderr",
          "text": [
            "WARNING:rpy2.rinterface_lib.callbacks:R[write to console]: The following object is masked from biogrid:\n",
            "\n",
            "    Score\n",
            "\n",
            "\n"
          ]
        },
        {
          "output_type": "stream",
          "name": "stdout",
          "text": [
            "[1] \"Gene.Symbol\"   \"Gene.Name\"     \"Score.Details\" \"Score\"        \n",
            "[5] \"Evidence\"      \"References\"    \"Scored.By\"    \n"
          ]
        }
      ],
      "source": [
        "%%R\n",
        "gene.score<-read.csv(\"gene-score.csv\",stringsAsFactors=F)\n",
        "attach(gene.score)\n",
        "names(gene.score)"
      ]
    },
    {
      "cell_type": "code",
      "execution_count": 21,
      "metadata": {
        "id": "gusxVGTkqVY0",
        "colab": {
          "base_uri": "https://localhost:8080/"
        },
        "outputId": "8d64492d-f8fb-43ec-9a2b-3a93f87a86c1"
      },
      "outputs": [
        {
          "output_type": "stream",
          "name": "stdout",
          "text": [
            " [1] \"4\"  \"3\"  \"1S\" \"S\"  \"6\"  \"5\"  \"1\"  \"2S\" \"2\"  \"3S\" \"4S\"\n"
          ]
        }
      ],
      "source": [
        "%%R\n",
        "#mostrando las puntuaciones\n",
        "unique(Score)"
      ]
    },
    {
      "cell_type": "markdown",
      "metadata": {
        "id": "IHQVhqAesiuX"
      },
      "source": [
        "Ahora podemos identificar aquellos genes con puntuaciones significativas:"
      ]
    },
    {
      "cell_type": "code",
      "execution_count": 22,
      "metadata": {
        "id": "FKq0lsxSp25W"
      },
      "outputs": [],
      "source": [
        "%%R\n",
        "signif.scores <- c(\"1S\",\"1\",\"2S\",\"2\",\"3S\",\"3\")\n",
        "signif.genes <- Gene.Symbol[which(Score %in% signif.scores)]\n",
        "signif.EIDs <- gene.table[which(gene.table[,1] %in% signif.genes),2]"
      ]
    },
    {
      "cell_type": "markdown",
      "metadata": {
        "id": "1xefcDqysqW_"
      },
      "source": [
        "Finalmente, podemos usar la red de interacciones `HSnet` que hemos creado anteriormente, para determinar los genes que están presentes en la red, y que se sabe que causan autismo:"
      ]
    },
    {
      "cell_type": "code",
      "execution_count": 23,
      "metadata": {
        "id": "UA5Dd7t1p27J",
        "colab": {
          "base_uri": "https://localhost:8080/"
        },
        "outputId": "daf8e9dc-6503-4031-8de8-a04578f654c7"
      },
      "outputs": [
        {
          "output_type": "stream",
          "name": "stdout",
          "text": [
            "[1] 100\n"
          ]
        }
      ],
      "source": [
        "%%R\n",
        "geneEIDs <- as.numeric(V(HSnet)$name)\n",
        "HSnetN <- HSnet\n",
        "V(HSnetN)$name <- 1:length(V(HSnet))\n",
        "signif.ids <- which(geneEIDs %in% signif.EIDs)\n",
        "length(signif.ids)"
      ]
    },
    {
      "cell_type": "markdown",
      "metadata": {
        "id": "80ZDLw6ISKSq"
      },
      "source": [
        "## Desarrollar un interactoma del autismo"
      ]
    },
    {
      "cell_type": "markdown",
      "metadata": {
        "id": "gEX-zOyF1phL"
      },
      "source": [
        "Importamos el script para calcular el `steiner_tree.R`, es decir, la subred de menor longitud que conecta cierto conjunto de nodos."
      ]
    },
    {
      "cell_type": "code",
      "execution_count": 24,
      "metadata": {
        "id": "uPywKZ-6Py5l"
      },
      "outputs": [],
      "source": [
        "%%R\n",
        "source('steiner_tree.R')"
      ]
    },
    {
      "cell_type": "markdown",
      "metadata": {
        "id": "6kExVI4R1yO2"
      },
      "source": [
        "Identificar el *Steiner Tree* y cronometrar el tiempo que se tarda en ejecutar dicha función."
      ]
    },
    {
      "cell_type": "code",
      "execution_count": 25,
      "metadata": {
        "id": "2sBIrLXwdNnz",
        "colab": {
          "base_uri": "https://localhost:8080/"
        },
        "outputId": "a3c1788b-6164-4e56-8c16-f6d39ed472a9"
      },
      "outputs": [
        {
          "output_type": "stream",
          "name": "stdout",
          "text": [
            "   user  system elapsed \n",
            " 21.047   0.021  21.144 \n"
          ]
        }
      ],
      "source": [
        "%%R\n",
        "system.time(HS.stree <- steiner_tree(terminals=signif.ids, graph=HSnetN))"
      ]
    },
    {
      "cell_type": "markdown",
      "metadata": {
        "id": "4xiiYS771y7s"
      },
      "source": [
        "Mostrar el solapamiento entre significancia de autismo y vértices en el *Steiner Tree*"
      ]
    },
    {
      "cell_type": "code",
      "execution_count": 26,
      "metadata": {
        "id": "-lv4KU0R1KDs"
      },
      "outputs": [],
      "source": [
        "%%R\n",
        "length(intersect(signif.ids,V(HS.stree)$name))\n",
        "labels<-gene.table[as.numeric(V(HS.stree)$name),1]\n",
        "labels<-as.character(labels)"
      ]
    },
    {
      "cell_type": "markdown",
      "metadata": {
        "id": "8wRg6R3x1qAO"
      },
      "source": [
        "Identificar los genes que tienen puntuaciones significativas y asignarles el color rojo"
      ]
    },
    {
      "cell_type": "code",
      "execution_count": 27,
      "metadata": {
        "id": "7UX46us61KGH"
      },
      "outputs": [],
      "source": [
        "%%R\n",
        "colors<-rep(\"skyblue\",length(V(HS.stree)))\n",
        "colors[which(as.numeric(V(HS.stree)$name) %in% signif.ids)] = \"red\"\n",
        "#Asignar colores a los vértices del árbol\n",
        "V(HS.stree)$color = colors"
      ]
    },
    {
      "cell_type": "markdown",
      "metadata": {
        "id": "ks7CVnuq1qFR"
      },
      "source": [
        "Exportar el nuevo gráfico a un archivo `.pdf`. Puede acceder al mismo en la barra lateral."
      ]
    },
    {
      "cell_type": "code",
      "execution_count": 28,
      "metadata": {
        "id": "_ng4Klbj1KK3",
        "colab": {
          "base_uri": "https://localhost:8080/"
        },
        "outputId": "6c5f2446-0a5e-4647-ca2f-2ea2f0888c2f"
      },
      "outputs": [
        {
          "output_type": "stream",
          "name": "stdout",
          "text": [
            "png \n",
            "  2 \n"
          ]
        }
      ],
      "source": [
        "%%R\n",
        "pdf(\"ASD_interactome.pdf\",width=12, height=12)\n",
        "system.time(plot(HS.stree,vertex.label=labels,vertex.size=5,vertex.label.cex=0.8))\n",
        "dev.off()"
      ]
    },
    {
      "cell_type": "markdown",
      "metadata": {
        "id": "pdI-HzlSdVRV"
      },
      "source": [
        "## Análisis y propiedades del interactoma del autismo"
      ]
    },
    {
      "cell_type": "markdown",
      "metadata": {
        "id": "cUkWE7te7Pv4"
      },
      "source": [
        "Para anlizar las propiedades del interactoma del autismoy compararlas con interactomas generados aleatoriamente, usaremos la librería `sna`:"
      ]
    },
    {
      "cell_type": "code",
      "execution_count": 29,
      "metadata": {
        "id": "6exzzd9odNp_",
        "colab": {
          "base_uri": "https://localhost:8080/"
        },
        "outputId": "000b1445-645a-4eca-c288-4497c4adfd5c"
      },
      "outputs": [
        {
          "output_type": "stream",
          "name": "stderr",
          "text": [
            "WARNING:rpy2.rinterface_lib.callbacks:R[write to console]: Installing package into ‘/usr/local/lib/R/site-library’\n",
            "(as ‘lib’ is unspecified)\n",
            "\n",
            "WARNING:rpy2.rinterface_lib.callbacks:R[write to console]: also installing the dependencies ‘coda’, ‘statnet.common’, ‘network’\n",
            "\n",
            "\n",
            "WARNING:rpy2.rinterface_lib.callbacks:R[write to console]: trying URL 'https://cran.rstudio.com/src/contrib/coda_0.19-4.1.tar.gz'\n",
            "\n",
            "WARNING:rpy2.rinterface_lib.callbacks:R[write to console]: Content type 'application/x-gzip'\n",
            "WARNING:rpy2.rinterface_lib.callbacks:R[write to console]:  length 74301 bytes (72 KB)\n",
            "\n",
            "WARNING:rpy2.rinterface_lib.callbacks:R[write to console]: =\n",
            "WARNING:rpy2.rinterface_lib.callbacks:R[write to console]: =\n",
            "WARNING:rpy2.rinterface_lib.callbacks:R[write to console]: =\n",
            "WARNING:rpy2.rinterface_lib.callbacks:R[write to console]: =\n",
            "WARNING:rpy2.rinterface_lib.callbacks:R[write to console]: =\n",
            "WARNING:rpy2.rinterface_lib.callbacks:R[write to console]: =\n",
            "WARNING:rpy2.rinterface_lib.callbacks:R[write to console]: =\n",
            "WARNING:rpy2.rinterface_lib.callbacks:R[write to console]: =\n",
            "WARNING:rpy2.rinterface_lib.callbacks:R[write to console]: =\n",
            "WARNING:rpy2.rinterface_lib.callbacks:R[write to console]: =\n",
            "WARNING:rpy2.rinterface_lib.callbacks:R[write to console]: =\n",
            "WARNING:rpy2.rinterface_lib.callbacks:R[write to console]: =\n",
            "WARNING:rpy2.rinterface_lib.callbacks:R[write to console]: =\n",
            "WARNING:rpy2.rinterface_lib.callbacks:R[write to console]: =\n",
            "WARNING:rpy2.rinterface_lib.callbacks:R[write to console]: =\n",
            "WARNING:rpy2.rinterface_lib.callbacks:R[write to console]: =\n",
            "WARNING:rpy2.rinterface_lib.callbacks:R[write to console]: =\n",
            "WARNING:rpy2.rinterface_lib.callbacks:R[write to console]: =\n",
            "WARNING:rpy2.rinterface_lib.callbacks:R[write to console]: =\n",
            "WARNING:rpy2.rinterface_lib.callbacks:R[write to console]: =\n",
            "WARNING:rpy2.rinterface_lib.callbacks:R[write to console]: =\n",
            "WARNING:rpy2.rinterface_lib.callbacks:R[write to console]: =\n",
            "WARNING:rpy2.rinterface_lib.callbacks:R[write to console]: =\n",
            "WARNING:rpy2.rinterface_lib.callbacks:R[write to console]: =\n",
            "WARNING:rpy2.rinterface_lib.callbacks:R[write to console]: =\n",
            "WARNING:rpy2.rinterface_lib.callbacks:R[write to console]: =\n",
            "WARNING:rpy2.rinterface_lib.callbacks:R[write to console]: =\n",
            "WARNING:rpy2.rinterface_lib.callbacks:R[write to console]: =\n",
            "WARNING:rpy2.rinterface_lib.callbacks:R[write to console]: =\n",
            "WARNING:rpy2.rinterface_lib.callbacks:R[write to console]: =\n",
            "WARNING:rpy2.rinterface_lib.callbacks:R[write to console]: =\n",
            "WARNING:rpy2.rinterface_lib.callbacks:R[write to console]: =\n",
            "WARNING:rpy2.rinterface_lib.callbacks:R[write to console]: =\n",
            "WARNING:rpy2.rinterface_lib.callbacks:R[write to console]: =\n",
            "WARNING:rpy2.rinterface_lib.callbacks:R[write to console]: =\n",
            "WARNING:rpy2.rinterface_lib.callbacks:R[write to console]: =\n",
            "WARNING:rpy2.rinterface_lib.callbacks:R[write to console]: =\n",
            "WARNING:rpy2.rinterface_lib.callbacks:R[write to console]: =\n",
            "WARNING:rpy2.rinterface_lib.callbacks:R[write to console]: =\n",
            "WARNING:rpy2.rinterface_lib.callbacks:R[write to console]: =\n",
            "WARNING:rpy2.rinterface_lib.callbacks:R[write to console]: =\n",
            "WARNING:rpy2.rinterface_lib.callbacks:R[write to console]: =\n",
            "WARNING:rpy2.rinterface_lib.callbacks:R[write to console]: =\n",
            "WARNING:rpy2.rinterface_lib.callbacks:R[write to console]: =\n",
            "WARNING:rpy2.rinterface_lib.callbacks:R[write to console]: =\n",
            "WARNING:rpy2.rinterface_lib.callbacks:R[write to console]: =\n",
            "WARNING:rpy2.rinterface_lib.callbacks:R[write to console]: =\n",
            "WARNING:rpy2.rinterface_lib.callbacks:R[write to console]: =\n",
            "WARNING:rpy2.rinterface_lib.callbacks:R[write to console]: =\n",
            "WARNING:rpy2.rinterface_lib.callbacks:R[write to console]: =\n",
            "WARNING:rpy2.rinterface_lib.callbacks:R[write to console]: \n",
            "\n",
            "WARNING:rpy2.rinterface_lib.callbacks:R[write to console]: downloaded 72 KB\n",
            "\n",
            "\n",
            "WARNING:rpy2.rinterface_lib.callbacks:R[write to console]: trying URL 'https://cran.rstudio.com/src/contrib/statnet.common_4.10.0.tar.gz'\n",
            "\n",
            "WARNING:rpy2.rinterface_lib.callbacks:R[write to console]: Content type 'application/x-gzip'\n",
            "WARNING:rpy2.rinterface_lib.callbacks:R[write to console]:  length 76529 bytes (74 KB)\n",
            "\n",
            "WARNING:rpy2.rinterface_lib.callbacks:R[write to console]: =\n",
            "WARNING:rpy2.rinterface_lib.callbacks:R[write to console]: =\n",
            "WARNING:rpy2.rinterface_lib.callbacks:R[write to console]: =\n",
            "WARNING:rpy2.rinterface_lib.callbacks:R[write to console]: =\n",
            "WARNING:rpy2.rinterface_lib.callbacks:R[write to console]: =\n",
            "WARNING:rpy2.rinterface_lib.callbacks:R[write to console]: =\n",
            "WARNING:rpy2.rinterface_lib.callbacks:R[write to console]: =\n",
            "WARNING:rpy2.rinterface_lib.callbacks:R[write to console]: =\n",
            "WARNING:rpy2.rinterface_lib.callbacks:R[write to console]: =\n",
            "WARNING:rpy2.rinterface_lib.callbacks:R[write to console]: =\n",
            "WARNING:rpy2.rinterface_lib.callbacks:R[write to console]: =\n",
            "WARNING:rpy2.rinterface_lib.callbacks:R[write to console]: =\n",
            "WARNING:rpy2.rinterface_lib.callbacks:R[write to console]: =\n",
            "WARNING:rpy2.rinterface_lib.callbacks:R[write to console]: =\n",
            "WARNING:rpy2.rinterface_lib.callbacks:R[write to console]: =\n",
            "WARNING:rpy2.rinterface_lib.callbacks:R[write to console]: =\n",
            "WARNING:rpy2.rinterface_lib.callbacks:R[write to console]: =\n",
            "WARNING:rpy2.rinterface_lib.callbacks:R[write to console]: =\n",
            "WARNING:rpy2.rinterface_lib.callbacks:R[write to console]: =\n",
            "WARNING:rpy2.rinterface_lib.callbacks:R[write to console]: =\n",
            "WARNING:rpy2.rinterface_lib.callbacks:R[write to console]: =\n",
            "WARNING:rpy2.rinterface_lib.callbacks:R[write to console]: =\n",
            "WARNING:rpy2.rinterface_lib.callbacks:R[write to console]: =\n",
            "WARNING:rpy2.rinterface_lib.callbacks:R[write to console]: =\n",
            "WARNING:rpy2.rinterface_lib.callbacks:R[write to console]: =\n",
            "WARNING:rpy2.rinterface_lib.callbacks:R[write to console]: =\n",
            "WARNING:rpy2.rinterface_lib.callbacks:R[write to console]: =\n",
            "WARNING:rpy2.rinterface_lib.callbacks:R[write to console]: =\n",
            "WARNING:rpy2.rinterface_lib.callbacks:R[write to console]: =\n",
            "WARNING:rpy2.rinterface_lib.callbacks:R[write to console]: =\n",
            "WARNING:rpy2.rinterface_lib.callbacks:R[write to console]: =\n",
            "WARNING:rpy2.rinterface_lib.callbacks:R[write to console]: =\n",
            "WARNING:rpy2.rinterface_lib.callbacks:R[write to console]: =\n",
            "WARNING:rpy2.rinterface_lib.callbacks:R[write to console]: =\n",
            "WARNING:rpy2.rinterface_lib.callbacks:R[write to console]: =\n",
            "WARNING:rpy2.rinterface_lib.callbacks:R[write to console]: =\n",
            "WARNING:rpy2.rinterface_lib.callbacks:R[write to console]: =\n",
            "WARNING:rpy2.rinterface_lib.callbacks:R[write to console]: =\n",
            "WARNING:rpy2.rinterface_lib.callbacks:R[write to console]: =\n",
            "WARNING:rpy2.rinterface_lib.callbacks:R[write to console]: =\n",
            "WARNING:rpy2.rinterface_lib.callbacks:R[write to console]: =\n",
            "WARNING:rpy2.rinterface_lib.callbacks:R[write to console]: =\n",
            "WARNING:rpy2.rinterface_lib.callbacks:R[write to console]: =\n",
            "WARNING:rpy2.rinterface_lib.callbacks:R[write to console]: =\n",
            "WARNING:rpy2.rinterface_lib.callbacks:R[write to console]: =\n",
            "WARNING:rpy2.rinterface_lib.callbacks:R[write to console]: =\n",
            "WARNING:rpy2.rinterface_lib.callbacks:R[write to console]: =\n",
            "WARNING:rpy2.rinterface_lib.callbacks:R[write to console]: =\n",
            "WARNING:rpy2.rinterface_lib.callbacks:R[write to console]: =\n",
            "WARNING:rpy2.rinterface_lib.callbacks:R[write to console]: =\n",
            "WARNING:rpy2.rinterface_lib.callbacks:R[write to console]: \n",
            "\n",
            "WARNING:rpy2.rinterface_lib.callbacks:R[write to console]: downloaded 74 KB\n",
            "\n",
            "\n",
            "WARNING:rpy2.rinterface_lib.callbacks:R[write to console]: trying URL 'https://cran.rstudio.com/src/contrib/network_1.18.2.tar.gz'\n",
            "\n",
            "WARNING:rpy2.rinterface_lib.callbacks:R[write to console]: Content type 'application/x-gzip'\n",
            "WARNING:rpy2.rinterface_lib.callbacks:R[write to console]:  length 506061 bytes (494 KB)\n",
            "\n",
            "WARNING:rpy2.rinterface_lib.callbacks:R[write to console]: =\n",
            "WARNING:rpy2.rinterface_lib.callbacks:R[write to console]: =\n",
            "WARNING:rpy2.rinterface_lib.callbacks:R[write to console]: =\n",
            "WARNING:rpy2.rinterface_lib.callbacks:R[write to console]: =\n",
            "WARNING:rpy2.rinterface_lib.callbacks:R[write to console]: =\n",
            "WARNING:rpy2.rinterface_lib.callbacks:R[write to console]: =\n",
            "WARNING:rpy2.rinterface_lib.callbacks:R[write to console]: =\n",
            "WARNING:rpy2.rinterface_lib.callbacks:R[write to console]: =\n",
            "WARNING:rpy2.rinterface_lib.callbacks:R[write to console]: =\n",
            "WARNING:rpy2.rinterface_lib.callbacks:R[write to console]: =\n",
            "WARNING:rpy2.rinterface_lib.callbacks:R[write to console]: =\n",
            "WARNING:rpy2.rinterface_lib.callbacks:R[write to console]: =\n",
            "WARNING:rpy2.rinterface_lib.callbacks:R[write to console]: =\n",
            "WARNING:rpy2.rinterface_lib.callbacks:R[write to console]: =\n",
            "WARNING:rpy2.rinterface_lib.callbacks:R[write to console]: =\n",
            "WARNING:rpy2.rinterface_lib.callbacks:R[write to console]: =\n",
            "WARNING:rpy2.rinterface_lib.callbacks:R[write to console]: =\n",
            "WARNING:rpy2.rinterface_lib.callbacks:R[write to console]: =\n",
            "WARNING:rpy2.rinterface_lib.callbacks:R[write to console]: =\n",
            "WARNING:rpy2.rinterface_lib.callbacks:R[write to console]: =\n",
            "WARNING:rpy2.rinterface_lib.callbacks:R[write to console]: =\n",
            "WARNING:rpy2.rinterface_lib.callbacks:R[write to console]: =\n",
            "WARNING:rpy2.rinterface_lib.callbacks:R[write to console]: =\n",
            "WARNING:rpy2.rinterface_lib.callbacks:R[write to console]: =\n",
            "WARNING:rpy2.rinterface_lib.callbacks:R[write to console]: =\n",
            "WARNING:rpy2.rinterface_lib.callbacks:R[write to console]: =\n",
            "WARNING:rpy2.rinterface_lib.callbacks:R[write to console]: =\n",
            "WARNING:rpy2.rinterface_lib.callbacks:R[write to console]: =\n",
            "WARNING:rpy2.rinterface_lib.callbacks:R[write to console]: =\n",
            "WARNING:rpy2.rinterface_lib.callbacks:R[write to console]: =\n",
            "WARNING:rpy2.rinterface_lib.callbacks:R[write to console]: =\n",
            "WARNING:rpy2.rinterface_lib.callbacks:R[write to console]: =\n",
            "WARNING:rpy2.rinterface_lib.callbacks:R[write to console]: =\n",
            "WARNING:rpy2.rinterface_lib.callbacks:R[write to console]: =\n",
            "WARNING:rpy2.rinterface_lib.callbacks:R[write to console]: =\n",
            "WARNING:rpy2.rinterface_lib.callbacks:R[write to console]: =\n",
            "WARNING:rpy2.rinterface_lib.callbacks:R[write to console]: =\n",
            "WARNING:rpy2.rinterface_lib.callbacks:R[write to console]: =\n",
            "WARNING:rpy2.rinterface_lib.callbacks:R[write to console]: =\n",
            "WARNING:rpy2.rinterface_lib.callbacks:R[write to console]: =\n",
            "WARNING:rpy2.rinterface_lib.callbacks:R[write to console]: =\n",
            "WARNING:rpy2.rinterface_lib.callbacks:R[write to console]: =\n",
            "WARNING:rpy2.rinterface_lib.callbacks:R[write to console]: =\n",
            "WARNING:rpy2.rinterface_lib.callbacks:R[write to console]: =\n",
            "WARNING:rpy2.rinterface_lib.callbacks:R[write to console]: =\n",
            "WARNING:rpy2.rinterface_lib.callbacks:R[write to console]: =\n",
            "WARNING:rpy2.rinterface_lib.callbacks:R[write to console]: =\n",
            "WARNING:rpy2.rinterface_lib.callbacks:R[write to console]: =\n",
            "WARNING:rpy2.rinterface_lib.callbacks:R[write to console]: =\n",
            "WARNING:rpy2.rinterface_lib.callbacks:R[write to console]: =\n",
            "WARNING:rpy2.rinterface_lib.callbacks:R[write to console]: \n",
            "\n",
            "WARNING:rpy2.rinterface_lib.callbacks:R[write to console]: downloaded 494 KB\n",
            "\n",
            "\n",
            "WARNING:rpy2.rinterface_lib.callbacks:R[write to console]: trying URL 'https://cran.rstudio.com/src/contrib/sna_2.8.tar.gz'\n",
            "\n",
            "WARNING:rpy2.rinterface_lib.callbacks:R[write to console]: Content type 'application/x-gzip'\n",
            "WARNING:rpy2.rinterface_lib.callbacks:R[write to console]:  length 305540 bytes (298 KB)\n",
            "\n",
            "WARNING:rpy2.rinterface_lib.callbacks:R[write to console]: =\n",
            "WARNING:rpy2.rinterface_lib.callbacks:R[write to console]: =\n",
            "WARNING:rpy2.rinterface_lib.callbacks:R[write to console]: =\n",
            "WARNING:rpy2.rinterface_lib.callbacks:R[write to console]: =\n",
            "WARNING:rpy2.rinterface_lib.callbacks:R[write to console]: =\n",
            "WARNING:rpy2.rinterface_lib.callbacks:R[write to console]: =\n",
            "WARNING:rpy2.rinterface_lib.callbacks:R[write to console]: =\n",
            "WARNING:rpy2.rinterface_lib.callbacks:R[write to console]: =\n",
            "WARNING:rpy2.rinterface_lib.callbacks:R[write to console]: =\n",
            "WARNING:rpy2.rinterface_lib.callbacks:R[write to console]: =\n",
            "WARNING:rpy2.rinterface_lib.callbacks:R[write to console]: =\n",
            "WARNING:rpy2.rinterface_lib.callbacks:R[write to console]: =\n",
            "WARNING:rpy2.rinterface_lib.callbacks:R[write to console]: =\n",
            "WARNING:rpy2.rinterface_lib.callbacks:R[write to console]: =\n",
            "WARNING:rpy2.rinterface_lib.callbacks:R[write to console]: =\n",
            "WARNING:rpy2.rinterface_lib.callbacks:R[write to console]: =\n",
            "WARNING:rpy2.rinterface_lib.callbacks:R[write to console]: =\n",
            "WARNING:rpy2.rinterface_lib.callbacks:R[write to console]: =\n",
            "WARNING:rpy2.rinterface_lib.callbacks:R[write to console]: =\n",
            "WARNING:rpy2.rinterface_lib.callbacks:R[write to console]: =\n",
            "WARNING:rpy2.rinterface_lib.callbacks:R[write to console]: =\n",
            "WARNING:rpy2.rinterface_lib.callbacks:R[write to console]: =\n",
            "WARNING:rpy2.rinterface_lib.callbacks:R[write to console]: =\n",
            "WARNING:rpy2.rinterface_lib.callbacks:R[write to console]: =\n",
            "WARNING:rpy2.rinterface_lib.callbacks:R[write to console]: =\n",
            "WARNING:rpy2.rinterface_lib.callbacks:R[write to console]: =\n",
            "WARNING:rpy2.rinterface_lib.callbacks:R[write to console]: =\n",
            "WARNING:rpy2.rinterface_lib.callbacks:R[write to console]: =\n",
            "WARNING:rpy2.rinterface_lib.callbacks:R[write to console]: =\n",
            "WARNING:rpy2.rinterface_lib.callbacks:R[write to console]: =\n",
            "WARNING:rpy2.rinterface_lib.callbacks:R[write to console]: =\n",
            "WARNING:rpy2.rinterface_lib.callbacks:R[write to console]: =\n",
            "WARNING:rpy2.rinterface_lib.callbacks:R[write to console]: =\n",
            "WARNING:rpy2.rinterface_lib.callbacks:R[write to console]: =\n",
            "WARNING:rpy2.rinterface_lib.callbacks:R[write to console]: =\n",
            "WARNING:rpy2.rinterface_lib.callbacks:R[write to console]: =\n",
            "WARNING:rpy2.rinterface_lib.callbacks:R[write to console]: =\n",
            "WARNING:rpy2.rinterface_lib.callbacks:R[write to console]: =\n",
            "WARNING:rpy2.rinterface_lib.callbacks:R[write to console]: =\n",
            "WARNING:rpy2.rinterface_lib.callbacks:R[write to console]: =\n",
            "WARNING:rpy2.rinterface_lib.callbacks:R[write to console]: =\n",
            "WARNING:rpy2.rinterface_lib.callbacks:R[write to console]: =\n",
            "WARNING:rpy2.rinterface_lib.callbacks:R[write to console]: =\n",
            "WARNING:rpy2.rinterface_lib.callbacks:R[write to console]: =\n",
            "WARNING:rpy2.rinterface_lib.callbacks:R[write to console]: =\n",
            "WARNING:rpy2.rinterface_lib.callbacks:R[write to console]: =\n",
            "WARNING:rpy2.rinterface_lib.callbacks:R[write to console]: =\n",
            "WARNING:rpy2.rinterface_lib.callbacks:R[write to console]: =\n",
            "WARNING:rpy2.rinterface_lib.callbacks:R[write to console]: =\n",
            "WARNING:rpy2.rinterface_lib.callbacks:R[write to console]: =\n",
            "WARNING:rpy2.rinterface_lib.callbacks:R[write to console]: \n",
            "\n",
            "WARNING:rpy2.rinterface_lib.callbacks:R[write to console]: downloaded 298 KB\n",
            "\n",
            "\n",
            "WARNING:rpy2.rinterface_lib.callbacks:R[write to console]: \n",
            "\n",
            "WARNING:rpy2.rinterface_lib.callbacks:R[write to console]: \n",
            "WARNING:rpy2.rinterface_lib.callbacks:R[write to console]: The downloaded source packages are in\n",
            "\t‘/tmp/RtmpAJMwsB/downloaded_packages’\n",
            "WARNING:rpy2.rinterface_lib.callbacks:R[write to console]: \n",
            "WARNING:rpy2.rinterface_lib.callbacks:R[write to console]: \n",
            "\n",
            "WARNING:rpy2.rinterface_lib.callbacks:R[write to console]: \n",
            "Attaching package: ‘statnet.common’\n",
            "\n",
            "\n",
            "WARNING:rpy2.rinterface_lib.callbacks:R[write to console]: The following objects are masked from ‘package:base’:\n",
            "\n",
            "    attr, order\n",
            "\n",
            "\n",
            "WARNING:rpy2.rinterface_lib.callbacks:R[write to console]: \n",
            "‘network’ 1.18.2 (2023-12-04), part of the Statnet Project\n",
            "* ‘news(package=\"network\")’ for changes since last version\n",
            "* ‘citation(\"network\")’ for citation information\n",
            "* ‘https://statnet.org’ for help, support, and other information\n",
            "\n",
            "\n",
            "WARNING:rpy2.rinterface_lib.callbacks:R[write to console]: \n",
            "Attaching package: ‘network’\n",
            "\n",
            "\n",
            "WARNING:rpy2.rinterface_lib.callbacks:R[write to console]: The following objects are masked from ‘package:igraph’:\n",
            "\n",
            "    %c%, %s%, add.edges, add.vertices, delete.edges, delete.vertices,\n",
            "    get.edge.attribute, get.edges, get.vertex.attribute, is.bipartite,\n",
            "    is.directed, list.edge.attributes, list.vertex.attributes,\n",
            "    set.edge.attribute, set.vertex.attribute\n",
            "\n",
            "\n",
            "WARNING:rpy2.rinterface_lib.callbacks:R[write to console]: sna: Tools for Social Network Analysis\n",
            "Version 2.8 created on 2024-09-07.\n",
            "copyright (c) 2005, Carter T. Butts, University of California-Irvine\n",
            " For citation information, type citation(\"sna\").\n",
            " Type help(package=\"sna\") to get started.\n",
            "\n",
            "\n",
            "WARNING:rpy2.rinterface_lib.callbacks:R[write to console]: \n",
            "Attaching package: ‘sna’\n",
            "\n",
            "\n",
            "WARNING:rpy2.rinterface_lib.callbacks:R[write to console]: The following objects are masked from ‘package:igraph’:\n",
            "\n",
            "    betweenness, bonpow, closeness, components, degree, dyad.census,\n",
            "    evcent, hierarchy, is.connected, neighborhood, triad.census\n",
            "\n",
            "\n"
          ]
        }
      ],
      "source": [
        "%%R\n",
        "install.packages('sna')\n",
        "library(sna, quietly=TRUE)"
      ]
    },
    {
      "cell_type": "markdown",
      "metadata": {
        "id": "_UjqkwHc7Qa-"
      },
      "source": [
        "En primer lugar, creamos una función que calcule las puntuaciones de conectividad de la red. En este caso, las puntuaciones son los diámetros de la red y la distancia geodésica media entre dos nodos cualesquiera:"
      ]
    },
    {
      "cell_type": "code",
      "execution_count": 30,
      "metadata": {
        "id": "5TAoF_o3dNsT",
        "colab": {
          "base_uri": "https://localhost:8080/"
        },
        "outputId": "079e37a1-96dd-4c42-f45a-e43a051151d6"
      },
      "outputs": [
        {
          "output_type": "stream",
          "name": "stdout",
          "text": [
            "[1] 17796\n"
          ]
        }
      ],
      "source": [
        "%%R\n",
        "c.scores<-function(graph){\n",
        "    n <- length(V(graph))\n",
        "    sp <- shortest.paths(graph)\n",
        "    neighbors <- sum(sp==1)/2\n",
        "    neighbors2 <- sum(sp==2)/2\n",
        "    return(c(2*neighbors/(n*(n-1)),2*neighbors2/(n*(n-1))))\n",
        "}\n",
        "\n",
        "clus <- clusters(HSnetN,mode=c(\"weak\"))\n",
        "connected.ids <- which(clus$membership==1)\n",
        "length(connected.ids)"
      ]
    },
    {
      "cell_type": "markdown",
      "metadata": {
        "id": "MnTUKHUf6u6t"
      },
      "source": [
        "Generamos N subredes de forma aleatoria. Esto puede llevar cierto tiempo si N es grande."
      ]
    },
    {
      "cell_type": "code",
      "execution_count": 31,
      "metadata": {
        "id": "GfJKj6hl6v8K"
      },
      "outputs": [],
      "source": [
        "%%R\n",
        "N<-50\n",
        "strees<-list(N)\n",
        "effs<-numeric(N)\n",
        "nei<-numeric(N)\n",
        "nei2<-numeric(N)\n",
        "for (i in 1:N){\n",
        "    new.ids<-sample(x=connected.ids,size=length(signif.ids))\n",
        "    strees[[i]] <- steiner_tree(terminals=new.ids,graph=HSnetN)\n",
        "    effs[i]<-efficiency(get.adjacency(strees[[i]],sparse=F))\n",
        "    cs<-c.scores(strees[[i]])\n",
        "    nei[i]<-cs[1]\n",
        "    nei2[i]<-cs[2]\n",
        "}"
      ]
    },
    {
      "cell_type": "markdown",
      "metadata": {
        "id": "CwDoM9hi6wKb"
      },
      "source": [
        "Podemos mostrar las puntuaciones de eficiencia y conectividad para cada uno de los grafos aleatorios:"
      ]
    },
    {
      "cell_type": "code",
      "execution_count": 32,
      "metadata": {
        "id": "OTYc4sDf6wVB",
        "colab": {
          "base_uri": "https://localhost:8080/"
        },
        "outputId": "d4661396-fd72-4663-9a70-c9d57a43b1d6"
      },
      "outputs": [
        {
          "output_type": "stream",
          "name": "stdout",
          "text": [
            " [1] 0.9854129 0.9770528 0.9758885 0.9852144 0.9734992 0.9743388 0.9779012\n",
            " [8] 0.9802469 0.9820294 0.9800504 0.9853882 0.9825707 0.9775673 0.9781481\n",
            "[15] 0.9802509 0.9793388 0.9814082 0.9731554 0.9811580 0.9765291 0.9794464\n",
            "[22] 0.9787047 0.9807769 0.9810198 0.9786122 0.9780331 0.9741722 0.9797188\n",
            "[29] 0.9814533 0.9806542 0.9811617 0.9814302 0.9752414 0.9817901 0.9784568\n",
            "[36] 0.9754560 0.9805562 0.9802509 0.9757760 0.9792453 0.9756243 0.9786371\n",
            "[43] 0.9794218 0.9814089 0.9821597 0.9817421 0.9805540 0.9793959 0.9829281\n",
            "[50] 0.9820730\n"
          ]
        }
      ],
      "source": [
        "%%R\n",
        "effs"
      ]
    },
    {
      "cell_type": "code",
      "execution_count": 33,
      "metadata": {
        "id": "WasOrSX8Unmo",
        "colab": {
          "base_uri": "https://localhost:8080/"
        },
        "outputId": "86660f25-e5e4-4de2-c999-4b0d30bad9c7"
      },
      "outputs": [
        {
          "output_type": "stream",
          "name": "stdout",
          "text": [
            " [1] 0.02012315 0.02862777 0.02968801 0.02035182 0.03212797 0.03098541\n",
            " [7] 0.02750153 0.02516882 0.02348759 0.02545547 0.01999640 0.02282800\n",
            "[13] 0.02798701 0.02725599 0.02513509 0.02619414 0.02436478 0.03213352\n",
            "[19] 0.02417439 0.02869300 0.02628139 0.02695255 0.02482759 0.02468380\n",
            "[25] 0.02694805 0.02743080 0.03142648 0.02594435 0.02428621 0.02498173\n",
            "[31] 0.02419984 0.02427581 0.03036343 0.02363413 0.02694905 0.03028194\n",
            "[37] 0.02489137 0.02513509 0.02983190 0.02619491 0.02995074 0.02701976\n",
            "[43] 0.02604984 0.02426401 0.02314924 0.02371198 0.02457977 0.02616883\n",
            "[49] 0.02253259 0.02341347\n"
          ]
        }
      ],
      "source": [
        "%%R\n",
        "nei"
      ]
    },
    {
      "cell_type": "code",
      "execution_count": 34,
      "metadata": {
        "id": "2c7DslBvUnp0",
        "colab": {
          "base_uri": "https://localhost:8080/"
        },
        "outputId": "f5152a7b-220b-4818-eed4-e351864afc3a"
      },
      "outputs": [
        {
          "output_type": "stream",
          "name": "stdout",
          "text": [
            " [1] 0.0969974 0.1634027 0.1690640 0.1108115 0.1979433 0.1872335 0.1464088\n",
            " [8] 0.1376918 0.1200406 0.1566686 0.1016634 0.1362395 0.1572078 0.1527931\n",
            "[15] 0.1287718 0.1384823 0.1309433 0.1784272 0.1425517 0.1611178 0.1505332\n",
            "[22] 0.1524398 0.1447619 0.1351829 0.1371429 0.1447492 0.1725467 0.1386611\n",
            "[29] 0.1192294 0.1364029 0.1298265 0.1343669 0.1699555 0.1462247 0.1485574\n",
            "[36] 0.1617821 0.1367474 0.1411572 0.1791243 0.1626319 0.1714943 0.1539185\n",
            "[43] 0.1422384 0.1452480 0.1305523 0.1314711 0.1303389 0.1368831 0.1270019\n",
            "[50] 0.1344548\n"
          ]
        }
      ],
      "source": [
        "%%R\n",
        "nei2"
      ]
    },
    {
      "cell_type": "markdown",
      "metadata": {
        "id": "LS43a6MM6wn8"
      },
      "source": [
        "Finalmente, mostramos las puntuaciones de eficiencia y conectividad para el interactoma del autismo\n"
      ]
    },
    {
      "cell_type": "code",
      "execution_count": 35,
      "metadata": {
        "id": "mJg2tlnV6wzL",
        "colab": {
          "base_uri": "https://localhost:8080/"
        },
        "outputId": "93aa7b4c-5396-41a3-c356-7b69c5cc4667"
      },
      "outputs": [
        {
          "output_type": "stream",
          "name": "stdout",
          "text": [
            "[1] 0.9723703\n"
          ]
        }
      ],
      "source": [
        "%%R\n",
        "efficiency(get.adjacency(HS.stree,sparse=F))"
      ]
    },
    {
      "cell_type": "code",
      "execution_count": 36,
      "metadata": {
        "id": "SRvSI4m7U2Do",
        "colab": {
          "base_uri": "https://localhost:8080/"
        },
        "outputId": "b1e1798b-9241-4d04-c0b5-ca48aa7cd7ab"
      },
      "outputs": [
        {
          "output_type": "stream",
          "name": "stdout",
          "text": [
            "[1] 0.03438228 0.17686480\n"
          ]
        }
      ],
      "source": [
        "%%R\n",
        "c.scores(HS.stree)"
      ]
    },
    {
      "cell_type": "markdown",
      "metadata": {
        "id": "49EKA8nbddJz"
      },
      "source": [
        "## Identificar nuevos genes candidatos"
      ]
    },
    {
      "cell_type": "markdown",
      "source": [
        "# Nueva sección"
      ],
      "metadata": {
        "id": "iSGalSioDQms"
      }
    },
    {
      "cell_type": "markdown",
      "metadata": {
        "id": "t4fnARzd7Ton"
      },
      "source": [
        "Calcular la puntuación de centralidad de intermediación para cada nodo"
      ]
    },
    {
      "cell_type": "code",
      "execution_count": 37,
      "metadata": {
        "id": "oyZG0Og-dNus"
      },
      "outputs": [],
      "source": [
        "%%R\n",
        "betweeness_centrality_scores = igraph::betweenness(HS.stree)"
      ]
    },
    {
      "cell_type": "markdown",
      "metadata": {
        "id": "QkwafWfS699L"
      },
      "source": [
        "Identificar aquellos que no sabemos aún si son significativos\n"
      ]
    },
    {
      "cell_type": "code",
      "execution_count": 38,
      "metadata": {
        "id": "t-fgWpkXz_9n"
      },
      "outputs": [],
      "source": [
        "%%R\n",
        "significant_centrality = c()\n",
        "count = 0\n",
        "for (i in 1:length(betweeness_centrality_scores)){\n",
        "    if (!(as.numeric(names(betweeness_centrality_scores[i])) %in% signif.ids)) {\n",
        "        significant_centrality = c(significant_centrality,betweeness_centrality_scores[i])\n",
        "    }\n",
        "}"
      ]
    },
    {
      "cell_type": "markdown",
      "metadata": {
        "id": "dA7m23F66_7x"
      },
      "source": [
        "Ordenar y mostrar el número de nodos significativos"
      ]
    },
    {
      "cell_type": "code",
      "execution_count": 39,
      "metadata": {
        "id": "hYCwDs6l7AFg",
        "colab": {
          "base_uri": "https://localhost:8080/"
        },
        "outputId": "b07f4dfb-a2fb-49a0-a84f-b7c190020536"
      },
      "outputs": [
        {
          "output_type": "stream",
          "name": "stdout",
          "text": [
            "[1] 49\n"
          ]
        }
      ],
      "source": [
        "%%R\n",
        "significant_centrality = sort(significant_centrality, decreasing=TRUE)\n",
        "length(significant_centrality)"
      ]
    }
  ],
  "metadata": {
    "colab": {
      "provenance": [],
      "include_colab_link": true
    },
    "hide_input": false,
    "kernelspec": {
      "display_name": "Python 3",
      "name": "python3"
    },
    "toc": {
      "base_numbering": 1,
      "nav_menu": {},
      "number_sections": true,
      "sideBar": true,
      "skip_h1_title": false,
      "title_cell": "Table of Contents",
      "title_sidebar": "Contents",
      "toc_cell": true,
      "toc_position": {},
      "toc_section_display": true,
      "toc_window_display": false
    },
    "varInspector": {
      "cols": {
        "lenName": 16,
        "lenType": 16,
        "lenVar": 40
      },
      "kernels_config": {
        "python": {
          "delete_cmd_postfix": "",
          "delete_cmd_prefix": "del ",
          "library": "var_list.py",
          "varRefreshCmd": "print(var_dic_list())"
        },
        "r": {
          "delete_cmd_postfix": ") ",
          "delete_cmd_prefix": "rm(",
          "library": "var_list.r",
          "varRefreshCmd": "cat(var_dic_list()) "
        }
      },
      "types_to_exclude": [
        "module",
        "function",
        "builtin_function_or_method",
        "instance",
        "_Feature"
      ],
      "window_display": true
    }
  },
  "nbformat": 4,
  "nbformat_minor": 0
}