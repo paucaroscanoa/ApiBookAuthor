{
  "cells": [
    {
      "cell_type": "markdown",
      "metadata": {
        "id": "view-in-github",
        "colab_type": "text"
      },
      "source": [
        "<a href=\"https://colab.research.google.com/github/paucaroscanoa/ApiBookAuthor/blob/master/Caso_de_estudio_4_1_Sistema_de_recomendaci%C3%B3n_Principiante.ipynb\" target=\"_parent\"><img src=\"https://colab.research.google.com/assets/colab-badge.svg\" alt=\"Open In Colab\"/></a>"
      ]
    },
    {
      "cell_type": "markdown",
      "metadata": {
        "collapsed": true,
        "id": "IpAvqvx8kpzQ"
      },
      "source": [
        "# Caso de Estudio 4.1 Sistema de recomendación"
      ]
    },
    {
      "cell_type": "markdown",
      "metadata": {
        "id": "g-J7g8S3khxg"
      },
      "source": [
        "## Configuración"
      ]
    },
    {
      "cell_type": "markdown",
      "metadata": {
        "id": "okCWWIi5kpzX"
      },
      "source": [
        "Ejecute (Run) estas celdas para instalar los paquetes necesarios para completar el caso de estudio. Esto podría llevar unos minutos así que sea paciente."
      ]
    },
    {
      "cell_type": "code",
      "execution_count": 1,
      "metadata": {
        "id": "JUQoaH0GkpzX",
        "outputId": "439dad4b-14a4-46a4-d709-e4b02b83f98a",
        "colab": {
          "base_uri": "https://localhost:8080/"
        }
      },
      "outputs": [
        {
          "output_type": "stream",
          "name": "stdout",
          "text": [
            "Requirement already satisfied: pip in /usr/local/lib/python3.10/dist-packages (24.1.2)\n",
            "Collecting pip\n",
            "  Downloading pip-24.3.1-py3-none-any.whl.metadata (3.7 kB)\n",
            "Downloading pip-24.3.1-py3-none-any.whl (1.8 MB)\n",
            "\u001b[2K   \u001b[90m━━━━━━━━━━━━━━━━━━━━━━━━━━━━━━━━━━━━━━━━\u001b[0m \u001b[32m1.8/1.8 MB\u001b[0m \u001b[31m10.5 MB/s\u001b[0m eta \u001b[36m0:00:00\u001b[0m\n",
            "\u001b[?25hInstalling collected packages: pip\n",
            "  Attempting uninstall: pip\n",
            "    Found existing installation: pip 24.1.2\n",
            "    Uninstalling pip-24.1.2:\n",
            "      Successfully uninstalled pip-24.1.2\n",
            "Successfully installed pip-24.3.1\n",
            "Collecting surprise==0.1\n",
            "  Downloading surprise-0.1-py2.py3-none-any.whl.metadata (327 bytes)\n",
            "Collecting scikit-surprise (from surprise==0.1)\n",
            "  Downloading scikit_surprise-1.1.4.tar.gz (154 kB)\n",
            "  Installing build dependencies ... \u001b[?25l\u001b[?25hdone\n",
            "  Getting requirements to build wheel ... \u001b[?25l\u001b[?25hdone\n",
            "  Preparing metadata (pyproject.toml) ... \u001b[?25l\u001b[?25hdone\n",
            "Requirement already satisfied: joblib>=1.2.0 in /usr/local/lib/python3.10/dist-packages (from scikit-surprise->surprise==0.1) (1.4.2)\n",
            "Requirement already satisfied: numpy>=1.19.5 in /usr/local/lib/python3.10/dist-packages (from scikit-surprise->surprise==0.1) (1.26.4)\n",
            "Requirement already satisfied: scipy>=1.6.0 in /usr/local/lib/python3.10/dist-packages (from scikit-surprise->surprise==0.1) (1.13.1)\n",
            "Downloading surprise-0.1-py2.py3-none-any.whl (1.8 kB)\n",
            "Building wheels for collected packages: scikit-surprise\n",
            "  Building wheel for scikit-surprise (pyproject.toml) ... \u001b[?25l\u001b[?25hdone\n",
            "  Created wheel for scikit-surprise: filename=scikit_surprise-1.1.4-cp310-cp310-linux_x86_64.whl size=2357285 sha256=ecddb24108a3d1843b7085b5a0d1e959561328ac2e0b0e8f32ca420d150b71cb\n",
            "  Stored in directory: /root/.cache/pip/wheels/4b/3f/df/6acbf0a40397d9bf3ff97f582cc22fb9ce66adde75bc71fd54\n",
            "Successfully built scikit-surprise\n",
            "Installing collected packages: scikit-surprise, surprise\n",
            "Successfully installed scikit-surprise-1.1.4 surprise-0.1\n",
            "Librerías instaladas con éxito!\n"
          ]
        }
      ],
      "source": [
        "!pip install --upgrade pip\n",
        "!pip install surprise==0.1\n",
        "print('Librerías instaladas con éxito!')"
      ]
    },
    {
      "cell_type": "markdown",
      "metadata": {
        "id": "Kp6W1vZ5kpzX"
      },
      "source": [
        "Si no ha obtenido ningún texto en rojo indicando error entonces la instalación ha terminado con éxito. El texto en amarillo son avisos, no errores."
      ]
    },
    {
      "cell_type": "markdown",
      "metadata": {
        "id": "oDjaPEqakpzY"
      },
      "source": [
        "<h1>Atención:</h1>\n",
        "\n",
        "Ahora ha de reiniciar el entorno de ejecución. Para ello vaya a:\n",
        "\n",
        "> Entorno de ejecución > _Reiniciar entorno de ejecución_\n",
        "\n",
        "en la parte superior de su pantalla. Esto asegurará que sus cambio se han realizado con éxito."
      ]
    },
    {
      "cell_type": "markdown",
      "metadata": {
        "id": "c83HwbdKkpzY"
      },
      "source": [
        "## Importar"
      ]
    },
    {
      "cell_type": "markdown",
      "metadata": {
        "id": "ABPjRAFK3U5q"
      },
      "source": [
        "from surprise import SVD\n",
        "from surprise import Dataset\n",
        "from surprise.model_selection import cross_validate\n",
        "\n",
        "\n"
      ]
    },
    {
      "cell_type": "markdown",
      "metadata": {
        "id": "cGQglZPE1Ne7"
      },
      "source": []
    },
    {
      "cell_type": "markdown",
      "metadata": {
        "id": "98f7g_cqkpzY"
      },
      "source": [
        "Importe las librerías necesarias para el desarrollo del caso."
      ]
    },
    {
      "cell_type": "code",
      "execution_count": 1,
      "metadata": {
        "id": "zKR6GYGE1JB8",
        "outputId": "c2311b68-cd46-4801-8724-e5ad2c4c5e8e",
        "colab": {
          "base_uri": "https://localhost:8080/"
        }
      },
      "outputs": [
        {
          "output_type": "stream",
          "name": "stdout",
          "text": [
            "Librerías faltantes importadas !\n"
          ]
        }
      ],
      "source": [
        "from surprise import SVD\n",
        "from surprise import Dataset\n",
        "from surprise.model_selection import cross_validate\n",
        "print('Librerías faltantes importadas !')"
      ]
    },
    {
      "cell_type": "code",
      "execution_count": 2,
      "metadata": {
        "id": "q89snHQykpzY",
        "outputId": "c879d93e-a14a-454f-ff2d-80bdf7136a10",
        "colab": {
          "base_uri": "https://localhost:8080/"
        }
      },
      "outputs": [
        {
          "output_type": "stream",
          "name": "stdout",
          "text": [
            "Librerías importadas con éxito!\n"
          ]
        }
      ],
      "source": [
        "import pandas as pd\n",
        "import matplotlib\n",
        "from surprise import Dataset, SVD, NormalPredictor, BaselineOnly, KNNBasic, NMF\n",
        "from surprise.model_selection import cross_validate, KFold\n",
        "%matplotlib inline\n",
        "print('Librerías importadas con éxito!')"
      ]
    },
    {
      "cell_type": "code",
      "execution_count": 4,
      "metadata": {
        "id": "ltnF_HRkB698",
        "outputId": "cbe374eb-7807-4a4c-a706-29f430291d01",
        "colab": {
          "base_uri": "https://localhost:8080/"
        }
      },
      "outputs": [
        {
          "output_type": "stream",
          "name": "stdout",
          "text": [
            "Mounted at /content/drive\n"
          ]
        }
      ],
      "source": [
        "from google.colab import drive\n",
        "drive.mount('/content/drive')"
      ]
    },
    {
      "cell_type": "markdown",
      "metadata": {
        "id": "7otNMBVbkpzY"
      },
      "source": [
        "## Datos"
      ]
    },
    {
      "cell_type": "code",
      "execution_count": 5,
      "metadata": {
        "id": "4jO2sao1jSqR",
        "outputId": "aabcdd49-c0a2-4ecb-8122-a08234632ae9",
        "colab": {
          "base_uri": "https://localhost:8080/"
        }
      },
      "outputs": [
        {
          "output_type": "stream",
          "name": "stdout",
          "text": [
            "Dataset ml-100k could not be found. Do you want to download it? [Y/n] Y\n",
            "Trying to download dataset from https://files.grouplens.org/datasets/movielens/ml-100k.zip...\n",
            "Done! Dataset ml-100k has been saved to /root/.surprise_data/ml-100k\n",
            "\n",
            "\n",
            "Data load successful!\n"
          ]
        }
      ],
      "source": [
        "data = Dataset.load_builtin('ml-100k')\n",
        "print('\\n\\nData load successful!')"
      ]
    },
    {
      "cell_type": "markdown",
      "metadata": {
        "id": "KuDcN5FJkpzY"
      },
      "source": [
        "[Base de datos](https://files.grouplens.org/datasets/movielens/ml-100k.zip)"
      ]
    },
    {
      "cell_type": "markdown",
      "metadata": {
        "id": "fulYMY3_kpzZ"
      },
      "source": []
    },
    {
      "cell_type": "markdown",
      "metadata": {
        "id": "w7im5dMekpzZ"
      },
      "source": [
        "Carga de histograma con las valoraciones de 1 a 5 según cantidad de usuarios que puntuaron las peliculas"
      ]
    },
    {
      "cell_type": "code",
      "execution_count": 6,
      "metadata": {
        "id": "4nhfl36ekpzZ",
        "outputId": "3868be78-9c7b-4fb3-925a-64b55691fada",
        "colab": {
          "base_uri": "https://localhost:8080/",
          "height": 496
        }
      },
      "outputs": [
        {
          "output_type": "stream",
          "name": "stdout",
          "text": [
            "\n",
            "\n",
            "Histograma generado con éxito!\n"
          ]
        },
        {
          "output_type": "display_data",
          "data": {
            "text/plain": [
              "<Figure size 640x480 with 1 Axes>"
            ],
            "image/png": "[encoded data removed]"
          },
          "metadata": {}
        }
      ],
      "source": [
        "# 1. Obtener el archivo de valoraciones (ratings) del objeto \"data\"\n",
        "ratings_file = data.ratings_file\n",
        "\n",
        "# 2. Cargue la tabla usando pandas, una herramienta común de tratamiento de datos\n",
        "# Se establecen los nombres de las columnas de forma manual en este caso\n",
        "col_names = ['user_id', 'item_id', 'rating', 'timestamp']\n",
        "raw_data = pd.read_table(ratings_file, names=col_names)\n",
        "\n",
        "# 3. Obtener la columna de valoraciones (ratings)\n",
        "ratings = raw_data.rating\n",
        "\n",
        "# 4. Generar un gráfico de barras/histograma con dichos datos\n",
        "ratings.value_counts().sort_index().plot.bar()\n",
        "\n",
        "print('\\n\\nHistograma generado con éxito!')"
      ]
    },
    {
      "cell_type": "code",
      "execution_count": 7,
      "metadata": {
        "id": "S8K5HakBtmXT",
        "outputId": "176b4ee8-53d2-477c-d37c-ac08fe3d12fd",
        "colab": {
          "base_uri": "https://localhost:8080/"
        }
      },
      "outputs": [
        {
          "output_type": "stream",
          "name": "stdout",
          "text": [
            "rating\n",
            "1     6110\n",
            "2    11370\n",
            "3    27145\n",
            "4    34174\n",
            "5    21201\n",
            "Name: count, dtype: int64\n"
          ]
        }
      ],
      "source": [
        "# Vamos a generar los porcentages de cada uno de los valores de los ratings\n",
        "print(ratings.value_counts().sort_index())"
      ]
    },
    {
      "cell_type": "code",
      "execution_count": 8,
      "metadata": {
        "id": "FJVzqHxiuiBH",
        "outputId": "73d043f2-31c7-4fb7-d73e-9ab302ce8851",
        "colab": {
          "base_uri": "https://localhost:8080/"
        }
      },
      "outputs": [
        {
          "output_type": "stream",
          "name": "stdout",
          "text": [
            "rating\n",
            "4    34.174\n",
            "3    27.145\n",
            "5    21.201\n",
            "2    11.370\n",
            "1     6.110\n",
            "Name: proportion, dtype: float64\n"
          ]
        }
      ],
      "source": [
        "print(ratings.value_counts(normalize=True)*100)"
      ]
    },
    {
      "cell_type": "code",
      "execution_count": 9,
      "metadata": {
        "id": "kW5wPRvT-26f",
        "outputId": "82dcb59b-1ce7-472a-c093-644ff59ca774",
        "colab": {
          "base_uri": "https://localhost:8080/",
          "height": 801
        }
      },
      "outputs": [
        {
          "output_type": "stream",
          "name": "stdout",
          "text": [
            "\n",
            "\n",
            "La cantidad de valores de los 5 mayores y menores valores son\n",
            "item_id\n",
            "50      583\n",
            "258     509\n",
            "100     508\n",
            "181     507\n",
            "294     485\n",
            "       ... \n",
            "852       1\n",
            "1505      1\n",
            "1653      1\n",
            "1452      1\n",
            "1641      1\n",
            "Name: count, Length: 1682, dtype: int64\n",
            "\n",
            "\n",
            "Histograma Item_id v/s Cantidad!\n"
          ]
        },
        {
          "output_type": "display_data",
          "data": {
            "text/plain": [
              "<Figure size 640x480 with 1 Axes>"
            ],
            "image/png": "[encoded data removed]"
          },
          "metadata": {}
        }
      ],
      "source": [
        "# Obtener la columna de valoraciones del item_id\n",
        "item = raw_data.item_id\n",
        "\n",
        "# Imprimier la cantidad de valores por columna item_id\n",
        "print('\\n\\nLa cantidad de valores de los 5 mayores y menores valores son')\n",
        "print(item.value_counts())\n",
        "\n",
        "# Generar un gráfico de barras/histograma de Item_id\n",
        "item.value_counts().sort_index().plot.bar()\n",
        "\n",
        "print('\\n\\nHistograma Item_id v/s Cantidad!')"
      ]
    },
    {
      "cell_type": "code",
      "execution_count": 10,
      "metadata": {
        "id": "DttfLlKDTS9p",
        "outputId": "918d8a13-1c3a-4fa8-8da0-08c6c4ab65b4",
        "colab": {
          "base_uri": "https://localhost:8080/",
          "height": 792
        }
      },
      "outputs": [
        {
          "output_type": "stream",
          "name": "stdout",
          "text": [
            "\n",
            "\n",
            "La cantidad de valores de los 5 mayores y menores valores son\n",
            "user_id\n",
            "405    737\n",
            "655    685\n",
            "13     636\n",
            "450    540\n",
            "276    518\n",
            "      ... \n",
            "441     20\n",
            "36      20\n",
            "812     20\n",
            "895     20\n",
            "93      20\n",
            "Name: count, Length: 943, dtype: int64\n",
            "\n",
            "\n",
            "Histograma user_id v/s Cantidad!\n"
          ]
        },
        {
          "output_type": "display_data",
          "data": {
            "text/plain": [
              "<Figure size 640x480 with 1 Axes>"
            ],
            "image/png": "[encoded data removed]"
          },
          "metadata": {}
        }
      ],
      "source": [
        "# Obtener la columna de valoraciones del user_id\n",
        "user = raw_data.user_id\n",
        "\n",
        "# Imprimier la cantidad de valores por columna user_id\n",
        "print('\\n\\nLa cantidad de valores de los 5 mayores y menores valores son')\n",
        "print(user.value_counts())\n",
        "\n",
        "# Generar un gráfico de barras/histograma de user_id\n",
        "user.value_counts().sort_index().plot.bar()\n",
        "\n",
        "print('\\n\\nHistograma user_id v/s Cantidad!')"
      ]
    },
    {
      "cell_type": "code",
      "execution_count": 11,
      "metadata": {
        "id": "n0gt2TGr1StW",
        "outputId": "b2d17081-08b7-4536-e271-b6e30202b126",
        "colab": {
          "base_uri": "https://localhost:8080/"
        }
      },
      "outputs": [
        {
          "output_type": "stream",
          "name": "stdout",
          "text": [
            "       user_id  item_id  rating  timestamp\n",
            "0          196      242       3  881250949\n",
            "1          186      302       3  891717742\n",
            "2           22      377       1  878887116\n",
            "3          244       51       2  880606923\n",
            "4          166      346       1  886397596\n",
            "...        ...      ...     ...        ...\n",
            "99995      880      476       3  880175444\n",
            "99996      716      204       5  879795543\n",
            "99997      276     1090       1  874795795\n",
            "99998       13      225       2  882399156\n",
            "99999       12      203       3  879959583\n",
            "\n",
            "[100000 rows x 4 columns]\n"
          ]
        }
      ],
      "source": [
        "print(raw_data)"
      ]
    },
    {
      "cell_type": "code",
      "execution_count": 12,
      "metadata": {
        "id": "CKAPHWxOzHAO",
        "outputId": "8bf4b5b5-0d19-4cfa-b5f9-1eeee9acfaa1",
        "colab": {
          "base_uri": "https://localhost:8080/"
        }
      },
      "outputs": [
        {
          "output_type": "execute_result",
          "data": {
            "text/plain": [
              "100000"
            ]
          },
          "metadata": {},
          "execution_count": 12
        }
      ],
      "source": [
        "len(ratings)"
      ]
    },
    {
      "cell_type": "code",
      "execution_count": 13,
      "metadata": {
        "id": "Kv98r4yI5Clu",
        "outputId": "4a99fd71-d91b-4e7e-99c6-8d49c98af9ea",
        "colab": {
          "base_uri": "https://localhost:8080/",
          "height": 210
        }
      },
      "outputs": [
        {
          "output_type": "execute_result",
          "data": {
            "text/plain": [
              "user_id        943\n",
              "item_id       1682\n",
              "rating           5\n",
              "timestamp    49282\n",
              "dtype: int64"
            ],
            "text/html": [
              "<div>\n",
              "<style scoped>\n",
              "    .dataframe tbody tr th:only-of-type {\n",
              "        vertical-align: middle;\n",
              "    }\n",
              "\n",
              "    .dataframe tbody tr th {\n",
              "        vertical-align: top;\n",
              "    }\n",
              "\n",
              "    .dataframe thead th {\n",
              "        text-align: right;\n",
              "    }\n",
              "</style>\n",
              "<table border=\"1\" class=\"dataframe\">\n",
              "  <thead>\n",
              "    <tr style=\"text-align: right;\">\n",
              "      <th></th>\n",
              "      <th>0</th>\n",
              "    </tr>\n",
              "  </thead>\n",
              "  <tbody>\n",
              "    <tr>\n",
              "      <th>user_id</th>\n",
              "      <td>943</td>\n",
              "    </tr>\n",
              "    <tr>\n",
              "      <th>item_id</th>\n",
              "      <td>1682</td>\n",
              "    </tr>\n",
              "    <tr>\n",
              "      <th>rating</th>\n",
              "      <td>5</td>\n",
              "    </tr>\n",
              "    <tr>\n",
              "      <th>timestamp</th>\n",
              "      <td>49282</td>\n",
              "    </tr>\n",
              "  </tbody>\n",
              "</table>\n",
              "</div><br><label><b>dtype:</b> int64</label>"
            ]
          },
          "metadata": {},
          "execution_count": 13
        }
      ],
      "source": [
        "raw_data.nunique()"
      ]
    },
    {
      "cell_type": "code",
      "execution_count": 14,
      "metadata": {
        "id": "I8W4Hrbv6XBs",
        "outputId": "b4f41c03-9f60-4606-fa06-dac3b7c6c512",
        "colab": {
          "base_uri": "https://localhost:8080/"
        }
      },
      "outputs": [
        {
          "output_type": "stream",
          "name": "stdout",
          "text": [
            "<bound method NDFrame.describe of        user_id  item_id  rating  timestamp\n",
            "0          196      242       3  881250949\n",
            "1          186      302       3  891717742\n",
            "2           22      377       1  878887116\n",
            "3          244       51       2  880606923\n",
            "4          166      346       1  886397596\n",
            "...        ...      ...     ...        ...\n",
            "99995      880      476       3  880175444\n",
            "99996      716      204       5  879795543\n",
            "99997      276     1090       1  874795795\n",
            "99998       13      225       2  882399156\n",
            "99999       12      203       3  879959583\n",
            "\n",
            "[100000 rows x 4 columns]>\n"
          ]
        }
      ],
      "source": [
        "print(raw_data.describe)"
      ]
    },
    {
      "cell_type": "code",
      "execution_count": 15,
      "metadata": {
        "id": "vRAJV6pwb5nE",
        "outputId": "00333171-93a3-4048-ec36-31f02c1981b3",
        "colab": {
          "base_uri": "https://localhost:8080/"
        }
      },
      "outputs": [
        {
          "output_type": "stream",
          "name": "stdout",
          "text": [
            "<bound method Series.isnull of 0        3\n",
            "1        3\n",
            "2        1\n",
            "3        2\n",
            "4        1\n",
            "        ..\n",
            "99995    3\n",
            "99996    5\n",
            "99997    1\n",
            "99998    2\n",
            "99999    3\n",
            "Name: rating, Length: 100000, dtype: int64>\n"
          ]
        }
      ],
      "source": [
        "print(raw_data.rating.isnull)"
      ]
    },
    {
      "cell_type": "markdown",
      "metadata": {
        "id": "9PiAfnfxkpzZ"
      },
      "source": [
        "**<h1>PREGUNTA 1: ANÁLISIS DE DATOS</h1>**"
      ]
    },
    {
      "cell_type": "markdown",
      "metadata": {
        "id": "uHSusKAxkpzZ"
      },
      "source": [
        "# Describe la forma de los datos, ¿como estan distribuidos? ¿Cuantas valoraciones hay disponibles?\n",
        "\n"
      ]
    },
    {
      "cell_type": "markdown",
      "metadata": {
        "id": "uIJ7DvUpH29-"
      },
      "source": [
        "*Su respuesta aqui - double click para editar*"
      ]
    },
    {
      "cell_type": "markdown",
      "metadata": {
        "id": "KNYrc-VakpzZ"
      },
      "source": [
        "## Modelo 1: aleatorio"
      ]
    },
    {
      "cell_type": "code",
      "execution_count": 16,
      "metadata": {
        "id": "afJMFKWlkpza",
        "outputId": "ddccc725-8542-4b36-de1f-b6609b39359d",
        "colab": {
          "base_uri": "https://localhost:8080/"
        }
      },
      "outputs": [
        {
          "output_type": "stream",
          "name": "stdout",
          "text": [
            "\n",
            "\n",
            "Modelo aleatorio creado con éxito!\n"
          ]
        }
      ],
      "source": [
        "# Crear el objeto para el modelo\n",
        "model_random = NormalPredictor()\n",
        "print('\\n\\nModelo aleatorio creado con éxito!')"
      ]
    },
    {
      "cell_type": "code",
      "execution_count": 17,
      "metadata": {
        "id": "v45T4HPwkpza",
        "outputId": "8fe76dde-91cd-4291-afeb-6f17109b01ad",
        "colab": {
          "base_uri": "https://localhost:8080/"
        }
      },
      "outputs": [
        {
          "output_type": "stream",
          "name": "stdout",
          "text": [
            "Evaluating RMSE of algorithm NormalPredictor on 5 split(s).\n",
            "\n",
            "                  Fold 1  Fold 2  Fold 3  Fold 4  Fold 5  Mean    Std     \n",
            "RMSE (testset)    1.5157  1.5126  1.5220  1.5208  1.5167  1.5176  0.0034  \n",
            "Fit time          0.14    0.32    0.54    0.28    0.14    0.28    0.15    \n",
            "Test time         0.11    0.17    0.30    0.68    0.09    0.27    0.22    \n",
            "\n",
            "\n",
            "Entrenamiento del modelo finalizado con éxito!\n"
          ]
        }
      ],
      "source": [
        "# Entrenar con los datos usando validación cruzada con k=5\n",
        "# iteraciones, midiendo el RECM\n",
        "model_random_results = cross_validate(model_random, data, measures=['RMSE'], cv=5, verbose=True)\n",
        "print('\\n\\nEntrenamiento del modelo finalizado con éxito!')"
      ]
    },
    {
      "cell_type": "markdown",
      "metadata": {
        "id": "PC0RME1akpza"
      },
      "source": [
        "## Modelo 2: filtrado colaborativo basado en usuarios"
      ]
    },
    {
      "cell_type": "markdown",
      "metadata": {
        "id": "L_EiptBa5KfU"
      },
      "source": [
        "### Creación Modelo KNNBasic"
      ]
    },
    {
      "cell_type": "code",
      "execution_count": 18,
      "metadata": {
        "id": "BYP3ft6_kpza",
        "outputId": "0bd64832-e6d3-4dc7-cf0a-842f41b1e3c2",
        "colab": {
          "base_uri": "https://localhost:8080/"
        }
      },
      "outputs": [
        {
          "output_type": "stream",
          "name": "stdout",
          "text": [
            "\n",
            "\n",
            "Modelo creado con éxito!\n"
          ]
        }
      ],
      "source": [
        "# Crear el objeto para el modelo\n",
        "model_user = KNNBasic(sim_options={'user_based': True})\n",
        "print('\\n\\nModelo creado con éxito!')"
      ]
    },
    {
      "cell_type": "code",
      "execution_count": 19,
      "metadata": {
        "id": "44pgMd4Vkpza",
        "outputId": "1955ab25-3548-4ce6-bf7a-8af7689fc50e",
        "colab": {
          "base_uri": "https://localhost:8080/"
        }
      },
      "outputs": [
        {
          "output_type": "stream",
          "name": "stdout",
          "text": [
            "Computing the msd similarity matrix...\n",
            "Done computing similarity matrix.\n",
            "Computing the msd similarity matrix...\n",
            "Done computing similarity matrix.\n",
            "Computing the msd similarity matrix...\n",
            "Done computing similarity matrix.\n",
            "Computing the msd similarity matrix...\n",
            "Done computing similarity matrix.\n",
            "Computing the msd similarity matrix...\n",
            "Done computing similarity matrix.\n",
            "Evaluating RMSE of algorithm KNNBasic on 5 split(s).\n",
            "\n",
            "                  Fold 1  Fold 2  Fold 3  Fold 4  Fold 5  Mean    Std     \n",
            "RMSE (testset)    0.9744  0.9840  0.9795  0.9731  0.9802  0.9782  0.0040  \n",
            "Fit time          0.39    0.62    0.42    0.63    0.53    0.52    0.10    \n",
            "Test time         3.53    4.30    3.88    3.43    4.38    3.90    0.39    \n",
            "\n",
            "\n",
            "Entrenamiento del modelo finalizado con éxito!\n"
          ]
        }
      ],
      "source": [
        "# Entrenar con los datos usando validación cruzada con k=5\n",
        "# iteraciones, midiendo el RECM\n",
        "# Atención, esto podría generar un output con muchas líneas impresas\n",
        "# Puede usar \"verbose = False\" para prevenir esto\n",
        "model_user_results = cross_validate(model_user, data, measures=['RMSE'], cv=5, verbose=True)\n",
        "print('\\n\\nEntrenamiento del modelo finalizado con éxito!')"
      ]
    },
    {
      "cell_type": "markdown",
      "metadata": {
        "id": "_0dQZzOSkpza"
      },
      "source": [
        "## Modelo 3: filtrado colaborativo basado en ítems"
      ]
    },
    {
      "cell_type": "markdown",
      "metadata": {
        "id": "MaYknyGykHY_"
      },
      "source": [
        "###Creación Modelo KNNBasic"
      ]
    },
    {
      "cell_type": "code",
      "execution_count": 20,
      "metadata": {
        "id": "gU_MGg3rkpza",
        "outputId": "5cbd4dd4-31fc-44d4-ec9b-b49f9ec55fcb",
        "colab": {
          "base_uri": "https://localhost:8080/"
        }
      },
      "outputs": [
        {
          "output_type": "stream",
          "name": "stdout",
          "text": [
            "\n",
            "\n",
            "Modelo creado con éxito!\n"
          ]
        }
      ],
      "source": [
        "# Crear el objeto para el modelo\n",
        "model_item = KNNBasic(sim_options={'user_based': False})\n",
        "print('\\n\\nModelo creado con éxito!')"
      ]
    },
    {
      "cell_type": "code",
      "execution_count": 21,
      "metadata": {
        "id": "WMZ0fkhpkpzb",
        "outputId": "3db6f30b-65c4-4e89-886c-735c12a2e824",
        "colab": {
          "base_uri": "https://localhost:8080/"
        }
      },
      "outputs": [
        {
          "output_type": "stream",
          "name": "stdout",
          "text": [
            "Computing the msd similarity matrix...\n",
            "Done computing similarity matrix.\n",
            "Computing the msd similarity matrix...\n",
            "Done computing similarity matrix.\n",
            "Computing the msd similarity matrix...\n",
            "Done computing similarity matrix.\n",
            "Computing the msd similarity matrix...\n",
            "Done computing similarity matrix.\n",
            "Computing the msd similarity matrix...\n",
            "Done computing similarity matrix.\n",
            "Evaluating RMSE of algorithm KNNBasic on 5 split(s).\n",
            "\n",
            "                  Fold 1  Fold 2  Fold 3  Fold 4  Fold 5  Mean    Std     \n",
            "RMSE (testset)    0.9767  0.9813  0.9692  0.9702  0.9719  0.9739  0.0045  \n",
            "Fit time          0.66    0.84    0.61    0.65    0.87    0.73    0.11    \n",
            "Test time         3.85    5.14    3.86    4.67    4.06    4.32    0.51    \n",
            "\n",
            "\n",
            "Entrenamiento del modelo finalizado con éxito!\n"
          ]
        }
      ],
      "source": [
        "# Entrenar con los datos usando validación cruzada con k=5\n",
        "# iteraciones, midiendo el RECM\n",
        "# Atención, esto podría generar un output con muchas líneas impresas\n",
        "# Puede usar \"verbose = False\" para prevenir esto\n",
        "model_item_results = cross_validate(model_item, data, measures=['RMSE'], cv=5, verbose=True)\n",
        "print('\\n\\nEntrenamiento del modelo finalizado con éxito!')\n"
      ]
    },
    {
      "cell_type": "markdown",
      "metadata": {
        "id": "TfouF50hkpzb"
      },
      "source": [
        "**<h1>PREGUNTA 2: MODELOS DE FILTRADO COLABORATIVO</h1>**\n",
        "\n"
      ]
    },
    {
      "cell_type": "markdown",
      "metadata": {
        "id": "752HEmNExnIH"
      },
      "source": [
        "# Compare los resultados de los modelos de filtrado colaborativo basados en usuarios y en itens. ¿Qué diferencias encuentra entre los dos? ¿Qué diferencias encuentra entre estos modelos y el modelo aleatorio? ¿Puede explicar qué podría haber causado estas diferencias en los resultados?"
      ]
    },
    {
      "cell_type": "markdown",
      "source": [
        "*Su respuesta aqui - double click para editar*"
      ],
      "metadata": {
        "id": "xmDpAIZx8g00"
      }
    },
    {
      "cell_type": "markdown",
      "metadata": {
        "id": "CZNckgrikpzb"
      },
      "source": [
        "## Modelo 4: factorización de matriz"
      ]
    },
    {
      "cell_type": "code",
      "execution_count": 22,
      "metadata": {
        "id": "8gOYSEnVkpzb",
        "outputId": "c024e563-e0bb-4449-d068-8327791f12a4",
        "colab": {
          "base_uri": "https://localhost:8080/"
        }
      },
      "outputs": [
        {
          "output_type": "stream",
          "name": "stdout",
          "text": [
            "\n",
            "\n",
            "Modelo creado con éxito!\n"
          ]
        }
      ],
      "source": [
        "# Crear el objeto para el modelo\n",
        "model_matrix = SVD()\n",
        "print('\\n\\nModelo creado con éxito!')"
      ]
    },
    {
      "cell_type": "code",
      "execution_count": 23,
      "metadata": {
        "id": "OwiEhSgzkpzb",
        "outputId": "42aa2f3e-f1c8-4635-87bb-19f7db1c64e4",
        "colab": {
          "base_uri": "https://localhost:8080/"
        }
      },
      "outputs": [
        {
          "output_type": "stream",
          "name": "stdout",
          "text": [
            "Evaluating RMSE of algorithm SVD on 5 split(s).\n",
            "\n",
            "                  Fold 1  Fold 2  Fold 3  Fold 4  Fold 5  Mean    Std     \n",
            "RMSE (testset)    0.9295  0.9459  0.9403  0.9356  0.9326  0.9368  0.0058  \n",
            "Fit time          1.57    1.73    1.86    2.51    2.05    1.94    0.32    \n",
            "Test time         0.13    0.15    0.38    0.21    0.32    0.24    0.10    \n",
            "\n",
            "\n",
            "Entrenamiento del modelo finalizado con éxito!\n"
          ]
        }
      ],
      "source": [
        "# Entrenar con los datos usando validación cruzada con k=5\n",
        "# iteraciones, midiendo el RECM\n",
        "# Atención, esto podría llevar cierto tiempo (2-3 minutos), sea paciente\n",
        "model_matrix_results = cross_validate(model_matrix, data, measures=['RMSE'], cv=5, verbose=True)\n",
        "print('\\n\\nEntrenamiento del modelo finalizado con éxito!')"
      ]
    },
    {
      "cell_type": "markdown",
      "metadata": {
        "id": "sCT8JRy9kpzc"
      },
      "source": [
        "**<h1>PREGUNTA 3: MODELO DE FACTORIZACIÓN DE MATRIZ</h1>**"
      ]
    },
    {
      "cell_type": "markdown",
      "metadata": {
        "id": "KBVMl2Oakpzc"
      },
      "source": [
        "#El modelo de factorización de matriz es diferente de los modelos de filtrado colaborativo. Describa brevemente en qué consisten dichas diferencias. También, compare de nuevo el RECM respecto al resto de modelos. ¿Mejora? ¿Puede ofrecer alguna explicación de por qué mejora/empeora?\n",
        "\n"
      ]
    },
    {
      "cell_type": "markdown",
      "metadata": {
        "id": "DJ3xckSIs6pZ"
      },
      "source": [
        "*Su respuesta aqui - double click para editar*\n",
        "\n"
      ]
    },
    {
      "cell_type": "markdown",
      "metadata": {
        "id": "UoYIQYQSkpzc"
      },
      "source": [
        "## Precisión and exhaustividad @`k` (*precision and recall @k*)"
      ]
    },
    {
      "cell_type": "markdown",
      "metadata": {
        "id": "HHt3Dsxhkpzc"
      },
      "source": [
        "Queremos calcular la precisión y la exhaustividad para 2 valores de `k`: 5 y 10. Hemos incluído unas cuantas líneas de código que le ayudarán a conseguirlo."
      ]
    },
    {
      "cell_type": "markdown",
      "metadata": {
        "id": "cKXtIJefkpzc"
      },
      "source": [
        "Primero, definimos una función que toma algunas predicciones, un valor de `k` y un parámetro de umbral. Este código ha sido adaptado de la siguiente [fuente](http://surprise.readthedocs.io/en/stable/FAQ.html?highlight=precision#how-to-compute-precision-k-and-recall-k).\n",
        "\n",
        "**Asegúrese de que ejecuta esta celda**"
      ]
    },
    {
      "cell_type": "code",
      "execution_count": 24,
      "metadata": {
        "id": "Xro0RMcUkpzd",
        "outputId": "e37e0fa0-318d-41a8-c599-7c5fd98c6724",
        "colab": {
          "base_uri": "https://localhost:8080/"
        }
      },
      "outputs": [
        {
          "output_type": "stream",
          "name": "stdout",
          "text": [
            "\n",
            "\n",
            "Función creada con éxito!\n"
          ]
        }
      ],
      "source": [
        "def precision_recall_at_k(predictions, k=10, threshold=3.5):\n",
        "    '''Devuelve la precision y la exhaustividad @k para cada usuario'''\n",
        "\n",
        "    # Primero asocie las predicciones a cada usuario\n",
        "    user_est_true = dict()\n",
        "    for uid, _, true_r, est, _ in predictions:\n",
        "        current = user_est_true.get(uid, list())\n",
        "        current.append((est, true_r))\n",
        "        user_est_true[uid] = current\n",
        "\n",
        "    precisions = dict()\n",
        "    recalls = dict()\n",
        "    for uid, user_ratings in user_est_true.items():\n",
        "\n",
        "        # Ordene las valoraciones de los usuarios por su valor estimado\n",
        "        user_ratings.sort(key=lambda x: x[0], reverse=True)\n",
        "\n",
        "        # Número de ítems relevantes\n",
        "        n_rel = sum((true_r >= threshold) for (_, true_r) in user_ratings)\n",
        "\n",
        "        # Número de ítems recomendados en el top k\n",
        "        n_rec_k = sum((est >= threshold) for (est, _) in user_ratings[:k])\n",
        "\n",
        "        # Número de ítems relevantes y recomendados en el top k\n",
        "        n_rel_and_rec_k = sum(((true_r >= threshold) and (est >= threshold))\n",
        "                              for (est, true_r) in user_ratings[:k])\n",
        "\n",
        "        # Precision@k: proporción de ítems recomendados que son relevantes\n",
        "        precisions[uid] = n_rel_and_rec_k / n_rec_k if n_rec_k != 0 else 1\n",
        "\n",
        "        # Exhaustividad@K: proporción de ítems relevantes que se recomiendan\n",
        "        recalls[uid] = n_rel_and_rec_k / n_rel if n_rel != 0 else 1\n",
        "\n",
        "    return precisions, recalls\n",
        "\n",
        "print('\\n\\nFunción creada con éxito!')"
      ]
    },
    {
      "cell_type": "markdown",
      "metadata": {
        "id": "TpXjwKQ5kpzd"
      },
      "source": [
        "A continuación, calculamos la precisión y exhaustividad @`k` = 5 y 10. Usamos validación cruzada con 5 iteraciones de nuevo para promediar los resultados a lo largo de toda la base de datos.\n",
        "\n",
        "Sea paciente porque esto podría llevar cierto tiempo en ejecutarse."
      ]
    },
    {
      "cell_type": "code",
      "execution_count": 25,
      "metadata": {
        "id": "jO85NTL8kpzd",
        "outputId": "3177172b-7d26-4143-b546-b4427c5b3b3c",
        "colab": {
          "base_uri": "https://localhost:8080/"
        }
      },
      "outputs": [
        {
          "output_type": "stream",
          "name": "stdout",
          "text": [
            ">>> k=5, modelo=modelo aleatorio\n",
            ">>> precisión: 0.5865\n",
            ">>> exhaustividad  : 0.3416\n",
            "\n",
            "\n",
            ">>> k=5, modelo=filtrado colaborativo usuario\n",
            "Computing the msd similarity matrix...\n",
            "Done computing similarity matrix.\n",
            "Computing the msd similarity matrix...\n",
            "Done computing similarity matrix.\n",
            "Computing the msd similarity matrix...\n",
            "Done computing similarity matrix.\n",
            "Computing the msd similarity matrix...\n",
            "Done computing similarity matrix.\n",
            "Computing the msd similarity matrix...\n",
            "Done computing similarity matrix.\n",
            ">>> precisión: 0.7651\n",
            ">>> exhaustividad  : 0.4593\n",
            "\n",
            "\n",
            ">>> k=5, modelo=filtrado colaborativo ítem\n",
            "Computing the msd similarity matrix...\n",
            "Done computing similarity matrix.\n",
            "Computing the msd similarity matrix...\n",
            "Done computing similarity matrix.\n",
            "Computing the msd similarity matrix...\n",
            "Done computing similarity matrix.\n",
            "Computing the msd similarity matrix...\n",
            "Done computing similarity matrix.\n",
            "Computing the msd similarity matrix...\n",
            "Done computing similarity matrix.\n",
            ">>> precisión: 0.8232\n",
            ">>> exhaustividad  : 0.3893\n",
            "\n",
            "\n",
            ">>> k=5, modelo=factorización de matriz\n",
            ">>> precisión: 0.7809\n",
            ">>> exhaustividad  : 0.4307\n",
            "\n",
            "\n",
            ">>> k=10, modelo=modelo aleatorio\n",
            ">>> precisión: 0.5815\n",
            ">>> exhaustividad  : 0.4291\n",
            "\n",
            "\n",
            ">>> k=10, modelo=filtrado colaborativo usuario\n",
            "Computing the msd similarity matrix...\n",
            "Done computing similarity matrix.\n",
            "Computing the msd similarity matrix...\n",
            "Done computing similarity matrix.\n",
            "Computing the msd similarity matrix...\n",
            "Done computing similarity matrix.\n",
            "Computing the msd similarity matrix...\n",
            "Done computing similarity matrix.\n",
            "Computing the msd similarity matrix...\n",
            "Done computing similarity matrix.\n",
            ">>> precisión: 0.7382\n",
            ">>> exhaustividad  : 0.5952\n",
            "\n",
            "\n",
            ">>> k=10, modelo=filtrado colaborativo ítem\n",
            "Computing the msd similarity matrix...\n",
            "Done computing similarity matrix.\n",
            "Computing the msd similarity matrix...\n",
            "Done computing similarity matrix.\n",
            "Computing the msd similarity matrix...\n",
            "Done computing similarity matrix.\n",
            "Computing the msd similarity matrix...\n",
            "Done computing similarity matrix.\n",
            "Computing the msd similarity matrix...\n",
            "Done computing similarity matrix.\n",
            ">>> precisión: 0.7885\n",
            ">>> exhaustividad  : 0.5329\n",
            "\n",
            "\n",
            ">>> k=10, modelo=factorización de matriz\n",
            ">>> precisión: 0.7608\n",
            ">>> exhaustividad  : 0.5647\n",
            "\n",
            "\n",
            "\n",
            "\n",
            "Cálculo de la precisión y la exhaustividad finalizado con éxito!\n"
          ]
        }
      ],
      "source": [
        "# Cree una lista de los valores de k\n",
        "K = [5, 10]\n",
        "\n",
        "# Cree una lista de modelos\n",
        "\n",
        "models = [model_random, model_user, model_item, model_matrix]\n",
        "model_names = ['modelo aleatorio', 'filtrado colaborativo usuario',\n",
        "               'filtrado colaborativo ítem','factorización de matriz']\n",
        "\n",
        "# Cree un objeto de validación cruzada con k-iteraciones (diferente \"k\")\n",
        "k_fold = KFold(n_splits=5)\n",
        "\n",
        "for k in K:\n",
        "    for i, model in enumerate(models):\n",
        "        print(f'>>> k={k}, modelo={model_names[i]}')\n",
        "        precision = []\n",
        "        exhaustividad = []\n",
        "        for trainset, testset in k_fold.split(data):\n",
        "            model.fit(trainset)\n",
        "            predictions = model.test(testset, verbose=False)\n",
        "            precisions, recalls = precision_recall_at_k(predictions, k=k, threshold=3.5)\n",
        "\n",
        "            # La precisión y la exhaustividad pueden promediarse sobre todos los usuarios\n",
        "            precision.append(sum(prec for prec in precisions.values()) / len(precisions))\n",
        "            exhaustividad.append(sum(rec for rec in recalls.values()) / len(recalls))\n",
        "\n",
        "        print('>>> precisión:', round(sum(precision) / len(precision), 4))\n",
        "        print('>>> exhaustividad  :', round(sum(exhaustividad) / len(exhaustividad), 4))\n",
        "        print('\\n')\n",
        "\n",
        "print('\\n\\nCálculo de la precisión y la exhaustividad finalizado con éxito!')"
      ]
    },
    {
      "cell_type": "markdown",
      "metadata": {
        "id": "O0FWJEmDkpzd"
      },
      "source": [
        "**<h1>PREGUNTA 4: PRECISIÓN/EXHAUSTIVIDAD</h1>**"
      ]
    },
    {
      "cell_type": "markdown",
      "metadata": {
        "id": "QML5N0DOkpzd"
      },
      "source": [
        "# Calcule la precisión y la exhaustividad, para cada uno de los 4 modelos, con `k` = 5 y 10. Es decir, 2 x 2 x 4 = 16 valores numéricos. ¿Nota algo diferente en estos valores? ¿Algo diferente de los valores de RECM calculados anteriormente?\n",
        "\n",
        "\n"
      ]
    },
    {
      "cell_type": "markdown",
      "metadata": {
        "id": "Pse8iU7roJFI"
      },
      "source": [
        "*Su respuesta aqui - double click para editar*"
      ]
    },
    {
      "cell_type": "markdown",
      "metadata": {
        "id": "k1skeZxkkpze"
      },
      "source": [
        "##  Top-`n` Predicciones"
      ]
    },
    {
      "cell_type": "markdown",
      "metadata": {
        "id": "njxBlz2tkpze"
      },
      "source": [
        "Finalmente, queremos ver cómo son las recomendaciones y las estimaciones de valoraciones de los usuarios."
      ]
    },
    {
      "cell_type": "code",
      "execution_count": 26,
      "metadata": {
        "id": "KeiGfNeMkpze",
        "outputId": "26a03b86-a555-4033-9354-559b2588e3df",
        "colab": {
          "base_uri": "https://localhost:8080/"
        }
      },
      "outputs": [
        {
          "output_type": "stream",
          "name": "stdout",
          "text": [
            "Función creada con éxito!\n"
          ]
        }
      ],
      "source": [
        "def get_top_n(predictions, n=5):\n",
        "    '''Devuelve las top-N recomendaciones para cada usuario de un conjunto de predicciones.\n",
        "\n",
        "    Argumentos:\n",
        "        predictions(lista de objetos de predicción): lista de la predicciones,\n",
        "            tal y como se obtienen del método \"test\" de un algoritmo\n",
        "        n(int): número de recomendaciones a mostrar para cada usuario.\n",
        "            Por defecto es 10.\n",
        "\n",
        "    Salidas:\n",
        "    Un diccionario donde las keys son las IDs de los usuarios y los valores son\n",
        "    una lista de tuples:\n",
        "        [(item id, estimación de la valoración), ...] de tamaño n.\n",
        "    '''\n",
        "\n",
        "    # Primero asocie las predicciones a cada usuario.\n",
        "    top_n = dict()\n",
        "    for uid, iid, true_r, est, _ in predictions:\n",
        "        current = top_n.get(uid, [])\n",
        "        current.append((iid, est))\n",
        "        top_n[uid] = current\n",
        "\n",
        "    # A continuación ordene las predicciones para cada usuario y obtenga las\n",
        "    # n predicciones más elevadas\n",
        "    for uid, user_ratings in top_n.items():\n",
        "        user_ratings.sort(key=lambda x: x[1], reverse=True)\n",
        "        top_n[uid] = user_ratings[:n]\n",
        "\n",
        "    return top_n\n",
        "\n",
        "print('Función creada con éxito!')"
      ]
    },
    {
      "cell_type": "markdown",
      "metadata": {
        "id": "eFK0uxImkpzf"
      },
      "source": [
        "Por último, ejecutamos esta función en cada uno de los modelos, primero entrenando en **la totalidad** de los datos disponibles, y después prediciendo los datos que faltan. Usamos `n` = 5, pero puede elegir cualquier valor razonable de n.\n",
        "\n",
        "Esto podría llevar cierto tiempo de computación, así que sea paciente.\n"
      ]
    },
    {
      "cell_type": "code",
      "execution_count": 27,
      "metadata": {
        "id": "hyAfl1aTkpzf",
        "outputId": "954996dc-1c9c-4556-e3aa-241f0fa6226a",
        "colab": {
          "base_uri": "https://localhost:8080/"
        }
      },
      "outputs": [
        {
          "output_type": "stream",
          "name": "stdout",
          "text": [
            "\n",
            "\n",
            "Conjuntos de prueba y entrenamiento creados con éxito!\n"
          ]
        }
      ],
      "source": [
        "trainset = data.build_full_trainset()\n",
        "testset = trainset.build_anti_testset()\n",
        "print('\\n\\nConjuntos de prueba y entrenamiento creados con éxito!')"
      ]
    },
    {
      "cell_type": "code",
      "execution_count": 28,
      "metadata": {
        "id": "sURUxMuNkpzf",
        "outputId": "74a7e44a-4f3f-47fa-e4b7-bd5129ee0791",
        "colab": {
          "base_uri": "https://localhost:8080/"
        }
      },
      "outputs": [
        {
          "output_type": "stream",
          "name": "stdout",
          "text": [
            "modelo: <surprise.prediction_algorithms.random_pred.NormalPredictor object at 0x7cf4072dd540>, 196: [('346', 5), ('451', 5), ('29', 5), ('768', 5), ('4', 5)]\n",
            "Computing the msd similarity matrix...\n",
            "Done computing similarity matrix.\n",
            "modelo: <surprise.prediction_algorithms.knns.KNNBasic object at 0x7cf4065bda50>, 196: [('1189', 5), ('1500', 5), ('814', 5), ('1536', 5), ('1599', 5)]\n",
            "Computing the msd similarity matrix...\n",
            "Done computing similarity matrix.\n",
            "modelo: <surprise.prediction_algorithms.knns.KNNBasic object at 0x7cf40609ca30>, 196: [('1414', 4.666666666666667), ('1309', 4.5), ('1310', 4.5), ('1675', 4.333333333333333), ('1676', 4.3076923076923075)]\n",
            "modelo: <surprise.prediction_algorithms.matrix_factorization.SVD object at 0x7cf4060f7310>, 196: [('64', 4.6973621257983), ('318', 4.608967169700561), ('357', 4.608271204886374), ('483', 4.550352026451898), ('480', 4.547561707927986)]\n",
            "\n",
            "\n",
            "Cálculo de las top-N predicciones realizado con éxito!\n"
          ]
        }
      ],
      "source": [
        "for modelo in models:\n",
        "    modelo.fit(trainset)\n",
        "    predictions = modelo.test(testset)\n",
        "    top_n = get_top_n(predictions, n=5)\n",
        "    # Muestre el primer usuario de la base de datos\n",
        "    user = list(top_n.keys())[0]\n",
        "    print(f'modelo: {modelo}, {user}: {top_n[user]}')\n",
        "\n",
        "print('\\n\\nCálculo de las top-N predicciones realizado con éxito!')"
      ]
    },
    {
      "cell_type": "markdown",
      "metadata": {
        "id": "xvZdwU5Ckpzf"
      },
      "source": [
        "**<h1>PREGUNTA 5: TOP-N PREDICCIONES</h1>**"
      ]
    },
    {
      "cell_type": "markdown",
      "metadata": {
        "id": "XJsHTqxvkpzf"
      },
      "source": [
        "# ¿Tienen sentido las top-n predicciones que ha obtenido? ¿Cuál es el valor de las valoraciones (1-5) de estas predicciones? ¿Cómo podría usar estas predicciones en la vida real si estuviera intentando construir un sistema de recomendación genérico para una compañía?\n",
        "\n",
        "\n",
        "\n"
      ]
    },
    {
      "cell_type": "markdown",
      "metadata": {
        "id": "X08XnmxZs7Wi"
      },
      "source": [
        "*Su respuesta aqui - double click para editar*"
      ]
    },
    {
      "cell_type": "markdown",
      "metadata": {
        "id": "GHc1p2EPkpzf"
      },
      "source": [
        "¡Buen trabajo! Asegúrese de que comprueba la sección **Entrega** del manual de instrucciones para terminar y entregar este caso correctamente."
      ]
    },
    {
      "cell_type": "markdown",
      "source": [
        "# -----------------------------------------------------------------------------------------\n",
        "# ************* Analisis Adicional: K óptimo segun el RMSE *************"
      ],
      "metadata": {
        "id": "XA7OXYtE-1H2"
      }
    },
    {
      "cell_type": "code",
      "execution_count": 29,
      "metadata": {
        "collapsed": true,
        "id": "SSfvmo3-0heP",
        "outputId": "ff6135ff-9b5f-45df-c6a7-a178afd565e7",
        "colab": {
          "base_uri": "https://localhost:8080/"
        }
      },
      "outputs": [
        {
          "output_type": "stream",
          "name": "stdout",
          "text": [
            "Computing the msd similarity matrix...\n",
            "Done computing similarity matrix.\n",
            "Computing the msd similarity matrix...\n",
            "Done computing similarity matrix.\n",
            "Computing the msd similarity matrix...\n",
            "Done computing similarity matrix.\n",
            "Computing the msd similarity matrix...\n",
            "Done computing similarity matrix.\n",
            "Computing the msd similarity matrix...\n",
            "Done computing similarity matrix.\n",
            "0.9774943629101933\n",
            "Computing the msd similarity matrix...\n",
            "Done computing similarity matrix.\n",
            "Computing the msd similarity matrix...\n",
            "Done computing similarity matrix.\n",
            "Computing the msd similarity matrix...\n",
            "Done computing similarity matrix.\n",
            "Computing the msd similarity matrix...\n",
            "Done computing similarity matrix.\n",
            "Computing the msd similarity matrix...\n",
            "Done computing similarity matrix.\n",
            "Computing the msd similarity matrix...\n",
            "Done computing similarity matrix.\n",
            "Computing the msd similarity matrix...\n",
            "Done computing similarity matrix.\n",
            "Computing the msd similarity matrix...\n",
            "Done computing similarity matrix.\n",
            "Computing the msd similarity matrix...\n",
            "Done computing similarity matrix.\n",
            "Computing the msd similarity matrix...\n",
            "Done computing similarity matrix.\n",
            "0.9726847973925297\n",
            "Computing the msd similarity matrix...\n",
            "Done computing similarity matrix.\n",
            "Computing the msd similarity matrix...\n",
            "Done computing similarity matrix.\n",
            "Computing the msd similarity matrix...\n",
            "Done computing similarity matrix.\n",
            "Computing the msd similarity matrix...\n",
            "Done computing similarity matrix.\n",
            "Computing the msd similarity matrix...\n",
            "Done computing similarity matrix.\n",
            "Computing the msd similarity matrix...\n",
            "Done computing similarity matrix.\n",
            "Computing the msd similarity matrix...\n",
            "Done computing similarity matrix.\n",
            "Computing the msd similarity matrix...\n",
            "Done computing similarity matrix.\n",
            "Computing the msd similarity matrix...\n",
            "Done computing similarity matrix.\n",
            "Computing the msd similarity matrix...\n",
            "Done computing similarity matrix.\n",
            "Computing the msd similarity matrix...\n",
            "Done computing similarity matrix.\n",
            "Computing the msd similarity matrix...\n",
            "Done computing similarity matrix.\n",
            "Computing the msd similarity matrix...\n",
            "Done computing similarity matrix.\n",
            "Computing the msd similarity matrix...\n",
            "Done computing similarity matrix.\n",
            "Computing the msd similarity matrix...\n",
            "Done computing similarity matrix.\n",
            "Computing the msd similarity matrix...\n",
            "Done computing similarity matrix.\n",
            "Computing the msd similarity matrix...\n",
            "Done computing similarity matrix.\n",
            "Computing the msd similarity matrix...\n",
            "Done computing similarity matrix.\n",
            "Computing the msd similarity matrix...\n",
            "Done computing similarity matrix.\n",
            "Computing the msd similarity matrix...\n",
            "Done computing similarity matrix.\n",
            "0.9693908497455693\n",
            "Computing the msd similarity matrix...\n",
            "Done computing similarity matrix.\n",
            "Computing the msd similarity matrix...\n",
            "Done computing similarity matrix.\n",
            "Computing the msd similarity matrix...\n",
            "Done computing similarity matrix.\n",
            "Computing the msd similarity matrix...\n",
            "Done computing similarity matrix.\n",
            "Computing the msd similarity matrix...\n",
            "Done computing similarity matrix.\n",
            "Computing the msd similarity matrix...\n",
            "Done computing similarity matrix.\n",
            "Computing the msd similarity matrix...\n",
            "Done computing similarity matrix.\n",
            "Computing the msd similarity matrix...\n",
            "Done computing similarity matrix.\n",
            "Computing the msd similarity matrix...\n",
            "Done computing similarity matrix.\n",
            "Computing the msd similarity matrix...\n",
            "Done computing similarity matrix.\n",
            "Computing the msd similarity matrix...\n",
            "Done computing similarity matrix.\n",
            "Computing the msd similarity matrix...\n",
            "Done computing similarity matrix.\n",
            "Computing the msd similarity matrix...\n",
            "Done computing similarity matrix.\n",
            "Computing the msd similarity matrix...\n",
            "Done computing similarity matrix.\n",
            "Computing the msd similarity matrix...\n",
            "Done computing similarity matrix.\n",
            "Computing the msd similarity matrix...\n",
            "Done computing similarity matrix.\n",
            "Computing the msd similarity matrix...\n",
            "Done computing similarity matrix.\n",
            "Computing the msd similarity matrix...\n",
            "Done computing similarity matrix.\n",
            "Computing the msd similarity matrix...\n",
            "Done computing similarity matrix.\n",
            "Computing the msd similarity matrix...\n",
            "Done computing similarity matrix.\n",
            "Computing the msd similarity matrix...\n",
            "Done computing similarity matrix.\n",
            "Computing the msd similarity matrix...\n",
            "Done computing similarity matrix.\n",
            "Computing the msd similarity matrix...\n",
            "Done computing similarity matrix.\n",
            "Computing the msd similarity matrix...\n",
            "Done computing similarity matrix.\n",
            "Computing the msd similarity matrix...\n",
            "Done computing similarity matrix.\n",
            "Computing the msd similarity matrix...\n",
            "Done computing similarity matrix.\n",
            "Computing the msd similarity matrix...\n",
            "Done computing similarity matrix.\n",
            "Computing the msd similarity matrix...\n",
            "Done computing similarity matrix.\n",
            "Computing the msd similarity matrix...\n",
            "Done computing similarity matrix.\n",
            "Computing the msd similarity matrix...\n",
            "Done computing similarity matrix.\n",
            "Computing the msd similarity matrix...\n",
            "Done computing similarity matrix.\n",
            "Computing the msd similarity matrix...\n",
            "Done computing similarity matrix.\n",
            "Computing the msd similarity matrix...\n",
            "Done computing similarity matrix.\n",
            "Computing the msd similarity matrix...\n",
            "Done computing similarity matrix.\n",
            "Computing the msd similarity matrix...\n",
            "Done computing similarity matrix.\n",
            "Computing the msd similarity matrix...\n",
            "Done computing similarity matrix.\n",
            "Computing the msd similarity matrix...\n",
            "Done computing similarity matrix.\n",
            "Computing the msd similarity matrix...\n",
            "Done computing similarity matrix.\n",
            "Computing the msd similarity matrix...\n",
            "Done computing similarity matrix.\n",
            "Computing the msd similarity matrix...\n",
            "Done computing similarity matrix.\n",
            "Computing the msd similarity matrix...\n",
            "Done computing similarity matrix.\n",
            "Computing the msd similarity matrix...\n",
            "Done computing similarity matrix.\n",
            "Computing the msd similarity matrix...\n",
            "Done computing similarity matrix.\n",
            "Computing the msd similarity matrix...\n",
            "Done computing similarity matrix.\n",
            "Computing the msd similarity matrix...\n",
            "Done computing similarity matrix.\n",
            "Computing the msd similarity matrix...\n",
            "Done computing similarity matrix.\n",
            "Computing the msd similarity matrix...\n",
            "Done computing similarity matrix.\n",
            "Computing the msd similarity matrix...\n",
            "Done computing similarity matrix.\n",
            "Computing the msd similarity matrix...\n",
            "Done computing similarity matrix.\n",
            "Computing the msd similarity matrix...\n",
            "Done computing similarity matrix.\n",
            "0.9677765153709403\n",
            "Computing the msd similarity matrix...\n",
            "Done computing similarity matrix.\n",
            "Computing the msd similarity matrix...\n",
            "Done computing similarity matrix.\n",
            "Computing the msd similarity matrix...\n",
            "Done computing similarity matrix.\n",
            "Computing the msd similarity matrix...\n",
            "Done computing similarity matrix.\n",
            "Computing the msd similarity matrix...\n",
            "Done computing similarity matrix.\n",
            "Computing the msd similarity matrix...\n",
            "Done computing similarity matrix.\n",
            "Computing the msd similarity matrix...\n",
            "Done computing similarity matrix.\n",
            "Computing the msd similarity matrix...\n",
            "Done computing similarity matrix.\n",
            "Computing the msd similarity matrix...\n",
            "Done computing similarity matrix.\n",
            "Computing the msd similarity matrix...\n",
            "Done computing similarity matrix.\n",
            "Computing the msd similarity matrix...\n",
            "Done computing similarity matrix.\n",
            "Computing the msd similarity matrix...\n",
            "Done computing similarity matrix.\n",
            "Computing the msd similarity matrix...\n",
            "Done computing similarity matrix.\n",
            "Computing the msd similarity matrix...\n",
            "Done computing similarity matrix.\n",
            "Computing the msd similarity matrix...\n",
            "Done computing similarity matrix.\n",
            "Computing the msd similarity matrix...\n",
            "Done computing similarity matrix.\n",
            "Computing the msd similarity matrix...\n",
            "Done computing similarity matrix.\n",
            "Computing the msd similarity matrix...\n",
            "Done computing similarity matrix.\n",
            "Computing the msd similarity matrix...\n",
            "Done computing similarity matrix.\n",
            "Computing the msd similarity matrix...\n",
            "Done computing similarity matrix.\n",
            "Computing the msd similarity matrix...\n",
            "Done computing similarity matrix.\n",
            "Computing the msd similarity matrix...\n",
            "Done computing similarity matrix.\n",
            "Computing the msd similarity matrix...\n",
            "Done computing similarity matrix.\n",
            "Computing the msd similarity matrix...\n",
            "Done computing similarity matrix.\n",
            "Computing the msd similarity matrix...\n",
            "Done computing similarity matrix.\n",
            "Computing the msd similarity matrix...\n",
            "Done computing similarity matrix.\n",
            "Computing the msd similarity matrix...\n",
            "Done computing similarity matrix.\n",
            "Computing the msd similarity matrix...\n",
            "Done computing similarity matrix.\n",
            "Computing the msd similarity matrix...\n",
            "Done computing similarity matrix.\n",
            "Computing the msd similarity matrix...\n",
            "Done computing similarity matrix.\n",
            "Computing the msd similarity matrix...\n",
            "Done computing similarity matrix.\n",
            "Computing the msd similarity matrix...\n",
            "Done computing similarity matrix.\n",
            "Computing the msd similarity matrix...\n",
            "Done computing similarity matrix.\n",
            "Computing the msd similarity matrix...\n",
            "Done computing similarity matrix.\n",
            "Computing the msd similarity matrix...\n",
            "Done computing similarity matrix.\n",
            "Computing the msd similarity matrix...\n",
            "Done computing similarity matrix.\n",
            "Computing the msd similarity matrix...\n",
            "Done computing similarity matrix.\n",
            "Computing the msd similarity matrix...\n",
            "Done computing similarity matrix.\n",
            "Computing the msd similarity matrix...\n",
            "Done computing similarity matrix.\n",
            "Computing the msd similarity matrix...\n",
            "Done computing similarity matrix.\n",
            "Computing the msd similarity matrix...\n",
            "Done computing similarity matrix.\n",
            "Computing the msd similarity matrix...\n",
            "Done computing similarity matrix.\n",
            "Computing the msd similarity matrix...\n",
            "Done computing similarity matrix.\n",
            "Computing the msd similarity matrix...\n",
            "Done computing similarity matrix.\n",
            "Computing the msd similarity matrix...\n",
            "Done computing similarity matrix.\n",
            "Computing the msd similarity matrix...\n",
            "Done computing similarity matrix.\n",
            "Computing the msd similarity matrix...\n",
            "Done computing similarity matrix.\n",
            "Computing the msd similarity matrix...\n",
            "Done computing similarity matrix.\n",
            "Computing the msd similarity matrix...\n",
            "Done computing similarity matrix.\n",
            "Computing the msd similarity matrix...\n",
            "Done computing similarity matrix.\n",
            "Computing the msd similarity matrix...\n",
            "Done computing similarity matrix.\n",
            "Computing the msd similarity matrix...\n",
            "Done computing similarity matrix.\n",
            "Computing the msd similarity matrix...\n",
            "Done computing similarity matrix.\n",
            "Computing the msd similarity matrix...\n",
            "Done computing similarity matrix.\n",
            "Computing the msd similarity matrix...\n",
            "Done computing similarity matrix.\n",
            "Computing the msd similarity matrix...\n",
            "Done computing similarity matrix.\n",
            "Computing the msd similarity matrix...\n",
            "Done computing similarity matrix.\n",
            "Computing the msd similarity matrix...\n",
            "Done computing similarity matrix.\n",
            "Computing the msd similarity matrix...\n",
            "Done computing similarity matrix.\n",
            "Computing the msd similarity matrix...\n",
            "Done computing similarity matrix.\n",
            "Computing the msd similarity matrix...\n",
            "Done computing similarity matrix.\n",
            "Computing the msd similarity matrix...\n",
            "Done computing similarity matrix.\n",
            "Computing the msd similarity matrix...\n",
            "Done computing similarity matrix.\n",
            "Computing the msd similarity matrix...\n",
            "Done computing similarity matrix.\n",
            "Computing the msd similarity matrix...\n",
            "Done computing similarity matrix.\n",
            "Computing the msd similarity matrix...\n",
            "Done computing similarity matrix.\n",
            "Computing the msd similarity matrix...\n",
            "Done computing similarity matrix.\n",
            "Computing the msd similarity matrix...\n",
            "Done computing similarity matrix.\n",
            "Computing the msd similarity matrix...\n",
            "Done computing similarity matrix.\n",
            "Computing the msd similarity matrix...\n",
            "Done computing similarity matrix.\n",
            "Computing the msd similarity matrix...\n",
            "Done computing similarity matrix.\n",
            "Computing the msd similarity matrix...\n",
            "Done computing similarity matrix.\n",
            "Computing the msd similarity matrix...\n",
            "Done computing similarity matrix.\n",
            "Computing the msd similarity matrix...\n",
            "Done computing similarity matrix.\n",
            "Computing the msd similarity matrix...\n",
            "Done computing similarity matrix.\n",
            "Computing the msd similarity matrix...\n",
            "Done computing similarity matrix.\n",
            "Computing the msd similarity matrix...\n",
            "Done computing similarity matrix.\n",
            "Computing the msd similarity matrix...\n",
            "Done computing similarity matrix.\n",
            "Computing the msd similarity matrix...\n",
            "Done computing similarity matrix.\n",
            "Computing the msd similarity matrix...\n",
            "Done computing similarity matrix.\n",
            "Computing the msd similarity matrix...\n",
            "Done computing similarity matrix.\n",
            "Computing the msd similarity matrix...\n",
            "Done computing similarity matrix.\n",
            "Computing the msd similarity matrix...\n",
            "Done computing similarity matrix.\n",
            "Computing the msd similarity matrix...\n",
            "Done computing similarity matrix.\n",
            "Computing the msd similarity matrix...\n",
            "Done computing similarity matrix.\n",
            "Computing the msd similarity matrix...\n",
            "Done computing similarity matrix.\n",
            "Computing the msd similarity matrix...\n",
            "Done computing similarity matrix.\n",
            "Computing the msd similarity matrix...\n",
            "Done computing similarity matrix.\n",
            "Computing the msd similarity matrix...\n",
            "Done computing similarity matrix.\n",
            "Computing the msd similarity matrix...\n",
            "Done computing similarity matrix.\n",
            "Computing the msd similarity matrix...\n",
            "Done computing similarity matrix.\n",
            "Computing the msd similarity matrix...\n",
            "Done computing similarity matrix.\n",
            "Computing the msd similarity matrix...\n",
            "Done computing similarity matrix.\n",
            "Computing the msd similarity matrix...\n",
            "Done computing similarity matrix.\n",
            "Computing the msd similarity matrix...\n",
            "Done computing similarity matrix.\n",
            "Computing the msd similarity matrix...\n",
            "Done computing similarity matrix.\n",
            "Computing the msd similarity matrix...\n",
            "Done computing similarity matrix.\n",
            "Computing the msd similarity matrix...\n",
            "Done computing similarity matrix.\n",
            "Computing the msd similarity matrix...\n",
            "Done computing similarity matrix.\n",
            "Computing the msd similarity matrix...\n",
            "Done computing similarity matrix.\n",
            "0.966775303771221\n"
          ]
        }
      ],
      "source": [
        "# Evaluar RMSE para los siguientes valores de K\n",
        "# se busca determinar el K óptimo de manera gráfica.\n",
        "# --------------------------------------------------\n",
        "k_value = [5,10,20,50,100]\n",
        "error = list()\n",
        "for i  in k_value:\n",
        "  model_user_results = cross_validate(model_user, data, measures=['RMSE'],cv=i, verbose=False)\n",
        "  error_medio=(model_user_results['test_rmse'].sum())/i\n",
        "  error.append(error_medio)\n",
        "  print(error_medio)"
      ]
    },
    {
      "cell_type": "code",
      "execution_count": 30,
      "metadata": {
        "id": "_zRktCTsk0kS",
        "outputId": "b16b1e6b-8c9d-4a10-d43a-62eea5171df5",
        "colab": {
          "base_uri": "https://localhost:8080/",
          "height": 472
        }
      },
      "outputs": [
        {
          "output_type": "display_data",
          "data": {
            "text/plain": [
              "<Figure size 640x480 with 1 Axes>"
            ],
            "image/png": "[encoded data removed]"
          },
          "metadata": {}
        }
      ],
      "source": [
        "dicc ={'k_value(K)':k_value, 'error(RMSE)':error}\n",
        "df=pd.DataFrame(dicc)\n",
        "\n",
        "\n",
        "import matplotlib.pyplot as plt\n",
        "import math\n",
        "plt.plot(k_value,error)\n",
        "plt.scatter(k_value, error,marker='o', color='r')\n",
        "annotations=[]\n",
        "for i in range(0,len(error)):\n",
        "  annotations.append('  ('+ str(k_value[i]) + ' , ' + str(round(error[i],4)) +')')\n",
        "for i, label in enumerate(annotations):\n",
        "    plt.text(k_value[i], error[i],label)\n",
        "plt.xlabel('K: Número de Folds (bloques)')\n",
        "plt.ylabel('RMSE: Error cuadrático medio')\n",
        "plt.title('Gráfico K vs RMSE')\n",
        "plt.show()"
      ]
    }
  ],
  "metadata": {
    "colab": {
      "provenance": [],
      "include_colab_link": true
    },
    "kernelspec": {
      "display_name": "Python 3",
      "name": "python3"
    },
    "language_info": {
      "name": "python"
    }
  },
  "nbformat": 4,
  "nbformat_minor": 0
}