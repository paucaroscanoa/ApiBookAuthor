{
  "nbformat": 4,
  "nbformat_minor": 0,
  "metadata": {
    "hide_input": false,
    "kernelspec": {
      "name": "python3",
      "display_name": "Python 3"
    },
    "toc": {
      "base_numbering": 1,
      "nav_menu": {},
      "number_sections": true,
      "sideBar": true,
      "skip_h1_title": false,
      "title_cell": "Table of Contents",
      "title_sidebar": "Contents",
      "toc_cell": true,
      "toc_position": {},
      "toc_section_display": true,
      "toc_window_display": false
    },
    "varInspector": {
      "cols": {
        "lenName": 16,
        "lenType": 16,
        "lenVar": 40
      },
      "kernels_config": {
        "python": {
          "delete_cmd_postfix": "",
          "delete_cmd_prefix": "del ",
          "library": "var_list.py",
          "varRefreshCmd": "print(var_dic_list())"
        },
        "r": {
          "delete_cmd_postfix": ") ",
          "delete_cmd_prefix": "rm(",
          "library": "var_list.r",
          "varRefreshCmd": "cat(var_dic_list()) "
        }
      },
      "types_to_exclude": [
        "module",
        "function",
        "builtin_function_or_method",
        "instance",
        "_Feature"
      ],
      "window_display": true
    },
    "colab": {
      "provenance": [],
      "include_colab_link": true
    }
  },
  "cells": [
    {
      "cell_type": "markdown",
      "metadata": {
        "id": "view-in-github",
        "colab_type": "text"
      },
      "source": [
        "<a href=\"https://colab.research.google.com/github/paucaroscanoa/ApiBookAuthor/blob/master/Caso_de_Estudio_2_3_%C2%BFCrecen_m%C3%A1s_r%C3%A1pido_los_pa%C3%ADses_pobres_que_los_ricos%3F.ipynb\" target=\"_parent\"><img src=\"https://colab.research.google.com/assets/colab-badge.svg\" alt=\"Open In Colab\"/></a>"
      ]
    },
    {
      "cell_type": "markdown",
      "metadata": {
        "id": "OOF55HUKXq4Q"
      },
      "source": [
        "# Caso de Estudio 2.3 - ¿Crecen más rápido los países pobres que los ricos?\n"
      ]
    },
    {
      "cell_type": "markdown",
      "metadata": {
        "id": "Azi08KciuAmF"
      },
      "source": [
        "Sincronice su cuenta de Google. Para ello, siga el link que aparece en la salida de la siguiente celda una vez ejecutada. Copie el código que le aparece en pantalla e introdúzcalo en la salida de la celda. Una vez vea el mensaje: `Google Drive sincronizado con éxito!` puede continuar ejecutando el resto de celdas."
      ]
    },
    {
      "cell_type": "code",
      "metadata": {
        "id": "jGYcsLShi5Tp"
      },
      "source": [
        "from google.colab import auth\n",
        "auth.authenticate_user()\n",
        "\n",
        "from pydrive.auth import GoogleAuth\n",
        "from pydrive.drive import GoogleDrive\n",
        "from google.colab import auth\n",
        "from oauth2client.client import GoogleCredentials\n",
        "\n",
        "gauth = GoogleAuth()\n",
        "gauth.credentials = GoogleCredentials.get_application_default()\n",
        "drive = GoogleDrive(gauth)\n",
        "data_drop = drive.CreateFile({'id':'1wAZ5JZuq2_zKqzDQlIuOxUSTfk9N_tq5'})\n",
        "data_drop.GetContentFile('growth.Rdata')\n",
        "\n",
        "print('Google Drive sincronizado con éxito!')"
      ],
      "execution_count": null,
      "outputs": []
    },
    {
      "cell_type": "code",
      "source": [
        "import rpy2\n",
        "import rpy2.robjects"
      ],
      "metadata": {
        "id": "GGdlisuMzKLI"
      },
      "execution_count": null,
      "outputs": []
    },
    {
      "cell_type": "code",
      "metadata": {
        "id": "UF-N5UbBiNyA"
      },
      "source": [
        "%load_ext rpy2.ipython"
      ],
      "execution_count": null,
      "outputs": []
    },
    {
      "cell_type": "markdown",
      "metadata": {
        "id": "EB17ltjZXq4R"
      },
      "source": [
        "Instalar e importar librerías: (ignorar resultados a no ser que no se muestre la frase: `¡Librerías instaladas con éxito!`)"
      ]
    },
    {
      "cell_type": "code",
      "metadata": {
        "id": "GMfvGKTGkbU-"
      },
      "source": [
        "%%R\n",
        "install.packages(\"hdm\")\n",
        "\n",
        "cat('\\n¡Librerías instaladas con éxito!')"
      ],
      "execution_count": null,
      "outputs": []
    },
    {
      "cell_type": "code",
      "metadata": {
        "ExecuteTime": {
          "end_time": "2020-06-10T17:15:43.642205Z",
          "start_time": "2020-06-10T17:15:43.563Z"
        },
        "id": "NicNwHhCXq4R"
      },
      "source": [
        "%%R\n",
        "# Importar librerías\n",
        "library(hdm)\n",
        "\n",
        "cat('\\n¡Librerías importadas con éxito!')"
      ],
      "execution_count": null,
      "outputs": []
    },
    {
      "cell_type": "markdown",
      "metadata": {
        "id": "XL1hYljwXq4V"
      },
      "source": [
        "## Datos\n"
      ]
    },
    {
      "cell_type": "code",
      "metadata": {
        "ExecuteTime": {
          "end_time": "2020-06-10T17:15:43.839762Z",
          "start_time": "2020-06-10T17:15:43.757Z"
        },
        "id": "yG_HIB_AXq4W"
      },
      "source": [
        "%%R\n",
        "# Cargar la base de datos\n",
        "load(file='growth.Rdata')\n",
        "\n",
        "# Ver las variables de la base de datos\n",
        "class(growth)\n",
        "str(growth)\n",
        "\n",
        "# Mostrar dimensiones de la base de datos\n",
        "dims  <- dim(growth)\n",
        "cat('\\nDimensiones de la base de datos:',toString(dims),'\\n',fill = TRUE)"
      ],
      "execution_count": null,
      "outputs": []
    },
    {
      "cell_type": "code",
      "metadata": {
        "id": "q3iVi6xWRZPd"
      },
      "source": [
        "%%R\n",
        "write.csv(growth,'prueba.csv')\n"
      ],
      "execution_count": null,
      "outputs": []
    },
    {
      "cell_type": "code",
      "metadata": {
        "ExecuteTime": {
          "end_time": "2020-06-10T17:15:43.855973Z",
          "start_time": "2020-06-10T17:15:43.809Z"
        },
        "id": "wxhRsK0KXq4a"
      },
      "source": [
        "%%R\n",
        "# Obtener los nombres de las variables\n",
        "varnames= colnames(growth)\n",
        "# Extraer los nombres de los controles y del regresor objetivo de varnames\n",
        "xnames     <- varnames[-c(1,2,3)]     # nombres de las variables de X\n",
        "dandxnames <- varnames[-c(1,2)]       # nombres de las variables de X y D"
      ],
      "execution_count": null,
      "outputs": []
    },
    {
      "cell_type": "markdown",
      "metadata": {
        "id": "uG5-rTSKXq4c"
      },
      "source": [
        "## Metodología"
      ]
    },
    {
      "cell_type": "code",
      "metadata": {
        "ExecuteTime": {
          "end_time": "2020-06-10T17:15:44.222787Z",
          "start_time": "2020-06-10T17:15:43.927Z"
        },
        "id": "DLKj9nvhXq4d"
      },
      "source": [
        "%%R\n",
        "# crear fórmulas \"pegando\" nombres (así se guardan los nombre a mostrar)\n",
        "fmla      <-  as.formula(paste(\"Outcome ~ \", paste(dandxnames, collapse= \"+\")))\n",
        "full.fit  <-  lm(fmla, data=growth)\n",
        "fmla.y    <-  as.formula(paste(\"Outcome ~ \", paste(xnames, collapse= \"+\")))\n",
        "fmla.d    <-  as.formula(paste(\"gdpsh465~ \", paste(xnames, collapse= \"+\")))\n",
        "\n",
        "\n",
        "# d parcial e y parcial por regresión lineal\n",
        "rY       <- rlasso(fmla.y, data =growth)$res\n",
        "rD       <- rlasso(fmla.d, data =growth)$res\n",
        "\n",
        "\n",
        "# regresión lineal de Y parcialmente extraida en la D parcialmente extraída\n",
        "partial.fit.lasso <- lm(rY~rD-1)\n",
        "\n",
        "# crear tabla para recoger los resultados\n",
        "table      <- matrix(0, 2, 4)\n",
        "table[1,1:2]  <- summary(full.fit)$coef[\"gdpsh465\",1:2]\n",
        "table[2,1:2]  <- summary(partial.fit.lasso)$coef[1,1:2]\n",
        "table[1,3:4]  <- confint(full.fit, level=0.95, 'gdpsh465')[1:2]\n",
        "table[2,3:4]  <- confint(partial.fit.lasso, level=0.95, 'rD')[1:2]\n",
        "\n",
        "# asignar nombre de columnas y filas\n",
        "colnames(table) <- c(\"Estimación (beta)\", \"Error estándar\",\"2.5%\",\"97.5%\")\n",
        "rownames(table) <- c(\"Mínimos cuadrados ord. (OLS)\", \"Extracción parcial con Lasso\")"
      ],
      "execution_count": null,
      "outputs": []
    },
    {
      "cell_type": "markdown",
      "metadata": {
        "id": "3jL-Amu0Xq4f"
      },
      "source": [
        "## Resultados"
      ]
    },
    {
      "cell_type": "code",
      "metadata": {
        "ExecuteTime": {
          "end_time": "2020-06-10T17:15:44.234624Z",
          "start_time": "2020-06-10T17:15:43.989Z"
        },
        "id": "Ee-hnpm_Xq4f"
      },
      "source": [
        "%%R\n",
        "# Mostrar resultados\n",
        "print(table, digits=2)"
      ],
      "execution_count": null,
      "outputs": []
    }
  ]
}