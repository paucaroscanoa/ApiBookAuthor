{
  "cells": [
    {
      "cell_type": "markdown",
      "metadata": {
        "id": "view-in-github",
        "colab_type": "text"
      },
      "source": [
        "<a href=\"https://colab.research.google.com/github/paucaroscanoa/ApiBookAuthor/blob/master/Caso_de_estudio_6_1_Trayectos_en_taxi_Principiante.ipynb\" target=\"_parent\"><img src=\"https://colab.research.google.com/assets/colab-badge.svg\" alt=\"Open In Colab\"/></a>"
      ]
    },
    {
      "cell_type": "markdown",
      "metadata": {
        "collapsed": true,
        "id": "CE1n2vWokhxb"
      },
      "source": [
        "# Caso de estudio 6.1 - Trayectos en taxi en Nueva York"
      ]
    },
    {
      "cell_type": "markdown",
      "metadata": {
        "id": "ozC4xarEkhxb"
      },
      "source": [
        "#### Nota: Si en algún momento cierra este notebook tendrá que volver a ejecutar todas las celdas de nuevo al abrirlo.\n",
        "\n",
        "#### Nota: Puede que obtenga diferentes resultados numéricos al ejecutar el notebook en diferentes ocasiones. Esto es normal, simplemente entregue los resultados obtenidos."
      ]
    },
    {
      "cell_type": "markdown",
      "metadata": {
        "id": "55SYKRFmkhxc"
      },
      "source": [
        "# PYTHON PRINCIPIANTE"
      ]
    },
    {
      "cell_type": "markdown",
      "metadata": {
        "id": "4vgHylYwkhxc"
      },
      "source": [
        "Como esta es la versión para principiantes, se ha incluído la mayor parte del código para ayudarle con el caso.\n",
        "\n",
        "**Primero, rellene su información de contacto en la celda siguiente. A continuación, únicamente tendrá que escribir las respuestas a las preguntas que se plantean. Para el resto de celdas, simplemente ejecútelas seleccionando el botón de Run, en la parte superior del notebook**\n"
      ]
    },
    {
      "cell_type": "markdown",
      "metadata": {
        "id": "4QrCCTbEb3E_"
      },
      "source": [
        "# Informacion del Alumno"
      ]
    },
    {
      "cell_type": "code",
      "execution_count": 1,
      "metadata": {
        "id": "E5fOEJxhcC3T"
      },
      "outputs": [],
      "source": [
        "# SU NOMBRE Y APELLIDO : MARIO PAUCAR OSCANOA\n",
        "# SU E-MAIL MITX PRO : INGMARIOPAUCAR@GMAIL.COM"
      ]
    },
    {
      "cell_type": "markdown",
      "metadata": {
        "id": "g-J7g8S3khxg"
      },
      "source": [
        "# Configuración"
      ]
    },
    {
      "cell_type": "markdown",
      "metadata": {
        "id": "XoVn7Grskhxh"
      },
      "source": [
        "Ejecute (Run) estas celdas para instalar los paquetes necesarios para completar el caso de estudio. Esto podría llevar unos minutos así que sea paciente.\n",
        "\n",
        "<h1 style=\"color:red;\">ATENCIÓN: Puede que vea errores cuando ejecute las celdas siguientes. Sin embargo, no se preocupe, con tal de que pueda ejecutar la celda de importación de librerías (dos más abajo) y vea el mensaje \"Librerías importadas con éxito!\" es suficiente y puede continuar con el caso de estudio.<h1>"
      ]
    },
    {
      "cell_type": "code",
      "execution_count": 2,
      "metadata": {
        "colab": {
          "base_uri": "https://localhost:8080/"
        },
        "id": "OvmhipjAdIgr",
        "outputId": "a4f0ec9d-acfd-43d6-a7d1-87b10ba476b8"
      },
      "outputs": [
        {
          "output_type": "stream",
          "name": "stdout",
          "text": [
            "Drive already mounted at /content/drive; to attempt to forcibly remount, call drive.mount(\"/content/drive\", force_remount=True).\n"
          ]
        }
      ],
      "source": [
        "from google.colab import drive\n",
        "drive.mount('/content/drive')"
      ]
    },
    {
      "cell_type": "code",
      "execution_count": 3,
      "metadata": {
        "colab": {
          "base_uri": "https://localhost:8080/"
        },
        "id": "Plp3vSElL_v0",
        "outputId": "30eff7a2-27f9-42c2-dbb0-304dbf103383"
      },
      "outputs": [
        {
          "output_type": "stream",
          "name": "stderr",
          "text": [
            "/usr/local/lib/python3.10/dist-packages/dask/dataframe/__init__.py:42: FutureWarning: \n",
            "Dask dataframe query planning is disabled because dask-expr is not installed.\n",
            "\n",
            "You can install it with `pip install dask[dataframe]` or `conda install dask`.\n",
            "This will raise in a future version.\n",
            "\n",
            "  warnings.warn(msg, FutureWarning)\n",
            "/usr/local/lib/python3.10/dist-packages/pyspark/pandas/__init__.py:50: UserWarning: 'PYARROW_IGNORE_TIMEZONE' environment variable was not set. It is required to set this environment variable to '1' in both driver and executor sides if you use pyarrow>=2.0.0. pandas-on-Spark will set it for you but it does not work if there is a Spark context already launched.\n",
            "  warnings.warn(\n"
          ]
        }
      ],
      "source": [
        "!pip install -q featuretools==1.29.0\n",
        "import featuretools as ft"
      ]
    },
    {
      "cell_type": "markdown",
      "metadata": {
        "id": "uT1aWH7zUSwj"
      },
      "source": [
        "from google.colab import drive\n",
        "drive.mount('/content/drive')"
      ]
    },
    {
      "cell_type": "markdown",
      "metadata": {
        "id": "FwtFi8pTlnjj"
      },
      "source": [
        "<h1>Atención:</h1>\n",
        "\n",
        "Ahora ha de reiniciar el entorno de ejecución. Para ello vaya a:\n",
        "\n",
        "> Entorno de ejecución > _Reiniciar entorno de ejecución_\n",
        "\n",
        "en la parte superior de su pantalla. Esto asegurará que sus cambio se han realizado con éxito.\n"
      ]
    },
    {
      "cell_type": "markdown",
      "metadata": {
        "id": "XbSeJMybkhxp"
      },
      "source": [
        "# Importar"
      ]
    },
    {
      "cell_type": "markdown",
      "metadata": {
        "id": "awHj7_vdpF1K"
      },
      "source": [
        "Sincronice su cuenta de Google. Para ello, siga el link que aparece en la salida de la siguiente celda una vez ejecutada. Copie el código que le aparece en pantalla e introdúzcalo en la salida de la celda. Una vez vea el mensaje: `Google Drive sincronizado con éxito!` puede continuar ejecutando el resto de celdas."
      ]
    },
    {
      "cell_type": "code",
      "execution_count": 4,
      "metadata": {
        "id": "AbnlWQ1EmBJA",
        "outputId": "99a63205-77d5-4b71-d723-d732010b7e43",
        "colab": {
          "base_uri": "https://localhost:8080/"
        }
      },
      "outputs": [
        {
          "output_type": "stream",
          "name": "stdout",
          "text": [
            "Google Drive sincronizado con éxito!\n"
          ]
        }
      ],
      "source": [
        "from google.colab import auth\n",
        "auth.authenticate_user()\n",
        "\n",
        "from pydrive2.auth import GoogleAuth\n",
        "from pydrive2.drive import GoogleDrive\n",
        "from google.colab import auth\n",
        "from oauth2client.client import GoogleCredentials\n",
        "\n",
        "gauth = GoogleAuth()\n",
        "gauth.credentials = GoogleCredentials.get_application_default()\n",
        "drive = GoogleDrive(gauth)\n",
        "data_drop = drive.CreateFile({'id':'10aXz56ohVOgF2gH4yvmrvTJFY990RHZ1'})\n",
        "data_drop.GetContentFile('dropoff_neighborhoods.csv')\n",
        "data_pick = drive.CreateFile({'id':'1zakjpcMUZTKanSeVlPWbYhL85zn5g8zX'})\n",
        "data_pick.GetContentFile('pickup_neighborhoods.csv')\n",
        "data_trips = drive.CreateFile({'id':'1D4OJPulDK-Z5l4mgwuI2C1zBr4JRC-Q5'})\n",
        "data_trips.GetContentFile('trips.pkl')\n",
        "utils_file = drive.CreateFile({'id':'1UbV2z7L5vonCz3KFLywGs4U-p2g5gQwy'})\n",
        "utils_file.GetContentFile('utils.py')\n",
        "\n",
        "print('Google Drive sincronizado con éxito!')"
      ]
    },
    {
      "cell_type": "markdown",
      "metadata": {
        "id": "rgSo2tCmkhxp"
      },
      "source": [
        "Importe las librerías necesarias para el desarrollo del caso."
      ]
    },
    {
      "cell_type": "code",
      "execution_count": 5,
      "metadata": {
        "colab": {
          "base_uri": "https://localhost:8080/"
        },
        "id": "JcErESkZkhxp",
        "outputId": "e73ed574-e731-4a8b-8fd4-f2089620ab08"
      },
      "outputs": [
        {
          "output_type": "stream",
          "name": "stdout",
          "text": [
            "Bibliotecas importadas com suceso!\n"
          ]
        }
      ],
      "source": [
        "import featuretools as ft\n",
        "import matplotlib\n",
        "import matplotlib.pyplot as plt\n",
        "import numpy as np\n",
        "import pandas as pd\n",
        "import utils\n",
        "from featuretools.primitives import (Count, Day, Hour, Max, Mean, Median, Min,\n",
        "                                     Minute, Month, Std, Sum, Week, Weekday,\n",
        "                                     IsWeekend)\n",
        "from sklearn.ensemble import GradientBoostingRegressor\n",
        "from utils import (compute_features, feature_importances, load_nyc_taxi_data,\n",
        "                   preview)\n",
        "%matplotlib inline\n",
        "\n",
        "print('Bibliotecas importadas com suceso!')"
      ]
    },
    {
      "cell_type": "markdown",
      "metadata": {
        "id": "zZkmvGNKkhxu"
      },
      "source": [
        "# Datos"
      ]
    },
    {
      "cell_type": "markdown",
      "metadata": {
        "id": "32zqjv6nkhxv"
      },
      "source": [
        "Cargue la base de datos de trayectos de taxi en NYC. Esto podría llevar unos minutos, así que sea paciente."
      ]
    },
    {
      "cell_type": "code",
      "execution_count": 6,
      "metadata": {
        "colab": {
          "base_uri": "https://localhost:8080/"
        },
        "id": "5ANg9uwxkhxv",
        "outputId": "d90e5a9f-d18b-45ef-e846-59422860f203"
      },
      "outputs": [
        {
          "output_type": "stream",
          "name": "stdout",
          "text": [
            "       id  vendor_id     pickup_datetime    dropoff_datetime  passenger_count  \\\n",
            "0  514030          2 2016-04-02 00:00:00 2016-04-02 00:17:00                1   \n",
            "1  514031          1 2016-04-02 00:00:00 2016-04-02 00:24:00                2   \n",
            "2  514032          1 2016-04-02 00:00:00 2016-04-02 00:19:00                1   \n",
            "3  514033          2 2016-04-02 00:00:00 2016-04-02 00:01:00                1   \n",
            "4  514034          1 2016-04-02 00:01:00 2016-04-02 00:58:00                2   \n",
            "5  514035          1 2016-04-02 00:01:00 2016-04-02 00:09:00                2   \n",
            "6  514036          1 2016-04-02 00:01:00 2016-04-02 00:05:00                1   \n",
            "7  514037          1 2016-04-02 00:01:00 2016-04-02 00:20:00                1   \n",
            "8  514038          1 2016-04-02 00:01:00 2016-04-02 00:10:00                1   \n",
            "9  514039          1 2016-04-02 00:01:00 2016-04-02 00:17:00                1   \n",
            "\n",
            "   trip_distance  pickup_longitude  pickup_latitude  dropoff_longitude  \\\n",
            "0           2.46        -73.987595        40.754711         -73.959633   \n",
            "1           7.90        -73.924713        40.745567         -73.972763   \n",
            "2           1.00        -73.989800        40.732994         -74.000557   \n",
            "3           0.02        -73.987465        40.719822         -73.987289   \n",
            "4          19.00        -73.790131        40.643429         -73.975594   \n",
            "5           1.50        -73.981956        40.765518         -73.968124   \n",
            "6           1.50        -73.980019        40.780594         -73.968132   \n",
            "7           4.20        -73.990501        40.756561         -73.986008   \n",
            "8           0.60        -73.986198        40.730492         -73.991798   \n",
            "9           0.60        -73.990959        40.734890         -74.001816   \n",
            "\n",
            "   dropoff_latitude payment_type  trip_duration pickup_neighborhood  \\\n",
            "0         40.762836            1           1039                  AA   \n",
            "1         40.793354            1           1454                   L   \n",
            "2         40.742622            1           1168                   H   \n",
            "3         40.720016            2             35                  AC   \n",
            "4         40.779327            1           3470                   G   \n",
            "5         40.753407            1            458                  AR   \n",
            "6         40.799595            2            213                  AV   \n",
            "7         40.719414            2           1142                  AA   \n",
            "8         40.722240            1            501                  AT   \n",
            "9         40.739319            1            954                   R   \n",
            "\n",
            "  dropoff_neighborhood  \n",
            "0                    K  \n",
            "1                    U  \n",
            "2                    Q  \n",
            "3                   AC  \n",
            "4                    I  \n",
            "5                    N  \n",
            "6                    U  \n",
            "7                   AC  \n",
            "8                   AC  \n",
            "9                    Q  \n",
            "Datos cargados con éxito!\n"
          ]
        }
      ],
      "source": [
        "trips, pickup_neighborhoods, dropoff_neighborhoods = load_nyc_taxi_data()\n",
        "print(trips.head(10))\n",
        "print('Datos cargados con éxito!')"
      ]
    },
    {
      "cell_type": "markdown",
      "metadata": {
        "id": "ZndxuN_Zkhxx"
      },
      "source": [
        "También podemos generar algunos gráficos sobre algunos aspectos de los datos para conseguir una mejor idea de sus distribuciones. Por ejemplo, aquí se muestra la variable `trip_duration` (duración del trayecto) que vamos a intentar predecir."
      ]
    },
    {
      "cell_type": "code",
      "execution_count": 7,
      "metadata": {
        "id": "9mE8o30qkhxx",
        "outputId": "e71fa9c3-83ad-4815-c80d-e728327aa941",
        "colab": {
          "base_uri": "https://localhost:8080/",
          "height": 515
        }
      },
      "outputs": [
        {
          "output_type": "display_data",
          "data": {
            "text/plain": [
              "<Figure size 640x480 with 1 Axes>"
            ],
            "image/png": "[encoded data removed]"
          },
          "metadata": {}
        },
        {
          "output_type": "stream",
          "name": "stdout",
          "text": [
            "Histograma generado con éxito!\n"
          ]
        }
      ],
      "source": [
        "trips.trip_duration.hist()\n",
        "plt.xlabel('Duración del trayecto [s]')\n",
        "plt.ylabel('Número de trayectos')\n",
        "plt.suptitle('Distribución de la duración de trayectos')\n",
        "plt.show()\n",
        "print('Histograma generado con éxito!')"
      ]
    },
    {
      "cell_type": "markdown",
      "metadata": {
        "id": "oqeTzpMlUAiq"
      },
      "source": [
        "Histograma se encuentra visible. Es importante revisar y validar aquellos datos atipicos con duración de trayecto de 2 segundos."
      ]
    },
    {
      "cell_type": "code",
      "execution_count": 8,
      "metadata": {
        "id": "YbSIVmSykhx0",
        "outputId": "28ea3560-460b-4c68-adae-b40a38ed6564",
        "colab": {
          "base_uri": "https://localhost:8080/"
        }
      },
      "outputs": [
        {
          "output_type": "execute_result",
          "data": {
            "text/plain": [
              "10000"
            ]
          },
          "metadata": {},
          "execution_count": 8
        }
      ],
      "source": [
        "trips.shape[0]  # Muestra la duracion del total de los trayectos mediante distribución en grafica."
      ]
    },
    {
      "cell_type": "code",
      "execution_count": 9,
      "metadata": {
        "id": "fXqpC9ajkhx2",
        "outputId": "9ff5726a-32d0-44c2-8a37-b470beecb662",
        "colab": {
          "base_uri": "https://localhost:8080/",
          "height": 313
        }
      },
      "outputs": [
        {
          "output_type": "execute_result",
          "data": {
            "text/plain": [
              "       id  vendor_id     pickup_datetime    dropoff_datetime  passenger_count  \\\n",
              "0  514030          2 2016-04-02 00:00:00 2016-04-02 00:17:00                1   \n",
              "1  514031          1 2016-04-02 00:00:00 2016-04-02 00:24:00                2   \n",
              "2  514032          1 2016-04-02 00:00:00 2016-04-02 00:19:00                1   \n",
              "3  514033          2 2016-04-02 00:00:00 2016-04-02 00:01:00                1   \n",
              "4  514034          1 2016-04-02 00:01:00 2016-04-02 00:58:00                2   \n",
              "\n",
              "   trip_distance  pickup_longitude  pickup_latitude  dropoff_longitude  \\\n",
              "0           2.46        -73.987595        40.754711         -73.959633   \n",
              "1           7.90        -73.924713        40.745567         -73.972763   \n",
              "2           1.00        -73.989800        40.732994         -74.000557   \n",
              "3           0.02        -73.987465        40.719822         -73.987289   \n",
              "4          19.00        -73.790131        40.643429         -73.975594   \n",
              "\n",
              "   dropoff_latitude payment_type  trip_duration pickup_neighborhood  \\\n",
              "0         40.762836            1           1039                  AA   \n",
              "1         40.793354            1           1454                   L   \n",
              "2         40.742622            1           1168                   H   \n",
              "3         40.720016            2             35                  AC   \n",
              "4         40.779327            1           3470                   G   \n",
              "\n",
              "  dropoff_neighborhood  \n",
              "0                    K  \n",
              "1                    U  \n",
              "2                    Q  \n",
              "3                   AC  \n",
              "4                    I  "
            ],
            "text/html": [
              "\n",
              "  <div id=\"df-61b45b6d-1210-4158-95e2-b256b60b917e\" class=\"colab-df-container\">\n",
              "    <div>\n",
              "<style scoped>\n",
              "    .dataframe tbody tr th:only-of-type {\n",
              "        vertical-align: middle;\n",
              "    }\n",
              "\n",
              "    .dataframe tbody tr th {\n",
              "        vertical-align: top;\n",
              "    }\n",
              "\n",
              "    .dataframe thead th {\n",
              "        text-align: right;\n",
              "    }\n",
              "</style>\n",
              "<table border=\"1\" class=\"dataframe\">\n",
              "  <thead>\n",
              "    <tr style=\"text-align: right;\">\n",
              "      <th></th>\n",
              "      <th>id</th>\n",
              "      <th>vendor_id</th>\n",
              "      <th>pickup_datetime</th>\n",
              "      <th>dropoff_datetime</th>\n",
              "      <th>passenger_count</th>\n",
              "      <th>trip_distance</th>\n",
              "      <th>pickup_longitude</th>\n",
              "      <th>pickup_latitude</th>\n",
              "      <th>dropoff_longitude</th>\n",
              "      <th>dropoff_latitude</th>\n",
              "      <th>payment_type</th>\n",
              "      <th>trip_duration</th>\n",
              "      <th>pickup_neighborhood</th>\n",
              "      <th>dropoff_neighborhood</th>\n",
              "    </tr>\n",
              "  </thead>\n",
              "  <tbody>\n",
              "    <tr>\n",
              "      <th>0</th>\n",
              "      <td>514030</td>\n",
              "      <td>2</td>\n",
              "      <td>2016-04-02 00:00:00</td>\n",
              "      <td>2016-04-02 00:17:00</td>\n",
              "      <td>1</td>\n",
              "      <td>2.46</td>\n",
              "      <td>-73.987595</td>\n",
              "      <td>40.754711</td>\n",
              "      <td>-73.959633</td>\n",
              "      <td>40.762836</td>\n",
              "      <td>1</td>\n",
              "      <td>1039</td>\n",
              "      <td>AA</td>\n",
              "      <td>K</td>\n",
              "    </tr>\n",
              "    <tr>\n",
              "      <th>1</th>\n",
              "      <td>514031</td>\n",
              "      <td>1</td>\n",
              "      <td>2016-04-02 00:00:00</td>\n",
              "      <td>2016-04-02 00:24:00</td>\n",
              "      <td>2</td>\n",
              "      <td>7.90</td>\n",
              "      <td>-73.924713</td>\n",
              "      <td>40.745567</td>\n",
              "      <td>-73.972763</td>\n",
              "      <td>40.793354</td>\n",
              "      <td>1</td>\n",
              "      <td>1454</td>\n",
              "      <td>L</td>\n",
              "      <td>U</td>\n",
              "    </tr>\n",
              "    <tr>\n",
              "      <th>2</th>\n",
              "      <td>514032</td>\n",
              "      <td>1</td>\n",
              "      <td>2016-04-02 00:00:00</td>\n",
              "      <td>2016-04-02 00:19:00</td>\n",
              "      <td>1</td>\n",
              "      <td>1.00</td>\n",
              "      <td>-73.989800</td>\n",
              "      <td>40.732994</td>\n",
              "      <td>-74.000557</td>\n",
              "      <td>40.742622</td>\n",
              "      <td>1</td>\n",
              "      <td>1168</td>\n",
              "      <td>H</td>\n",
              "      <td>Q</td>\n",
              "    </tr>\n",
              "    <tr>\n",
              "      <th>3</th>\n",
              "      <td>514033</td>\n",
              "      <td>2</td>\n",
              "      <td>2016-04-02 00:00:00</td>\n",
              "      <td>2016-04-02 00:01:00</td>\n",
              "      <td>1</td>\n",
              "      <td>0.02</td>\n",
              "      <td>-73.987465</td>\n",
              "      <td>40.719822</td>\n",
              "      <td>-73.987289</td>\n",
              "      <td>40.720016</td>\n",
              "      <td>2</td>\n",
              "      <td>35</td>\n",
              "      <td>AC</td>\n",
              "      <td>AC</td>\n",
              "    </tr>\n",
              "    <tr>\n",
              "      <th>4</th>\n",
              "      <td>514034</td>\n",
              "      <td>1</td>\n",
              "      <td>2016-04-02 00:01:00</td>\n",
              "      <td>2016-04-02 00:58:00</td>\n",
              "      <td>2</td>\n",
              "      <td>19.00</td>\n",
              "      <td>-73.790131</td>\n",
              "      <td>40.643429</td>\n",
              "      <td>-73.975594</td>\n",
              "      <td>40.779327</td>\n",
              "      <td>1</td>\n",
              "      <td>3470</td>\n",
              "      <td>G</td>\n",
              "      <td>I</td>\n",
              "    </tr>\n",
              "  </tbody>\n",
              "</table>\n",
              "</div>\n",
              "    <div class=\"colab-df-buttons\">\n",
              "\n",
              "  <div class=\"colab-df-container\">\n",
              "    <button class=\"colab-df-convert\" onclick=\"convertToInteractive('df-61b45b6d-1210-4158-95e2-b256b60b917e')\"\n",
              "            title=\"Convert this dataframe to an interactive table.\"\n",
              "            style=\"display:none;\">\n",
              "\n",
              "  <svg xmlns=\"http://www.w3.org/2000/svg\" height=\"24px\" viewBox=\"0 -960 960 960\">\n",
              "    <path d=\"M120-120v-720h720v720H120Zm60-500h600v-160H180v160Zm220 220h160v-160H400v160Zm0 220h160v-160H400v160ZM180-400h160v-160H180v160Zm440 0h160v-160H620v160ZM180-180h160v-160H180v160Zm440 0h160v-160H620v160Z\"/>\n",
              "  </svg>\n",
              "    </button>\n",
              "\n",
              "  <style>\n",
              "    .colab-df-container {\n",
              "      display:flex;\n",
              "      gap: 12px;\n",
              "    }\n",
              "\n",
              "    .colab-df-convert {\n",
              "      background-color: #E8F0FE;\n",
              "      border: none;\n",
              "      border-radius: 50%;\n",
              "      cursor: pointer;\n",
              "      display: none;\n",
              "      fill: #1967D2;\n",
              "      height: 32px;\n",
              "      padding: 0 0 0 0;\n",
              "      width: 32px;\n",
              "    }\n",
              "\n",
              "    .colab-df-convert:hover {\n",
              "      background-color: #E2EBFA;\n",
              "      box-shadow: 0px 1px 2px rgba(60, 64, 67, 0.3), 0px 1px 3px 1px rgba(60, 64, 67, 0.15);\n",
              "      fill: #174EA6;\n",
              "    }\n",
              "\n",
              "    .colab-df-buttons div {\n",
              "      margin-bottom: 4px;\n",
              "    }\n",
              "\n",
              "    [theme=dark] .colab-df-convert {\n",
              "      background-color: #3B4455;\n",
              "      fill: #D2E3FC;\n",
              "    }\n",
              "\n",
              "    [theme=dark] .colab-df-convert:hover {\n",
              "      background-color: #434B5C;\n",
              "      box-shadow: 0px 1px 3px 1px rgba(0, 0, 0, 0.15);\n",
              "      filter: drop-shadow(0px 1px 2px rgba(0, 0, 0, 0.3));\n",
              "      fill: #FFFFFF;\n",
              "    }\n",
              "  </style>\n",
              "\n",
              "    <script>\n",
              "      const buttonEl =\n",
              "        document.querySelector('#df-61b45b6d-1210-4158-95e2-b256b60b917e button.colab-df-convert');\n",
              "      buttonEl.style.display =\n",
              "        google.colab.kernel.accessAllowed ? 'block' : 'none';\n",
              "\n",
              "      async function convertToInteractive(key) {\n",
              "        const element = document.querySelector('#df-61b45b6d-1210-4158-95e2-b256b60b917e');\n",
              "        const dataTable =\n",
              "          await google.colab.kernel.invokeFunction('convertToInteractive',\n",
              "                                                    [key], {});\n",
              "        if (!dataTable) return;\n",
              "\n",
              "        const docLinkHtml = 'Like what you see? Visit the ' +\n",
              "          '<a target=\"_blank\" href=https://colab.research.google.com/notebooks/data_table.ipynb>data table notebook</a>'\n",
              "          + ' to learn more about interactive tables.';\n",
              "        element.innerHTML = '';\n",
              "        dataTable['output_type'] = 'display_data';\n",
              "        await google.colab.output.renderOutput(dataTable, element);\n",
              "        const docLink = document.createElement('div');\n",
              "        docLink.innerHTML = docLinkHtml;\n",
              "        element.appendChild(docLink);\n",
              "      }\n",
              "    </script>\n",
              "  </div>\n",
              "\n",
              "\n",
              "<div id=\"df-3452e63e-05a0-4ac2-9662-bc5428c4916c\">\n",
              "  <button class=\"colab-df-quickchart\" onclick=\"quickchart('df-3452e63e-05a0-4ac2-9662-bc5428c4916c')\"\n",
              "            title=\"Suggest charts\"\n",
              "            style=\"display:none;\">\n",
              "\n",
              "<svg xmlns=\"http://www.w3.org/2000/svg\" height=\"24px\"viewBox=\"0 0 24 24\"\n",
              "     width=\"24px\">\n",
              "    <g>\n",
              "        <path d=\"M19 3H5c-1.1 0-2 .9-2 2v14c0 1.1.9 2 2 2h14c1.1 0 2-.9 2-2V5c0-1.1-.9-2-2-2zM9 17H7v-7h2v7zm4 0h-2V7h2v10zm4 0h-2v-4h2v4z\"/>\n",
              "    </g>\n",
              "</svg>\n",
              "  </button>\n",
              "\n",
              "<style>\n",
              "  .colab-df-quickchart {\n",
              "      --bg-color: #E8F0FE;\n",
              "      --fill-color: #1967D2;\n",
              "      --hover-bg-color: #E2EBFA;\n",
              "      --hover-fill-color: #174EA6;\n",
              "      --disabled-fill-color: #AAA;\n",
              "      --disabled-bg-color: #DDD;\n",
              "  }\n",
              "\n",
              "  [theme=dark] .colab-df-quickchart {\n",
              "      --bg-color: #3B4455;\n",
              "      --fill-color: #D2E3FC;\n",
              "      --hover-bg-color: #434B5C;\n",
              "      --hover-fill-color: #FFFFFF;\n",
              "      --disabled-bg-color: #3B4455;\n",
              "      --disabled-fill-color: #666;\n",
              "  }\n",
              "\n",
              "  .colab-df-quickchart {\n",
              "    background-color: var(--bg-color);\n",
              "    border: none;\n",
              "    border-radius: 50%;\n",
              "    cursor: pointer;\n",
              "    display: none;\n",
              "    fill: var(--fill-color);\n",
              "    height: 32px;\n",
              "    padding: 0;\n",
              "    width: 32px;\n",
              "  }\n",
              "\n",
              "  .colab-df-quickchart:hover {\n",
              "    background-color: var(--hover-bg-color);\n",
              "    box-shadow: 0 1px 2px rgba(60, 64, 67, 0.3), 0 1px 3px 1px rgba(60, 64, 67, 0.15);\n",
              "    fill: var(--button-hover-fill-color);\n",
              "  }\n",
              "\n",
              "  .colab-df-quickchart-complete:disabled,\n",
              "  .colab-df-quickchart-complete:disabled:hover {\n",
              "    background-color: var(--disabled-bg-color);\n",
              "    fill: var(--disabled-fill-color);\n",
              "    box-shadow: none;\n",
              "  }\n",
              "\n",
              "  .colab-df-spinner {\n",
              "    border: 2px solid var(--fill-color);\n",
              "    border-color: transparent;\n",
              "    border-bottom-color: var(--fill-color);\n",
              "    animation:\n",
              "      spin 1s steps(1) infinite;\n",
              "  }\n",
              "\n",
              "  @keyframes spin {\n",
              "    0% {\n",
              "      border-color: transparent;\n",
              "      border-bottom-color: var(--fill-color);\n",
              "      border-left-color: var(--fill-color);\n",
              "    }\n",
              "    20% {\n",
              "      border-color: transparent;\n",
              "      border-left-color: var(--fill-color);\n",
              "      border-top-color: var(--fill-color);\n",
              "    }\n",
              "    30% {\n",
              "      border-color: transparent;\n",
              "      border-left-color: var(--fill-color);\n",
              "      border-top-color: var(--fill-color);\n",
              "      border-right-color: var(--fill-color);\n",
              "    }\n",
              "    40% {\n",
              "      border-color: transparent;\n",
              "      border-right-color: var(--fill-color);\n",
              "      border-top-color: var(--fill-color);\n",
              "    }\n",
              "    60% {\n",
              "      border-color: transparent;\n",
              "      border-right-color: var(--fill-color);\n",
              "    }\n",
              "    80% {\n",
              "      border-color: transparent;\n",
              "      border-right-color: var(--fill-color);\n",
              "      border-bottom-color: var(--fill-color);\n",
              "    }\n",
              "    90% {\n",
              "      border-color: transparent;\n",
              "      border-bottom-color: var(--fill-color);\n",
              "    }\n",
              "  }\n",
              "</style>\n",
              "\n",
              "  <script>\n",
              "    async function quickchart(key) {\n",
              "      const quickchartButtonEl =\n",
              "        document.querySelector('#' + key + ' button');\n",
              "      quickchartButtonEl.disabled = true;  // To prevent multiple clicks.\n",
              "      quickchartButtonEl.classList.add('colab-df-spinner');\n",
              "      try {\n",
              "        const charts = await google.colab.kernel.invokeFunction(\n",
              "            'suggestCharts', [key], {});\n",
              "      } catch (error) {\n",
              "        console.error('Error during call to suggestCharts:', error);\n",
              "      }\n",
              "      quickchartButtonEl.classList.remove('colab-df-spinner');\n",
              "      quickchartButtonEl.classList.add('colab-df-quickchart-complete');\n",
              "    }\n",
              "    (() => {\n",
              "      let quickchartButtonEl =\n",
              "        document.querySelector('#df-3452e63e-05a0-4ac2-9662-bc5428c4916c button');\n",
              "      quickchartButtonEl.style.display =\n",
              "        google.colab.kernel.accessAllowed ? 'block' : 'none';\n",
              "    })();\n",
              "  </script>\n",
              "</div>\n",
              "\n",
              "    </div>\n",
              "  </div>\n"
            ],
            "application/vnd.google.colaboratory.intrinsic+json": {
              "type": "dataframe",
              "variable_name": "trips",
              "summary": "{\n  \"name\": \"trips\",\n  \"rows\": 10000,\n  \"fields\": [\n    {\n      \"column\": \"id\",\n      \"properties\": {\n        \"dtype\": \"number\",\n        \"std\": 2886,\n        \"min\": 514030,\n        \"max\": 524029,\n        \"num_unique_values\": 10000,\n        \"samples\": [\n          520282,\n          518714,\n          515761\n        ],\n        \"semantic_type\": \"\",\n        \"description\": \"\"\n      }\n    },\n    {\n      \"column\": \"vendor_id\",\n      \"properties\": {\n        \"dtype\": \"number\",\n        \"std\": 0,\n        \"min\": 1,\n        \"max\": 2,\n        \"num_unique_values\": 2,\n        \"samples\": [\n          1,\n          2\n        ],\n        \"semantic_type\": \"\",\n        \"description\": \"\"\n      }\n    },\n    {\n      \"column\": \"pickup_datetime\",\n      \"properties\": {\n        \"dtype\": \"date\",\n        \"min\": \"2016-04-02 00:00:00\",\n        \"max\": \"2016-04-03 14:58:00\",\n        \"num_unique_values\": 2174,\n        \"samples\": [\n          \"2016-04-02 04:57:00\",\n          \"2016-04-03 02:04:00\"\n        ],\n        \"semantic_type\": \"\",\n        \"description\": \"\"\n      }\n    },\n    {\n      \"column\": \"dropoff_datetime\",\n      \"properties\": {\n        \"dtype\": \"date\",\n        \"min\": \"2016-04-02 00:01:00\",\n        \"max\": \"2016-04-03 15:54:00\",\n        \"num_unique_values\": 2210,\n        \"samples\": [\n          \"2016-04-02 16:01:00\",\n          \"2016-04-03 03:08:00\"\n        ],\n        \"semantic_type\": \"\",\n        \"description\": \"\"\n      }\n    },\n    {\n      \"column\": \"passenger_count\",\n      \"properties\": {\n        \"dtype\": \"number\",\n        \"std\": 1,\n        \"min\": 1,\n        \"max\": 6,\n        \"num_unique_values\": 6,\n        \"samples\": [\n          1,\n          2\n        ],\n        \"semantic_type\": \"\",\n        \"description\": \"\"\n      }\n    },\n    {\n      \"column\": \"trip_distance\",\n      \"properties\": {\n        \"dtype\": \"number\",\n        \"std\": 3.1346474621761358,\n        \"min\": 0.0,\n        \"max\": 32.09,\n        \"num_unique_values\": 1044,\n        \"samples\": [\n          17.88,\n          10.1\n        ],\n        \"semantic_type\": \"\",\n        \"description\": \"\"\n      }\n    },\n    {\n      \"column\": \"pickup_longitude\",\n      \"properties\": {\n        \"dtype\": \"number\",\n        \"std\": 0.03275502085573948,\n        \"min\": -74.0272522,\n        \"max\": -73.77398682,\n        \"num_unique_values\": 5907,\n        \"samples\": [\n          -73.98241425,\n          -74.00324249\n        ],\n        \"semantic_type\": \"\",\n        \"description\": \"\"\n      }\n    },\n    {\n      \"column\": \"pickup_latitude\",\n      \"properties\": {\n        \"dtype\": \"number\",\n        \"std\": 0.027118830307997648,\n        \"min\": 40.63239288,\n        \"max\": 40.84966278,\n        \"num_unique_values\": 7923,\n        \"samples\": [\n          40.74463654,\n          40.78149033\n        ],\n        \"semantic_type\": \"\",\n        \"description\": \"\"\n      }\n    },\n    {\n      \"column\": \"dropoff_longitude\",\n      \"properties\": {\n        \"dtype\": \"number\",\n        \"std\": 0.03192805902321802,\n        \"min\": -74.0272522,\n        \"max\": -73.77626038,\n        \"num_unique_values\": 6223,\n        \"samples\": [\n          -73.99628448,\n          -73.97689819\n        ],\n        \"semantic_type\": \"\",\n        \"description\": \"\"\n      }\n    },\n    {\n      \"column\": \"dropoff_latitude\",\n      \"properties\": {\n        \"dtype\": \"number\",\n        \"std\": 0.030314394187601852,\n        \"min\": 40.63027954,\n        \"max\": 40.84968567,\n        \"num_unique_values\": 8072,\n        \"samples\": [\n          40.73513794,\n          40.73226166\n        ],\n        \"semantic_type\": \"\",\n        \"description\": \"\"\n      }\n    },\n    {\n      \"column\": \"payment_type\",\n      \"properties\": {\n        \"dtype\": \"category\",\n        \"num_unique_values\": 4,\n        \"samples\": [\n          \"2\",\n          \"4\"\n        ],\n        \"semantic_type\": \"\",\n        \"description\": \"\"\n      }\n    },\n    {\n      \"column\": \"trip_duration\",\n      \"properties\": {\n        \"dtype\": \"number\",\n        \"std\": 525,\n        \"min\": 2,\n        \"max\": 3573,\n        \"num_unique_values\": 2032,\n        \"samples\": [\n          2617,\n          1262\n        ],\n        \"semantic_type\": \"\",\n        \"description\": \"\"\n      }\n    },\n    {\n      \"column\": \"pickup_neighborhood\",\n      \"properties\": {\n        \"dtype\": \"category\",\n        \"num_unique_values\": 49,\n        \"samples\": [\n          \"K\",\n          \"AI\"\n        ],\n        \"semantic_type\": \"\",\n        \"description\": \"\"\n      }\n    },\n    {\n      \"column\": \"dropoff_neighborhood\",\n      \"properties\": {\n        \"dtype\": \"category\",\n        \"num_unique_values\": 49,\n        \"samples\": [\n          \"R\",\n          \"AI\"\n        ],\n        \"semantic_type\": \"\",\n        \"description\": \"\"\n      }\n    }\n  ]\n}"
            }
          },
          "metadata": {},
          "execution_count": 9
        }
      ],
      "source": [
        "trips.head()"
      ]
    },
    {
      "cell_type": "code",
      "execution_count": 10,
      "metadata": {
        "id": "F8O0_XlwahPi",
        "outputId": "484b93d1-5bb9-4508-926c-1063a8e03509",
        "colab": {
          "base_uri": "https://localhost:8080/",
          "height": 300
        }
      },
      "outputs": [
        {
          "output_type": "execute_result",
          "data": {
            "text/plain": [
              "                 id     vendor_id             pickup_datetime  \\\n",
              "count   10000.00000  10000.000000                       10000   \n",
              "mean   519029.50000      1.527400  2016-04-02 19:38:41.568000   \n",
              "min    514030.00000      1.000000         2016-04-02 00:00:00   \n",
              "25%    516529.75000      1.000000         2016-04-02 11:56:00   \n",
              "50%    519029.50000      2.000000         2016-04-02 19:34:00   \n",
              "75%    521529.25000      2.000000         2016-04-03 02:32:00   \n",
              "max    524029.00000      2.000000         2016-04-03 14:58:00   \n",
              "std      2886.89568      0.499274                         NaN   \n",
              "\n",
              "                 dropoff_datetime  passenger_count  trip_distance  \\\n",
              "count                       10000     10000.000000   10000.000000   \n",
              "mean   2016-04-02 19:51:07.368000         1.698100       2.743312   \n",
              "min           2016-04-02 00:01:00         1.000000       0.000000   \n",
              "25%           2016-04-02 12:08:00         1.000000       1.000000   \n",
              "50%           2016-04-02 19:48:00         1.000000       1.700000   \n",
              "75%           2016-04-03 02:45:00         2.000000       3.200000   \n",
              "max           2016-04-03 15:54:00         6.000000      32.090000   \n",
              "std                           NaN         1.303045       3.134647   \n",
              "\n",
              "       pickup_longitude  pickup_latitude  dropoff_longitude  dropoff_latitude  \\\n",
              "count      10000.000000     10000.000000       10000.000000      10000.000000   \n",
              "mean         -73.976702        40.749273         -73.974212         40.750304   \n",
              "min          -74.027252        40.632393         -74.027252         40.630280   \n",
              "25%          -73.992891        40.733330         -73.992287         40.732718   \n",
              "50%          -73.983452        40.750420         -73.981422         40.752056   \n",
              "75%          -73.968937        40.766482         -73.962952         40.768576   \n",
              "max          -73.773987        40.849663         -73.776260         40.849686   \n",
              "std            0.032755         0.027119           0.031928          0.030314   \n",
              "\n",
              "       trip_duration  \n",
              "count   10000.000000  \n",
              "mean      746.098900  \n",
              "min         2.000000  \n",
              "25%       364.000000  \n",
              "50%       616.000000  \n",
              "75%       988.000000  \n",
              "max      3573.000000  \n",
              "std       525.049496  "
            ],
            "text/html": [
              "\n",
              "  <div id=\"df-cf571ced-468c-4f2e-9c9c-3d3fee4e4899\" class=\"colab-df-container\">\n",
              "    <div>\n",
              "<style scoped>\n",
              "    .dataframe tbody tr th:only-of-type {\n",
              "        vertical-align: middle;\n",
              "    }\n",
              "\n",
              "    .dataframe tbody tr th {\n",
              "        vertical-align: top;\n",
              "    }\n",
              "\n",
              "    .dataframe thead th {\n",
              "        text-align: right;\n",
              "    }\n",
              "</style>\n",
              "<table border=\"1\" class=\"dataframe\">\n",
              "  <thead>\n",
              "    <tr style=\"text-align: right;\">\n",
              "      <th></th>\n",
              "      <th>id</th>\n",
              "      <th>vendor_id</th>\n",
              "      <th>pickup_datetime</th>\n",
              "      <th>dropoff_datetime</th>\n",
              "      <th>passenger_count</th>\n",
              "      <th>trip_distance</th>\n",
              "      <th>pickup_longitude</th>\n",
              "      <th>pickup_latitude</th>\n",
              "      <th>dropoff_longitude</th>\n",
              "      <th>dropoff_latitude</th>\n",
              "      <th>trip_duration</th>\n",
              "    </tr>\n",
              "  </thead>\n",
              "  <tbody>\n",
              "    <tr>\n",
              "      <th>count</th>\n",
              "      <td>10000.00000</td>\n",
              "      <td>10000.000000</td>\n",
              "      <td>10000</td>\n",
              "      <td>10000</td>\n",
              "      <td>10000.000000</td>\n",
              "      <td>10000.000000</td>\n",
              "      <td>10000.000000</td>\n",
              "      <td>10000.000000</td>\n",
              "      <td>10000.000000</td>\n",
              "      <td>10000.000000</td>\n",
              "      <td>10000.000000</td>\n",
              "    </tr>\n",
              "    <tr>\n",
              "      <th>mean</th>\n",
              "      <td>519029.50000</td>\n",
              "      <td>1.527400</td>\n",
              "      <td>2016-04-02 19:38:41.568000</td>\n",
              "      <td>2016-04-02 19:51:07.368000</td>\n",
              "      <td>1.698100</td>\n",
              "      <td>2.743312</td>\n",
              "      <td>-73.976702</td>\n",
              "      <td>40.749273</td>\n",
              "      <td>-73.974212</td>\n",
              "      <td>40.750304</td>\n",
              "      <td>746.098900</td>\n",
              "    </tr>\n",
              "    <tr>\n",
              "      <th>min</th>\n",
              "      <td>514030.00000</td>\n",
              "      <td>1.000000</td>\n",
              "      <td>2016-04-02 00:00:00</td>\n",
              "      <td>2016-04-02 00:01:00</td>\n",
              "      <td>1.000000</td>\n",
              "      <td>0.000000</td>\n",
              "      <td>-74.027252</td>\n",
              "      <td>40.632393</td>\n",
              "      <td>-74.027252</td>\n",
              "      <td>40.630280</td>\n",
              "      <td>2.000000</td>\n",
              "    </tr>\n",
              "    <tr>\n",
              "      <th>25%</th>\n",
              "      <td>516529.75000</td>\n",
              "      <td>1.000000</td>\n",
              "      <td>2016-04-02 11:56:00</td>\n",
              "      <td>2016-04-02 12:08:00</td>\n",
              "      <td>1.000000</td>\n",
              "      <td>1.000000</td>\n",
              "      <td>-73.992891</td>\n",
              "      <td>40.733330</td>\n",
              "      <td>-73.992287</td>\n",
              "      <td>40.732718</td>\n",
              "      <td>364.000000</td>\n",
              "    </tr>\n",
              "    <tr>\n",
              "      <th>50%</th>\n",
              "      <td>519029.50000</td>\n",
              "      <td>2.000000</td>\n",
              "      <td>2016-04-02 19:34:00</td>\n",
              "      <td>2016-04-02 19:48:00</td>\n",
              "      <td>1.000000</td>\n",
              "      <td>1.700000</td>\n",
              "      <td>-73.983452</td>\n",
              "      <td>40.750420</td>\n",
              "      <td>-73.981422</td>\n",
              "      <td>40.752056</td>\n",
              "      <td>616.000000</td>\n",
              "    </tr>\n",
              "    <tr>\n",
              "      <th>75%</th>\n",
              "      <td>521529.25000</td>\n",
              "      <td>2.000000</td>\n",
              "      <td>2016-04-03 02:32:00</td>\n",
              "      <td>2016-04-03 02:45:00</td>\n",
              "      <td>2.000000</td>\n",
              "      <td>3.200000</td>\n",
              "      <td>-73.968937</td>\n",
              "      <td>40.766482</td>\n",
              "      <td>-73.962952</td>\n",
              "      <td>40.768576</td>\n",
              "      <td>988.000000</td>\n",
              "    </tr>\n",
              "    <tr>\n",
              "      <th>max</th>\n",
              "      <td>524029.00000</td>\n",
              "      <td>2.000000</td>\n",
              "      <td>2016-04-03 14:58:00</td>\n",
              "      <td>2016-04-03 15:54:00</td>\n",
              "      <td>6.000000</td>\n",
              "      <td>32.090000</td>\n",
              "      <td>-73.773987</td>\n",
              "      <td>40.849663</td>\n",
              "      <td>-73.776260</td>\n",
              "      <td>40.849686</td>\n",
              "      <td>3573.000000</td>\n",
              "    </tr>\n",
              "    <tr>\n",
              "      <th>std</th>\n",
              "      <td>2886.89568</td>\n",
              "      <td>0.499274</td>\n",
              "      <td>NaN</td>\n",
              "      <td>NaN</td>\n",
              "      <td>1.303045</td>\n",
              "      <td>3.134647</td>\n",
              "      <td>0.032755</td>\n",
              "      <td>0.027119</td>\n",
              "      <td>0.031928</td>\n",
              "      <td>0.030314</td>\n",
              "      <td>525.049496</td>\n",
              "    </tr>\n",
              "  </tbody>\n",
              "</table>\n",
              "</div>\n",
              "    <div class=\"colab-df-buttons\">\n",
              "\n",
              "  <div class=\"colab-df-container\">\n",
              "    <button class=\"colab-df-convert\" onclick=\"convertToInteractive('df-cf571ced-468c-4f2e-9c9c-3d3fee4e4899')\"\n",
              "            title=\"Convert this dataframe to an interactive table.\"\n",
              "            style=\"display:none;\">\n",
              "\n",
              "  <svg xmlns=\"http://www.w3.org/2000/svg\" height=\"24px\" viewBox=\"0 -960 960 960\">\n",
              "    <path d=\"M120-120v-720h720v720H120Zm60-500h600v-160H180v160Zm220 220h160v-160H400v160Zm0 220h160v-160H400v160ZM180-400h160v-160H180v160Zm440 0h160v-160H620v160ZM180-180h160v-160H180v160Zm440 0h160v-160H620v160Z\"/>\n",
              "  </svg>\n",
              "    </button>\n",
              "\n",
              "  <style>\n",
              "    .colab-df-container {\n",
              "      display:flex;\n",
              "      gap: 12px;\n",
              "    }\n",
              "\n",
              "    .colab-df-convert {\n",
              "      background-color: #E8F0FE;\n",
              "      border: none;\n",
              "      border-radius: 50%;\n",
              "      cursor: pointer;\n",
              "      display: none;\n",
              "      fill: #1967D2;\n",
              "      height: 32px;\n",
              "      padding: 0 0 0 0;\n",
              "      width: 32px;\n",
              "    }\n",
              "\n",
              "    .colab-df-convert:hover {\n",
              "      background-color: #E2EBFA;\n",
              "      box-shadow: 0px 1px 2px rgba(60, 64, 67, 0.3), 0px 1px 3px 1px rgba(60, 64, 67, 0.15);\n",
              "      fill: #174EA6;\n",
              "    }\n",
              "\n",
              "    .colab-df-buttons div {\n",
              "      margin-bottom: 4px;\n",
              "    }\n",
              "\n",
              "    [theme=dark] .colab-df-convert {\n",
              "      background-color: #3B4455;\n",
              "      fill: #D2E3FC;\n",
              "    }\n",
              "\n",
              "    [theme=dark] .colab-df-convert:hover {\n",
              "      background-color: #434B5C;\n",
              "      box-shadow: 0px 1px 3px 1px rgba(0, 0, 0, 0.15);\n",
              "      filter: drop-shadow(0px 1px 2px rgba(0, 0, 0, 0.3));\n",
              "      fill: #FFFFFF;\n",
              "    }\n",
              "  </style>\n",
              "\n",
              "    <script>\n",
              "      const buttonEl =\n",
              "        document.querySelector('#df-cf571ced-468c-4f2e-9c9c-3d3fee4e4899 button.colab-df-convert');\n",
              "      buttonEl.style.display =\n",
              "        google.colab.kernel.accessAllowed ? 'block' : 'none';\n",
              "\n",
              "      async function convertToInteractive(key) {\n",
              "        const element = document.querySelector('#df-cf571ced-468c-4f2e-9c9c-3d3fee4e4899');\n",
              "        const dataTable =\n",
              "          await google.colab.kernel.invokeFunction('convertToInteractive',\n",
              "                                                    [key], {});\n",
              "        if (!dataTable) return;\n",
              "\n",
              "        const docLinkHtml = 'Like what you see? Visit the ' +\n",
              "          '<a target=\"_blank\" href=https://colab.research.google.com/notebooks/data_table.ipynb>data table notebook</a>'\n",
              "          + ' to learn more about interactive tables.';\n",
              "        element.innerHTML = '';\n",
              "        dataTable['output_type'] = 'display_data';\n",
              "        await google.colab.output.renderOutput(dataTable, element);\n",
              "        const docLink = document.createElement('div');\n",
              "        docLink.innerHTML = docLinkHtml;\n",
              "        element.appendChild(docLink);\n",
              "      }\n",
              "    </script>\n",
              "  </div>\n",
              "\n",
              "\n",
              "<div id=\"df-790d9e42-4035-4cf4-82b8-1f3debef845d\">\n",
              "  <button class=\"colab-df-quickchart\" onclick=\"quickchart('df-790d9e42-4035-4cf4-82b8-1f3debef845d')\"\n",
              "            title=\"Suggest charts\"\n",
              "            style=\"display:none;\">\n",
              "\n",
              "<svg xmlns=\"http://www.w3.org/2000/svg\" height=\"24px\"viewBox=\"0 0 24 24\"\n",
              "     width=\"24px\">\n",
              "    <g>\n",
              "        <path d=\"M19 3H5c-1.1 0-2 .9-2 2v14c0 1.1.9 2 2 2h14c1.1 0 2-.9 2-2V5c0-1.1-.9-2-2-2zM9 17H7v-7h2v7zm4 0h-2V7h2v10zm4 0h-2v-4h2v4z\"/>\n",
              "    </g>\n",
              "</svg>\n",
              "  </button>\n",
              "\n",
              "<style>\n",
              "  .colab-df-quickchart {\n",
              "      --bg-color: #E8F0FE;\n",
              "      --fill-color: #1967D2;\n",
              "      --hover-bg-color: #E2EBFA;\n",
              "      --hover-fill-color: #174EA6;\n",
              "      --disabled-fill-color: #AAA;\n",
              "      --disabled-bg-color: #DDD;\n",
              "  }\n",
              "\n",
              "  [theme=dark] .colab-df-quickchart {\n",
              "      --bg-color: #3B4455;\n",
              "      --fill-color: #D2E3FC;\n",
              "      --hover-bg-color: #434B5C;\n",
              "      --hover-fill-color: #FFFFFF;\n",
              "      --disabled-bg-color: #3B4455;\n",
              "      --disabled-fill-color: #666;\n",
              "  }\n",
              "\n",
              "  .colab-df-quickchart {\n",
              "    background-color: var(--bg-color);\n",
              "    border: none;\n",
              "    border-radius: 50%;\n",
              "    cursor: pointer;\n",
              "    display: none;\n",
              "    fill: var(--fill-color);\n",
              "    height: 32px;\n",
              "    padding: 0;\n",
              "    width: 32px;\n",
              "  }\n",
              "\n",
              "  .colab-df-quickchart:hover {\n",
              "    background-color: var(--hover-bg-color);\n",
              "    box-shadow: 0 1px 2px rgba(60, 64, 67, 0.3), 0 1px 3px 1px rgba(60, 64, 67, 0.15);\n",
              "    fill: var(--button-hover-fill-color);\n",
              "  }\n",
              "\n",
              "  .colab-df-quickchart-complete:disabled,\n",
              "  .colab-df-quickchart-complete:disabled:hover {\n",
              "    background-color: var(--disabled-bg-color);\n",
              "    fill: var(--disabled-fill-color);\n",
              "    box-shadow: none;\n",
              "  }\n",
              "\n",
              "  .colab-df-spinner {\n",
              "    border: 2px solid var(--fill-color);\n",
              "    border-color: transparent;\n",
              "    border-bottom-color: var(--fill-color);\n",
              "    animation:\n",
              "      spin 1s steps(1) infinite;\n",
              "  }\n",
              "\n",
              "  @keyframes spin {\n",
              "    0% {\n",
              "      border-color: transparent;\n",
              "      border-bottom-color: var(--fill-color);\n",
              "      border-left-color: var(--fill-color);\n",
              "    }\n",
              "    20% {\n",
              "      border-color: transparent;\n",
              "      border-left-color: var(--fill-color);\n",
              "      border-top-color: var(--fill-color);\n",
              "    }\n",
              "    30% {\n",
              "      border-color: transparent;\n",
              "      border-left-color: var(--fill-color);\n",
              "      border-top-color: var(--fill-color);\n",
              "      border-right-color: var(--fill-color);\n",
              "    }\n",
              "    40% {\n",
              "      border-color: transparent;\n",
              "      border-right-color: var(--fill-color);\n",
              "      border-top-color: var(--fill-color);\n",
              "    }\n",
              "    60% {\n",
              "      border-color: transparent;\n",
              "      border-right-color: var(--fill-color);\n",
              "    }\n",
              "    80% {\n",
              "      border-color: transparent;\n",
              "      border-right-color: var(--fill-color);\n",
              "      border-bottom-color: var(--fill-color);\n",
              "    }\n",
              "    90% {\n",
              "      border-color: transparent;\n",
              "      border-bottom-color: var(--fill-color);\n",
              "    }\n",
              "  }\n",
              "</style>\n",
              "\n",
              "  <script>\n",
              "    async function quickchart(key) {\n",
              "      const quickchartButtonEl =\n",
              "        document.querySelector('#' + key + ' button');\n",
              "      quickchartButtonEl.disabled = true;  // To prevent multiple clicks.\n",
              "      quickchartButtonEl.classList.add('colab-df-spinner');\n",
              "      try {\n",
              "        const charts = await google.colab.kernel.invokeFunction(\n",
              "            'suggestCharts', [key], {});\n",
              "      } catch (error) {\n",
              "        console.error('Error during call to suggestCharts:', error);\n",
              "      }\n",
              "      quickchartButtonEl.classList.remove('colab-df-spinner');\n",
              "      quickchartButtonEl.classList.add('colab-df-quickchart-complete');\n",
              "    }\n",
              "    (() => {\n",
              "      let quickchartButtonEl =\n",
              "        document.querySelector('#df-790d9e42-4035-4cf4-82b8-1f3debef845d button');\n",
              "      quickchartButtonEl.style.display =\n",
              "        google.colab.kernel.accessAllowed ? 'block' : 'none';\n",
              "    })();\n",
              "  </script>\n",
              "</div>\n",
              "\n",
              "    </div>\n",
              "  </div>\n"
            ],
            "application/vnd.google.colaboratory.intrinsic+json": {
              "type": "dataframe",
              "summary": "{\n  \"name\": \"trips\",\n  \"rows\": 8,\n  \"fields\": [\n    {\n      \"column\": \"id\",\n      \"properties\": {\n        \"dtype\": \"number\",\n        \"std\": 237307.6595388635,\n        \"min\": 2886.8956799071675,\n        \"max\": 524029.0,\n        \"num_unique_values\": 7,\n        \"samples\": [\n          10000.0,\n          519029.5,\n          524029.0\n        ],\n        \"semantic_type\": \"\",\n        \"description\": \"\"\n      }\n    },\n    {\n      \"column\": \"vendor_id\",\n      \"properties\": {\n        \"dtype\": \"number\",\n        \"std\": 3535.0275272994154,\n        \"min\": 0.4992736398175869,\n        \"max\": 10000.0,\n        \"num_unique_values\": 5,\n        \"samples\": [\n          1.5274,\n          0.4992736398175869,\n          1.0\n        ],\n        \"semantic_type\": \"\",\n        \"description\": \"\"\n      }\n    },\n    {\n      \"column\": \"pickup_datetime\",\n      \"properties\": {\n        \"dtype\": \"date\",\n        \"min\": \"1970-01-01 00:00:00.000010\",\n        \"max\": \"2016-04-03 14:58:00\",\n        \"num_unique_values\": 7,\n        \"samples\": [\n          \"10000\",\n          \"2016-04-02 19:38:41.568000\",\n          \"2016-04-03 02:32:00\"\n        ],\n        \"semantic_type\": \"\",\n        \"description\": \"\"\n      }\n    },\n    {\n      \"column\": \"dropoff_datetime\",\n      \"properties\": {\n        \"dtype\": \"date\",\n        \"min\": \"1970-01-01 00:00:00.000010\",\n        \"max\": \"2016-04-03 15:54:00\",\n        \"num_unique_values\": 7,\n        \"samples\": [\n          \"10000\",\n          \"2016-04-02 19:51:07.368000\",\n          \"2016-04-03 02:45:00\"\n        ],\n        \"semantic_type\": \"\",\n        \"description\": \"\"\n      }\n    },\n    {\n      \"column\": \"passenger_count\",\n      \"properties\": {\n        \"dtype\": \"number\",\n        \"std\": 3534.8271369140534,\n        \"min\": 1.0,\n        \"max\": 10000.0,\n        \"num_unique_values\": 6,\n        \"samples\": [\n          10000.0,\n          1.6981,\n          1.303044965693182\n        ],\n        \"semantic_type\": \"\",\n        \"description\": \"\"\n      }\n    },\n    {\n      \"column\": \"trip_distance\",\n      \"properties\": {\n        \"dtype\": \"number\",\n        \"std\": 3533.334135699323,\n        \"min\": 0.0,\n        \"max\": 10000.0,\n        \"num_unique_values\": 8,\n        \"samples\": [\n          2.7433120000000004,\n          3.2,\n          10000.0\n        ],\n        \"semantic_type\": \"\",\n        \"description\": \"\"\n      }\n    },\n    {\n      \"column\": \"pickup_longitude\",\n      \"properties\": {\n        \"dtype\": \"number\",\n        \"std\": 3558.0378541734094,\n        \"min\": -74.0272522,\n        \"max\": 10000.0,\n        \"num_unique_values\": 8,\n        \"samples\": [\n          -73.97670169074601,\n          -73.9689369175,\n          10000.0\n        ],\n        \"semantic_type\": \"\",\n        \"description\": \"\"\n      }\n    },\n    {\n      \"column\": \"pickup_latitude\",\n      \"properties\": {\n        \"dtype\": \"number\",\n        \"std\": 3523.213166916465,\n        \"min\": 0.027118830307997648,\n        \"max\": 10000.0,\n        \"num_unique_values\": 8,\n        \"samples\": [\n          40.749273248359,\n          40.7664823525,\n          10000.0\n        ],\n        \"semantic_type\": \"\",\n        \"description\": \"\"\n      }\n    },\n    {\n      \"column\": \"dropoff_longitude\",\n      \"properties\": {\n        \"dtype\": \"number\",\n        \"std\": 3558.037443813368,\n        \"min\": -74.0272522,\n        \"max\": 10000.0,\n        \"num_unique_values\": 8,\n        \"samples\": [\n          -73.974211965179,\n          -73.96295166,\n          10000.0\n        ],\n        \"semantic_type\": \"\",\n        \"description\": \"\"\n      }\n    },\n    {\n      \"column\": \"dropoff_latitude\",\n      \"properties\": {\n        \"dtype\": \"number\",\n        \"std\": 3523.2128975196083,\n        \"min\": 0.030314394187601852,\n        \"max\": 10000.0,\n        \"num_unique_values\": 8,\n        \"samples\": [\n          40.750303780058005,\n          40.7685756675,\n          10000.0\n        ],\n        \"semantic_type\": \"\",\n        \"description\": \"\"\n      }\n    },\n    {\n      \"column\": \"trip_duration\",\n      \"properties\": {\n        \"dtype\": \"number\",\n        \"std\": 3375.2739837147833,\n        \"min\": 2.0,\n        \"max\": 10000.0,\n        \"num_unique_values\": 8,\n        \"samples\": [\n          746.0989,\n          988.0,\n          10000.0\n        ],\n        \"semantic_type\": \"\",\n        \"description\": \"\"\n      }\n    }\n  ]\n}"
            }
          },
          "metadata": {},
          "execution_count": 10
        }
      ],
      "source": [
        "trips.describe()"
      ]
    },
    {
      "cell_type": "markdown",
      "metadata": {
        "id": "uigUJZU_khx4"
      },
      "source": [
        "**<h1>PREGUNTA 1: ANÁLISIS DE DATOS</h1>**\n",
        "\n",
        "Describa la base de datos. ¿Cuántos trayectos hay en la base de datos? ¿Cómo describiría la distribución de la duración de los trayectos? ¿Hay algo que debamos observar? Asegúrese de que el histograma se muestra visible en el notebook.\n",
        "\n",
        "\n",
        "\n"
      ]
    },
    {
      "cell_type": "markdown",
      "metadata": {
        "id": "hkJLa08V9q-f"
      },
      "source": [
        "![caso6.1.jpg](data:image/jpeg;base64,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)\n",
        "\n",
        "Describa la base de datos.\n",
        "\n",
        "**¿Cuántos trayectos hay en la base de datos?**\n",
        "\n",
        "10,000.\n",
        "\n",
        "**¿Cómo describiría la distribución de la duración de los trayectos?**\n",
        "\n",
        "Definitivamente no es una campana de gauss, la distribución que esta presenta es como una F de Fiser, donde la mayor frecuencia se encuentra con una duración en el trayecto con entre 0 y 1000s.\n",
        "\n",
        "**¿Hay algo que debamos observar?**\n",
        "\n",
        "Se tiene un promedio de 746s y los datos se encuentran con una damasida dispersión, siendo la desviación estandar 525 s\n",
        "\n",
        "Asegúrese de que el histograma se muestra visible en el notebook."
      ]
    },
    {
      "cell_type": "markdown",
      "metadata": {
        "id": "hy_suiunkhx6"
      },
      "source": [
        "# Entidades y relaciones"
      ]
    },
    {
      "cell_type": "code",
      "execution_count": 11,
      "metadata": {
        "id": "vnxQjVeUNfMd"
      },
      "outputs": [],
      "source": [
        "pickup_neighborhoods = pickup_neighborhoods.dropna(subset=\"neighborhood_id\")\n",
        "dropoff_neighborhoods = dropoff_neighborhoods.dropna(subset=\"neighborhood_id\")"
      ]
    },
    {
      "cell_type": "code",
      "execution_count": 12,
      "metadata": {
        "id": "lbucIL3lkhx6",
        "outputId": "083eac21-f187-4f86-f476-e3937800430c",
        "colab": {
          "base_uri": "https://localhost:8080/"
        }
      },
      "outputs": [
        {
          "output_type": "stream",
          "name": "stdout",
          "text": [
            "Entidades y relaciones definidas con éxito!\n"
          ]
        }
      ],
      "source": [
        "entities = {\n",
        "    \"trips\": (trips, \"id\", 'pickup_datetime'),\n",
        "    \"pickup_neighborhoods\": (pickup_neighborhoods, \"neighborhood_id\"),\n",
        "    \"dropoff_neighborhoods\": (dropoff_neighborhoods, \"neighborhood_id\"),\n",
        "}\n",
        "\n",
        "relationships = [(\"pickup_neighborhoods\", \"neighborhood_id\", \"trips\", \"pickup_neighborhood\"),\n",
        "                 (\"dropoff_neighborhoods\", \"neighborhood_id\", \"trips\", \"dropoff_neighborhood\")]\n",
        "\n",
        "print('Entidades y relaciones definidas con éxito!')"
      ]
    },
    {
      "cell_type": "markdown",
      "metadata": {
        "id": "2vpGXeGckhx8"
      },
      "source": [
        "# Primitivas de transformación"
      ]
    },
    {
      "cell_type": "code",
      "execution_count": 13,
      "metadata": {
        "id": "rbMhdBjQkhx8",
        "scrolled": false,
        "outputId": "a650a2f6-1f5b-434e-ac2f-767cd3410f34",
        "colab": {
          "base_uri": "https://localhost:8080/"
        }
      },
      "outputs": [
        {
          "output_type": "stream",
          "name": "stderr",
          "text": [
            "/usr/local/lib/python3.10/dist-packages/woodwork/type_sys/utils.py:33: UserWarning: Could not infer format, so each element will be parsed individually, falling back to `dateutil`. To ensure parsing is consistent and as-expected, please specify a format.\n",
            "  pd.to_datetime(\n",
            "/usr/local/lib/python3.10/dist-packages/woodwork/type_sys/utils.py:33: UserWarning: Could not infer format, so each element will be parsed individually, falling back to `dateutil`. To ensure parsing is consistent and as-expected, please specify a format.\n",
            "  pd.to_datetime(\n",
            "/usr/local/lib/python3.10/dist-packages/woodwork/type_sys/utils.py:33: UserWarning: Could not infer format, so each element will be parsed individually, falling back to `dateutil`. To ensure parsing is consistent and as-expected, please specify a format.\n",
            "  pd.to_datetime(\n",
            "/usr/local/lib/python3.10/dist-packages/woodwork/type_sys/utils.py:33: UserWarning: Could not infer format, so each element will be parsed individually, falling back to `dateutil`. To ensure parsing is consistent and as-expected, please specify a format.\n",
            "  pd.to_datetime(\n",
            "/usr/local/lib/python3.10/dist-packages/woodwork/type_sys/utils.py:33: UserWarning: Could not infer format, so each element will be parsed individually, falling back to `dateutil`. To ensure parsing is consistent and as-expected, please specify a format.\n",
            "  pd.to_datetime(\n",
            "/usr/local/lib/python3.10/dist-packages/woodwork/type_sys/utils.py:33: UserWarning: Could not infer format, so each element will be parsed individually, falling back to `dateutil`. To ensure parsing is consistent and as-expected, please specify a format.\n",
            "  pd.to_datetime(\n",
            "/usr/local/lib/python3.10/dist-packages/woodwork/type_sys/utils.py:33: UserWarning: Could not infer format, so each element will be parsed individually, falling back to `dateutil`. To ensure parsing is consistent and as-expected, please specify a format.\n",
            "  pd.to_datetime(\n",
            "/usr/local/lib/python3.10/dist-packages/woodwork/type_sys/utils.py:33: UserWarning: Could not infer format, so each element will be parsed individually, falling back to `dateutil`. To ensure parsing is consistent and as-expected, please specify a format.\n",
            "  pd.to_datetime(\n",
            "/usr/local/lib/python3.10/dist-packages/woodwork/type_sys/utils.py:33: UserWarning: Could not infer format, so each element will be parsed individually, falling back to `dateutil`. To ensure parsing is consistent and as-expected, please specify a format.\n",
            "  pd.to_datetime(\n",
            "/usr/local/lib/python3.10/dist-packages/woodwork/type_sys/utils.py:33: UserWarning: Could not infer format, so each element will be parsed individually, falling back to `dateutil`. To ensure parsing is consistent and as-expected, please specify a format.\n",
            "  pd.to_datetime(\n",
            "/usr/local/lib/python3.10/dist-packages/featuretools/entityset/entityset.py:414: UserWarning: Logical type Categorical for child column pickup_neighborhood does not match parent column neighborhood_id logical type Unknown. Changing child logical type to match parent.\n",
            "  warnings.warn(\n",
            "/usr/local/lib/python3.10/dist-packages/featuretools/entityset/entityset.py:414: UserWarning: Logical type Categorical for child column dropoff_neighborhood does not match parent column neighborhood_id logical type Unknown. Changing child logical type to match parent.\n",
            "  warnings.warn(\n"
          ]
        },
        {
          "output_type": "stream",
          "name": "stdout",
          "text": [
            "Primitivas de transformación definidas con éxito!\n"
          ]
        }
      ],
      "source": [
        "# ==============================================\n",
        "# Listado de las primitivas creadas en este paso\n",
        "trans_primitives = [IsWeekend]\n",
        "# ==============================================\n",
        "\n",
        "\n",
        "# This may take some time to compute\n",
        "features = ft.dfs(dataframes=entities,\n",
        "                  relationships=relationships,\n",
        "                  target_dataframe_name=\"trips\",\n",
        "                  trans_primitives=trans_primitives,\n",
        "                  agg_primitives=[],\n",
        "                  ignore_columns={\"trips\": [\"pickup_latitude\", \"pickup_longitude\",\n",
        "                                              \"dropoff_latitude\", \"dropoff_longitude\", \"trip_duration\"]},\n",
        "                  features_only=True)\n",
        "\n",
        "print('Primitivas de transformación definidas con éxito!')"
      ]
    },
    {
      "cell_type": "markdown",
      "metadata": {
        "id": "LiwmeZZLkhx-"
      },
      "source": [
        "Aquí hay algunos atributos que acabamos de crear:"
      ]
    },
    {
      "cell_type": "code",
      "execution_count": 14,
      "metadata": {
        "id": "dZqqDOrgkhx_",
        "outputId": "4aaeddc7-f072-4db5-e7fe-4b74656a25dc",
        "colab": {
          "base_uri": "https://localhost:8080/"
        }
      },
      "outputs": [
        {
          "output_type": "stream",
          "name": "stdout",
          "text": [
            "Número de atributos: 10\n"
          ]
        },
        {
          "output_type": "execute_result",
          "data": {
            "text/plain": [
              "[<Feature: vendor_id>,\n",
              " <Feature: passenger_count>,\n",
              " <Feature: trip_distance>,\n",
              " <Feature: payment_type>,\n",
              " <Feature: IS_WEEKEND(dropoff_datetime)>,\n",
              " <Feature: IS_WEEKEND(pickup_datetime)>,\n",
              " <Feature: pickup_neighborhoods.latitude>,\n",
              " <Feature: pickup_neighborhoods.longitude>,\n",
              " <Feature: dropoff_neighborhoods.latitude>,\n",
              " <Feature: dropoff_neighborhoods.longitude>]"
            ]
          },
          "metadata": {},
          "execution_count": 14
        }
      ],
      "source": [
        "print(f\"Número de atributos: {len(features)}\")\n",
        "features"
      ]
    },
    {
      "cell_type": "markdown",
      "metadata": {
        "id": "ChplS6abkhyA"
      },
      "source": [
        "Finalmente, calculamos la matriz de atributos con dichos atributos:"
      ]
    },
    {
      "cell_type": "code",
      "execution_count": 15,
      "metadata": {
        "id": "FWrtELGnkhyB",
        "outputId": "dfadf270-93e6-4a1c-883c-7f51c1eaf67f",
        "colab": {
          "base_uri": "https://localhost:8080/",
          "height": 396
        }
      },
      "outputs": [
        {
          "output_type": "stream",
          "name": "stderr",
          "text": [
            "/usr/local/lib/python3.10/dist-packages/featuretools/entityset/entityset.py:754: UserWarning: A Woodwork-initialized DataFrame was provided, so the following parameters were ignored: index, time_index\n",
            "  warnings.warn(\n",
            "/usr/local/lib/python3.10/dist-packages/featuretools/entityset/entityset.py:754: UserWarning: A Woodwork-initialized DataFrame was provided, so the following parameters were ignored: index\n",
            "  warnings.warn(\n",
            "/usr/local/lib/python3.10/dist-packages/featuretools/computational_backends/calculate_feature_matrix.py:239: UserWarning: Using approximate with a single cutoff_time value or no cutoff_time provides no computational efficiency benefit\n",
            "  warnings.warn(msg)\n"
          ]
        },
        {
          "output_type": "stream",
          "name": "stdout",
          "text": [
            "Elapsed: 00:00 | Progress: 100%|██████████\n",
            "Finishing computing...\n"
          ]
        },
        {
          "output_type": "execute_result",
          "data": {
            "text/plain": [
              "        IS_WEEKEND(dropoff_datetime)  payment_type  \\\n",
              "id                                                   \n",
              "514030                          True             1   \n",
              "514031                          True             1   \n",
              "514032                          True             1   \n",
              "514033                          True             2   \n",
              "514034                          True             1   \n",
              "\n",
              "        dropoff_neighborhoods.latitude  passenger_count  trip_distance  \\\n",
              "id                                                                       \n",
              "514030                       40.766809                1           2.46   \n",
              "514031                       40.793597                2           7.90   \n",
              "514032                       40.740333                1           1.00   \n",
              "514033                       40.720245                1           0.02   \n",
              "514034                       40.785005                2          19.00   \n",
              "\n",
              "        dropoff_neighborhoods.longitude  vendor_id  \\\n",
              "id                                                   \n",
              "514030                       -73.956886          2   \n",
              "514031                       -73.969822          1   \n",
              "514032                       -74.005107          1   \n",
              "514033                       -73.987205          2   \n",
              "514034                       -73.976050          1   \n",
              "\n",
              "        IS_WEEKEND(pickup_datetime)  pickup_neighborhoods.longitude  \\\n",
              "id                                                                    \n",
              "514030                         True                      -73.986446   \n",
              "514031                         True                      -73.919159   \n",
              "514032                         True                      -73.991595   \n",
              "514033                         True                      -73.987205   \n",
              "514034                         True                      -73.785073   \n",
              "\n",
              "        pickup_neighborhoods.latitude  \n",
              "id                                     \n",
              "514030                      40.757707  \n",
              "514031                      40.744928  \n",
              "514032                      40.729652  \n",
              "514033                      40.720245  \n",
              "514034                      40.646194  "
            ],
            "text/html": [
              "\n",
              "  <div id=\"df-f4af901a-9691-4239-8168-995962aaa8df\" class=\"colab-df-container\">\n",
              "    <div>\n",
              "<style scoped>\n",
              "    .dataframe tbody tr th:only-of-type {\n",
              "        vertical-align: middle;\n",
              "    }\n",
              "\n",
              "    .dataframe tbody tr th {\n",
              "        vertical-align: top;\n",
              "    }\n",
              "\n",
              "    .dataframe thead th {\n",
              "        text-align: right;\n",
              "    }\n",
              "</style>\n",
              "<table border=\"1\" class=\"dataframe\">\n",
              "  <thead>\n",
              "    <tr style=\"text-align: right;\">\n",
              "      <th></th>\n",
              "      <th>IS_WEEKEND(dropoff_datetime)</th>\n",
              "      <th>payment_type</th>\n",
              "      <th>dropoff_neighborhoods.latitude</th>\n",
              "      <th>passenger_count</th>\n",
              "      <th>trip_distance</th>\n",
              "      <th>dropoff_neighborhoods.longitude</th>\n",
              "      <th>vendor_id</th>\n",
              "      <th>IS_WEEKEND(pickup_datetime)</th>\n",
              "      <th>pickup_neighborhoods.longitude</th>\n",
              "      <th>pickup_neighborhoods.latitude</th>\n",
              "    </tr>\n",
              "    <tr>\n",
              "      <th>id</th>\n",
              "      <th></th>\n",
              "      <th></th>\n",
              "      <th></th>\n",
              "      <th></th>\n",
              "      <th></th>\n",
              "      <th></th>\n",
              "      <th></th>\n",
              "      <th></th>\n",
              "      <th></th>\n",
              "      <th></th>\n",
              "    </tr>\n",
              "  </thead>\n",
              "  <tbody>\n",
              "    <tr>\n",
              "      <th>514030</th>\n",
              "      <td>True</td>\n",
              "      <td>1</td>\n",
              "      <td>40.766809</td>\n",
              "      <td>1</td>\n",
              "      <td>2.46</td>\n",
              "      <td>-73.956886</td>\n",
              "      <td>2</td>\n",
              "      <td>True</td>\n",
              "      <td>-73.986446</td>\n",
              "      <td>40.757707</td>\n",
              "    </tr>\n",
              "    <tr>\n",
              "      <th>514031</th>\n",
              "      <td>True</td>\n",
              "      <td>1</td>\n",
              "      <td>40.793597</td>\n",
              "      <td>2</td>\n",
              "      <td>7.90</td>\n",
              "      <td>-73.969822</td>\n",
              "      <td>1</td>\n",
              "      <td>True</td>\n",
              "      <td>-73.919159</td>\n",
              "      <td>40.744928</td>\n",
              "    </tr>\n",
              "    <tr>\n",
              "      <th>514032</th>\n",
              "      <td>True</td>\n",
              "      <td>1</td>\n",
              "      <td>40.740333</td>\n",
              "      <td>1</td>\n",
              "      <td>1.00</td>\n",
              "      <td>-74.005107</td>\n",
              "      <td>1</td>\n",
              "      <td>True</td>\n",
              "      <td>-73.991595</td>\n",
              "      <td>40.729652</td>\n",
              "    </tr>\n",
              "    <tr>\n",
              "      <th>514033</th>\n",
              "      <td>True</td>\n",
              "      <td>2</td>\n",
              "      <td>40.720245</td>\n",
              "      <td>1</td>\n",
              "      <td>0.02</td>\n",
              "      <td>-73.987205</td>\n",
              "      <td>2</td>\n",
              "      <td>True</td>\n",
              "      <td>-73.987205</td>\n",
              "      <td>40.720245</td>\n",
              "    </tr>\n",
              "    <tr>\n",
              "      <th>514034</th>\n",
              "      <td>True</td>\n",
              "      <td>1</td>\n",
              "      <td>40.785005</td>\n",
              "      <td>2</td>\n",
              "      <td>19.00</td>\n",
              "      <td>-73.976050</td>\n",
              "      <td>1</td>\n",
              "      <td>True</td>\n",
              "      <td>-73.785073</td>\n",
              "      <td>40.646194</td>\n",
              "    </tr>\n",
              "  </tbody>\n",
              "</table>\n",
              "</div>\n",
              "    <div class=\"colab-df-buttons\">\n",
              "\n",
              "  <div class=\"colab-df-container\">\n",
              "    <button class=\"colab-df-convert\" onclick=\"convertToInteractive('df-f4af901a-9691-4239-8168-995962aaa8df')\"\n",
              "            title=\"Convert this dataframe to an interactive table.\"\n",
              "            style=\"display:none;\">\n",
              "\n",
              "  <svg xmlns=\"http://www.w3.org/2000/svg\" height=\"24px\" viewBox=\"0 -960 960 960\">\n",
              "    <path d=\"M120-120v-720h720v720H120Zm60-500h600v-160H180v160Zm220 220h160v-160H400v160Zm0 220h160v-160H400v160ZM180-400h160v-160H180v160Zm440 0h160v-160H620v160ZM180-180h160v-160H180v160Zm440 0h160v-160H620v160Z\"/>\n",
              "  </svg>\n",
              "    </button>\n",
              "\n",
              "  <style>\n",
              "    .colab-df-container {\n",
              "      display:flex;\n",
              "      gap: 12px;\n",
              "    }\n",
              "\n",
              "    .colab-df-convert {\n",
              "      background-color: #E8F0FE;\n",
              "      border: none;\n",
              "      border-radius: 50%;\n",
              "      cursor: pointer;\n",
              "      display: none;\n",
              "      fill: #1967D2;\n",
              "      height: 32px;\n",
              "      padding: 0 0 0 0;\n",
              "      width: 32px;\n",
              "    }\n",
              "\n",
              "    .colab-df-convert:hover {\n",
              "      background-color: #E2EBFA;\n",
              "      box-shadow: 0px 1px 2px rgba(60, 64, 67, 0.3), 0px 1px 3px 1px rgba(60, 64, 67, 0.15);\n",
              "      fill: #174EA6;\n",
              "    }\n",
              "\n",
              "    .colab-df-buttons div {\n",
              "      margin-bottom: 4px;\n",
              "    }\n",
              "\n",
              "    [theme=dark] .colab-df-convert {\n",
              "      background-color: #3B4455;\n",
              "      fill: #D2E3FC;\n",
              "    }\n",
              "\n",
              "    [theme=dark] .colab-df-convert:hover {\n",
              "      background-color: #434B5C;\n",
              "      box-shadow: 0px 1px 3px 1px rgba(0, 0, 0, 0.15);\n",
              "      filter: drop-shadow(0px 1px 2px rgba(0, 0, 0, 0.3));\n",
              "      fill: #FFFFFF;\n",
              "    }\n",
              "  </style>\n",
              "\n",
              "    <script>\n",
              "      const buttonEl =\n",
              "        document.querySelector('#df-f4af901a-9691-4239-8168-995962aaa8df button.colab-df-convert');\n",
              "      buttonEl.style.display =\n",
              "        google.colab.kernel.accessAllowed ? 'block' : 'none';\n",
              "\n",
              "      async function convertToInteractive(key) {\n",
              "        const element = document.querySelector('#df-f4af901a-9691-4239-8168-995962aaa8df');\n",
              "        const dataTable =\n",
              "          await google.colab.kernel.invokeFunction('convertToInteractive',\n",
              "                                                    [key], {});\n",
              "        if (!dataTable) return;\n",
              "\n",
              "        const docLinkHtml = 'Like what you see? Visit the ' +\n",
              "          '<a target=\"_blank\" href=https://colab.research.google.com/notebooks/data_table.ipynb>data table notebook</a>'\n",
              "          + ' to learn more about interactive tables.';\n",
              "        element.innerHTML = '';\n",
              "        dataTable['output_type'] = 'display_data';\n",
              "        await google.colab.output.renderOutput(dataTable, element);\n",
              "        const docLink = document.createElement('div');\n",
              "        docLink.innerHTML = docLinkHtml;\n",
              "        element.appendChild(docLink);\n",
              "      }\n",
              "    </script>\n",
              "  </div>\n",
              "\n",
              "\n",
              "<div id=\"df-ca12e0a3-4949-4a43-ba9b-af2da9544c4a\">\n",
              "  <button class=\"colab-df-quickchart\" onclick=\"quickchart('df-ca12e0a3-4949-4a43-ba9b-af2da9544c4a')\"\n",
              "            title=\"Suggest charts\"\n",
              "            style=\"display:none;\">\n",
              "\n",
              "<svg xmlns=\"http://www.w3.org/2000/svg\" height=\"24px\"viewBox=\"0 0 24 24\"\n",
              "     width=\"24px\">\n",
              "    <g>\n",
              "        <path d=\"M19 3H5c-1.1 0-2 .9-2 2v14c0 1.1.9 2 2 2h14c1.1 0 2-.9 2-2V5c0-1.1-.9-2-2-2zM9 17H7v-7h2v7zm4 0h-2V7h2v10zm4 0h-2v-4h2v4z\"/>\n",
              "    </g>\n",
              "</svg>\n",
              "  </button>\n",
              "\n",
              "<style>\n",
              "  .colab-df-quickchart {\n",
              "      --bg-color: #E8F0FE;\n",
              "      --fill-color: #1967D2;\n",
              "      --hover-bg-color: #E2EBFA;\n",
              "      --hover-fill-color: #174EA6;\n",
              "      --disabled-fill-color: #AAA;\n",
              "      --disabled-bg-color: #DDD;\n",
              "  }\n",
              "\n",
              "  [theme=dark] .colab-df-quickchart {\n",
              "      --bg-color: #3B4455;\n",
              "      --fill-color: #D2E3FC;\n",
              "      --hover-bg-color: #434B5C;\n",
              "      --hover-fill-color: #FFFFFF;\n",
              "      --disabled-bg-color: #3B4455;\n",
              "      --disabled-fill-color: #666;\n",
              "  }\n",
              "\n",
              "  .colab-df-quickchart {\n",
              "    background-color: var(--bg-color);\n",
              "    border: none;\n",
              "    border-radius: 50%;\n",
              "    cursor: pointer;\n",
              "    display: none;\n",
              "    fill: var(--fill-color);\n",
              "    height: 32px;\n",
              "    padding: 0;\n",
              "    width: 32px;\n",
              "  }\n",
              "\n",
              "  .colab-df-quickchart:hover {\n",
              "    background-color: var(--hover-bg-color);\n",
              "    box-shadow: 0 1px 2px rgba(60, 64, 67, 0.3), 0 1px 3px 1px rgba(60, 64, 67, 0.15);\n",
              "    fill: var(--button-hover-fill-color);\n",
              "  }\n",
              "\n",
              "  .colab-df-quickchart-complete:disabled,\n",
              "  .colab-df-quickchart-complete:disabled:hover {\n",
              "    background-color: var(--disabled-bg-color);\n",
              "    fill: var(--disabled-fill-color);\n",
              "    box-shadow: none;\n",
              "  }\n",
              "\n",
              "  .colab-df-spinner {\n",
              "    border: 2px solid var(--fill-color);\n",
              "    border-color: transparent;\n",
              "    border-bottom-color: var(--fill-color);\n",
              "    animation:\n",
              "      spin 1s steps(1) infinite;\n",
              "  }\n",
              "\n",
              "  @keyframes spin {\n",
              "    0% {\n",
              "      border-color: transparent;\n",
              "      border-bottom-color: var(--fill-color);\n",
              "      border-left-color: var(--fill-color);\n",
              "    }\n",
              "    20% {\n",
              "      border-color: transparent;\n",
              "      border-left-color: var(--fill-color);\n",
              "      border-top-color: var(--fill-color);\n",
              "    }\n",
              "    30% {\n",
              "      border-color: transparent;\n",
              "      border-left-color: var(--fill-color);\n",
              "      border-top-color: var(--fill-color);\n",
              "      border-right-color: var(--fill-color);\n",
              "    }\n",
              "    40% {\n",
              "      border-color: transparent;\n",
              "      border-right-color: var(--fill-color);\n",
              "      border-top-color: var(--fill-color);\n",
              "    }\n",
              "    60% {\n",
              "      border-color: transparent;\n",
              "      border-right-color: var(--fill-color);\n",
              "    }\n",
              "    80% {\n",
              "      border-color: transparent;\n",
              "      border-right-color: var(--fill-color);\n",
              "      border-bottom-color: var(--fill-color);\n",
              "    }\n",
              "    90% {\n",
              "      border-color: transparent;\n",
              "      border-bottom-color: var(--fill-color);\n",
              "    }\n",
              "  }\n",
              "</style>\n",
              "\n",
              "  <script>\n",
              "    async function quickchart(key) {\n",
              "      const quickchartButtonEl =\n",
              "        document.querySelector('#' + key + ' button');\n",
              "      quickchartButtonEl.disabled = true;  // To prevent multiple clicks.\n",
              "      quickchartButtonEl.classList.add('colab-df-spinner');\n",
              "      try {\n",
              "        const charts = await google.colab.kernel.invokeFunction(\n",
              "            'suggestCharts', [key], {});\n",
              "      } catch (error) {\n",
              "        console.error('Error during call to suggestCharts:', error);\n",
              "      }\n",
              "      quickchartButtonEl.classList.remove('colab-df-spinner');\n",
              "      quickchartButtonEl.classList.add('colab-df-quickchart-complete');\n",
              "    }\n",
              "    (() => {\n",
              "      let quickchartButtonEl =\n",
              "        document.querySelector('#df-ca12e0a3-4949-4a43-ba9b-af2da9544c4a button');\n",
              "      quickchartButtonEl.style.display =\n",
              "        google.colab.kernel.accessAllowed ? 'block' : 'none';\n",
              "    })();\n",
              "  </script>\n",
              "</div>\n",
              "\n",
              "    </div>\n",
              "  </div>\n"
            ],
            "application/vnd.google.colaboratory.intrinsic+json": {
              "type": "dataframe",
              "summary": "{\n  \"name\": \"preview(feature_matrix, 5)\",\n  \"rows\": 5,\n  \"fields\": [\n    {\n      \"column\": \"id\",\n      \"properties\": {\n        \"dtype\": \"number\",\n        \"std\": 1,\n        \"min\": 514030,\n        \"max\": 514034,\n        \"num_unique_values\": 5,\n        \"samples\": [\n          514031,\n          514034,\n          514032\n        ],\n        \"semantic_type\": \"\",\n        \"description\": \"\"\n      }\n    },\n    {\n      \"column\": \"IS_WEEKEND(dropoff_datetime)\",\n      \"properties\": {\n        \"dtype\": \"boolean\",\n        \"num_unique_values\": 1,\n        \"samples\": [\n          true\n        ],\n        \"semantic_type\": \"\",\n        \"description\": \"\"\n      }\n    },\n    {\n      \"column\": \"payment_type\",\n      \"properties\": {\n        \"dtype\": \"number\",\n        \"std\": 0,\n        \"min\": 1,\n        \"max\": 2,\n        \"num_unique_values\": 2,\n        \"samples\": [\n          2\n        ],\n        \"semantic_type\": \"\",\n        \"description\": \"\"\n      }\n    },\n    {\n      \"column\": \"dropoff_neighborhoods.latitude\",\n      \"properties\": {\n        \"dtype\": \"number\",\n        \"std\": 0.030661183325506648,\n        \"min\": 40.7202450246,\n        \"max\": 40.7935967707,\n        \"num_unique_values\": 5,\n        \"samples\": [\n          40.7935967707\n        ],\n        \"semantic_type\": \"\",\n        \"description\": \"\"\n      }\n    },\n    {\n      \"column\": \"passenger_count\",\n      \"properties\": {\n        \"dtype\": \"number\",\n        \"std\": 0,\n        \"min\": 1,\n        \"max\": 2,\n        \"num_unique_values\": 2,\n        \"samples\": [\n          2\n        ],\n        \"semantic_type\": \"\",\n        \"description\": \"\"\n      }\n    },\n    {\n      \"column\": \"trip_distance\",\n      \"properties\": {\n        \"dtype\": \"number\",\n        \"std\": 7.840170916504308,\n        \"min\": 0.02,\n        \"max\": 19.0,\n        \"num_unique_values\": 5,\n        \"samples\": [\n          7.9\n        ],\n        \"semantic_type\": \"\",\n        \"description\": \"\"\n      }\n    },\n    {\n      \"column\": \"dropoff_neighborhoods.longitude\",\n      \"properties\": {\n        \"dtype\": \"number\",\n        \"std\": 0.018240240970304328,\n        \"min\": -74.0051067234,\n        \"max\": -73.9568862642,\n        \"num_unique_values\": 5,\n        \"samples\": [\n          -73.9698224285\n        ],\n        \"semantic_type\": \"\",\n        \"description\": \"\"\n      }\n    },\n    {\n      \"column\": \"vendor_id\",\n      \"properties\": {\n        \"dtype\": \"number\",\n        \"std\": 0,\n        \"min\": 1,\n        \"max\": 2,\n        \"num_unique_values\": 2,\n        \"samples\": [\n          1\n        ],\n        \"semantic_type\": \"\",\n        \"description\": \"\"\n      }\n    },\n    {\n      \"column\": \"IS_WEEKEND(pickup_datetime)\",\n      \"properties\": {\n        \"dtype\": \"boolean\",\n        \"num_unique_values\": 1,\n        \"samples\": [\n          true\n        ],\n        \"semantic_type\": \"\",\n        \"description\": \"\"\n      }\n    },\n    {\n      \"column\": \"pickup_neighborhoods.longitude\",\n      \"properties\": {\n        \"dtype\": \"number\",\n        \"std\": 0.08845634469529726,\n        \"min\": -73.9915951756,\n        \"max\": -73.7850725678,\n        \"num_unique_values\": 5,\n        \"samples\": [\n          -73.9191588636\n        ],\n        \"semantic_type\": \"\",\n        \"description\": \"\"\n      }\n    },\n    {\n      \"column\": \"pickup_neighborhoods.latitude\",\n      \"properties\": {\n        \"dtype\": \"number\",\n        \"std\": 0.043541552400487814,\n        \"min\": 40.6461938419,\n        \"max\": 40.7577070564,\n        \"num_unique_values\": 5,\n        \"samples\": [\n          40.7449280019\n        ],\n        \"semantic_type\": \"\",\n        \"description\": \"\"\n      }\n    }\n  ]\n}"
            }
          },
          "metadata": {},
          "execution_count": 15
        }
      ],
      "source": [
        "feature_matrix = compute_features(features, entities, relationships)\n",
        "preview(feature_matrix, 5)"
      ]
    },
    {
      "cell_type": "code",
      "execution_count": 16,
      "metadata": {
        "id": "hzR1NFAwRf6L",
        "outputId": "a7140ad6-e68c-46ec-c431-7b375652c1da",
        "colab": {
          "base_uri": "https://localhost:8080/"
        }
      },
      "outputs": [
        {
          "output_type": "execute_result",
          "data": {
            "text/plain": [
              "Index(['IS_WEEKEND(dropoff_datetime)', 'payment_type',\n",
              "       'dropoff_neighborhoods.latitude', 'passenger_count', 'trip_distance',\n",
              "       'dropoff_neighborhoods.longitude', 'vendor_id',\n",
              "       'IS_WEEKEND(pickup_datetime)', 'pickup_neighborhoods.longitude',\n",
              "       'pickup_neighborhoods.latitude'],\n",
              "      dtype='object')"
            ]
          },
          "metadata": {},
          "execution_count": 16
        }
      ],
      "source": [
        "feature_matrix.columns"
      ]
    },
    {
      "cell_type": "markdown",
      "metadata": {
        "id": "qu-oiBMFkhyD"
      },
      "source": [
        "# Primer modelo"
      ]
    },
    {
      "cell_type": "code",
      "execution_count": 17,
      "metadata": {
        "id": "M5_1FTDmkhyD",
        "outputId": "ad02caad-8895-4f79-b0af-160717af1578",
        "colab": {
          "base_uri": "https://localhost:8080/"
        }
      },
      "outputs": [
        {
          "output_type": "stream",
          "name": "stdout",
          "text": [
            "Dados separados com sucesso!\n"
          ]
        }
      ],
      "source": [
        "# Separación de los datos de entrenamiento y prueba\n",
        "X_train, y_train, X_test, y_test = utils.get_train_test_fm(feature_matrix, trips, .75)\n",
        "y_train = np.log(y_train + 1)\n",
        "y_test = np.log(y_test + 1)\n",
        "\n",
        "print('Dados separados com sucesso!')"
      ]
    },
    {
      "cell_type": "code",
      "execution_count": 18,
      "metadata": {
        "id": "4dKGdrskkhyF",
        "outputId": "9a22327c-0fd1-48bc-9e0f-026e9ca5a9e3",
        "colab": {
          "base_uri": "https://localhost:8080/"
        }
      },
      "outputs": [
        {
          "output_type": "stream",
          "name": "stdout",
          "text": [
            "      Iter       Train Loss   Remaining Time \n",
            "         1           0.4736            3.30s\n",
            "         2           0.4148            3.86s\n",
            "         3           0.3661            3.07s\n",
            "         4           0.3266            2.70s\n",
            "         5           0.2934            3.02s\n",
            "         6           0.2665            2.80s\n",
            "         7           0.2441            2.78s\n",
            "         8           0.2257            2.53s\n",
            "         9           0.2103            2.33s\n",
            "        10           0.1973            2.17s\n",
            "        20           0.1435            1.53s\n",
            "        30           0.1315            1.32s\n",
            "        40           0.1262            1.02s\n",
            "        50           0.1231            0.81s\n",
            "        60           0.1209            0.61s\n",
            "        70           0.1188            0.46s\n",
            "        80           0.1167            0.32s\n",
            "        90           0.1154            0.16s\n",
            "       100           0.1139            0.00s\n",
            "0.7562183415378823\n",
            "Fase de entrenamiento realizada con éxito!\n"
          ]
        }
      ],
      "source": [
        "# El entrenamiento debería durar alrededor de un minuto\n",
        "model = GradientBoostingRegressor(verbose=True)\n",
        "model.fit(X_train, y_train)\n",
        "print(model.score(X_test, y_test)) # Valor R^2 de la predicción\n",
        "\n",
        "print('Fase de entrenamiento realizada con éxito!')"
      ]
    },
    {
      "cell_type": "markdown",
      "metadata": {
        "id": "J5kj5EaskhyH"
      },
      "source": [
        "**<h1 style=\"color:red;\">PREGUNTA 2: PRIMER MODELO</h1>**"
      ]
    },
    {
      "cell_type": "markdown",
      "metadata": {
        "id": "vMxOoWEPkhyH"
      },
      "source": [
        "Describa todos los atributos que hemos añadido al modelo. ¿Cree que han mejorado el desempeño respecto al modelo que no contaba con ellos? ¿Por qué?"
      ]
    },
    {
      "cell_type": "markdown",
      "metadata": {
        "id": "hQ0Gaa8gWyd1"
      },
      "source": [
        "*Su respuesta aqui - double click para editar*"
      ]
    },
    {
      "cell_type": "code",
      "execution_count": 19,
      "metadata": {
        "id": "2D2DE5aUkhyI",
        "outputId": "f5ea5119-ae99-4cc9-a470-172ba89f00ff",
        "colab": {
          "base_uri": "https://localhost:8080/"
        }
      },
      "outputs": [
        {
          "output_type": "stream",
          "name": "stdout",
          "text": [
            "Primitivas de tranformación definidas con éxito!\n"
          ]
        },
        {
          "output_type": "stream",
          "name": "stderr",
          "text": [
            "/usr/local/lib/python3.10/dist-packages/featuretools/entityset/entityset.py:754: UserWarning: A Woodwork-initialized DataFrame was provided, so the following parameters were ignored: index, time_index\n",
            "  warnings.warn(\n",
            "/usr/local/lib/python3.10/dist-packages/featuretools/entityset/entityset.py:754: UserWarning: A Woodwork-initialized DataFrame was provided, so the following parameters were ignored: index\n",
            "  warnings.warn(\n"
          ]
        }
      ],
      "source": [
        "# ==============================================\n",
        "# Listado de las primitivas creadas en este paso\n",
        "trans_primitives = [Minute, Hour, Day, Week, Month, Weekday, IsWeekend]\n",
        "# ==============================================\n",
        "\n",
        "features = ft.dfs(dataframes=entities,\n",
        "                  relationships=relationships,\n",
        "                  target_dataframe_name=\"trips\",\n",
        "                  trans_primitives=trans_primitives,\n",
        "                  agg_primitives=[],\n",
        "                  ignore_columns={\"trips\": [\"pickup_latitude\", \"pickup_longitude\",\n",
        "                                              \"dropoff_latitude\", \"dropoff_longitude\", \"trip_duration\"]},\n",
        "                  features_only=True)\n",
        "\n",
        "print('Primitivas de tranformación definidas con éxito!')"
      ]
    },
    {
      "cell_type": "code",
      "execution_count": 20,
      "metadata": {
        "id": "EZwHaz5kkhyK",
        "outputId": "fc0b844e-0082-4f16-d3d2-98ead39ab67e",
        "colab": {
          "base_uri": "https://localhost:8080/"
        }
      },
      "outputs": [
        {
          "output_type": "stream",
          "name": "stdout",
          "text": [
            "Número de atributos: 22\n"
          ]
        },
        {
          "output_type": "execute_result",
          "data": {
            "text/plain": [
              "[<Feature: vendor_id>,\n",
              " <Feature: passenger_count>,\n",
              " <Feature: trip_distance>,\n",
              " <Feature: payment_type>,\n",
              " <Feature: DAY(dropoff_datetime)>,\n",
              " <Feature: DAY(pickup_datetime)>,\n",
              " <Feature: HOUR(dropoff_datetime)>,\n",
              " <Feature: HOUR(pickup_datetime)>,\n",
              " <Feature: IS_WEEKEND(dropoff_datetime)>,\n",
              " <Feature: IS_WEEKEND(pickup_datetime)>,\n",
              " <Feature: MINUTE(dropoff_datetime)>,\n",
              " <Feature: MINUTE(pickup_datetime)>,\n",
              " <Feature: MONTH(dropoff_datetime)>,\n",
              " <Feature: MONTH(pickup_datetime)>,\n",
              " <Feature: WEEK(dropoff_datetime)>,\n",
              " <Feature: WEEK(pickup_datetime)>,\n",
              " <Feature: WEEKDAY(dropoff_datetime)>,\n",
              " <Feature: WEEKDAY(pickup_datetime)>,\n",
              " <Feature: pickup_neighborhoods.latitude>,\n",
              " <Feature: pickup_neighborhoods.longitude>,\n",
              " <Feature: dropoff_neighborhoods.latitude>,\n",
              " <Feature: dropoff_neighborhoods.longitude>]"
            ]
          },
          "metadata": {},
          "execution_count": 20
        }
      ],
      "source": [
        "print(f\"Número de atributos: {len(features)}\")\n",
        "features"
      ]
    },
    {
      "cell_type": "code",
      "execution_count": 21,
      "metadata": {
        "id": "Z5bRM1BqkhyM",
        "outputId": "ee054ea4-1b1f-4cf3-803d-7705009bf846",
        "colab": {
          "base_uri": "https://localhost:8080/",
          "height": 356
        }
      },
      "outputs": [
        {
          "output_type": "stream",
          "name": "stderr",
          "text": [
            "/usr/local/lib/python3.10/dist-packages/featuretools/computational_backends/calculate_feature_matrix.py:239: UserWarning: Using approximate with a single cutoff_time value or no cutoff_time provides no computational efficiency benefit\n",
            "  warnings.warn(msg)\n"
          ]
        },
        {
          "output_type": "stream",
          "name": "stdout",
          "text": [
            "Elapsed: 00:00 | Progress: 100%|██████████\n",
            "Finishing computing...\n"
          ]
        },
        {
          "output_type": "execute_result",
          "data": {
            "text/plain": [
              "       WEEKDAY(pickup_datetime) WEEK(dropoff_datetime)  passenger_count  \\\n",
              "id                                                                        \n",
              "514030                        5                     13                1   \n",
              "514031                        5                     13                2   \n",
              "514032                        5                     13                1   \n",
              "514033                        5                     13                1   \n",
              "514034                        5                     13                2   \n",
              "\n",
              "       WEEKDAY(dropoff_datetime) MINUTE(pickup_datetime)  \\\n",
              "id                                                         \n",
              "514030                         5                       0   \n",
              "514031                         5                       0   \n",
              "514032                         5                       0   \n",
              "514033                         5                       0   \n",
              "514034                         5                       1   \n",
              "\n",
              "        dropoff_neighborhoods.longitude WEEK(pickup_datetime)  \\\n",
              "id                                                              \n",
              "514030                       -73.956886                    13   \n",
              "514031                       -73.969822                    13   \n",
              "514032                       -74.005107                    13   \n",
              "514033                       -73.987205                    13   \n",
              "514034                       -73.976050                    13   \n",
              "\n",
              "        IS_WEEKEND(dropoff_datetime) MONTH(pickup_datetime)  \\\n",
              "id                                                            \n",
              "514030                          True                      4   \n",
              "514031                          True                      4   \n",
              "514032                          True                      4   \n",
              "514033                          True                      4   \n",
              "514034                          True                      4   \n",
              "\n",
              "       HOUR(dropoff_datetime)  ... DAY(dropoff_datetime)  \\\n",
              "id                             ...                         \n",
              "514030                      0  ...                     2   \n",
              "514031                      0  ...                     2   \n",
              "514032                      0  ...                     2   \n",
              "514033                      0  ...                     2   \n",
              "514034                      0  ...                     2   \n",
              "\n",
              "        MINUTE(dropoff_datetime) trip_distance payment_type  \\\n",
              "id                                                            \n",
              "514030                        17          2.46            1   \n",
              "514031                        24          7.90            1   \n",
              "514032                        19          1.00            1   \n",
              "514033                         1          0.02            2   \n",
              "514034                        58         19.00            1   \n",
              "\n",
              "        pickup_neighborhoods.latitude  DAY(pickup_datetime)  vendor_id  \\\n",
              "id                                                                       \n",
              "514030                      40.757707                     2          2   \n",
              "514031                      40.744928                     2          1   \n",
              "514032                      40.729652                     2          1   \n",
              "514033                      40.720245                     2          2   \n",
              "514034                      40.646194                     2          1   \n",
              "\n",
              "       pickup_neighborhoods.longitude  IS_WEEKEND(pickup_datetime)  \\\n",
              "id                                                                   \n",
              "514030                     -73.986446                         True   \n",
              "514031                     -73.919159                         True   \n",
              "514032                     -73.991595                         True   \n",
              "514033                     -73.987205                         True   \n",
              "514034                     -73.785073                         True   \n",
              "\n",
              "        MONTH(dropoff_datetime)  \n",
              "id                               \n",
              "514030                        4  \n",
              "514031                        4  \n",
              "514032                        4  \n",
              "514033                        4  \n",
              "514034                        4  \n",
              "\n",
              "[5 rows x 22 columns]"
            ],
            "text/html": [
              "\n",
              "  <div id=\"df-90f6b4ca-8f2b-4429-8d2c-1dd8b0af96ee\" class=\"colab-df-container\">\n",
              "    <div>\n",
              "<style scoped>\n",
              "    .dataframe tbody tr th:only-of-type {\n",
              "        vertical-align: middle;\n",
              "    }\n",
              "\n",
              "    .dataframe tbody tr th {\n",
              "        vertical-align: top;\n",
              "    }\n",
              "\n",
              "    .dataframe thead th {\n",
              "        text-align: right;\n",
              "    }\n",
              "</style>\n",
              "<table border=\"1\" class=\"dataframe\">\n",
              "  <thead>\n",
              "    <tr style=\"text-align: right;\">\n",
              "      <th></th>\n",
              "      <th>WEEKDAY(pickup_datetime)</th>\n",
              "      <th>WEEK(dropoff_datetime)</th>\n",
              "      <th>passenger_count</th>\n",
              "      <th>WEEKDAY(dropoff_datetime)</th>\n",
              "      <th>MINUTE(pickup_datetime)</th>\n",
              "      <th>dropoff_neighborhoods.longitude</th>\n",
              "      <th>WEEK(pickup_datetime)</th>\n",
              "      <th>IS_WEEKEND(dropoff_datetime)</th>\n",
              "      <th>MONTH(pickup_datetime)</th>\n",
              "      <th>HOUR(dropoff_datetime)</th>\n",
              "      <th>...</th>\n",
              "      <th>DAY(dropoff_datetime)</th>\n",
              "      <th>MINUTE(dropoff_datetime)</th>\n",
              "      <th>trip_distance</th>\n",
              "      <th>payment_type</th>\n",
              "      <th>pickup_neighborhoods.latitude</th>\n",
              "      <th>DAY(pickup_datetime)</th>\n",
              "      <th>vendor_id</th>\n",
              "      <th>pickup_neighborhoods.longitude</th>\n",
              "      <th>IS_WEEKEND(pickup_datetime)</th>\n",
              "      <th>MONTH(dropoff_datetime)</th>\n",
              "    </tr>\n",
              "    <tr>\n",
              "      <th>id</th>\n",
              "      <th></th>\n",
              "      <th></th>\n",
              "      <th></th>\n",
              "      <th></th>\n",
              "      <th></th>\n",
              "      <th></th>\n",
              "      <th></th>\n",
              "      <th></th>\n",
              "      <th></th>\n",
              "      <th></th>\n",
              "      <th></th>\n",
              "      <th></th>\n",
              "      <th></th>\n",
              "      <th></th>\n",
              "      <th></th>\n",
              "      <th></th>\n",
              "      <th></th>\n",
              "      <th></th>\n",
              "      <th></th>\n",
              "      <th></th>\n",
              "      <th></th>\n",
              "    </tr>\n",
              "  </thead>\n",
              "  <tbody>\n",
              "    <tr>\n",
              "      <th>514030</th>\n",
              "      <td>5</td>\n",
              "      <td>13</td>\n",
              "      <td>1</td>\n",
              "      <td>5</td>\n",
              "      <td>0</td>\n",
              "      <td>-73.956886</td>\n",
              "      <td>13</td>\n",
              "      <td>True</td>\n",
              "      <td>4</td>\n",
              "      <td>0</td>\n",
              "      <td>...</td>\n",
              "      <td>2</td>\n",
              "      <td>17</td>\n",
              "      <td>2.46</td>\n",
              "      <td>1</td>\n",
              "      <td>40.757707</td>\n",
              "      <td>2</td>\n",
              "      <td>2</td>\n",
              "      <td>-73.986446</td>\n",
              "      <td>True</td>\n",
              "      <td>4</td>\n",
              "    </tr>\n",
              "    <tr>\n",
              "      <th>514031</th>\n",
              "      <td>5</td>\n",
              "      <td>13</td>\n",
              "      <td>2</td>\n",
              "      <td>5</td>\n",
              "      <td>0</td>\n",
              "      <td>-73.969822</td>\n",
              "      <td>13</td>\n",
              "      <td>True</td>\n",
              "      <td>4</td>\n",
              "      <td>0</td>\n",
              "      <td>...</td>\n",
              "      <td>2</td>\n",
              "      <td>24</td>\n",
              "      <td>7.90</td>\n",
              "      <td>1</td>\n",
              "      <td>40.744928</td>\n",
              "      <td>2</td>\n",
              "      <td>1</td>\n",
              "      <td>-73.919159</td>\n",
              "      <td>True</td>\n",
              "      <td>4</td>\n",
              "    </tr>\n",
              "    <tr>\n",
              "      <th>514032</th>\n",
              "      <td>5</td>\n",
              "      <td>13</td>\n",
              "      <td>1</td>\n",
              "      <td>5</td>\n",
              "      <td>0</td>\n",
              "      <td>-74.005107</td>\n",
              "      <td>13</td>\n",
              "      <td>True</td>\n",
              "      <td>4</td>\n",
              "      <td>0</td>\n",
              "      <td>...</td>\n",
              "      <td>2</td>\n",
              "      <td>19</td>\n",
              "      <td>1.00</td>\n",
              "      <td>1</td>\n",
              "      <td>40.729652</td>\n",
              "      <td>2</td>\n",
              "      <td>1</td>\n",
              "      <td>-73.991595</td>\n",
              "      <td>True</td>\n",
              "      <td>4</td>\n",
              "    </tr>\n",
              "    <tr>\n",
              "      <th>514033</th>\n",
              "      <td>5</td>\n",
              "      <td>13</td>\n",
              "      <td>1</td>\n",
              "      <td>5</td>\n",
              "      <td>0</td>\n",
              "      <td>-73.987205</td>\n",
              "      <td>13</td>\n",
              "      <td>True</td>\n",
              "      <td>4</td>\n",
              "      <td>0</td>\n",
              "      <td>...</td>\n",
              "      <td>2</td>\n",
              "      <td>1</td>\n",
              "      <td>0.02</td>\n",
              "      <td>2</td>\n",
              "      <td>40.720245</td>\n",
              "      <td>2</td>\n",
              "      <td>2</td>\n",
              "      <td>-73.987205</td>\n",
              "      <td>True</td>\n",
              "      <td>4</td>\n",
              "    </tr>\n",
              "    <tr>\n",
              "      <th>514034</th>\n",
              "      <td>5</td>\n",
              "      <td>13</td>\n",
              "      <td>2</td>\n",
              "      <td>5</td>\n",
              "      <td>1</td>\n",
              "      <td>-73.976050</td>\n",
              "      <td>13</td>\n",
              "      <td>True</td>\n",
              "      <td>4</td>\n",
              "      <td>0</td>\n",
              "      <td>...</td>\n",
              "      <td>2</td>\n",
              "      <td>58</td>\n",
              "      <td>19.00</td>\n",
              "      <td>1</td>\n",
              "      <td>40.646194</td>\n",
              "      <td>2</td>\n",
              "      <td>1</td>\n",
              "      <td>-73.785073</td>\n",
              "      <td>True</td>\n",
              "      <td>4</td>\n",
              "    </tr>\n",
              "  </tbody>\n",
              "</table>\n",
              "<p>5 rows × 22 columns</p>\n",
              "</div>\n",
              "    <div class=\"colab-df-buttons\">\n",
              "\n",
              "  <div class=\"colab-df-container\">\n",
              "    <button class=\"colab-df-convert\" onclick=\"convertToInteractive('df-90f6b4ca-8f2b-4429-8d2c-1dd8b0af96ee')\"\n",
              "            title=\"Convert this dataframe to an interactive table.\"\n",
              "            style=\"display:none;\">\n",
              "\n",
              "  <svg xmlns=\"http://www.w3.org/2000/svg\" height=\"24px\" viewBox=\"0 -960 960 960\">\n",
              "    <path d=\"M120-120v-720h720v720H120Zm60-500h600v-160H180v160Zm220 220h160v-160H400v160Zm0 220h160v-160H400v160ZM180-400h160v-160H180v160Zm440 0h160v-160H620v160ZM180-180h160v-160H180v160Zm440 0h160v-160H620v160Z\"/>\n",
              "  </svg>\n",
              "    </button>\n",
              "\n",
              "  <style>\n",
              "    .colab-df-container {\n",
              "      display:flex;\n",
              "      gap: 12px;\n",
              "    }\n",
              "\n",
              "    .colab-df-convert {\n",
              "      background-color: #E8F0FE;\n",
              "      border: none;\n",
              "      border-radius: 50%;\n",
              "      cursor: pointer;\n",
              "      display: none;\n",
              "      fill: #1967D2;\n",
              "      height: 32px;\n",
              "      padding: 0 0 0 0;\n",
              "      width: 32px;\n",
              "    }\n",
              "\n",
              "    .colab-df-convert:hover {\n",
              "      background-color: #E2EBFA;\n",
              "      box-shadow: 0px 1px 2px rgba(60, 64, 67, 0.3), 0px 1px 3px 1px rgba(60, 64, 67, 0.15);\n",
              "      fill: #174EA6;\n",
              "    }\n",
              "\n",
              "    .colab-df-buttons div {\n",
              "      margin-bottom: 4px;\n",
              "    }\n",
              "\n",
              "    [theme=dark] .colab-df-convert {\n",
              "      background-color: #3B4455;\n",
              "      fill: #D2E3FC;\n",
              "    }\n",
              "\n",
              "    [theme=dark] .colab-df-convert:hover {\n",
              "      background-color: #434B5C;\n",
              "      box-shadow: 0px 1px 3px 1px rgba(0, 0, 0, 0.15);\n",
              "      filter: drop-shadow(0px 1px 2px rgba(0, 0, 0, 0.3));\n",
              "      fill: #FFFFFF;\n",
              "    }\n",
              "  </style>\n",
              "\n",
              "    <script>\n",
              "      const buttonEl =\n",
              "        document.querySelector('#df-90f6b4ca-8f2b-4429-8d2c-1dd8b0af96ee button.colab-df-convert');\n",
              "      buttonEl.style.display =\n",
              "        google.colab.kernel.accessAllowed ? 'block' : 'none';\n",
              "\n",
              "      async function convertToInteractive(key) {\n",
              "        const element = document.querySelector('#df-90f6b4ca-8f2b-4429-8d2c-1dd8b0af96ee');\n",
              "        const dataTable =\n",
              "          await google.colab.kernel.invokeFunction('convertToInteractive',\n",
              "                                                    [key], {});\n",
              "        if (!dataTable) return;\n",
              "\n",
              "        const docLinkHtml = 'Like what you see? Visit the ' +\n",
              "          '<a target=\"_blank\" href=https://colab.research.google.com/notebooks/data_table.ipynb>data table notebook</a>'\n",
              "          + ' to learn more about interactive tables.';\n",
              "        element.innerHTML = '';\n",
              "        dataTable['output_type'] = 'display_data';\n",
              "        await google.colab.output.renderOutput(dataTable, element);\n",
              "        const docLink = document.createElement('div');\n",
              "        docLink.innerHTML = docLinkHtml;\n",
              "        element.appendChild(docLink);\n",
              "      }\n",
              "    </script>\n",
              "  </div>\n",
              "\n",
              "\n",
              "<div id=\"df-67fe2458-94a3-4605-81bb-cbbcd3d0648f\">\n",
              "  <button class=\"colab-df-quickchart\" onclick=\"quickchart('df-67fe2458-94a3-4605-81bb-cbbcd3d0648f')\"\n",
              "            title=\"Suggest charts\"\n",
              "            style=\"display:none;\">\n",
              "\n",
              "<svg xmlns=\"http://www.w3.org/2000/svg\" height=\"24px\"viewBox=\"0 0 24 24\"\n",
              "     width=\"24px\">\n",
              "    <g>\n",
              "        <path d=\"M19 3H5c-1.1 0-2 .9-2 2v14c0 1.1.9 2 2 2h14c1.1 0 2-.9 2-2V5c0-1.1-.9-2-2-2zM9 17H7v-7h2v7zm4 0h-2V7h2v10zm4 0h-2v-4h2v4z\"/>\n",
              "    </g>\n",
              "</svg>\n",
              "  </button>\n",
              "\n",
              "<style>\n",
              "  .colab-df-quickchart {\n",
              "      --bg-color: #E8F0FE;\n",
              "      --fill-color: #1967D2;\n",
              "      --hover-bg-color: #E2EBFA;\n",
              "      --hover-fill-color: #174EA6;\n",
              "      --disabled-fill-color: #AAA;\n",
              "      --disabled-bg-color: #DDD;\n",
              "  }\n",
              "\n",
              "  [theme=dark] .colab-df-quickchart {\n",
              "      --bg-color: #3B4455;\n",
              "      --fill-color: #D2E3FC;\n",
              "      --hover-bg-color: #434B5C;\n",
              "      --hover-fill-color: #FFFFFF;\n",
              "      --disabled-bg-color: #3B4455;\n",
              "      --disabled-fill-color: #666;\n",
              "  }\n",
              "\n",
              "  .colab-df-quickchart {\n",
              "    background-color: var(--bg-color);\n",
              "    border: none;\n",
              "    border-radius: 50%;\n",
              "    cursor: pointer;\n",
              "    display: none;\n",
              "    fill: var(--fill-color);\n",
              "    height: 32px;\n",
              "    padding: 0;\n",
              "    width: 32px;\n",
              "  }\n",
              "\n",
              "  .colab-df-quickchart:hover {\n",
              "    background-color: var(--hover-bg-color);\n",
              "    box-shadow: 0 1px 2px rgba(60, 64, 67, 0.3), 0 1px 3px 1px rgba(60, 64, 67, 0.15);\n",
              "    fill: var(--button-hover-fill-color);\n",
              "  }\n",
              "\n",
              "  .colab-df-quickchart-complete:disabled,\n",
              "  .colab-df-quickchart-complete:disabled:hover {\n",
              "    background-color: var(--disabled-bg-color);\n",
              "    fill: var(--disabled-fill-color);\n",
              "    box-shadow: none;\n",
              "  }\n",
              "\n",
              "  .colab-df-spinner {\n",
              "    border: 2px solid var(--fill-color);\n",
              "    border-color: transparent;\n",
              "    border-bottom-color: var(--fill-color);\n",
              "    animation:\n",
              "      spin 1s steps(1) infinite;\n",
              "  }\n",
              "\n",
              "  @keyframes spin {\n",
              "    0% {\n",
              "      border-color: transparent;\n",
              "      border-bottom-color: var(--fill-color);\n",
              "      border-left-color: var(--fill-color);\n",
              "    }\n",
              "    20% {\n",
              "      border-color: transparent;\n",
              "      border-left-color: var(--fill-color);\n",
              "      border-top-color: var(--fill-color);\n",
              "    }\n",
              "    30% {\n",
              "      border-color: transparent;\n",
              "      border-left-color: var(--fill-color);\n",
              "      border-top-color: var(--fill-color);\n",
              "      border-right-color: var(--fill-color);\n",
              "    }\n",
              "    40% {\n",
              "      border-color: transparent;\n",
              "      border-right-color: var(--fill-color);\n",
              "      border-top-color: var(--fill-color);\n",
              "    }\n",
              "    60% {\n",
              "      border-color: transparent;\n",
              "      border-right-color: var(--fill-color);\n",
              "    }\n",
              "    80% {\n",
              "      border-color: transparent;\n",
              "      border-right-color: var(--fill-color);\n",
              "      border-bottom-color: var(--fill-color);\n",
              "    }\n",
              "    90% {\n",
              "      border-color: transparent;\n",
              "      border-bottom-color: var(--fill-color);\n",
              "    }\n",
              "  }\n",
              "</style>\n",
              "\n",
              "  <script>\n",
              "    async function quickchart(key) {\n",
              "      const quickchartButtonEl =\n",
              "        document.querySelector('#' + key + ' button');\n",
              "      quickchartButtonEl.disabled = true;  // To prevent multiple clicks.\n",
              "      quickchartButtonEl.classList.add('colab-df-spinner');\n",
              "      try {\n",
              "        const charts = await google.colab.kernel.invokeFunction(\n",
              "            'suggestCharts', [key], {});\n",
              "      } catch (error) {\n",
              "        console.error('Error during call to suggestCharts:', error);\n",
              "      }\n",
              "      quickchartButtonEl.classList.remove('colab-df-spinner');\n",
              "      quickchartButtonEl.classList.add('colab-df-quickchart-complete');\n",
              "    }\n",
              "    (() => {\n",
              "      let quickchartButtonEl =\n",
              "        document.querySelector('#df-67fe2458-94a3-4605-81bb-cbbcd3d0648f button');\n",
              "      quickchartButtonEl.style.display =\n",
              "        google.colab.kernel.accessAllowed ? 'block' : 'none';\n",
              "    })();\n",
              "  </script>\n",
              "</div>\n",
              "\n",
              "    </div>\n",
              "  </div>\n"
            ],
            "application/vnd.google.colaboratory.intrinsic+json": {
              "type": "dataframe"
            }
          },
          "metadata": {},
          "execution_count": 21
        }
      ],
      "source": [
        "feature_matrix = compute_features(features, entities, relationships)\n",
        "preview(feature_matrix, 5)"
      ]
    },
    {
      "cell_type": "code",
      "execution_count": 22,
      "metadata": {
        "id": "H0QHp_SvPSly",
        "outputId": "e13e684c-1e98-46b4-c2c6-5da75b5dd29c",
        "colab": {
          "base_uri": "https://localhost:8080/"
        }
      },
      "outputs": [
        {
          "output_type": "execute_result",
          "data": {
            "text/plain": [
              "Index(['WEEKDAY(pickup_datetime)', 'WEEK(dropoff_datetime)', 'passenger_count',\n",
              "       'WEEKDAY(dropoff_datetime)', 'MINUTE(pickup_datetime)',\n",
              "       'dropoff_neighborhoods.longitude', 'WEEK(pickup_datetime)',\n",
              "       'IS_WEEKEND(dropoff_datetime)', 'MONTH(pickup_datetime)',\n",
              "       'HOUR(dropoff_datetime)', 'HOUR(pickup_datetime)',\n",
              "       'dropoff_neighborhoods.latitude', 'DAY(dropoff_datetime)',\n",
              "       'MINUTE(dropoff_datetime)', 'trip_distance', 'payment_type',\n",
              "       'pickup_neighborhoods.latitude', 'DAY(pickup_datetime)', 'vendor_id',\n",
              "       'pickup_neighborhoods.longitude', 'IS_WEEKEND(pickup_datetime)',\n",
              "       'MONTH(dropoff_datetime)'],\n",
              "      dtype='object')"
            ]
          },
          "metadata": {},
          "execution_count": 22
        }
      ],
      "source": [
        "feature_matrix.columns"
      ]
    },
    {
      "cell_type": "code",
      "execution_count": 23,
      "metadata": {
        "id": "t1LHubLekhyO",
        "outputId": "6da9ecca-fe8a-4082-a8ed-509cea985c36",
        "colab": {
          "base_uri": "https://localhost:8080/"
        }
      },
      "outputs": [
        {
          "output_type": "stream",
          "name": "stdout",
          "text": [
            "Datos separados con éxito!\n"
          ]
        }
      ],
      "source": [
        "# Volver a separar los datos\n",
        "X_train, y_train, X_test, y_test = utils.get_train_test_fm(feature_matrix, trips, .75)\n",
        "y_train = np.log(y_train + 1)\n",
        "y_test = np.log(y_test + 1)\n",
        "\n",
        "print('Datos separados con éxito!')"
      ]
    },
    {
      "cell_type": "code",
      "execution_count": 24,
      "metadata": {
        "id": "2ro_IFmDkhyR",
        "outputId": "69fab5e8-58dc-42dd-c66d-6f930cc4dfff",
        "colab": {
          "base_uri": "https://localhost:8080/"
        }
      },
      "outputs": [
        {
          "output_type": "stream",
          "name": "stdout",
          "text": [
            "      Iter       Train Loss   Remaining Time \n",
            "         1           0.4736            1.84s\n",
            "         2           0.4148            1.87s\n",
            "         3           0.3661            1.76s\n",
            "         4           0.3264            2.12s\n",
            "         5           0.2930            2.31s\n",
            "         6           0.2660            2.46s\n",
            "         7           0.2432            2.47s\n",
            "         8           0.2245            2.40s\n",
            "         9           0.2090            2.36s\n",
            "        10           0.1960            2.28s\n",
            "        20           0.1362            1.99s\n",
            "        30           0.1202            1.97s\n",
            "        40           0.1128            1.52s\n",
            "        50           0.1082            1.21s\n",
            "        60           0.1049            0.93s\n",
            "        70           0.1027            0.68s\n",
            "        80           0.1006            0.45s\n",
            "        90           0.0962            0.23s\n",
            "       100           0.0913            0.00s\n",
            "0.8080396974822728\n",
            "Fase de entrenamiento realizada con éxito!\n"
          ]
        }
      ],
      "source": [
        "# El entrenamiento debería durar alrededor de un minuto\n",
        "model = GradientBoostingRegressor(verbose=True)\n",
        "model.fit(X_train, y_train)\n",
        "print(model.score(X_test, y_test)) # Valor R^2 de la predicción\n",
        "\n",
        "print('Fase de entrenamiento realizada con éxito!')"
      ]
    },
    {
      "cell_type": "markdown",
      "metadata": {
        "id": "_Y5FUpIMkhyT"
      },
      "source": [
        "**<h1 style=\"color:red;\">PREGUNTA 3: SEGUNDO MODELO</h1>**"
      ]
    },
    {
      "cell_type": "markdown",
      "metadata": {
        "id": "94xJzvJqkhyU"
      },
      "source": [
        "Describa el resto de nuevos atributos que acaba de añadir al modelo. ¿Cómo afectó esto al rendimiento del modelo? ¿Ha sido necesario sacrificar tiempo de entrenamiento?\n",
        "\n",
        "\n"
      ]
    },
    {
      "cell_type": "markdown",
      "metadata": {
        "id": "U_FwdJCiccKr"
      },
      "source": [
        "*Su respuesta aqui - double click para editar*"
      ]
    },
    {
      "cell_type": "markdown",
      "metadata": {
        "id": "1F0pZNyXkhyV"
      },
      "source": [
        "# Primitivas de agregación"
      ]
    },
    {
      "cell_type": "code",
      "execution_count": 25,
      "metadata": {
        "id": "pfv6tmCekhyV",
        "outputId": "ecec0809-28e8-4ecd-b5aa-ce8c97eca9ba",
        "colab": {
          "base_uri": "https://localhost:8080/"
        }
      },
      "outputs": [
        {
          "output_type": "stream",
          "name": "stdout",
          "text": [
            "Primitivas de tranformación definidas con éxito!\n"
          ]
        },
        {
          "output_type": "stream",
          "name": "stderr",
          "text": [
            "/usr/local/lib/python3.10/dist-packages/featuretools/entityset/entityset.py:754: UserWarning: A Woodwork-initialized DataFrame was provided, so the following parameters were ignored: index, time_index\n",
            "  warnings.warn(\n",
            "/usr/local/lib/python3.10/dist-packages/featuretools/entityset/entityset.py:754: UserWarning: A Woodwork-initialized DataFrame was provided, so the following parameters were ignored: index\n",
            "  warnings.warn(\n"
          ]
        }
      ],
      "source": [
        "# ==============================================\n",
        "# Listado de las primitivas creadas en este paso\n",
        "trans_primitives = [Minute, Hour, Day, Week, Month, Weekday, IsWeekend]\n",
        "aggregation_primitives = [Count, Sum, Mean, Median, Std, Max, Min]\n",
        "# ==============================================\n",
        "\n",
        "features = ft.dfs(dataframes=entities,\n",
        "                  relationships=relationships,\n",
        "                  target_dataframe_name=\"trips\",\n",
        "                  trans_primitives=trans_primitives,\n",
        "                  agg_primitives=aggregation_primitives,\n",
        "                  ignore_columns={\"trips\": [\"pickup_latitude\", \"pickup_longitude\",\n",
        "                                              \"dropoff_latitude\", \"dropoff_longitude\", \"trip_duration\"]},\n",
        "                  features_only=True)\n",
        "\n",
        "print('Primitivas de tranformación definidas con éxito!')"
      ]
    },
    {
      "cell_type": "code",
      "execution_count": 26,
      "metadata": {
        "id": "0jQVtnBpkhyX",
        "outputId": "f186c9c6-0c2f-4b18-8fbc-dff91c42ebf2",
        "colab": {
          "base_uri": "https://localhost:8080/"
        }
      },
      "outputs": [
        {
          "output_type": "stream",
          "name": "stdout",
          "text": [
            "Número de atributos: 72\n"
          ]
        },
        {
          "output_type": "execute_result",
          "data": {
            "text/plain": [
              "[<Feature: vendor_id>,\n",
              " <Feature: passenger_count>,\n",
              " <Feature: trip_distance>,\n",
              " <Feature: payment_type>,\n",
              " <Feature: DAY(dropoff_datetime)>,\n",
              " <Feature: DAY(pickup_datetime)>,\n",
              " <Feature: HOUR(dropoff_datetime)>,\n",
              " <Feature: HOUR(pickup_datetime)>,\n",
              " <Feature: IS_WEEKEND(dropoff_datetime)>,\n",
              " <Feature: IS_WEEKEND(pickup_datetime)>,\n",
              " <Feature: MINUTE(dropoff_datetime)>,\n",
              " <Feature: MINUTE(pickup_datetime)>,\n",
              " <Feature: MONTH(dropoff_datetime)>,\n",
              " <Feature: MONTH(pickup_datetime)>,\n",
              " <Feature: WEEK(dropoff_datetime)>,\n",
              " <Feature: WEEK(pickup_datetime)>,\n",
              " <Feature: WEEKDAY(dropoff_datetime)>,\n",
              " <Feature: WEEKDAY(pickup_datetime)>,\n",
              " <Feature: pickup_neighborhoods.latitude>,\n",
              " <Feature: pickup_neighborhoods.longitude>,\n",
              " <Feature: dropoff_neighborhoods.latitude>,\n",
              " <Feature: dropoff_neighborhoods.longitude>,\n",
              " <Feature: pickup_neighborhoods.COUNT(trips)>,\n",
              " <Feature: pickup_neighborhoods.MAX(trips.passenger_count)>,\n",
              " <Feature: pickup_neighborhoods.MAX(trips.payment_type)>,\n",
              " <Feature: pickup_neighborhoods.MAX(trips.trip_distance)>,\n",
              " <Feature: pickup_neighborhoods.MAX(trips.vendor_id)>,\n",
              " <Feature: pickup_neighborhoods.MEAN(trips.passenger_count)>,\n",
              " <Feature: pickup_neighborhoods.MEAN(trips.payment_type)>,\n",
              " <Feature: pickup_neighborhoods.MEAN(trips.trip_distance)>,\n",
              " <Feature: pickup_neighborhoods.MEAN(trips.vendor_id)>,\n",
              " <Feature: pickup_neighborhoods.MEDIAN(trips.passenger_count)>,\n",
              " <Feature: pickup_neighborhoods.MEDIAN(trips.payment_type)>,\n",
              " <Feature: pickup_neighborhoods.MEDIAN(trips.trip_distance)>,\n",
              " <Feature: pickup_neighborhoods.MEDIAN(trips.vendor_id)>,\n",
              " <Feature: pickup_neighborhoods.MIN(trips.passenger_count)>,\n",
              " <Feature: pickup_neighborhoods.MIN(trips.payment_type)>,\n",
              " <Feature: pickup_neighborhoods.MIN(trips.trip_distance)>,\n",
              " <Feature: pickup_neighborhoods.MIN(trips.vendor_id)>,\n",
              " <Feature: pickup_neighborhoods.STD(trips.passenger_count)>,\n",
              " <Feature: pickup_neighborhoods.STD(trips.payment_type)>,\n",
              " <Feature: pickup_neighborhoods.STD(trips.trip_distance)>,\n",
              " <Feature: pickup_neighborhoods.STD(trips.vendor_id)>,\n",
              " <Feature: pickup_neighborhoods.SUM(trips.passenger_count)>,\n",
              " <Feature: pickup_neighborhoods.SUM(trips.payment_type)>,\n",
              " <Feature: pickup_neighborhoods.SUM(trips.trip_distance)>,\n",
              " <Feature: pickup_neighborhoods.SUM(trips.vendor_id)>,\n",
              " <Feature: dropoff_neighborhoods.COUNT(trips)>,\n",
              " <Feature: dropoff_neighborhoods.MAX(trips.passenger_count)>,\n",
              " <Feature: dropoff_neighborhoods.MAX(trips.payment_type)>,\n",
              " <Feature: dropoff_neighborhoods.MAX(trips.trip_distance)>,\n",
              " <Feature: dropoff_neighborhoods.MAX(trips.vendor_id)>,\n",
              " <Feature: dropoff_neighborhoods.MEAN(trips.passenger_count)>,\n",
              " <Feature: dropoff_neighborhoods.MEAN(trips.payment_type)>,\n",
              " <Feature: dropoff_neighborhoods.MEAN(trips.trip_distance)>,\n",
              " <Feature: dropoff_neighborhoods.MEAN(trips.vendor_id)>,\n",
              " <Feature: dropoff_neighborhoods.MEDIAN(trips.passenger_count)>,\n",
              " <Feature: dropoff_neighborhoods.MEDIAN(trips.payment_type)>,\n",
              " <Feature: dropoff_neighborhoods.MEDIAN(trips.trip_distance)>,\n",
              " <Feature: dropoff_neighborhoods.MEDIAN(trips.vendor_id)>,\n",
              " <Feature: dropoff_neighborhoods.MIN(trips.passenger_count)>,\n",
              " <Feature: dropoff_neighborhoods.MIN(trips.payment_type)>,\n",
              " <Feature: dropoff_neighborhoods.MIN(trips.trip_distance)>,\n",
              " <Feature: dropoff_neighborhoods.MIN(trips.vendor_id)>,\n",
              " <Feature: dropoff_neighborhoods.STD(trips.passenger_count)>,\n",
              " <Feature: dropoff_neighborhoods.STD(trips.payment_type)>,\n",
              " <Feature: dropoff_neighborhoods.STD(trips.trip_distance)>,\n",
              " <Feature: dropoff_neighborhoods.STD(trips.vendor_id)>,\n",
              " <Feature: dropoff_neighborhoods.SUM(trips.passenger_count)>,\n",
              " <Feature: dropoff_neighborhoods.SUM(trips.payment_type)>,\n",
              " <Feature: dropoff_neighborhoods.SUM(trips.trip_distance)>,\n",
              " <Feature: dropoff_neighborhoods.SUM(trips.vendor_id)>]"
            ]
          },
          "metadata": {},
          "execution_count": 26
        }
      ],
      "source": [
        "print(f\"Número de atributos: {len(features)}\")\n",
        "features"
      ]
    },
    {
      "cell_type": "code",
      "execution_count": 27,
      "metadata": {
        "id": "dwq-iTDYkhyZ",
        "outputId": "af543279-a069-4f82-fbc7-da88e00442b8",
        "colab": {
          "base_uri": "https://localhost:8080/",
          "height": 703
        }
      },
      "outputs": [
        {
          "output_type": "stream",
          "name": "stderr",
          "text": [
            "/usr/local/lib/python3.10/dist-packages/featuretools/computational_backends/calculate_feature_matrix.py:239: UserWarning: Using approximate with a single cutoff_time value or no cutoff_time provides no computational efficiency benefit\n",
            "  warnings.warn(msg)\n"
          ]
        },
        {
          "output_type": "stream",
          "name": "stdout",
          "text": [
            "\rElapsed: 00:00 | Progress:   0%|          "
          ]
        },
        {
          "output_type": "stream",
          "name": "stderr",
          "text": [
            "/usr/local/lib/python3.10/dist-packages/featuretools/computational_backends/feature_set_calculator.py:828: FutureWarning: The provided callable <function min at 0x79922fdf8dc0> is currently using SeriesGroupBy.min. In a future version of pandas, the provided callable will be used directly. To keep current behavior pass the string \"min\" instead.\n",
            "  ).agg(to_agg)\n",
            "/usr/local/lib/python3.10/dist-packages/featuretools/computational_backends/feature_set_calculator.py:828: FutureWarning: The provided callable <function mean at 0x79922fdf95a0> is currently using SeriesGroupBy.mean. In a future version of pandas, the provided callable will be used directly. To keep current behavior pass the string \"mean\" instead.\n",
            "  ).agg(to_agg)\n",
            "/usr/local/lib/python3.10/dist-packages/featuretools/computational_backends/feature_set_calculator.py:828: FutureWarning: The provided callable <function max at 0x79922fdf8ca0> is currently using SeriesGroupBy.max. In a future version of pandas, the provided callable will be used directly. To keep current behavior pass the string \"max\" instead.\n",
            "  ).agg(to_agg)\n",
            "/usr/local/lib/python3.10/dist-packages/featuretools/computational_backends/feature_set_calculator.py:828: FutureWarning: The provided callable <function sum at 0x79922fdf8670> is currently using SeriesGroupBy.sum. In a future version of pandas, the provided callable will be used directly. To keep current behavior pass the string \"sum\" instead.\n",
            "  ).agg(to_agg)\n",
            "/usr/local/lib/python3.10/dist-packages/featuretools/computational_backends/feature_set_calculator.py:828: FutureWarning: The provided callable <function std at 0x79922fdf96c0> is currently using SeriesGroupBy.std. In a future version of pandas, the provided callable will be used directly. To keep current behavior pass the string \"std\" instead.\n",
            "  ).agg(to_agg)\n"
          ]
        },
        {
          "output_type": "stream",
          "name": "stdout",
          "text": [
            "\rElapsed: 00:00 | Progress:   0%|          "
          ]
        },
        {
          "output_type": "stream",
          "name": "stderr",
          "text": [
            "/usr/local/lib/python3.10/dist-packages/featuretools/computational_backends/feature_set_calculator.py:828: FutureWarning: The provided callable <function std at 0x79922fdf96c0> is currently using SeriesGroupBy.std. In a future version of pandas, the provided callable will be used directly. To keep current behavior pass the string \"std\" instead.\n",
            "  ).agg(to_agg)\n",
            "/usr/local/lib/python3.10/dist-packages/featuretools/computational_backends/feature_set_calculator.py:828: FutureWarning: The provided callable <function sum at 0x79922fdf8670> is currently using SeriesGroupBy.sum. In a future version of pandas, the provided callable will be used directly. To keep current behavior pass the string \"sum\" instead.\n",
            "  ).agg(to_agg)\n",
            "/usr/local/lib/python3.10/dist-packages/featuretools/computational_backends/feature_set_calculator.py:828: FutureWarning: The provided callable <function max at 0x79922fdf8ca0> is currently using SeriesGroupBy.max. In a future version of pandas, the provided callable will be used directly. To keep current behavior pass the string \"max\" instead.\n",
            "  ).agg(to_agg)\n",
            "/usr/local/lib/python3.10/dist-packages/featuretools/computational_backends/feature_set_calculator.py:828: FutureWarning: The provided callable <function mean at 0x79922fdf95a0> is currently using SeriesGroupBy.mean. In a future version of pandas, the provided callable will be used directly. To keep current behavior pass the string \"mean\" instead.\n",
            "  ).agg(to_agg)\n",
            "/usr/local/lib/python3.10/dist-packages/featuretools/computational_backends/feature_set_calculator.py:828: FutureWarning: The provided callable <function min at 0x79922fdf8dc0> is currently using SeriesGroupBy.min. In a future version of pandas, the provided callable will be used directly. To keep current behavior pass the string \"min\" instead.\n",
            "  ).agg(to_agg)\n"
          ]
        },
        {
          "output_type": "stream",
          "name": "stdout",
          "text": [
            "Elapsed: 00:01 | Progress: 100%|██████████\n",
            "Finishing computing...\n"
          ]
        },
        {
          "output_type": "execute_result",
          "data": {
            "text/plain": [
              "        pickup_neighborhoods.MEAN(trips.trip_distance)  \\\n",
              "id                                                       \n",
              "514030                                        2.930360   \n",
              "514031                                        3.107391   \n",
              "514032                                        2.366243   \n",
              "514033                                        3.037617   \n",
              "514034                                       16.229935   \n",
              "\n",
              "        dropoff_neighborhoods.MIN(trips.payment_type)  \\\n",
              "id                                                      \n",
              "514030                                            1.0   \n",
              "514031                                            1.0   \n",
              "514032                                            1.0   \n",
              "514033                                            1.0   \n",
              "514034                                            1.0   \n",
              "\n",
              "        dropoff_neighborhoods.SUM(trips.vendor_id)  \\\n",
              "id                                                   \n",
              "514030                                       464.0   \n",
              "514031                                       285.0   \n",
              "514032                                       445.0   \n",
              "514033                                       426.0   \n",
              "514034                                       448.0   \n",
              "\n",
              "        pickup_neighborhoods.latitude  \\\n",
              "id                                      \n",
              "514030                      40.757707   \n",
              "514031                      40.744928   \n",
              "514032                      40.729652   \n",
              "514033                      40.720245   \n",
              "514034                      40.646194   \n",
              "\n",
              "        dropoff_neighborhoods.MIN(trips.passenger_count)  \\\n",
              "id                                                         \n",
              "514030                                               1.0   \n",
              "514031                                               1.0   \n",
              "514032                                               1.0   \n",
              "514033                                               1.0   \n",
              "514034                                               1.0   \n",
              "\n",
              "       MINUTE(pickup_datetime) MONTH(pickup_datetime)  \\\n",
              "id                                                      \n",
              "514030                       0                      4   \n",
              "514031                       0                      4   \n",
              "514032                       0                      4   \n",
              "514033                       0                      4   \n",
              "514034                       1                      4   \n",
              "\n",
              "        pickup_neighborhoods.longitude  payment_type  \\\n",
              "id                                                     \n",
              "514030                      -73.986446             1   \n",
              "514031                      -73.919159             1   \n",
              "514032                      -73.991595             1   \n",
              "514033                      -73.987205             2   \n",
              "514034                      -73.785073             1   \n",
              "\n",
              "        dropoff_neighborhoods.MEAN(trips.vendor_id)  ...  \\\n",
              "id                                                   ...   \n",
              "514030                                     1.572881  ...   \n",
              "514031                                     1.574586  ...   \n",
              "514032                                     1.518771  ...   \n",
              "514033                                     1.510638  ...   \n",
              "514034                                     1.529010  ...   \n",
              "\n",
              "        dropoff_neighborhoods.MEDIAN(trips.trip_distance)  \\\n",
              "id                                                          \n",
              "514030                                               1.37   \n",
              "514031                                               1.54   \n",
              "514032                                               1.60   \n",
              "514033                                               1.90   \n",
              "514034                                               1.62   \n",
              "\n",
              "        pickup_neighborhoods.MIN(trips.payment_type)  \\\n",
              "id                                                     \n",
              "514030                                           1.0   \n",
              "514031                                           1.0   \n",
              "514032                                           1.0   \n",
              "514033                                           1.0   \n",
              "514034                                           1.0   \n",
              "\n",
              "        pickup_neighborhoods.MEAN(trips.passenger_count)  \\\n",
              "id                                                         \n",
              "514030                                          1.659910   \n",
              "514031                                          1.673913   \n",
              "514032                                          1.756757   \n",
              "514033                                          1.636364   \n",
              "514034                                          1.896104   \n",
              "\n",
              "        dropoff_neighborhoods.longitude  \\\n",
              "id                                        \n",
              "514030                       -73.956886   \n",
              "514031                       -73.969822   \n",
              "514032                       -74.005107   \n",
              "514033                       -73.987205   \n",
              "514034                       -73.976050   \n",
              "\n",
              "        pickup_neighborhoods.MEAN(trips.payment_type)  \\\n",
              "id                                                      \n",
              "514030                                       1.488739   \n",
              "514031                                       1.543478   \n",
              "514032                                       1.262162   \n",
              "514033                                       1.228501   \n",
              "514034                                       1.396104   \n",
              "\n",
              "        dropoff_neighborhoods.latitude  WEEK(pickup_datetime)  \\\n",
              "id                                                              \n",
              "514030                       40.766809                     13   \n",
              "514031                       40.793597                     13   \n",
              "514032                       40.740333                     13   \n",
              "514033                       40.720245                     13   \n",
              "514034                       40.785005                     13   \n",
              "\n",
              "        MINUTE(dropoff_datetime)  \\\n",
              "id                                 \n",
              "514030                        17   \n",
              "514031                        24   \n",
              "514032                        19   \n",
              "514033                         1   \n",
              "514034                        58   \n",
              "\n",
              "        dropoff_neighborhoods.STD(trips.passenger_count)  trip_distance  \n",
              "id                                                                       \n",
              "514030                                          1.313686           2.46  \n",
              "514031                                          1.266439           7.90  \n",
              "514032                                          1.311967           1.00  \n",
              "514033                                          1.307116           0.02  \n",
              "514034                                          1.248404          19.00  \n",
              "\n",
              "[5 rows x 72 columns]"
            ],
            "text/html": [
              "\n",
              "  <div id=\"df-55648fb5-c864-47ae-8218-20ebc32c4cfc\" class=\"colab-df-container\">\n",
              "    <div>\n",
              "<style scoped>\n",
              "    .dataframe tbody tr th:only-of-type {\n",
              "        vertical-align: middle;\n",
              "    }\n",
              "\n",
              "    .dataframe tbody tr th {\n",
              "        vertical-align: top;\n",
              "    }\n",
              "\n",
              "    .dataframe thead th {\n",
              "        text-align: right;\n",
              "    }\n",
              "</style>\n",
              "<table border=\"1\" class=\"dataframe\">\n",
              "  <thead>\n",
              "    <tr style=\"text-align: right;\">\n",
              "      <th></th>\n",
              "      <th>pickup_neighborhoods.MEAN(trips.trip_distance)</th>\n",
              "      <th>dropoff_neighborhoods.MIN(trips.payment_type)</th>\n",
              "      <th>dropoff_neighborhoods.SUM(trips.vendor_id)</th>\n",
              "      <th>pickup_neighborhoods.latitude</th>\n",
              "      <th>dropoff_neighborhoods.MIN(trips.passenger_count)</th>\n",
              "      <th>MINUTE(pickup_datetime)</th>\n",
              "      <th>MONTH(pickup_datetime)</th>\n",
              "      <th>pickup_neighborhoods.longitude</th>\n",
              "      <th>payment_type</th>\n",
              "      <th>dropoff_neighborhoods.MEAN(trips.vendor_id)</th>\n",
              "      <th>...</th>\n",
              "      <th>dropoff_neighborhoods.MEDIAN(trips.trip_distance)</th>\n",
              "      <th>pickup_neighborhoods.MIN(trips.payment_type)</th>\n",
              "      <th>pickup_neighborhoods.MEAN(trips.passenger_count)</th>\n",
              "      <th>dropoff_neighborhoods.longitude</th>\n",
              "      <th>pickup_neighborhoods.MEAN(trips.payment_type)</th>\n",
              "      <th>dropoff_neighborhoods.latitude</th>\n",
              "      <th>WEEK(pickup_datetime)</th>\n",
              "      <th>MINUTE(dropoff_datetime)</th>\n",
              "      <th>dropoff_neighborhoods.STD(trips.passenger_count)</th>\n",
              "      <th>trip_distance</th>\n",
              "    </tr>\n",
              "    <tr>\n",
              "      <th>id</th>\n",
              "      <th></th>\n",
              "      <th></th>\n",
              "      <th></th>\n",
              "      <th></th>\n",
              "      <th></th>\n",
              "      <th></th>\n",
              "      <th></th>\n",
              "      <th></th>\n",
              "      <th></th>\n",
              "      <th></th>\n",
              "      <th></th>\n",
              "      <th></th>\n",
              "      <th></th>\n",
              "      <th></th>\n",
              "      <th></th>\n",
              "      <th></th>\n",
              "      <th></th>\n",
              "      <th></th>\n",
              "      <th></th>\n",
              "      <th></th>\n",
              "      <th></th>\n",
              "    </tr>\n",
              "  </thead>\n",
              "  <tbody>\n",
              "    <tr>\n",
              "      <th>514030</th>\n",
              "      <td>2.930360</td>\n",
              "      <td>1.0</td>\n",
              "      <td>464.0</td>\n",
              "      <td>40.757707</td>\n",
              "      <td>1.0</td>\n",
              "      <td>0</td>\n",
              "      <td>4</td>\n",
              "      <td>-73.986446</td>\n",
              "      <td>1</td>\n",
              "      <td>1.572881</td>\n",
              "      <td>...</td>\n",
              "      <td>1.37</td>\n",
              "      <td>1.0</td>\n",
              "      <td>1.659910</td>\n",
              "      <td>-73.956886</td>\n",
              "      <td>1.488739</td>\n",
              "      <td>40.766809</td>\n",
              "      <td>13</td>\n",
              "      <td>17</td>\n",
              "      <td>1.313686</td>\n",
              "      <td>2.46</td>\n",
              "    </tr>\n",
              "    <tr>\n",
              "      <th>514031</th>\n",
              "      <td>3.107391</td>\n",
              "      <td>1.0</td>\n",
              "      <td>285.0</td>\n",
              "      <td>40.744928</td>\n",
              "      <td>1.0</td>\n",
              "      <td>0</td>\n",
              "      <td>4</td>\n",
              "      <td>-73.919159</td>\n",
              "      <td>1</td>\n",
              "      <td>1.574586</td>\n",
              "      <td>...</td>\n",
              "      <td>1.54</td>\n",
              "      <td>1.0</td>\n",
              "      <td>1.673913</td>\n",
              "      <td>-73.969822</td>\n",
              "      <td>1.543478</td>\n",
              "      <td>40.793597</td>\n",
              "      <td>13</td>\n",
              "      <td>24</td>\n",
              "      <td>1.266439</td>\n",
              "      <td>7.90</td>\n",
              "    </tr>\n",
              "    <tr>\n",
              "      <th>514032</th>\n",
              "      <td>2.366243</td>\n",
              "      <td>1.0</td>\n",
              "      <td>445.0</td>\n",
              "      <td>40.729652</td>\n",
              "      <td>1.0</td>\n",
              "      <td>0</td>\n",
              "      <td>4</td>\n",
              "      <td>-73.991595</td>\n",
              "      <td>1</td>\n",
              "      <td>1.518771</td>\n",
              "      <td>...</td>\n",
              "      <td>1.60</td>\n",
              "      <td>1.0</td>\n",
              "      <td>1.756757</td>\n",
              "      <td>-74.005107</td>\n",
              "      <td>1.262162</td>\n",
              "      <td>40.740333</td>\n",
              "      <td>13</td>\n",
              "      <td>19</td>\n",
              "      <td>1.311967</td>\n",
              "      <td>1.00</td>\n",
              "    </tr>\n",
              "    <tr>\n",
              "      <th>514033</th>\n",
              "      <td>3.037617</td>\n",
              "      <td>1.0</td>\n",
              "      <td>426.0</td>\n",
              "      <td>40.720245</td>\n",
              "      <td>1.0</td>\n",
              "      <td>0</td>\n",
              "      <td>4</td>\n",
              "      <td>-73.987205</td>\n",
              "      <td>2</td>\n",
              "      <td>1.510638</td>\n",
              "      <td>...</td>\n",
              "      <td>1.90</td>\n",
              "      <td>1.0</td>\n",
              "      <td>1.636364</td>\n",
              "      <td>-73.987205</td>\n",
              "      <td>1.228501</td>\n",
              "      <td>40.720245</td>\n",
              "      <td>13</td>\n",
              "      <td>1</td>\n",
              "      <td>1.307116</td>\n",
              "      <td>0.02</td>\n",
              "    </tr>\n",
              "    <tr>\n",
              "      <th>514034</th>\n",
              "      <td>16.229935</td>\n",
              "      <td>1.0</td>\n",
              "      <td>448.0</td>\n",
              "      <td>40.646194</td>\n",
              "      <td>1.0</td>\n",
              "      <td>1</td>\n",
              "      <td>4</td>\n",
              "      <td>-73.785073</td>\n",
              "      <td>1</td>\n",
              "      <td>1.529010</td>\n",
              "      <td>...</td>\n",
              "      <td>1.62</td>\n",
              "      <td>1.0</td>\n",
              "      <td>1.896104</td>\n",
              "      <td>-73.976050</td>\n",
              "      <td>1.396104</td>\n",
              "      <td>40.785005</td>\n",
              "      <td>13</td>\n",
              "      <td>58</td>\n",
              "      <td>1.248404</td>\n",
              "      <td>19.00</td>\n",
              "    </tr>\n",
              "  </tbody>\n",
              "</table>\n",
              "<p>5 rows × 72 columns</p>\n",
              "</div>\n",
              "    <div class=\"colab-df-buttons\">\n",
              "\n",
              "  <div class=\"colab-df-container\">\n",
              "    <button class=\"colab-df-convert\" onclick=\"convertToInteractive('df-55648fb5-c864-47ae-8218-20ebc32c4cfc')\"\n",
              "            title=\"Convert this dataframe to an interactive table.\"\n",
              "            style=\"display:none;\">\n",
              "\n",
              "  <svg xmlns=\"http://www.w3.org/2000/svg\" height=\"24px\" viewBox=\"0 -960 960 960\">\n",
              "    <path d=\"M120-120v-720h720v720H120Zm60-500h600v-160H180v160Zm220 220h160v-160H400v160Zm0 220h160v-160H400v160ZM180-400h160v-160H180v160Zm440 0h160v-160H620v160ZM180-180h160v-160H180v160Zm440 0h160v-160H620v160Z\"/>\n",
              "  </svg>\n",
              "    </button>\n",
              "\n",
              "  <style>\n",
              "    .colab-df-container {\n",
              "      display:flex;\n",
              "      gap: 12px;\n",
              "    }\n",
              "\n",
              "    .colab-df-convert {\n",
              "      background-color: #E8F0FE;\n",
              "      border: none;\n",
              "      border-radius: 50%;\n",
              "      cursor: pointer;\n",
              "      display: none;\n",
              "      fill: #1967D2;\n",
              "      height: 32px;\n",
              "      padding: 0 0 0 0;\n",
              "      width: 32px;\n",
              "    }\n",
              "\n",
              "    .colab-df-convert:hover {\n",
              "      background-color: #E2EBFA;\n",
              "      box-shadow: 0px 1px 2px rgba(60, 64, 67, 0.3), 0px 1px 3px 1px rgba(60, 64, 67, 0.15);\n",
              "      fill: #174EA6;\n",
              "    }\n",
              "\n",
              "    .colab-df-buttons div {\n",
              "      margin-bottom: 4px;\n",
              "    }\n",
              "\n",
              "    [theme=dark] .colab-df-convert {\n",
              "      background-color: #3B4455;\n",
              "      fill: #D2E3FC;\n",
              "    }\n",
              "\n",
              "    [theme=dark] .colab-df-convert:hover {\n",
              "      background-color: #434B5C;\n",
              "      box-shadow: 0px 1px 3px 1px rgba(0, 0, 0, 0.15);\n",
              "      filter: drop-shadow(0px 1px 2px rgba(0, 0, 0, 0.3));\n",
              "      fill: #FFFFFF;\n",
              "    }\n",
              "  </style>\n",
              "\n",
              "    <script>\n",
              "      const buttonEl =\n",
              "        document.querySelector('#df-55648fb5-c864-47ae-8218-20ebc32c4cfc button.colab-df-convert');\n",
              "      buttonEl.style.display =\n",
              "        google.colab.kernel.accessAllowed ? 'block' : 'none';\n",
              "\n",
              "      async function convertToInteractive(key) {\n",
              "        const element = document.querySelector('#df-55648fb5-c864-47ae-8218-20ebc32c4cfc');\n",
              "        const dataTable =\n",
              "          await google.colab.kernel.invokeFunction('convertToInteractive',\n",
              "                                                    [key], {});\n",
              "        if (!dataTable) return;\n",
              "\n",
              "        const docLinkHtml = 'Like what you see? Visit the ' +\n",
              "          '<a target=\"_blank\" href=https://colab.research.google.com/notebooks/data_table.ipynb>data table notebook</a>'\n",
              "          + ' to learn more about interactive tables.';\n",
              "        element.innerHTML = '';\n",
              "        dataTable['output_type'] = 'display_data';\n",
              "        await google.colab.output.renderOutput(dataTable, element);\n",
              "        const docLink = document.createElement('div');\n",
              "        docLink.innerHTML = docLinkHtml;\n",
              "        element.appendChild(docLink);\n",
              "      }\n",
              "    </script>\n",
              "  </div>\n",
              "\n",
              "\n",
              "<div id=\"df-534a8090-0b8e-42ae-a39b-829bde79ae10\">\n",
              "  <button class=\"colab-df-quickchart\" onclick=\"quickchart('df-534a8090-0b8e-42ae-a39b-829bde79ae10')\"\n",
              "            title=\"Suggest charts\"\n",
              "            style=\"display:none;\">\n",
              "\n",
              "<svg xmlns=\"http://www.w3.org/2000/svg\" height=\"24px\"viewBox=\"0 0 24 24\"\n",
              "     width=\"24px\">\n",
              "    <g>\n",
              "        <path d=\"M19 3H5c-1.1 0-2 .9-2 2v14c0 1.1.9 2 2 2h14c1.1 0 2-.9 2-2V5c0-1.1-.9-2-2-2zM9 17H7v-7h2v7zm4 0h-2V7h2v10zm4 0h-2v-4h2v4z\"/>\n",
              "    </g>\n",
              "</svg>\n",
              "  </button>\n",
              "\n",
              "<style>\n",
              "  .colab-df-quickchart {\n",
              "      --bg-color: #E8F0FE;\n",
              "      --fill-color: #1967D2;\n",
              "      --hover-bg-color: #E2EBFA;\n",
              "      --hover-fill-color: #174EA6;\n",
              "      --disabled-fill-color: #AAA;\n",
              "      --disabled-bg-color: #DDD;\n",
              "  }\n",
              "\n",
              "  [theme=dark] .colab-df-quickchart {\n",
              "      --bg-color: #3B4455;\n",
              "      --fill-color: #D2E3FC;\n",
              "      --hover-bg-color: #434B5C;\n",
              "      --hover-fill-color: #FFFFFF;\n",
              "      --disabled-bg-color: #3B4455;\n",
              "      --disabled-fill-color: #666;\n",
              "  }\n",
              "\n",
              "  .colab-df-quickchart {\n",
              "    background-color: var(--bg-color);\n",
              "    border: none;\n",
              "    border-radius: 50%;\n",
              "    cursor: pointer;\n",
              "    display: none;\n",
              "    fill: var(--fill-color);\n",
              "    height: 32px;\n",
              "    padding: 0;\n",
              "    width: 32px;\n",
              "  }\n",
              "\n",
              "  .colab-df-quickchart:hover {\n",
              "    background-color: var(--hover-bg-color);\n",
              "    box-shadow: 0 1px 2px rgba(60, 64, 67, 0.3), 0 1px 3px 1px rgba(60, 64, 67, 0.15);\n",
              "    fill: var(--button-hover-fill-color);\n",
              "  }\n",
              "\n",
              "  .colab-df-quickchart-complete:disabled,\n",
              "  .colab-df-quickchart-complete:disabled:hover {\n",
              "    background-color: var(--disabled-bg-color);\n",
              "    fill: var(--disabled-fill-color);\n",
              "    box-shadow: none;\n",
              "  }\n",
              "\n",
              "  .colab-df-spinner {\n",
              "    border: 2px solid var(--fill-color);\n",
              "    border-color: transparent;\n",
              "    border-bottom-color: var(--fill-color);\n",
              "    animation:\n",
              "      spin 1s steps(1) infinite;\n",
              "  }\n",
              "\n",
              "  @keyframes spin {\n",
              "    0% {\n",
              "      border-color: transparent;\n",
              "      border-bottom-color: var(--fill-color);\n",
              "      border-left-color: var(--fill-color);\n",
              "    }\n",
              "    20% {\n",
              "      border-color: transparent;\n",
              "      border-left-color: var(--fill-color);\n",
              "      border-top-color: var(--fill-color);\n",
              "    }\n",
              "    30% {\n",
              "      border-color: transparent;\n",
              "      border-left-color: var(--fill-color);\n",
              "      border-top-color: var(--fill-color);\n",
              "      border-right-color: var(--fill-color);\n",
              "    }\n",
              "    40% {\n",
              "      border-color: transparent;\n",
              "      border-right-color: var(--fill-color);\n",
              "      border-top-color: var(--fill-color);\n",
              "    }\n",
              "    60% {\n",
              "      border-color: transparent;\n",
              "      border-right-color: var(--fill-color);\n",
              "    }\n",
              "    80% {\n",
              "      border-color: transparent;\n",
              "      border-right-color: var(--fill-color);\n",
              "      border-bottom-color: var(--fill-color);\n",
              "    }\n",
              "    90% {\n",
              "      border-color: transparent;\n",
              "      border-bottom-color: var(--fill-color);\n",
              "    }\n",
              "  }\n",
              "</style>\n",
              "\n",
              "  <script>\n",
              "    async function quickchart(key) {\n",
              "      const quickchartButtonEl =\n",
              "        document.querySelector('#' + key + ' button');\n",
              "      quickchartButtonEl.disabled = true;  // To prevent multiple clicks.\n",
              "      quickchartButtonEl.classList.add('colab-df-spinner');\n",
              "      try {\n",
              "        const charts = await google.colab.kernel.invokeFunction(\n",
              "            'suggestCharts', [key], {});\n",
              "      } catch (error) {\n",
              "        console.error('Error during call to suggestCharts:', error);\n",
              "      }\n",
              "      quickchartButtonEl.classList.remove('colab-df-spinner');\n",
              "      quickchartButtonEl.classList.add('colab-df-quickchart-complete');\n",
              "    }\n",
              "    (() => {\n",
              "      let quickchartButtonEl =\n",
              "        document.querySelector('#df-534a8090-0b8e-42ae-a39b-829bde79ae10 button');\n",
              "      quickchartButtonEl.style.display =\n",
              "        google.colab.kernel.accessAllowed ? 'block' : 'none';\n",
              "    })();\n",
              "  </script>\n",
              "</div>\n",
              "\n",
              "    </div>\n",
              "  </div>\n"
            ],
            "application/vnd.google.colaboratory.intrinsic+json": {
              "type": "dataframe"
            }
          },
          "metadata": {},
          "execution_count": 27
        }
      ],
      "source": [
        "# Esto podría llevar cierto tiempo de computación, así que sea paciente\n",
        "feature_matrix = compute_features(features, entities, relationships)\n",
        "preview(feature_matrix, 5)"
      ]
    },
    {
      "cell_type": "code",
      "execution_count": 28,
      "metadata": {
        "id": "k_Fh88JgPvxP",
        "outputId": "e1900a11-fbc7-4e46-9e09-e3ab4d05ae1a",
        "colab": {
          "base_uri": "https://localhost:8080/"
        }
      },
      "outputs": [
        {
          "output_type": "execute_result",
          "data": {
            "text/plain": [
              "Index(['pickup_neighborhoods.MEAN(trips.trip_distance)',\n",
              "       'dropoff_neighborhoods.MIN(trips.payment_type)',\n",
              "       'dropoff_neighborhoods.SUM(trips.vendor_id)',\n",
              "       'pickup_neighborhoods.latitude',\n",
              "       'dropoff_neighborhoods.MIN(trips.passenger_count)',\n",
              "       'MINUTE(pickup_datetime)', 'MONTH(pickup_datetime)',\n",
              "       'pickup_neighborhoods.longitude', 'payment_type',\n",
              "       'dropoff_neighborhoods.MEAN(trips.vendor_id)',\n",
              "       'pickup_neighborhoods.STD(trips.passenger_count)',\n",
              "       'dropoff_neighborhoods.MAX(trips.vendor_id)', 'passenger_count',\n",
              "       'pickup_neighborhoods.SUM(trips.trip_distance)',\n",
              "       'pickup_neighborhoods.STD(trips.payment_type)',\n",
              "       'dropoff_neighborhoods.MAX(trips.payment_type)',\n",
              "       'pickup_neighborhoods.MEAN(trips.vendor_id)',\n",
              "       'dropoff_neighborhoods.MEDIAN(trips.passenger_count)',\n",
              "       'pickup_neighborhoods.MIN(trips.trip_distance)',\n",
              "       'dropoff_neighborhoods.COUNT(trips)',\n",
              "       'pickup_neighborhoods.MIN(trips.passenger_count)',\n",
              "       'pickup_neighborhoods.MEDIAN(trips.payment_type)',\n",
              "       'pickup_neighborhoods.MEDIAN(trips.vendor_id)',\n",
              "       'pickup_neighborhoods.STD(trips.vendor_id)',\n",
              "       'pickup_neighborhoods.SUM(trips.payment_type)',\n",
              "       'dropoff_neighborhoods.MIN(trips.trip_distance)',\n",
              "       'DAY(dropoff_datetime)', 'MONTH(dropoff_datetime)',\n",
              "       'IS_WEEKEND(pickup_datetime)',\n",
              "       'pickup_neighborhoods.MAX(trips.trip_distance)',\n",
              "       'IS_WEEKEND(dropoff_datetime)', 'vendor_id', 'WEEK(dropoff_datetime)',\n",
              "       'dropoff_neighborhoods.STD(trips.vendor_id)',\n",
              "       'dropoff_neighborhoods.SUM(trips.payment_type)',\n",
              "       'dropoff_neighborhoods.MAX(trips.passenger_count)',\n",
              "       'WEEKDAY(dropoff_datetime)',\n",
              "       'dropoff_neighborhoods.MAX(trips.trip_distance)',\n",
              "       'DAY(pickup_datetime)',\n",
              "       'pickup_neighborhoods.MEDIAN(trips.trip_distance)',\n",
              "       'dropoff_neighborhoods.MEAN(trips.payment_type)',\n",
              "       'pickup_neighborhoods.MAX(trips.payment_type)',\n",
              "       'dropoff_neighborhoods.MEAN(trips.trip_distance)',\n",
              "       'pickup_neighborhoods.SUM(trips.vendor_id)',\n",
              "       'pickup_neighborhoods.STD(trips.trip_distance)',\n",
              "       'dropoff_neighborhoods.STD(trips.trip_distance)',\n",
              "       'HOUR(dropoff_datetime)',\n",
              "       'pickup_neighborhoods.MAX(trips.passenger_count)',\n",
              "       'dropoff_neighborhoods.MIN(trips.vendor_id)',\n",
              "       'pickup_neighborhoods.MAX(trips.vendor_id)',\n",
              "       'pickup_neighborhoods.COUNT(trips)',\n",
              "       'pickup_neighborhoods.SUM(trips.passenger_count)',\n",
              "       'HOUR(pickup_datetime)',\n",
              "       'pickup_neighborhoods.MEDIAN(trips.passenger_count)',\n",
              "       'dropoff_neighborhoods.MEDIAN(trips.vendor_id)',\n",
              "       'dropoff_neighborhoods.STD(trips.payment_type)',\n",
              "       'pickup_neighborhoods.MIN(trips.vendor_id)',\n",
              "       'dropoff_neighborhoods.SUM(trips.passenger_count)',\n",
              "       'dropoff_neighborhoods.MEDIAN(trips.payment_type)',\n",
              "       'WEEKDAY(pickup_datetime)',\n",
              "       'dropoff_neighborhoods.MEAN(trips.passenger_count)',\n",
              "       'dropoff_neighborhoods.SUM(trips.trip_distance)',\n",
              "       'dropoff_neighborhoods.MEDIAN(trips.trip_distance)',\n",
              "       'pickup_neighborhoods.MIN(trips.payment_type)',\n",
              "       'pickup_neighborhoods.MEAN(trips.passenger_count)',\n",
              "       'dropoff_neighborhoods.longitude',\n",
              "       'pickup_neighborhoods.MEAN(trips.payment_type)',\n",
              "       'dropoff_neighborhoods.latitude', 'WEEK(pickup_datetime)',\n",
              "       'MINUTE(dropoff_datetime)',\n",
              "       'dropoff_neighborhoods.STD(trips.passenger_count)', 'trip_distance'],\n",
              "      dtype='object')"
            ]
          },
          "metadata": {},
          "execution_count": 28
        }
      ],
      "source": [
        "feature_matrix.columns"
      ]
    },
    {
      "cell_type": "code",
      "execution_count": 29,
      "metadata": {
        "id": "GFjz1k_1khyb",
        "outputId": "ae3520ee-0533-462b-ffe8-7aeec759ba09",
        "colab": {
          "base_uri": "https://localhost:8080/"
        }
      },
      "outputs": [
        {
          "output_type": "stream",
          "name": "stdout",
          "text": [
            "Datos separados con éxito!\n"
          ]
        }
      ],
      "source": [
        "# Volver a separar los datos\n",
        "X_train, y_train, X_test, y_test = utils.get_train_test_fm(feature_matrix, trips, .75)\n",
        "y_train = np.log(y_train + 1)\n",
        "y_test = np.log(y_test + 1)\n",
        "\n",
        "print('Datos separados con éxito!')"
      ]
    },
    {
      "cell_type": "code",
      "execution_count": 30,
      "metadata": {
        "id": "q7iyZDfmkhyd",
        "outputId": "eee86970-86f1-4973-9975-199da3a5e00d",
        "colab": {
          "base_uri": "https://localhost:8080/"
        }
      },
      "outputs": [
        {
          "output_type": "stream",
          "name": "stdout",
          "text": [
            "      Iter       Train Loss   Remaining Time \n",
            "         1           0.4736            5.20s\n",
            "         2           0.4148            6.44s\n",
            "         3           0.3661            6.04s\n",
            "         4           0.3264            5.77s\n",
            "         5           0.2930            5.64s\n",
            "         6           0.2660            6.27s\n",
            "         7           0.2432            6.42s\n",
            "         8           0.2245            6.72s\n",
            "         9           0.2090            6.69s\n",
            "        10           0.1960            6.68s\n",
            "        20           0.1363            5.47s\n",
            "        30           0.1198            4.44s\n",
            "        40           0.1114            3.97s\n",
            "        50           0.1063            3.17s\n",
            "        60           0.1027            2.74s\n",
            "        70           0.0999            2.32s\n",
            "        80           0.0977            1.71s\n",
            "        90           0.0953            0.88s\n",
            "       100           0.0934            0.00s\n",
            "0.7996990436007883\n",
            "Fase de entrenamiento realizada con éxito!\n"
          ]
        }
      ],
      "source": [
        "# El entrenamiento debería durar alrededor de un minuto\n",
        "model = GradientBoostingRegressor(verbose=True)\n",
        "model.fit(X_train, y_train)\n",
        "print(model.score(X_test, y_test)) # Valor R^2 de la predicción\n",
        "\n",
        "print('Fase de entrenamiento realizada con éxito!')"
      ]
    },
    {
      "cell_type": "markdown",
      "metadata": {
        "id": "DtkUfER0khye"
      },
      "source": [
        "# Evaluación con datos de prueba"
      ]
    },
    {
      "cell_type": "code",
      "execution_count": 31,
      "metadata": {
        "id": "07QUYT0Lkhyf",
        "outputId": "7465a218-d1b6-4d39-f577-b2902c7bb1f2",
        "colab": {
          "base_uri": "https://localhost:8080/"
        }
      },
      "outputs": [
        {
          "output_type": "stream",
          "name": "stdout",
          "text": [
            "Cálculo de y_pred realizado con éxito!\n"
          ]
        }
      ],
      "source": [
        "y_pred = model.predict(X_test)\n",
        "y_pred = np.exp(y_pred) - 1 # deshaciendo el log calculado anteriormente\n",
        "print('Cálculo de y_pred realizado con éxito!')"
      ]
    },
    {
      "cell_type": "code",
      "execution_count": 32,
      "metadata": {
        "id": "FhwU4FJIkhyg",
        "outputId": "5f68f262-a7a7-442b-a261-cbb878fe8e8e",
        "colab": {
          "base_uri": "https://localhost:8080/"
        }
      },
      "outputs": [
        {
          "output_type": "execute_result",
          "data": {
            "text/plain": [
              "array([432.06429399, 669.00943141, 647.56334547, 628.35976187,\n",
              "       418.15695184])"
            ]
          },
          "metadata": {},
          "execution_count": 32
        }
      ],
      "source": [
        "# Mostrando las 5 primeras predicciones\n",
        "y_pred[:5]"
      ]
    },
    {
      "cell_type": "code",
      "execution_count": 33,
      "metadata": {
        "id": "HIhA888fkhyi",
        "outputId": "2ab0d220-be67-49f8-ae49-4401b99bbd14",
        "colab": {
          "base_uri": "https://localhost:8080/",
          "height": 447
        }
      },
      "outputs": [
        {
          "output_type": "stream",
          "name": "stdout",
          "text": [
            "Histograma generado con éxito!!\n"
          ]
        },
        {
          "output_type": "display_data",
          "data": {
            "text/plain": [
              "<Figure size 640x480 with 1 Axes>"
            ],
            "image/png": "[encoded data removed]"
          },
          "metadata": {}
        }
      ],
      "source": [
        "# Creando un histograma con todas ellas\n",
        "matplotlib.pyplot.hist(y_pred)\n",
        "\n",
        "print('Histograma generado con éxito!!')"
      ]
    },
    {
      "cell_type": "markdown",
      "metadata": {
        "id": "4f3H0LDVkhyl"
      },
      "source": [
        "**<h1 style=\"color:red;\">PREGUNTA 4: PREDICCIONES DEL MODELO</h1>**"
      ]
    },
    {
      "cell_type": "markdown",
      "metadata": {
        "id": "5TkyLhG3G741"
      },
      "source": [
        "Analice las predicciones del modelo. ¿Coincide la distribución de los datos predichos con la distribución de los datos reales? ¿Qué otros atributos/estrategias podríamos usar para hacer nuestro modelo aún mejor, si tuvieramos más tiempo?\n",
        "\n",
        "\n",
        "\n"
      ]
    },
    {
      "cell_type": "markdown",
      "metadata": {
        "id": "PPphKjqaHT0F"
      },
      "source": [
        "*Su respuesta aqui - double click para editar*"
      ]
    },
    {
      "cell_type": "markdown",
      "metadata": {
        "id": "-hUzPX5Ekhym"
      },
      "source": [
        "# Importancia de los atributos"
      ]
    },
    {
      "cell_type": "code",
      "execution_count": 34,
      "metadata": {
        "id": "ocyW8hcpkhyn",
        "outputId": "3ea6ee5d-714f-42e2-86c7-57dc1c7cea03",
        "colab": {
          "base_uri": "https://localhost:8080/"
        }
      },
      "outputs": [
        {
          "output_type": "stream",
          "name": "stdout",
          "text": [
            "1: Feature: trip_distance, 0.867\n",
            "2: Feature: dropoff_neighborhoods.longitude, 0.028\n",
            "3: Feature: HOUR(pickup_datetime), 0.027\n",
            "4: Feature: dropoff_neighborhoods.latitude, 0.022\n",
            "5: Feature: HOUR(dropoff_datetime), 0.013\n",
            "6: Feature: pickup_neighborhoods.longitude, 0.004\n",
            "7: Feature: pickup_neighborhoods.COUNT(trips), 0.004\n",
            "8: Feature: MINUTE(dropoff_datetime), 0.003\n",
            "9: Feature: dropoff_neighborhoods.SUM(trips.trip_distance), 0.002\n",
            "10: Feature: dropoff_neighborhoods.COUNT(trips), 0.002\n",
            "11: Feature: pickup_neighborhoods.latitude, 0.002\n",
            "12: Feature: pickup_neighborhoods.MEDIAN(trips.trip_distance), 0.002\n",
            "13: Feature: pickup_neighborhoods.SUM(trips.trip_distance), 0.002\n",
            "14: Feature: MINUTE(pickup_datetime), 0.002\n",
            "15: Feature: pickup_neighborhoods.MEAN(trips.payment_type), 0.002\n",
            "16: Feature: pickup_neighborhoods.MEAN(trips.passenger_count), 0.002\n",
            "17: Feature: dropoff_neighborhoods.MAX(trips.trip_distance), 0.001\n",
            "18: Feature: dropoff_neighborhoods.MEAN(trips.passenger_count), 0.001\n",
            "19: Feature: dropoff_neighborhoods.SUM(trips.vendor_id), 0.001\n",
            "20: Feature: pickup_neighborhoods.MEAN(trips.trip_distance), 0.001\n",
            "21: Feature: dropoff_neighborhoods.STD(trips.vendor_id), 0.001\n",
            "22: Feature: dropoff_neighborhoods.SUM(trips.passenger_count), 0.001\n",
            "23: Feature: pickup_neighborhoods.STD(trips.trip_distance), 0.001\n",
            "24: Feature: dropoff_neighborhoods.SUM(trips.payment_type), 0.001\n",
            "25: Feature: dropoff_neighborhoods.MEAN(trips.vendor_id), 0.001\n"
          ]
        }
      ],
      "source": [
        "feature_importances(model, feature_matrix.columns, n=25)"
      ]
    },
    {
      "cell_type": "markdown",
      "metadata": {
        "id": "CAJXi19yg-JA"
      },
      "source": [
        "**<h1 style=\"color:red;\">PREGUNTA 5: IMPORTANCIA DE LAS FEATURES</h1>**"
      ]
    },
    {
      "cell_type": "markdown",
      "metadata": {
        "id": "bQ1uFQwOE2BO"
      },
      "source": [
        "Analice la importancia de los atributos que acaba de calcular. ¿Tienen sentido? ¿Hay algún valor que le sorprenda? Aporte una breve explicación de por qué estos atributos son relevante para calcular la variable objetivo `trip_duration` (duración del trayecto)."
      ]
    },
    {
      "cell_type": "markdown",
      "metadata": {
        "id": "ahahcqzoL14u"
      },
      "source": [
        "*Su respuesta aqui - double click para editar*"
      ]
    },
    {
      "cell_type": "markdown",
      "metadata": {
        "id": "QUv7UZerkhyq"
      },
      "source": [
        "¡Buen trabajo! Asegúrese de comprobar la sección **Conclusión** del manual de instrucciones del caso de estudio."
      ]
    }
  ],
  "metadata": {
    "colab": {
      "provenance": [],
      "include_colab_link": true
    },
    "hide_input": false,
    "kernelspec": {
      "display_name": "Python 3",
      "language": "python",
      "name": "python3"
    },
    "language_info": {
      "codemirror_mode": {
        "name": "ipython",
        "version": 3
      },
      "file_extension": ".py",
      "mimetype": "text/x-python",
      "name": "python",
      "nbconvert_exporter": "python",
      "pygments_lexer": "ipython3",
      "version": "3.7.7"
    },
    "toc": {
      "base_numbering": 1,
      "nav_menu": {},
      "number_sections": true,
      "sideBar": true,
      "skip_h1_title": false,
      "title_cell": "Table of Contents",
      "title_sidebar": "Contents",
      "toc_cell": true,
      "toc_position": {},
      "toc_section_display": true,
      "toc_window_display": false
    },
    "varInspector": {
      "cols": {
        "lenName": 16,
        "lenType": 16,
        "lenVar": 40
      },
      "kernels_config": {
        "python": {
          "delete_cmd_postfix": "",
          "delete_cmd_prefix": "del ",
          "library": "var_list.py",
          "varRefreshCmd": "print(var_dic_list())"
        },
        "r": {
          "delete_cmd_postfix": ") ",
          "delete_cmd_prefix": "rm(",
          "library": "var_list.r",
          "varRefreshCmd": "cat(var_dic_list()) "
        }
      },
      "types_to_exclude": [
        "module",
        "function",
        "builtin_function_or_method",
        "instance",
        "_Feature"
      ],
      "window_display": true
    }
  },
  "nbformat": 4,
  "nbformat_minor": 0
}