{
  "nbformat": 4,
  "nbformat_minor": 0,
  "metadata": {
    "kernelspec": {
      "name": "python36",
      "display_name": "Python 3.6",
      "language": "python"
    },
    "language_info": {
      "mimetype": "text/x-python",
      "nbconvert_exporter": "python",
      "name": "python",
      "pygments_lexer": "ipython3",
      "version": "3.6.6",
      "file_extension": ".py",
      "codemirror_mode": {
        "version": 3,
        "name": "ipython"
      }
    },
    "colab": {
      "provenance": [],
      "include_colab_link": true
    }
  },
  "cells": [
    {
      "cell_type": "markdown",
      "metadata": {
        "id": "view-in-github",
        "colab_type": "text"
      },
      "source": [
        "<a href=\"https://colab.research.google.com/github/paucaroscanoa/ApiBookAuthor/blob/master/Caso_de_Estudio_4_2_Sistema_de_recomendaci%C3%B3n_de_canciones.ipynb\" target=\"_parent\"><img src=\"https://colab.research.google.com/assets/colab-badge.svg\" alt=\"Open In Colab\"/></a>"
      ]
    },
    {
      "cell_type": "markdown",
      "metadata": {
        "collapsed": true,
        "id": "IpAvqvx8kpzQ"
      },
      "source": [
        "# Caso de Estudio 4.2 - Sistema de recomendación de canciones"
      ]
    },
    {
      "cell_type": "markdown",
      "source": [
        "# Sección nueva"
      ],
      "metadata": {
        "id": "gEHQkucVJsa1"
      }
    },
    {
      "cell_type": "markdown",
      "metadata": {
        "id": "g-J7g8S3khxg"
      },
      "source": [
        "Puede realizar el caso de estudio tanto en R como en Python, siguiendo las instrucciones el manual.\n",
        "\n",
        "Para este caso no se proveerá de código, ¡prueba a implementar sus soluciones desde cero!\n",
        "\n",
        "Recuerde que para cualquier duda que le pueda surgir, puede contactar a su Facilitador, o compartirla con sus compañeros en Slack.\n",
        "\n",
        "---\n",
        "\n",
        "Recuerde que puede importar archivos manualmente al espacio de ejecución usando el menú de carpetas que aparece a la izquierda del *notebook*:\n",
        "\n",
        "![colab-upload.png](data:image/png;base64,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)\n",
        "\n",
        "---"
      ]
    },
    {
      "cell_type": "markdown",
      "metadata": {
        "id": "J1hIIAYkKyzg"
      },
      "source": [
        "En el caso en el que prefiera realizar el caso de estudio en R dentro de este mismo *notebook* (también puede realizarlo en programas como RStudio), ha de seguir los siguientes pasos:\n",
        "\n",
        "1. Ejecute la siguiente celda:"
      ]
    },
    {
      "cell_type": "code",
      "metadata": {
        "id": "VdPXur1AKx_0"
      },
      "source": [
        "%load_ext rpy2.ipython"
      ],
      "execution_count": null,
      "outputs": []
    },
    {
      "cell_type": "markdown",
      "metadata": {
        "id": "8CZprxI9LQaT"
      },
      "source": [
        "2. Escriba %%R al principio de cada celda del *notebook*. Ejemplo:"
      ]
    },
    {
      "cell_type": "code",
      "metadata": {
        "id": "Uzrj32YPLPcn"
      },
      "source": [
        "%%R\n",
        "\n",
        "# Su código en R aquí...caso elija hacer con R"
      ],
      "execution_count": null,
      "outputs": []
    },
    {
      "cell_type": "markdown",
      "metadata": {
        "id": "D_PyCF7P8K5Z"
      },
      "source": [
        "# Sección nueva"
      ]
    },
    {
      "cell_type": "markdown",
      "metadata": {
        "id": "jxFRuaqmLbmG"
      },
      "source": [
        "En el caso en el  que prefiera realizar el caso de estudio en Python, NO EJECUTE LAS DOS CELDAS ANTERIORES, y simplemente proceda a escribir su código en las celdas a continuación."
      ]
    },
    {
      "cell_type": "markdown",
      "metadata": {
        "id": "Z6nxT6hQLkI1"
      },
      "source": [
        "¡Mucha suerte con el caso!\n",
        "\n",
        "---"
      ]
    }
  ]
}