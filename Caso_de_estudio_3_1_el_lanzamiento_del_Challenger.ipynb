{
  "nbformat": 4,
  "nbformat_minor": 0,
  "metadata": {
    "hide_input": false,
    "kernelspec": {
      "display_name": "Python 3",
      "language": "python",
      "name": "python3"
    },
    "language_info": {
      "codemirror_mode": {
        "name": "ipython",
        "version": 3
      },
      "file_extension": ".py",
      "mimetype": "text/x-python",
      "name": "python",
      "nbconvert_exporter": "python",
      "pygments_lexer": "ipython3",
      "version": "3.7.7"
    },
    "toc": {
      "base_numbering": 1,
      "nav_menu": {},
      "number_sections": true,
      "sideBar": true,
      "skip_h1_title": false,
      "title_cell": "Table of Contents",
      "title_sidebar": "Contents",
      "toc_cell": true,
      "toc_position": {},
      "toc_section_display": true,
      "toc_window_display": false
    },
    "varInspector": {
      "cols": {
        "lenName": 16,
        "lenType": 16,
        "lenVar": 40
      },
      "kernels_config": {
        "python": {
          "delete_cmd_postfix": "",
          "delete_cmd_prefix": "del ",
          "library": "var_list.py",
          "varRefreshCmd": "print(var_dic_list())"
        },
        "r": {
          "delete_cmd_postfix": ") ",
          "delete_cmd_prefix": "rm(",
          "library": "var_list.r",
          "varRefreshCmd": "cat(var_dic_list()) "
        }
      },
      "types_to_exclude": [
        "module",
        "function",
        "builtin_function_or_method",
        "instance",
        "_Feature"
      ],
      "window_display": true
    },
    "colab": {
      "provenance": [],
      "include_colab_link": true
    }
  },
  "cells": [
    {
      "cell_type": "markdown",
      "metadata": {
        "id": "view-in-github",
        "colab_type": "text"
      },
      "source": [
        "<a href=\"https://colab.research.google.com/github/paucaroscanoa/ApiBookAuthor/blob/master/Caso_de_estudio_3_1_el_lanzamiento_del_Challenger.ipynb\" target=\"_parent\"><img src=\"https://colab.research.google.com/assets/colab-badge.svg\" alt=\"Open In Colab\"/></a>"
      ]
    },
    {
      "cell_type": "code",
      "source": [
        "from google.colab import drive\n",
        "drive.mount('/content/drive')"
      ],
      "metadata": {
        "id": "O2G1F-TVxwA8"
      },
      "execution_count": null,
      "outputs": []
    },
    {
      "cell_type": "markdown",
      "metadata": {
        "id": "z0QypjIGgSYn"
      },
      "source": [
        "# Caso de estudio 3.1: el lanzamiento del Challenger"
      ]
    },
    {
      "cell_type": "markdown",
      "metadata": {
        "id": "h-KtnmyigSYn"
      },
      "source": [
        "Configuración del notebook:"
      ]
    },
    {
      "cell_type": "markdown",
      "metadata": {
        "id": "fipSNCXpowVn"
      },
      "source": [
        "Sincronice su cuenta de Google. Para ello, siga el link que aparece en la salida de la siguiente celda una vez ejecutada. Copie el código que le aparece en pantalla e introdúzcalo en la salida de la celda. Una vez vea el mensaje: `Google Drive sincronizado con éxito!` puede continuar ejecutando el resto de celdas."
      ]
    },
    {
      "cell_type": "markdown",
      "source": [],
      "metadata": {
        "id": "3NpqO2MsAUjy"
      }
    },
    {
      "cell_type": "code",
      "metadata": {
        "id": "kA_1Ai6OowdQ"
      },
      "source": [
        "from google.colab import auth\n",
        "auth.authenticate_user()\n",
        "\n",
        "from pydrive.auth import GoogleAuth\n",
        "from pydrive.drive import GoogleDrive\n",
        "from google.colab import auth\n",
        "from oauth2client.client import GoogleCredentials\n",
        "\n",
        "gauth = GoogleAuth()\n",
        "gauth.credentials = GoogleCredentials.get_application_default()\n",
        "drive = GoogleDrive(gauth)\n",
        "data_drop = drive.CreateFile({'id':'1EsvjOlPQpss37_qQF-cXvCUi0IrPUs33'})\n",
        "data_drop.GetContentFile('challenger-data.csv')\n",
        "\n",
        "print('Google Drive sincronizado con éxito!')"
      ],
      "execution_count": null,
      "outputs": []
    },
    {
      "cell_type": "markdown",
      "metadata": {
        "id": "4vPjElUfowxT"
      },
      "source": [
        "Instalando las librerías necesarias:"
      ]
    },
    {
      "cell_type": "code",
      "metadata": {
        "ExecuteTime": {
          "end_time": "2020-06-21T11:36:01.008552Z",
          "start_time": "2020-06-21T11:36:01.005794Z"
        },
        "id": "dTpWXsPIgSYn"
      },
      "source": [
        "import pandas as pd\n",
        "import numpy as np\n",
        "\n",
        "from patsy import dmatrices\n",
        "import statsmodels.discrete.discrete_model as sm\n",
        "\n",
        "import matplotlib as mpl\n",
        "from matplotlib import pyplot as plt"
      ],
      "execution_count": null,
      "outputs": []
    },
    {
      "cell_type": "markdown",
      "metadata": {
        "id": "rTH7JPHZgSYo"
      },
      "source": [
        "# Datos"
      ]
    },
    {
      "cell_type": "markdown",
      "metadata": {
        "id": "Dtrb8H1zgSYo"
      },
      "source": [
        "Importando los datos de la base de datos `challenger-data.csv`"
      ]
    },
    {
      "cell_type": "markdown",
      "source": [
        "import pandas as pd\n",
        "import numpy as np\n",
        "\n",
        "data = pd.read_csv(\"challenger-data.csv\")"
      ],
      "metadata": {
        "id": "3-xmgaNPgSYo"
      }
    },
    {
      "cell_type": "code",
      "source": [
        "#import pandas as pd import numpy as np\n",
        "\n",
        "data = pd.read_csv(\"challenger-data.csv\")"
      ],
      "metadata": {
        "id": "jXaMqqoBiax7"
      },
      "execution_count": null,
      "outputs": []
    },
    {
      "cell_type": "markdown",
      "metadata": {
        "id": "6t1gP7ZbpyDH"
      },
      "source": [
        "Análisis exploratorio preliminar"
      ]
    },
    {
      "cell_type": "code",
      "metadata": {
        "ExecuteTime": {
          "end_time": "2020-06-21T11:23:14.835166Z",
          "start_time": "2020-06-21T11:23:14.417857Z"
        },
        "id": "Hb9tb-O8gSYo"
      },
      "source": [
        "# hacer subconjuntos de datos\n",
        "failures = data.loc[(data.Y == 1)]\n",
        "no_failures = data.loc[(data.Y == 0)]\n",
        "\n",
        "# frecuencias\n",
        "failures_freq = failures.X.value_counts()\n",
        "no_failures_freq = no_failures.X.value_counts()\n",
        "\n",
        "# mostrar los gráficos\n",
        "plt.scatter(failures_freq.index, failures_freq, c='red', s=40)\n",
        "plt.scatter(no_failures_freq.index, np.zeros(len(no_failures_freq)),\n",
        "c='blue', s=40)\n",
        "plt.xlabel('X: temperatura [ºF]')\n",
        "plt.ylabel('Número de fallos')\n",
        "plt.show()"
      ],
      "execution_count": null,
      "outputs": []
    },
    {
      "cell_type": "markdown",
      "metadata": {
        "id": "uy5II7I8gSYp"
      },
      "source": [
        "# Definición del modelo y obtención de resultados"
      ]
    },
    {
      "cell_type": "code",
      "metadata": {
        "ExecuteTime": {
          "end_time": "2020-06-21T11:36:03.154714Z",
          "start_time": "2020-06-21T11:36:03.086622Z"
        },
        "id": "AexMjnpngSYp"
      },
      "source": [
        "# obtenga los datos en el formato correcto\n",
        "y, X = dmatrices('Y ~ X', data, return_type = 'dataframe')\n",
        "\n",
        "# ejecute el modelo\n",
        "logit = sm.Logit(y, X)\n",
        "result = logit.fit()\n",
        "\n",
        "# obtenga un resumen de los resultados el modelo\n",
        "print(result.summary())"
      ],
      "execution_count": null,
      "outputs": []
    }
  ]
}